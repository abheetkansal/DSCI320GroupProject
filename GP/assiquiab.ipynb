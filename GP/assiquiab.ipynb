{
 "cells": [
  {
   "cell_type": "code",
   "execution_count": 56,
   "metadata": {
    "deletable": false,
    "editable": false
   },
   "outputs": [],
   "source": [
    "# Initialize Otter\n",
    "import otter\n",
    "grader = otter.Notebook(\"assiquiab.ipynb\")"
   ]
  },
  {
   "cell_type": "markdown",
   "metadata": {},
   "source": [
    "# AssiQuiLab\n",
    "This deliverable is a combination of the last assignment, quiz and lab. As such, you should expect to spend more time on it that previous deliverables.\n",
    "This deliverable is worth 4+5+1 = 10% of your overall course grade.\n",
    "\n",
    "You can work on this with 1 or 2 more people (e.g. your project group) but I strongly encourage you to do it on your own.\n",
    "\n",
    "If you work with others, make sure that when it is submitted, only 1 copy is submitted.\n",
    "\n"
   ]
  },
  {
   "cell_type": "markdown",
   "metadata": {
    "tags": []
   },
   "source": [
    "## Submission instructions\n",
    "\n",
    "<div class=\"alert alert-info\" style=\"color:black\">\n",
    "<ul>\n",
    "  <li>Download this lab from the Jupyter Book web page by clicking the download symbol at the top right of the page and selecting the <code>.ipynb</code> format.</li>\n",
    "  <li>To submit this lab, answer all the questions and then upload the completed lab to Gradescope.</li>\n",
    "    <ul>\n",
    "      <li>Before submitting, make sure you restart the kernel and rerun all cells (click the ▶▶ button).</li>\n",
    "    </ul>\n",
    "  <li>Don't change any variable names that are given to you, don't move cells around, and don't include any code to install packages in the notebook.</li>\n",
    "  </li>\n",
    "</ul>\n",
    "</div>\n",
    "\n",
    "- Make sure the file you submitted is called `assiquiab.ipynb`."
   ]
  },
  {
   "cell_type": "markdown",
   "metadata": {},
   "source": [
    "## PART I\n",
    "### Exploring Movies\n",
    "\n",
    "The questions in each assignment will be mostly autograded, but you will **not** see all the autograded tests in the notebook. After the deadline has passed, many additional tests will run on the file you submitted on Gradescope and you will be able to view your final score online.\n",
    "You will submit the Python notebook on gradescope."
   ]
  },
  {
   "cell_type": "markdown",
   "metadata": {},
   "source": [
    "### The backstory\n",
    "\n",
    "I have heard that the movie market is a lucrative business,\n",
    "and have been looking into starting my own online streaming service\n",
    "together with a few friends.\n",
    "Before we do this,\n",
    "we need to understand the movie market better by doing some exploratory data analysis (EDA)\n",
    "so that we can get a competitive edge over existing services.\n",
    "I have been looking all over for an aspiring data wrangler and future VIZ-ARD,\n",
    "but haven't been able to track one down.\n",
    "This is where you come in!"
   ]
  },
  {
   "cell_type": "markdown",
   "metadata": {},
   "source": [
    "![](img/vizard.png)"
   ]
  },
  {
   "cell_type": "markdown",
   "metadata": {},
   "source": [
    "Together,\n",
    "we must understand the current movie market,\n",
    "which companies produce what kind of movies,\n",
    "and which receive good scores.\n",
    "Then we can have the best movies on our platform and show only those, easy right?\n",
    "I mean...if we only show good movies, how can we fail?\n",
    "I can't believe no one has thought of this before!\n",
    "\n",
    "I have already identified a unique name for this service: Bestflix™."
   ]
  },
  {
   "cell_type": "markdown",
   "metadata": {},
   "source": [
    "![](img/betterflix.png)"
   ]
  },
  {
   "cell_type": "markdown",
   "metadata": {},
   "source": [
    "Don't worry,\n",
    "we're in this together and I will be helping you with the wrangling throughout most exercises\n",
    "if you take charge of the viz part, deal?\n",
    "Also,\n",
    "I have never failed to start a company before,\n",
    "so you're in good hands.\n",
    "I can already smell the `$$$`,\n",
    "let's get started!\n",
    "\n",
    "In the first part of this notebook,\n",
    "we will focus on Exploratory Data Analysis (EDA),\n",
    "both for single numerical columns, pairwise numerical columns,\n",
    "numerical columns conditioned on categorical columns and combinations of categorical columns."
   ]
  },
  {
   "cell_type": "markdown",
   "metadata": {},
   "source": [
    "### Single numerical columns"
   ]
  },
  {
   "cell_type": "code",
   "execution_count": 57,
   "metadata": {
    "ExecuteTime": {
     "end_time": "2023-11-16T07:16:46.540831Z",
     "start_time": "2023-11-16T07:16:45.905416Z"
    }
   },
   "outputs": [
    {
     "data": {
      "text/plain": [
       "RendererRegistry.enable('default')"
      ]
     },
     "execution_count": 57,
     "metadata": {},
     "output_type": "execute_result"
    }
   ],
   "source": [
    "# Run this cell to ensure that altair plots show up on gradescope\n",
    "# We will talk more about what these lines do later in the course\n",
    "import altair as alt\n",
    "\n",
    "# Handle large data sets without embedding them in the notebook\n",
    "#alt.data_transformers.enable('data_server')\n",
    "import vegafusion as vf\n",
    "vf.enable_widget()\n",
    "# Default Rendering\n",
    "alt.renderers.enable('default')"
   ]
  },
  {
   "cell_type": "markdown",
   "metadata": {},
   "source": [
    "<!-- BEGIN QUESTION -->\n",
    "\n",
    "## Question 1"
   ]
  },
  {
   "cell_type": "markdown",
   "metadata": {},
   "source": [
    "In the beginning of EDA, it can be helpful to look at some textual summaries, just to get an idea of what to plot. Read in the movies json file from the URL using pandas. Then use dataframe methods to achieve the following in three different cells:\n",
    "\n",
    "<div class=\"alert alert-info\" style=\"color:black\">\n",
    "<ol>\n",
    "\n",
    "<li>What is the size of the dataset? Display it</li>\n",
    "<li>Display info about all columns including programming data types</li>\n",
    "<li>Display a summary description of the data frame's numerical columns including:\n",
    "    <ul><li>range</li>\n",
    "    <li>median</li>\n",
    "    <li>standard deviation</li>\n",
    "    </ul>\n",
    "</li>\n",
    "</ol>\n",
    " \n",
    "</div>\n",
    "\n",
    "_Points:_ 0"
   ]
  },
  {
   "cell_type": "code",
   "execution_count": 59,
   "metadata": {
    "ExecuteTime": {
     "end_time": "2023-11-16T07:16:46.951085Z",
     "start_time": "2023-11-16T07:16:46.541899Z"
    }
   },
   "outputs": [
    {
     "data": {
      "text/html": [
       "<div>\n",
       "<style scoped>\n",
       "    .dataframe tbody tr th:only-of-type {\n",
       "        vertical-align: middle;\n",
       "    }\n",
       "\n",
       "    .dataframe tbody tr th {\n",
       "        vertical-align: top;\n",
       "    }\n",
       "\n",
       "    .dataframe thead th {\n",
       "        text-align: right;\n",
       "    }\n",
       "</style>\n",
       "<table border=\"1\" class=\"dataframe\">\n",
       "  <thead>\n",
       "    <tr style=\"text-align: right;\">\n",
       "      <th></th>\n",
       "      <th>id</th>\n",
       "      <th>title</th>\n",
       "      <th>runtime</th>\n",
       "      <th>revenue</th>\n",
       "      <th>vote_average</th>\n",
       "      <th>genres</th>\n",
       "      <th>studios</th>\n",
       "    </tr>\n",
       "  </thead>\n",
       "  <tbody>\n",
       "    <tr>\n",
       "      <th>2</th>\n",
       "      <td>14</td>\n",
       "      <td>American Beauty</td>\n",
       "      <td>122</td>\n",
       "      <td>356296601</td>\n",
       "      <td>4.13</td>\n",
       "      <td>[Drama]</td>\n",
       "      <td>[DreamWorks SKG]</td>\n",
       "    </tr>\n",
       "    <tr>\n",
       "      <th>3</th>\n",
       "      <td>16</td>\n",
       "      <td>Dancer in the Dark</td>\n",
       "      <td>140</td>\n",
       "      <td>40031879</td>\n",
       "      <td>3.84</td>\n",
       "      <td>[Drama]</td>\n",
       "      <td>[Canal+]</td>\n",
       "    </tr>\n",
       "    <tr>\n",
       "      <th>6</th>\n",
       "      <td>59</td>\n",
       "      <td>A History of Violence</td>\n",
       "      <td>96</td>\n",
       "      <td>60740827</td>\n",
       "      <td>3.63</td>\n",
       "      <td>[Drama]</td>\n",
       "      <td>[New Line Cinema]</td>\n",
       "    </tr>\n",
       "    <tr>\n",
       "      <th>7</th>\n",
       "      <td>70</td>\n",
       "      <td>Million Dollar Baby</td>\n",
       "      <td>132</td>\n",
       "      <td>216763646</td>\n",
       "      <td>3.84</td>\n",
       "      <td>[Drama]</td>\n",
       "      <td>[Warner Bros.]</td>\n",
       "    </tr>\n",
       "    <tr>\n",
       "      <th>8</th>\n",
       "      <td>73</td>\n",
       "      <td>American History X</td>\n",
       "      <td>119</td>\n",
       "      <td>23875127</td>\n",
       "      <td>4.15</td>\n",
       "      <td>[Drama]</td>\n",
       "      <td>[New Line Cinema]</td>\n",
       "    </tr>\n",
       "  </tbody>\n",
       "</table>\n",
       "</div>"
      ],
      "text/plain": [
       "   id                  title  runtime    revenue  vote_average   genres  \\\n",
       "2  14        American Beauty      122  356296601          4.13  [Drama]   \n",
       "3  16     Dancer in the Dark      140   40031879          3.84  [Drama]   \n",
       "6  59  A History of Violence       96   60740827          3.63  [Drama]   \n",
       "7  70    Million Dollar Baby      132  216763646          3.84  [Drama]   \n",
       "8  73     American History X      119   23875127          4.15  [Drama]   \n",
       "\n",
       "             studios  \n",
       "2   [DreamWorks SKG]  \n",
       "3           [Canal+]  \n",
       "6  [New Line Cinema]  \n",
       "7     [Warner Bros.]  \n",
       "8  [New Line Cinema]  "
      ]
     },
     "execution_count": 59,
     "metadata": {},
     "output_type": "execute_result"
    }
   ],
   "source": [
    "# Movies Dataset\n",
    "import pandas as pd\n",
    "url = 'https://raw.githubusercontent.com/kemiolamudzengi/dsci-320-datasets/main/movies_assn.json'\n",
    "movies = pd.read_json(url, encoding='utf-8', encoding_errors='ignore')\n",
    "movies.head()"
   ]
  },
  {
   "cell_type": "code",
   "execution_count": 60,
   "metadata": {
    "ExecuteTime": {
     "end_time": "2023-11-16T07:16:46.962384Z",
     "start_time": "2023-11-16T07:16:46.956283Z"
    },
    "tags": []
   },
   "outputs": [
    {
     "data": {
      "text/plain": [
       "(6426,)"
      ]
     },
     "execution_count": 60,
     "metadata": {},
     "output_type": "execute_result"
    }
   ],
   "source": [
    "# What is the size of the dataset?\n",
    "dataset_size = movies.size\n",
    "dataset_size = (dataset_size,)\n",
    "dataset_size"
   ]
  },
  {
   "cell_type": "code",
   "execution_count": 61,
   "metadata": {},
   "outputs": [
    {
     "name": "stdout",
     "output_type": "stream",
     "text": [
      "<class 'pandas.core.frame.DataFrame'>\n",
      "Index: 918 entries, 2 to 1007\n",
      "Data columns (total 7 columns):\n",
      " #   Column        Non-Null Count  Dtype  \n",
      "---  ------        --------------  -----  \n",
      " 0   id            918 non-null    int64  \n",
      " 1   title         918 non-null    object \n",
      " 2   runtime       918 non-null    int64  \n",
      " 3   revenue       918 non-null    int64  \n",
      " 4   vote_average  918 non-null    float64\n",
      " 5   genres        918 non-null    object \n",
      " 6   studios       918 non-null    object \n",
      "dtypes: float64(1), int64(3), object(3)\n",
      "memory usage: 57.4+ KB\n"
     ]
    }
   ],
   "source": [
    "# Store the summary info for the dataset\n",
    "dataset_info = movies.info()\n",
    "dataset_info"
   ]
  },
  {
   "cell_type": "code",
   "execution_count": 62,
   "metadata": {},
   "outputs": [
    {
     "data": {
      "text/html": [
       "<div>\n",
       "<style scoped>\n",
       "    .dataframe tbody tr th:only-of-type {\n",
       "        vertical-align: middle;\n",
       "    }\n",
       "\n",
       "    .dataframe tbody tr th {\n",
       "        vertical-align: top;\n",
       "    }\n",
       "\n",
       "    .dataframe thead th {\n",
       "        text-align: right;\n",
       "    }\n",
       "</style>\n",
       "<table border=\"1\" class=\"dataframe\">\n",
       "  <thead>\n",
       "    <tr style=\"text-align: right;\">\n",
       "      <th></th>\n",
       "      <th>id</th>\n",
       "      <th>runtime</th>\n",
       "      <th>revenue</th>\n",
       "      <th>vote_average</th>\n",
       "    </tr>\n",
       "  </thead>\n",
       "  <tbody>\n",
       "    <tr>\n",
       "      <th>count</th>\n",
       "      <td>918.000000</td>\n",
       "      <td>918.000000</td>\n",
       "      <td>9.180000e+02</td>\n",
       "      <td>918.000000</td>\n",
       "    </tr>\n",
       "    <tr>\n",
       "      <th>mean</th>\n",
       "      <td>46362.863834</td>\n",
       "      <td>111.026144</td>\n",
       "      <td>1.269692e+08</td>\n",
       "      <td>3.210403</td>\n",
       "    </tr>\n",
       "    <tr>\n",
       "      <th>std</th>\n",
       "      <td>85821.903419</td>\n",
       "      <td>20.610935</td>\n",
       "      <td>1.171013e+08</td>\n",
       "      <td>0.467239</td>\n",
       "    </tr>\n",
       "    <tr>\n",
       "      <th>min</th>\n",
       "      <td>14.000000</td>\n",
       "      <td>63.000000</td>\n",
       "      <td>8.500000e+01</td>\n",
       "      <td>1.610000</td>\n",
       "    </tr>\n",
       "    <tr>\n",
       "      <th>25%</th>\n",
       "      <td>3980.250000</td>\n",
       "      <td>96.000000</td>\n",
       "      <td>3.670103e+07</td>\n",
       "      <td>2.910000</td>\n",
       "    </tr>\n",
       "    <tr>\n",
       "      <th>50%</th>\n",
       "      <td>10220.000000</td>\n",
       "      <td>107.000000</td>\n",
       "      <td>9.000005e+07</td>\n",
       "      <td>3.240000</td>\n",
       "    </tr>\n",
       "    <tr>\n",
       "      <th>75%</th>\n",
       "      <td>36878.250000</td>\n",
       "      <td>123.000000</td>\n",
       "      <td>1.780330e+08</td>\n",
       "      <td>3.550000</td>\n",
       "    </tr>\n",
       "    <tr>\n",
       "      <th>max</th>\n",
       "      <td>417644.000000</td>\n",
       "      <td>202.000000</td>\n",
       "      <td>4.988149e+08</td>\n",
       "      <td>4.430000</td>\n",
       "    </tr>\n",
       "  </tbody>\n",
       "</table>\n",
       "</div>"
      ],
      "text/plain": [
       "                  id     runtime       revenue  vote_average\n",
       "count     918.000000  918.000000  9.180000e+02    918.000000\n",
       "mean    46362.863834  111.026144  1.269692e+08      3.210403\n",
       "std     85821.903419   20.610935  1.171013e+08      0.467239\n",
       "min        14.000000   63.000000  8.500000e+01      1.610000\n",
       "25%      3980.250000   96.000000  3.670103e+07      2.910000\n",
       "50%     10220.000000  107.000000  9.000005e+07      3.240000\n",
       "75%     36878.250000  123.000000  1.780330e+08      3.550000\n",
       "max    417644.000000  202.000000  4.988149e+08      4.430000"
      ]
     },
     "execution_count": 62,
     "metadata": {},
     "output_type": "execute_result"
    }
   ],
   "source": [
    "dataset_cardinality_quant = movies.describe()\n",
    "dataset_cardinality_quant"
   ]
  },
  {
   "cell_type": "code",
   "execution_count": 63,
   "metadata": {
    "deletable": false,
    "editable": false
   },
   "outputs": [
    {
     "data": {
      "text/html": [
       "<p><strong><pre style='display: inline;'>q1</pre></strong> passed! 🎉</p><p><strong><pre style='display: inline;'>q1 - 1</pre> message:</strong> This test only checks that your variables have the correct name and type</p>"
      ],
      "text/plain": [
       "q1 results: All test cases passed!\n",
       "q1 - 1 message: This test only checks that your variables have the correct name and type"
      ]
     },
     "execution_count": 63,
     "metadata": {},
     "output_type": "execute_result"
    }
   ],
   "source": [
    "grader.check(\"q1\")"
   ]
  },
  {
   "cell_type": "markdown",
   "metadata": {},
   "source": [
    "<!-- END QUESTION -->\n",
    "\n",
    "## Question 2"
   ]
  },
  {
   "cell_type": "markdown",
   "metadata": {},
   "source": [
    "From the description above, we can see that the average movie voting score is quite mediocre but there definitely seems to be some movies on the high end as well.\n",
    "\n",
    "<div class=\"alert alert-info\" style=\"color:black\">\n",
    "\n",
    "Let's look at this distribution by creating a histogram of the `vote_average` column, choosing an appropriate number of bins, and setting the figure `height` to 100.\n",
    "\n",
    "</div>\n",
    "\n",
    "_Points:_ 5"
   ]
  },
  {
   "cell_type": "code",
   "execution_count": 64,
   "metadata": {
    "ExecuteTime": {
     "end_time": "2023-11-16T07:16:47.035402Z",
     "start_time": "2023-11-16T07:16:46.976221Z"
    },
    "tags": []
   },
   "outputs": [
    {
     "data": {
      "text/html": [
       "\n",
       "<style>\n",
       "  #altair-viz-9859fab276c94ae18b6d6a6e9da8b4b6.vega-embed {\n",
       "    width: 100%;\n",
       "    display: flex;\n",
       "  }\n",
       "\n",
       "  #altair-viz-9859fab276c94ae18b6d6a6e9da8b4b6.vega-embed details,\n",
       "  #altair-viz-9859fab276c94ae18b6d6a6e9da8b4b6.vega-embed details summary {\n",
       "    position: relative;\n",
       "  }\n",
       "</style>\n",
       "<div id=\"altair-viz-9859fab276c94ae18b6d6a6e9da8b4b6\"></div>\n",
       "<script type=\"text/javascript\">\n",
       "  var VEGA_DEBUG = (typeof VEGA_DEBUG == \"undefined\") ? {} : VEGA_DEBUG;\n",
       "  (function(spec, embedOpt){\n",
       "    let outputDiv = document.currentScript.previousElementSibling;\n",
       "    if (outputDiv.id !== \"altair-viz-9859fab276c94ae18b6d6a6e9da8b4b6\") {\n",
       "      outputDiv = document.getElementById(\"altair-viz-9859fab276c94ae18b6d6a6e9da8b4b6\");\n",
       "    }\n",
       "    const paths = {\n",
       "      \"vega\": \"https://cdn.jsdelivr.net/npm/vega@5?noext\",\n",
       "      \"vega-lib\": \"https://cdn.jsdelivr.net/npm/vega-lib?noext\",\n",
       "      \"vega-lite\": \"https://cdn.jsdelivr.net/npm/vega-lite@5.8.0?noext\",\n",
       "      \"vega-embed\": \"https://cdn.jsdelivr.net/npm/vega-embed@6?noext\",\n",
       "    };\n",
       "\n",
       "    function maybeLoadScript(lib, version) {\n",
       "      var key = `${lib.replace(\"-\", \"\")}_version`;\n",
       "      return (VEGA_DEBUG[key] == version) ?\n",
       "        Promise.resolve(paths[lib]) :\n",
       "        new Promise(function(resolve, reject) {\n",
       "          var s = document.createElement('script');\n",
       "          document.getElementsByTagName(\"head\")[0].appendChild(s);\n",
       "          s.async = true;\n",
       "          s.onload = () => {\n",
       "            VEGA_DEBUG[key] = version;\n",
       "            return resolve(paths[lib]);\n",
       "          };\n",
       "          s.onerror = () => reject(`Error loading script: ${paths[lib]}`);\n",
       "          s.src = paths[lib];\n",
       "        });\n",
       "    }\n",
       "\n",
       "    function showError(err) {\n",
       "      outputDiv.innerHTML = `<div class=\"error\" style=\"color:red;\">${err}</div>`;\n",
       "      throw err;\n",
       "    }\n",
       "\n",
       "    function displayChart(vegaEmbed) {\n",
       "      vegaEmbed(outputDiv, spec, embedOpt)\n",
       "        .catch(err => showError(`Javascript Error: ${err.message}<br>This usually means there's a typo in your chart specification. See the javascript console for the full traceback.`));\n",
       "    }\n",
       "\n",
       "    if(typeof define === \"function\" && define.amd) {\n",
       "      requirejs.config({paths});\n",
       "      require([\"vega-embed\"], displayChart, err => showError(`Error loading script: ${err.message}`));\n",
       "    } else {\n",
       "      maybeLoadScript(\"vega\", \"5\")\n",
       "        .then(() => maybeLoadScript(\"vega-lite\", \"5.8.0\"))\n",
       "        .then(() => maybeLoadScript(\"vega-embed\", \"6\"))\n",
       "        .catch(showError)\n",
       "        .then(() => displayChart(vegaEmbed));\n",
       "    }\n",
       "  })({\"config\": {\"view\": {\"continuousWidth\": 300, \"continuousHeight\": 300}}, \"data\": {\"name\": \"data-b98185c46af72946cc44abcb25fbd79e\"}, \"mark\": {\"type\": \"bar\"}, \"encoding\": {\"x\": {\"field\": \"vote_average\", \"type\": \"quantitative\"}}, \"height\": 100, \"$schema\": \"https://vega.github.io/schema/vega-lite/v5.8.0.json\", \"datasets\": {\"data-b98185c46af72946cc44abcb25fbd79e\": [{\"id\": 14, \"title\": \"American Beauty\", \"runtime\": 122, \"revenue\": 356296601, \"vote_average\": 4.13, \"genres\": [\"Drama\"], \"studios\": [\"DreamWorks SKG\"]}, {\"id\": 16, \"title\": \"Dancer in the Dark\", \"runtime\": 140, \"revenue\": 40031879, \"vote_average\": 3.84, \"genres\": [\"Drama\"], \"studios\": [\"Canal+\"]}, {\"id\": 59, \"title\": \"A History of Violence\", \"runtime\": 96, \"revenue\": 60740827, \"vote_average\": 3.63, \"genres\": [\"Drama\"], \"studios\": [\"New Line Cinema\"]}, {\"id\": 70, \"title\": \"Million Dollar Baby\", \"runtime\": 132, \"revenue\": 216763646, \"vote_average\": 3.84, \"genres\": [\"Drama\"], \"studios\": [\"Warner Bros.\"]}, {\"id\": 73, \"title\": \"American History X\", \"runtime\": 119, \"revenue\": 23875127, \"vote_average\": 4.15, \"genres\": [\"Drama\"], \"studios\": [\"New Line Cinema\"]}, {\"id\": 76, \"title\": \"Before Sunrise\", \"runtime\": 105, \"revenue\": 5535405, \"vote_average\": 3.89, \"genres\": [\"Romance\", \"Drama\"], \"studios\": [\"Warner Bros.\"]}, {\"id\": 78, \"title\": \"Blade Runner\", \"runtime\": 117, \"revenue\": 33139618, \"vote_average\": 4.12, \"genres\": [\"Science Fiction\", \"Drama\"], \"studios\": [\"Warner Bros.\"]}, {\"id\": 85, \"title\": \"Raiders of the Lost Ark\", \"runtime\": 115, \"revenue\": 389925971, \"vote_average\": 4.13, \"genres\": [\"Action\"], \"studios\": [\"Paramount Pictures\"]}, {\"id\": 87, \"title\": \"Indiana Jones and the Temple of Doom\", \"runtime\": 118, \"revenue\": 333000000, \"vote_average\": 3.69, \"genres\": [\"Action\"], \"studios\": [\"Paramount Pictures\"]}, {\"id\": 89, \"title\": \"Indiana Jones and the Last Crusade\", \"runtime\": 127, \"revenue\": 474171806, \"vote_average\": 3.98, \"genres\": [\"Action\"], \"studios\": [\"Paramount Pictures\"]}, {\"id\": 90, \"title\": \"Beverly Hills Cop\", \"runtime\": 105, \"revenue\": 316360478, \"vote_average\": 3.56, \"genres\": [\"Action\", \"Comedy\"], \"studios\": [\"Paramount Pictures\"]}, {\"id\": 96, \"title\": \"Beverly Hills Cop II\", \"runtime\": 100, \"revenue\": 299965036, \"vote_average\": 3.09, \"genres\": [\"Action\", \"Comedy\"], \"studios\": [\"Paramount Pictures\"]}, {\"id\": 97, \"title\": \"Tron\", \"runtime\": 96, \"revenue\": 33000000, \"vote_average\": 3.31, \"genres\": [\"Action\", \"Science Fiction\"], \"studios\": [\"Walt Disney Pictures\"]}, {\"id\": 98, \"title\": \"Gladiator\", \"runtime\": 155, \"revenue\": 457640427, \"vote_average\": 3.95, \"genres\": [\"Action\", \"Drama\"], \"studios\": [\"DreamWorks SKG\"]}, {\"id\": 117, \"title\": \"The Untouchables\", \"runtime\": 119, \"revenue\": 76270454, \"vote_average\": 3.88, \"genres\": [\"Drama\", \"History\"], \"studios\": [\"Paramount Pictures\"]}, {\"id\": 118, \"title\": \"Charlie and the Chocolate Factory\", \"runtime\": 115, \"revenue\": 474968763, \"vote_average\": 3.23, \"genres\": [\"Comedy\"], \"studios\": [\"Warner Bros.\"]}, {\"id\": 150, \"title\": \"48 Hrs.\", \"runtime\": 96, \"revenue\": 78868508, \"vote_average\": 3.49, \"genres\": [\"Action\", \"Comedy\", \"Drama\"], \"studios\": [\"Paramount Pictures\"]}, {\"id\": 152, \"title\": \"Star Trek: The Motion Picture\", \"runtime\": 132, \"revenue\": 139000000, \"vote_average\": 3.09, \"genres\": [\"Science Fiction\"], \"studios\": [\"Paramount Pictures\"]}, {\"id\": 154, \"title\": \"Star Trek II: The Wrath of Khan\", \"runtime\": 113, \"revenue\": 96800000, \"vote_average\": 3.68, \"genres\": [\"Action\", \"Science Fiction\"], \"studios\": [\"Paramount Pictures\"]}, {\"id\": 157, \"title\": \"Star Trek III: The Search for Spock\", \"runtime\": 105, \"revenue\": 87000000, \"vote_average\": 3.23, \"genres\": [\"Action\", \"Science Fiction\"], \"studios\": [\"Paramount Pictures\"]}, {\"id\": 164, \"title\": \"Breakfast at Tiffany's\", \"runtime\": 110, \"revenue\": 9500000, \"vote_average\": 3.8200000000000003, \"genres\": [\"Romance\", \"Comedy\", \"Drama\"], \"studios\": [\"Paramount Pictures\"]}, {\"id\": 168, \"title\": \"Star Trek IV: The Voyage Home\", \"runtime\": 119, \"revenue\": 133000000, \"vote_average\": 3.46, \"genres\": [\"Science Fiction\"], \"studios\": [\"Paramount Pictures\"]}, {\"id\": 172, \"title\": \"Star Trek V: The Final Frontier\", \"runtime\": 107, \"revenue\": 70200000, \"vote_average\": 2.87, \"genres\": [\"Action\", \"Science Fiction\"], \"studios\": [\"Paramount Pictures\"]}, {\"id\": 174, \"title\": \"Star Trek VI: The Undiscovered Country\", \"runtime\": 113, \"revenue\": 96900000, \"vote_average\": 3.3, \"genres\": [\"Action\", \"Science Fiction\"], \"studios\": [\"Paramount Pictures\"]}, {\"id\": 180, \"title\": \"Minority Report\", \"runtime\": 145, \"revenue\": 358372926, \"vote_average\": 3.67, \"genres\": [\"Action\", \"Science Fiction\"], \"studios\": [\"DreamWorks SKG\"]}, {\"id\": 185, \"title\": \"A Clockwork Orange\", \"runtime\": 136, \"revenue\": 26589000, \"vote_average\": 3.98, \"genres\": [\"Science Fiction\", \"Drama\"], \"studios\": [\"Warner Bros.\"]}, {\"id\": 193, \"title\": \"Star Trek: Generations\", \"runtime\": 118, \"revenue\": 120000000, \"vote_average\": 3.34, \"genres\": [\"Action\", \"Science Fiction\"], \"studios\": [\"Paramount Pictures\"]}, {\"id\": 194, \"title\": \"Am\\u00e9lie\", \"runtime\": 122, \"revenue\": 173921954, \"vote_average\": 4.13, \"genres\": [\"Romance\", \"Comedy\"], \"studios\": [\"Canal+\"]}, {\"id\": 199, \"title\": \"Star Trek: First Contact\", \"runtime\": 111, \"revenue\": 150000000, \"vote_average\": 3.67, \"genres\": [\"Action\", \"Science Fiction\"], \"studios\": [\"Paramount Pictures\"]}, {\"id\": 200, \"title\": \"Star Trek: Insurrection\", \"runtime\": 103, \"revenue\": 118000000, \"vote_average\": 3.19, \"genres\": [\"Action\", \"Science Fiction\"], \"studios\": [\"Paramount Pictures\"]}, {\"id\": 201, \"title\": \"Star Trek: Nemesis\", \"runtime\": 117, \"revenue\": 67312826, \"vote_average\": 3.13, \"genres\": [\"Action\", \"Science Fiction\"], \"studios\": [\"Paramount Pictures\"]}, {\"id\": 227, \"title\": \"The Outsiders\", \"runtime\": 91, \"revenue\": 33697647, \"vote_average\": 3.6, \"genres\": [\"Drama\"], \"studios\": [\"Warner Bros.\"]}, {\"id\": 231, \"title\": \"Syriana\", \"runtime\": 128, \"revenue\": 94000000, \"vote_average\": 3.55, \"genres\": [\"Drama\"], \"studios\": [\"Warner Bros.\"]}, {\"id\": 238, \"title\": \"The Godfather\", \"runtime\": 175, \"revenue\": 245066411, \"vote_average\": 4.34, \"genres\": [\"Drama\"], \"studios\": [\"Paramount Pictures\"]}, {\"id\": 240, \"title\": \"The Godfather: Part II\", \"runtime\": 200, \"revenue\": 47542841, \"vote_average\": 4.26, \"genres\": [\"Drama\"], \"studios\": [\"Paramount Pictures\"]}, {\"id\": 241, \"title\": \"Natural Born Killers\", \"runtime\": 119, \"revenue\": 50282766, \"vote_average\": 3.25, \"genres\": [\"Drama\"], \"studios\": [\"Warner Bros.\"]}, {\"id\": 242, \"title\": \"The Godfather: Part III\", \"runtime\": 162, \"revenue\": 136766062, \"vote_average\": 3.45, \"genres\": [\"Drama\"], \"studios\": [\"Paramount Pictures\"]}, {\"id\": 268, \"title\": \"Batman\", \"runtime\": 126, \"revenue\": 411348924, \"vote_average\": 3.38, \"genres\": [\"Action\"], \"studios\": [\"Warner Bros.\"]}, {\"id\": 272, \"title\": \"Batman Begins\", \"runtime\": 140, \"revenue\": 374218673, \"vote_average\": 3.94, \"genres\": [\"Action\", \"Drama\"], \"studios\": [\"Warner Bros.\"]}, {\"id\": 278, \"title\": \"The Shawshank Redemption\", \"runtime\": 142, \"revenue\": 28341469, \"vote_average\": 4.43, \"genres\": [\"Drama\"], \"studios\": [\"Warner Bros.\"]}, {\"id\": 279, \"title\": \"Amadeus\", \"runtime\": 160, \"revenue\": 51973029, \"vote_average\": 4.06, \"genres\": [\"Drama\", \"History\"], \"studios\": [\"Warner Bros.\"]}, {\"id\": 281, \"title\": \"Strange Days\", \"runtime\": 145, \"revenue\": 7959291, \"vote_average\": 3.42, \"genres\": [\"Science Fiction\", \"Drama\"], \"studios\": [\"Lightstorm Entertainment\"]}, {\"id\": 296, \"title\": \"Terminator 3: Rise of the Machines\", \"runtime\": 109, \"revenue\": 435000000, \"vote_average\": 3.07, \"genres\": [\"Action\", \"Science Fiction\"], \"studios\": [\"Warner Bros.\"]}, {\"id\": 300, \"title\": \"The Science of Sleep\", \"runtime\": 105, \"revenue\": 9524340, \"vote_average\": 3.75, \"genres\": [\"Comedy\", \"Drama\"], \"studios\": [\"Canal+\"]}, {\"id\": 306, \"title\": \"Beverly Hills Cop III\", \"runtime\": 104, \"revenue\": 119208989, \"vote_average\": 2.76, \"genres\": [\"Action\", \"Comedy\"], \"studios\": [\"Paramount Pictures\"]}, {\"id\": 314, \"title\": \"Catwoman\", \"runtime\": 104, \"revenue\": 82102379, \"vote_average\": 1.8599999999999999, \"genres\": [\"Action\"], \"studios\": [\"Warner Bros.\"]}, {\"id\": 319, \"title\": \"True Romance\", \"runtime\": 120, \"revenue\": 12281551, \"vote_average\": 3.8, \"genres\": [\"Action\", \"Romance\"], \"studios\": [\"Warner Bros.\"]}, {\"id\": 322, \"title\": \"Mystic River\", \"runtime\": 138, \"revenue\": 156822020, \"vote_average\": 3.83, \"genres\": [\"Drama\"], \"studios\": [\"Warner Bros.\"]}, {\"id\": 326, \"title\": \"Snakes on a Plane\", \"runtime\": 105, \"revenue\": 62022014, \"vote_average\": 2.54, \"genres\": [\"Action\", \"Horror\"], \"studios\": [\"New Line Cinema\"]}, {\"id\": 334, \"title\": \"Magnolia\", \"runtime\": 188, \"revenue\": 48451803, \"vote_average\": 3.86, \"genres\": [\"Drama\"], \"studios\": [\"New Line Cinema\"]}, {\"id\": 345, \"title\": \"Eyes Wide Shut\", \"runtime\": 159, \"revenue\": 162091208, \"vote_average\": 3.23, \"genres\": [\"Drama\"], \"studios\": [\"Warner Bros.\"]}, {\"id\": 364, \"title\": \"Batman Returns\", \"runtime\": 126, \"revenue\": 280000000, \"vote_average\": 3.12, \"genres\": [\"Action\"], \"studios\": [\"Warner Bros.\"]}, {\"id\": 377, \"title\": \"A Nightmare on Elm Street\", \"runtime\": 91, \"revenue\": 25504513, \"vote_average\": 3.26, \"genres\": [\"Horror\"], \"studios\": [\"New Line Cinema\"]}, {\"id\": 403, \"title\": \"Driving Miss Daisy\", \"runtime\": 99, \"revenue\": 145793296, \"vote_average\": 3.68, \"genres\": [\"Comedy\", \"Drama\"], \"studios\": [\"Warner Bros.\"]}, {\"id\": 414, \"title\": \"Batman Forever\", \"runtime\": 121, \"revenue\": 336529144, \"vote_average\": 2.91, \"genres\": [\"Action\"], \"studios\": [\"Warner Bros.\"]}, {\"id\": 415, \"title\": \"Batman & Robin\", \"runtime\": 125, \"revenue\": 238207122, \"vote_average\": 2.2, \"genres\": [\"Action\"], \"studios\": [\"Warner Bros.\"]}, {\"id\": 423, \"title\": \"The Pianist\", \"runtime\": 150, \"revenue\": 120072577, \"vote_average\": 4.05, \"genres\": [\"War\", \"Drama\"], \"studios\": [\"Canal+\"]}, {\"id\": 453, \"title\": \"A Beautiful Mind\", \"runtime\": 135, \"revenue\": 313542341, \"vote_average\": 3.96, \"genres\": [\"Romance\", \"Drama\"], \"studios\": [\"DreamWorks SKG\"]}, {\"id\": 479, \"title\": \"Shaft\", \"runtime\": 99, \"revenue\": 107196498, \"vote_average\": 2.98, \"genres\": [\"Action\"], \"studios\": [\"Paramount Pictures\"]}, {\"id\": 497, \"title\": \"The Green Mile\", \"runtime\": 189, \"revenue\": 284600000, \"vote_average\": 4.02, \"genres\": [\"Drama\"], \"studios\": [\"Warner Bros.\"]}, {\"id\": 503, \"title\": \"Poseidon\", \"runtime\": 99, \"revenue\": 181674817, \"vote_average\": 2.68, \"genres\": [\"Action\", \"Drama\"], \"studios\": [\"Warner Bros.\"]}, {\"id\": 510, \"title\": \"One Flew Over the Cuckoo's Nest\", \"runtime\": 133, \"revenue\": 108981275, \"vote_average\": 4.23, \"genres\": [\"Drama\"], \"studios\": [\"Warner Bros.\"]}, {\"id\": 526, \"title\": \"Ladyhawke\", \"runtime\": 121, \"revenue\": 18432000, \"vote_average\": 3.56, \"genres\": [\"Romance\", \"Drama\"], \"studios\": [\"Warner Bros.\"]}, {\"id\": 533, \"title\": \"The Curse of the Were-Rabbit\", \"runtime\": 85, \"revenue\": 192452832, \"vote_average\": 3.7199999999999998, \"genres\": [\"Animation\", \"Comedy\"], \"studios\": [\"DreamWorks Animation\"]}, {\"id\": 534, \"title\": \"Terminator Salvation\", \"runtime\": 115, \"revenue\": 371353001, \"vote_average\": 3.15, \"genres\": [\"Action\", \"Science Fiction\"], \"studios\": [\"Warner Bros.\"]}, {\"id\": 535, \"title\": \"Flashdance\", \"runtime\": 95, \"revenue\": 92921203, \"vote_average\": 2.98, \"genres\": [\"Romance\", \"Drama\"], \"studios\": [\"Paramount Pictures\"]}, {\"id\": 539, \"title\": \"Psycho\", \"runtime\": 109, \"revenue\": 32000000, \"vote_average\": 4.07, \"genres\": [\"Horror\", \"Drama\"], \"studios\": [\"Paramount Pictures\"]}, {\"id\": 561, \"title\": \"Constantine\", \"runtime\": 121, \"revenue\": 230884728, \"vote_average\": 3.41, \"genres\": [\"Horror\", \"Drama\"], \"studios\": [\"Warner Bros.\"]}, {\"id\": 565, \"title\": \"The Ring\", \"runtime\": 115, \"revenue\": 249348933, \"vote_average\": 3.37, \"genres\": [\"Horror\"], \"studios\": [\"DreamWorks SKG\"]}, {\"id\": 586, \"title\": \"Wag the Dog\", \"runtime\": 97, \"revenue\": 64256513, \"vote_average\": 3.51, \"genres\": [\"Comedy\", \"Drama\"], \"studios\": [\"New Line Cinema\"]}, {\"id\": 590, \"title\": \"The Hours\", \"runtime\": 114, \"revenue\": 41597830, \"vote_average\": 3.69, \"genres\": [\"Drama\"], \"studios\": [\"Paramount Pictures\"]}, {\"id\": 592, \"title\": \"The Conversation\", \"runtime\": 113, \"revenue\": 4420000, \"vote_average\": 4.05, \"genres\": [\"Drama\"], \"studios\": [\"Paramount Pictures\"]}, {\"id\": 594, \"title\": \"The Terminal\", \"runtime\": 128, \"revenue\": 219417255, \"vote_average\": 3.5700000000000003, \"genres\": [\"Comedy\", \"Drama\"], \"studios\": [\"DreamWorks SKG\"]}, {\"id\": 600, \"title\": \"Full Metal Jacket\", \"runtime\": 116, \"revenue\": 46357676, \"vote_average\": 4.04, \"genres\": [\"War\", \"Drama\"], \"studios\": [\"Warner Bros.\"]}, {\"id\": 603, \"title\": \"The Matrix\", \"runtime\": 136, \"revenue\": 463517383, \"vote_average\": 4.15, \"genres\": [\"Action\", \"Science Fiction\"], \"studios\": [\"Warner Bros.\"]}, {\"id\": 605, \"title\": \"The Matrix Revolutions\", \"runtime\": 129, \"revenue\": 424988211, \"vote_average\": 3.19, \"genres\": [\"Action\", \"Science Fiction\"], \"studios\": [\"Warner Bros.\"]}, {\"id\": 612, \"title\": \"Munich\", \"runtime\": 164, \"revenue\": 130358911, \"vote_average\": 3.7199999999999998, \"genres\": [\"Action\", \"Drama\", \"History\"], \"studios\": [\"DreamWorks SKG\"]}, {\"id\": 616, \"title\": \"The Last Samurai\", \"runtime\": 154, \"revenue\": 456758981, \"vote_average\": 3.67, \"genres\": [\"Action\", \"War\", \"Drama\", \"History\"], \"studios\": [\"Warner Bros.\"]}, {\"id\": 619, \"title\": \"The Bodyguard\", \"runtime\": 129, \"revenue\": 411006740, \"vote_average\": 2.79, \"genres\": [\"Action\", \"Romance\", \"Drama\"], \"studios\": [\"Warner Bros.\"]}, {\"id\": 621, \"title\": \"Grease\", \"runtime\": 110, \"revenue\": 181813770, \"vote_average\": 3.31, \"genres\": [\"Romance\"], \"studios\": [\"Paramount Pictures\"]}, {\"id\": 622, \"title\": \"The Ninth Gate\", \"runtime\": 133, \"revenue\": 58401898, \"vote_average\": 3.22, \"genres\": [\"Horror\"], \"studios\": [\"Canal+\"]}, {\"id\": 636, \"title\": \"THX 1138\", \"runtime\": 86, \"revenue\": 2437000, \"vote_average\": 3.45, \"genres\": [\"Science Fiction\", \"Drama\"], \"studios\": [\"Warner Bros.\"]}, {\"id\": 644, \"title\": \"A.I. Artificial Intelligence\", \"runtime\": 146, \"revenue\": 235926552, \"vote_average\": 3.25, \"genres\": [\"Science Fiction\", \"Drama\"], \"studios\": [\"DreamWorks SKG\", \"Warner Bros.\"]}, {\"id\": 652, \"title\": \"Troy\", \"runtime\": 163, \"revenue\": 497409852, \"vote_average\": 3.34, \"genres\": [\"War\", \"Drama\"], \"studios\": [\"Warner Bros.\"]}, {\"id\": 664, \"title\": \"Twister\", \"runtime\": 113, \"revenue\": 494471524, \"vote_average\": 3.22, \"genres\": [\"Action\", \"Drama\"], \"studios\": [\"Warner Bros.\"]}, {\"id\": 686, \"title\": \"Contact\", \"runtime\": 150, \"revenue\": 171120329, \"vote_average\": 3.67, \"genres\": [\"Science Fiction\", \"Drama\"], \"studios\": [\"Warner Bros.\"]}, {\"id\": 688, \"title\": \"The Bridges of Madison County\", \"runtime\": 135, \"revenue\": 182016617, \"vote_average\": 3.33, \"genres\": [\"Romance\", \"Drama\"], \"studios\": [\"Warner Bros.\"]}, {\"id\": 694, \"title\": \"The Shining\", \"runtime\": 144, \"revenue\": 44017374, \"vote_average\": 4.01, \"genres\": [\"Horror\"], \"studios\": [\"Warner Bros.\"]}, {\"id\": 744, \"title\": \"Top Gun\", \"runtime\": 110, \"revenue\": 356830601, \"vote_average\": 3.41, \"genres\": [\"Action\", \"War\", \"Romance\"], \"studios\": [\"Paramount Pictures\"]}, {\"id\": 752, \"title\": \"V for Vendetta\", \"runtime\": 132, \"revenue\": 132511035, \"vote_average\": 3.92, \"genres\": [\"Action\"], \"studios\": [\"Warner Bros.\"]}, {\"id\": 754, \"title\": \"Face/Off\", \"runtime\": 138, \"revenue\": 245676146, \"vote_average\": 3.33, \"genres\": [\"Action\", \"Science Fiction\"], \"studios\": [\"Paramount Pictures\"]}, {\"id\": 795, \"title\": \"City of Angels\", \"runtime\": 114, \"revenue\": 198685114, \"vote_average\": 3.2800000000000002, \"genres\": [\"Romance\", \"Drama\"], \"studios\": [\"Warner Bros.\"]}, {\"id\": 805, \"title\": \"Rosemary's Baby\", \"runtime\": 136, \"revenue\": 33395426, \"vote_average\": 3.74, \"genres\": [\"Horror\", \"Drama\"], \"studios\": [\"Paramount Pictures\"]}, {\"id\": 808, \"title\": \"Shrek\", \"runtime\": 90, \"revenue\": 484409218, \"vote_average\": 3.79, \"genres\": [\"Animation\", \"Comedy\"], \"studios\": [\"DreamWorks SKG\", \"DreamWorks Animation\"]}, {\"id\": 813, \"title\": \"Airplane!\", \"runtime\": 88, \"revenue\": 83453539, \"vote_average\": 3.79, \"genres\": [\"Comedy\"], \"studios\": [\"Paramount Pictures\"]}, {\"id\": 816, \"title\": \"Austin Powers: International Man of Mystery\", \"runtime\": 94, \"revenue\": 67683989, \"vote_average\": 3.4, \"genres\": [\"Comedy\", \"Science Fiction\"], \"studios\": [\"New Line Cinema\"]}, {\"id\": 817, \"title\": \"Austin Powers: The Spy Who Shagged Me\", \"runtime\": 95, \"revenue\": 310940086, \"vote_average\": 3.19, \"genres\": [\"Science Fiction\", \"Comedy\"], \"studios\": [\"New Line Cinema\"]}, {\"id\": 818, \"title\": \"Austin Powers in Goldmember\", \"runtime\": 94, \"revenue\": 296655431, \"vote_average\": 2.95, \"genres\": [\"Science Fiction\", \"Comedy\"], \"studios\": [\"New Line Cinema\"]}, {\"id\": 819, \"title\": \"Sleepers\", \"runtime\": 147, \"revenue\": 165615285, \"vote_average\": 3.63, \"genres\": [\"Drama\"], \"studios\": [\"Warner Bros.\"]}, {\"id\": 820, \"title\": \"JFK\", \"runtime\": 189, \"revenue\": 205405498, \"vote_average\": 3.65, \"genres\": [\"Drama\", \"History\"], \"studios\": [\"Warner Bros.\"]}, {\"id\": 829, \"title\": \"Chinatown\", \"runtime\": 130, \"revenue\": 30000000, \"vote_average\": 4.16, \"genres\": [\"Drama\"], \"studios\": [\"Paramount Pictures\"]}, {\"id\": 853, \"title\": \"Enemy at the Gates\", \"runtime\": 131, \"revenue\": 96976270, \"vote_average\": 3.7199999999999998, \"genres\": [\"War\"], \"studios\": [\"Paramount Pictures\"]}, {\"id\": 854, \"title\": \"The Mask\", \"runtime\": 101, \"revenue\": 351583407, \"vote_average\": 3.18, \"genres\": [\"Romance\", \"Comedy\"], \"studios\": [\"New Line Cinema\"]}, {\"id\": 857, \"title\": \"Saving Private Ryan\", \"runtime\": 169, \"revenue\": 481840909, \"vote_average\": 4.05, \"genres\": [\"War\", \"Drama\", \"History\"], \"studios\": [\"DreamWorks SKG\", \"Paramount Pictures\"]}, {\"id\": 859, \"title\": \"Dangerous Liaisons\", \"runtime\": 119, \"revenue\": 34670720, \"vote_average\": 3.86, \"genres\": [\"Romance\", \"Drama\"], \"studios\": [\"Warner Bros.\"]}, {\"id\": 862, \"title\": \"Toy Story\", \"runtime\": 81, \"revenue\": 373554033, \"vote_average\": 3.89, \"genres\": [\"Animation\", \"Comedy\"], \"studios\": [\"Pixar Animation Studios\"]}, {\"id\": 863, \"title\": \"Toy Story 2\", \"runtime\": 92, \"revenue\": 497366869, \"vote_average\": 3.81, \"genres\": [\"Animation\", \"Comedy\"], \"studios\": [\"Pixar Animation Studios\"]}, {\"id\": 867, \"title\": \"Sliver\", \"runtime\": 108, \"revenue\": 116300000, \"vote_average\": 2.7199999999999998, \"genres\": [\"Drama\"], \"studios\": [\"Paramount Pictures\"]}, {\"id\": 873, \"title\": \"The Color Purple\", \"runtime\": 154, \"revenue\": 146292009, \"vote_average\": 3.73, \"genres\": [\"Drama\"], \"studios\": [\"Warner Bros.\"]}, {\"id\": 891, \"title\": \"All the President's Men\", \"runtime\": 138, \"revenue\": 70600000, \"vote_average\": 4.03, \"genres\": [\"Drama\", \"History\"], \"studios\": [\"Warner Bros.\"]}, {\"id\": 902, \"title\": \"The City of Lost Children\", \"runtime\": 108, \"revenue\": 1738611, \"vote_average\": 3.92, \"genres\": [\"Science Fiction\"], \"studios\": [\"Canal+\"]}, {\"id\": 903, \"title\": \"Cool Hand Luke\", \"runtime\": 126, \"revenue\": 16217773, \"vote_average\": 4.08, \"genres\": [\"Drama\"], \"studios\": [\"Warner Bros.\"]}, {\"id\": 920, \"title\": \"Cars\", \"runtime\": 117, \"revenue\": 461983149, \"vote_average\": 3.37, \"genres\": [\"Animation\", \"Comedy\"], \"studios\": [\"Pixar Animation Studios\", \"Walt Disney Pictures\"]}, {\"id\": 926, \"title\": \"Galaxy Quest\", \"runtime\": 102, \"revenue\": 90683916, \"vote_average\": 3.59, \"genres\": [\"Science Fiction\", \"Comedy\"], \"studios\": [\"DreamWorks SKG\"]}, {\"id\": 927, \"title\": \"Gremlins\", \"runtime\": 106, \"revenue\": 153083102, \"vote_average\": 3.25, \"genres\": [\"Horror\", \"Comedy\"], \"studios\": [\"Warner Bros.\"]}, {\"id\": 928, \"title\": \"Gremlins 2: The New Batch\", \"runtime\": 106, \"revenue\": 41482207, \"vote_average\": 2.73, \"genres\": [\"Horror\", \"Comedy\"], \"studios\": [\"Warner Bros.\"]}, {\"id\": 941, \"title\": \"Lethal Weapon\", \"runtime\": 110, \"revenue\": 120207127, \"vote_average\": 3.69, \"genres\": [\"Action\", \"Comedy\"], \"studios\": [\"Warner Bros.\"]}, {\"id\": 942, \"title\": \"Lethal Weapon 2\", \"runtime\": 114, \"revenue\": 227853986, \"vote_average\": 3.31, \"genres\": [\"Action\", \"Comedy\"], \"studios\": [\"Warner Bros.\"]}, {\"id\": 943, \"title\": \"Lethal Weapon 3\", \"runtime\": 118, \"revenue\": 321731527, \"vote_average\": 3.21, \"genres\": [\"Action\", \"Comedy\"], \"studios\": [\"Warner Bros.\"]}, {\"id\": 944, \"title\": \"Lethal Weapon 4\", \"runtime\": 127, \"revenue\": 285444603, \"vote_average\": 3.13, \"genres\": [\"Action\", \"Comedy\"], \"studios\": [\"Warner Bros.\"]}, {\"id\": 949, \"title\": \"Heat\", \"runtime\": 170, \"revenue\": 187436818, \"vote_average\": 3.84, \"genres\": [\"Action\", \"Drama\"], \"studios\": [\"Warner Bros.\"]}, {\"id\": 954, \"title\": \"Mission: Impossible\", \"runtime\": 110, \"revenue\": 457696359, \"vote_average\": 3.4, \"genres\": [\"Action\"], \"studios\": [\"Paramount Pictures\"]}, {\"id\": 956, \"title\": \"Mission: Impossible III\", \"runtime\": 126, \"revenue\": 397850012, \"vote_average\": 3.34, \"genres\": [\"Action\"], \"studios\": [\"Paramount Pictures\"]}, {\"id\": 968, \"title\": \"Dog Day Afternoon\", \"runtime\": 125, \"revenue\": 46665856, \"vote_average\": 3.96, \"genres\": [\"Drama\"], \"studios\": [\"Warner Bros.\"]}, {\"id\": 984, \"title\": \"Dirty Harry\", \"runtime\": 102, \"revenue\": 35976000, \"vote_average\": 3.77, \"genres\": [\"Action\"], \"studios\": [\"Warner Bros.\"]}, {\"id\": 1018, \"title\": \"Mulholland Drive\", \"runtime\": 147, \"revenue\": 20117339, \"vote_average\": 3.8200000000000003, \"genres\": [\"Drama\"], \"studios\": [\"Canal+\"]}, {\"id\": 1124, \"title\": \"The Prestige\", \"runtime\": 130, \"revenue\": 109676311, \"vote_average\": 4.08, \"genres\": [\"Drama\"], \"studios\": [\"Warner Bros.\"]}, {\"id\": 1125, \"title\": \"Dreamgirls\", \"runtime\": 134, \"revenue\": 154937680, \"vote_average\": 3.26, \"genres\": [\"Drama\"], \"studios\": [\"DreamWorks SKG\", \"Paramount Pictures\"]}, {\"id\": 1165, \"title\": \"The Queen\", \"runtime\": 103, \"revenue\": 123384128, \"vote_average\": 3.7199999999999998, \"genres\": [\"Drama\"], \"studios\": [\"Canal+\"]}, {\"id\": 1213, \"title\": \"The Talented Mr. Ripley\", \"runtime\": 139, \"revenue\": 128798265, \"vote_average\": 3.5, \"genres\": [\"Drama\"], \"studios\": [\"Paramount Pictures\"]}, {\"id\": 1251, \"title\": \"Letters from Iwo Jima\", \"runtime\": 141, \"revenue\": 68673228, \"vote_average\": 3.8200000000000003, \"genres\": [\"Action\", \"War\", \"Drama\"], \"studios\": [\"DreamWorks SKG\", \"Warner Bros.\"]}, {\"id\": 1267, \"title\": \"Meet the Robinsons\", \"runtime\": 95, \"revenue\": 169332978, \"vote_average\": 3.48, \"genres\": [\"Animation\", \"Comedy\"], \"studios\": [\"Walt Disney Pictures\"]}, {\"id\": 1271, \"title\": \"300\", \"runtime\": 117, \"revenue\": 422610419, \"vote_average\": 3.6, \"genres\": [\"Action\", \"War\"], \"studios\": [\"Warner Bros.\"]}, {\"id\": 1273, \"title\": \"TMNT\", \"runtime\": 90, \"revenue\": 95608995, \"vote_average\": 2.9, \"genres\": [\"Animation\", \"Comedy\"], \"studios\": [\"Warner Bros.\"]}, {\"id\": 1372, \"title\": \"Blood Diamond\", \"runtime\": 143, \"revenue\": 170877916, \"vote_average\": 3.86, \"genres\": [\"Action\", \"Drama\"], \"studios\": [\"Warner Bros.\"]}, {\"id\": 1381, \"title\": \"The Fountain\", \"runtime\": 96, \"revenue\": 15304890, \"vote_average\": 3.61, \"genres\": [\"Science Fiction\", \"Romance\", \"Drama\"], \"studios\": [\"Warner Bros.\"]}, {\"id\": 1406, \"title\": \"City Slickers\", \"runtime\": 112, \"revenue\": 179033791, \"vote_average\": 3.3, \"genres\": [\"Action\", \"Comedy\", \"Drama\"], \"studios\": [\"New Line Cinema\"]}, {\"id\": 1422, \"title\": \"The Departed\", \"runtime\": 151, \"revenue\": 289847354, \"vote_average\": 4.12, \"genres\": [\"Drama\"], \"studios\": [\"Warner Bros.\"]}, {\"id\": 1440, \"title\": \"Little Children\", \"runtime\": 136, \"revenue\": 14821658, \"vote_average\": 3.77, \"genres\": [\"Romance\", \"Drama\"], \"studios\": [\"New Line Cinema\"]}, {\"id\": 1452, \"title\": \"Superman Returns\", \"runtime\": 154, \"revenue\": 391081192, \"vote_average\": 2.9699999999999998, \"genres\": [\"Action\", \"Science Fiction\"], \"studios\": [\"Warner Bros.\"]}, {\"id\": 1492, \"title\": \"1492: Conquest of Paradise\", \"runtime\": 154, \"revenue\": 7191399, \"vote_average\": 3.1, \"genres\": [\"Action\", \"Drama\", \"History\"], \"studios\": [\"Paramount Pictures\"]}, {\"id\": 1497, \"title\": \"Teenage Mutant Ninja Turtles II: The Secret of the Ooze\", \"runtime\": 88, \"revenue\": 78000000, \"vote_average\": 2.5300000000000002, \"genres\": [\"Action\", \"Comedy\", \"Science Fiction\"], \"studios\": [\"New Line Cinema\"]}, {\"id\": 1498, \"title\": \"Teenage Mutant Ninja Turtles\", \"runtime\": 93, \"revenue\": 202000000, \"vote_average\": 2.85, \"genres\": [\"Action\", \"Comedy\", \"Science Fiction\"], \"studios\": [\"New Line Cinema\"]}, {\"id\": 1499, \"title\": \"Teenage Mutant Ninja Turtles III\", \"runtime\": 96, \"revenue\": 42000000, \"vote_average\": 2.21, \"genres\": [\"Action\", \"Science Fiction\", \"Comedy\"], \"studios\": [\"New Line Cinema\"]}, {\"id\": 1537, \"title\": \"Changing Lanes\", \"runtime\": 89, \"revenue\": 94935764, \"vote_average\": 3.27, \"genres\": [\"Action\"], \"studios\": [\"Paramount Pictures\"]}, {\"id\": 1538, \"title\": \"Collateral\", \"runtime\": 120, \"revenue\": 217764291, \"vote_average\": 3.69, \"genres\": [\"Drama\"], \"studios\": [\"DreamWorks SKG\", \"Paramount Pictures\"]}, {\"id\": 1547, \"title\": \"The Lost Boys\", \"runtime\": 97, \"revenue\": 32222567, \"vote_average\": 3.5700000000000003, \"genres\": [\"Horror\", \"Comedy\"], \"studios\": [\"Warner Bros.\"]}, {\"id\": 1584, \"title\": \"School of Rock\", \"runtime\": 108, \"revenue\": 131282949, \"vote_average\": 3.39, \"genres\": [\"Comedy\"], \"studios\": [\"Paramount Pictures\"]}, {\"id\": 1587, \"title\": \"What's Eating Gilbert Grape\", \"runtime\": 118, \"revenue\": 10032765, \"vote_average\": 3.75, \"genres\": [\"Romance\", \"Drama\"], \"studios\": [\"Paramount Pictures\"]}, {\"id\": 1592, \"title\": \"Primal Fear\", \"runtime\": 129, \"revenue\": 102616183, \"vote_average\": 3.75, \"genres\": [\"Drama\"], \"studios\": [\"Paramount Pictures\"]}, {\"id\": 1597, \"title\": \"Meet the Parents\", \"runtime\": 108, \"revenue\": 330444045, \"vote_average\": 3.42, \"genres\": [\"Romance\", \"Comedy\"], \"studios\": [\"DreamWorks SKG\"]}, {\"id\": 1621, \"title\": \"Trading Places\", \"runtime\": 116, \"revenue\": 90400000, \"vote_average\": 3.7199999999999998, \"genres\": [\"Comedy\"], \"studios\": [\"Paramount Pictures\"]}, {\"id\": 1635, \"title\": \"The Island\", \"runtime\": 136, \"revenue\": 162949164, \"vote_average\": 3.41, \"genres\": [\"Action\", \"Science Fiction\"], \"studios\": [\"DreamWorks SKG\", \"Warner Bros.\"]}, {\"id\": 1641, \"title\": \"Forces of Nature\", \"runtime\": 105, \"revenue\": 93888180, \"vote_average\": 2.73, \"genres\": [\"Romance\", \"Comedy\"], \"studios\": [\"DreamWorks SKG\"]}, {\"id\": 1645, \"title\": \"A Time to Kill\", \"runtime\": 149, \"revenue\": 152266007, \"vote_average\": 3.69, \"genres\": [\"Drama\"], \"studios\": [\"Warner Bros.\"]}, {\"id\": 1669, \"title\": \"The Hunt for Red October\", \"runtime\": 134, \"revenue\": 199200000, \"vote_average\": 3.86, \"genres\": [\"Action\"], \"studios\": [\"Paramount Pictures\"]}, {\"id\": 1683, \"title\": \"The Reaping\", \"runtime\": 99, \"revenue\": 62771059, \"vote_average\": 2.8, \"genres\": [\"Horror\"], \"studios\": [\"Warner Bros.\"]}, {\"id\": 1724, \"title\": \"The Incredible Hulk\", \"runtime\": 114, \"revenue\": 163712074, \"vote_average\": 3.22, \"genres\": [\"Action\", \"Science Fiction\"], \"studios\": [\"Marvel Studios\"]}, {\"id\": 1738, \"title\": \"Next\", \"runtime\": 96, \"revenue\": 76066841, \"vote_average\": 3.22, \"genres\": [\"Action\", \"Science Fiction\"], \"studios\": [\"Paramount Pictures\"]}, {\"id\": 1771, \"title\": \"Captain America: The First Avenger\", \"runtime\": 124, \"revenue\": 370569774, \"vote_average\": 3.52, \"genres\": [\"Action\", \"Science Fiction\"], \"studios\": [\"Marvel Studios\", \"Paramount Pictures\"]}, {\"id\": 1788, \"title\": \"Footloose\", \"runtime\": 107, \"revenue\": 80035402, \"vote_average\": 3.12, \"genres\": [\"Romance\", \"Drama\"], \"studios\": [\"Paramount Pictures\"]}, {\"id\": 1791, \"title\": \"The Piano Teacher\", \"runtime\": 131, \"revenue\": 9801375, \"vote_average\": 3.55, \"genres\": [\"Romance\", \"Drama\"], \"studios\": [\"Canal+\"]}, {\"id\": 1813, \"title\": \"The Devil's Advocate\", \"runtime\": 144, \"revenue\": 152944660, \"vote_average\": 3.52, \"genres\": [\"Horror\", \"Drama\"], \"studios\": [\"Warner Bros.\"]}, {\"id\": 1825, \"title\": \"Over the Top\", \"runtime\": 93, \"revenue\": 16057580, \"vote_average\": 2.38, \"genres\": [\"Action\", \"Drama\"], \"studios\": [\"Warner Bros.\"]}, {\"id\": 1826, \"title\": \"Russian Dolls\", \"runtime\": 129, \"revenue\": 23727301, \"vote_average\": 3.5700000000000003, \"genres\": [\"Romance\", \"Comedy\", \"Drama\"], \"studios\": [\"Canal+\"]}, {\"id\": 1852, \"title\": \"World Trade Center\", \"runtime\": 128, \"revenue\": 162945894, \"vote_average\": 2.94, \"genres\": [\"Drama\", \"History\"], \"studios\": [\"Paramount Pictures\"]}, {\"id\": 1883, \"title\": \"Malcolm X\", \"runtime\": 202, \"revenue\": 48169908, \"vote_average\": 3.7800000000000002, \"genres\": [\"Drama\", \"History\"], \"studios\": [\"Warner Bros.\"]}, {\"id\": 1903, \"title\": \"Vanilla Sky\", \"runtime\": 136, \"revenue\": 203388341, \"vote_average\": 3.38, \"genres\": [\"Science Fiction\", \"Romance\", \"Drama\"], \"studios\": [\"Paramount Pictures\"]}, {\"id\": 1904, \"title\": \"Memoirs of a Geisha\", \"runtime\": 145, \"revenue\": 162242962, \"vote_average\": 3.61, \"genres\": [\"Romance\", \"Drama\", \"History\"], \"studios\": [\"DreamWorks SKG\"]}, {\"id\": 1909, \"title\": \"Don Juan DeMarco\", \"runtime\": 97, \"revenue\": 22200000, \"vote_average\": 3.44, \"genres\": [\"Comedy\", \"Romance\", \"Drama\"], \"studios\": [\"New Line Cinema\"]}, {\"id\": 1921, \"title\": \"Sweet November\", \"runtime\": 119, \"revenue\": 65754228, \"vote_average\": 3.05, \"genres\": [\"Romance\", \"Drama\"], \"studios\": [\"Warner Bros.\"]}, {\"id\": 1923, \"title\": \"Twin Peaks: Fire Walk with Me\", \"runtime\": 134, \"revenue\": 4160851, \"vote_average\": 3.52, \"genres\": [\"Drama\"], \"studios\": [\"New Line Cinema\"]}, {\"id\": 1924, \"title\": \"Superman\", \"runtime\": 143, \"revenue\": 300218018, \"vote_average\": 3.38, \"genres\": [\"Action\", \"Science Fiction\"], \"studios\": [\"Warner Bros.\"]}, {\"id\": 1949, \"title\": \"Zodiac\", \"runtime\": 157, \"revenue\": 84785914, \"vote_average\": 3.7, \"genres\": [\"Drama\"], \"studios\": [\"Warner Bros.\", \"Paramount Pictures\"]}, {\"id\": 1954, \"title\": \"The Butterfly Effect\", \"runtime\": 113, \"revenue\": 96060858, \"vote_average\": 3.71, \"genres\": [\"Science Fiction\"], \"studios\": [\"New Line Cinema\"]}, {\"id\": 1965, \"title\": \"A Perfect Murder\", \"runtime\": 107, \"revenue\": 128038368, \"vote_average\": 3.38, \"genres\": [\"Drama\"], \"studios\": [\"Warner Bros.\"]}, {\"id\": 1966, \"title\": \"Alexander\", \"runtime\": 175, \"revenue\": 167298192, \"vote_average\": 2.61, \"genres\": [\"Romance\", \"Action\", \"Drama\", \"War\", \"History\"], \"studios\": [\"Warner Bros.\"]}, {\"id\": 1969, \"title\": \"Bandidas\", \"runtime\": 93, \"revenue\": 10496317, \"vote_average\": 2.7800000000000002, \"genres\": [\"Action\", \"Comedy\"], \"studios\": [\"Canal+\"]}, {\"id\": 1995, \"title\": \"Lara Croft: Tomb Raider\", \"runtime\": 100, \"revenue\": 274703340, \"vote_average\": 2.76, \"genres\": [\"Action\"], \"studios\": [\"Paramount Pictures\"]}, {\"id\": 1996, \"title\": \"Lara Croft Tomb Raider: The Cradle of Life\", \"runtime\": 117, \"revenue\": 156505388, \"vote_average\": 2.75, \"genres\": [\"Action\"], \"studios\": [\"Paramount Pictures\"]}, {\"id\": 1997, \"title\": \"Two Brothers\", \"runtime\": 109, \"revenue\": 62172050, \"vote_average\": 3.39, \"genres\": [\"Drama\"], \"studios\": [\"Canal+\"]}, {\"id\": 2013, \"title\": \"The Diving Bell and the Butterfly\", \"runtime\": 112, \"revenue\": 19777647, \"vote_average\": 3.89, \"genres\": [\"Drama\"], \"studios\": [\"Canal+\"]}, {\"id\": 2022, \"title\": \"Mr. Deeds\", \"runtime\": 96, \"revenue\": 171269535, \"vote_average\": 2.84, \"genres\": [\"Romance\", \"Comedy\"], \"studios\": [\"New Line Cinema\"]}, {\"id\": 2034, \"title\": \"Training Day\", \"runtime\": 122, \"revenue\": 104876233, \"vote_average\": 3.71, \"genres\": [\"Action\", \"Drama\"], \"studios\": [\"Warner Bros.\"]}, {\"id\": 2043, \"title\": \"Along Came a Spider\", \"runtime\": 104, \"revenue\": 105178561, \"vote_average\": 3.26, \"genres\": [\"Action\"], \"studios\": [\"Paramount Pictures\"]}, {\"id\": 2044, \"title\": \"The Lake House\", \"runtime\": 99, \"revenue\": 114830111, \"vote_average\": 3.32, \"genres\": [\"Romance\", \"Drama\"], \"studios\": [\"Warner Bros.\"]}, {\"id\": 2059, \"title\": \"National Treasure\", \"runtime\": 131, \"revenue\": 347451894, \"vote_average\": 3.38, \"genres\": [\"Action\"], \"studios\": [\"Walt Disney Pictures\"]}, {\"id\": 2069, \"title\": \"The Whole Nine Yards\", \"runtime\": 98, \"revenue\": 106371651, \"vote_average\": 3.35, \"genres\": [\"Comedy\"], \"studios\": [\"Warner Bros.\"]}, {\"id\": 2085, \"title\": \"Romeo Must Die\", \"runtime\": 115, \"revenue\": 91036760, \"vote_average\": 3.02, \"genres\": [\"Action\"], \"studios\": [\"Warner Bros.\"]}, {\"id\": 2086, \"title\": \"Nick of Time\", \"runtime\": 90, \"revenue\": 8175346, \"vote_average\": 3.14, \"genres\": [\"Drama\"], \"studios\": [\"Paramount Pictures\"]}, {\"id\": 2100, \"title\": \"The Last Castle\", \"runtime\": 131, \"revenue\": 27642707, \"vote_average\": 3.4, \"genres\": [\"Action\", \"Drama\"], \"studios\": [\"DreamWorks SKG\"]}, {\"id\": 2103, \"title\": \"Solaris\", \"runtime\": 99, \"revenue\": 30002758, \"vote_average\": 3.14, \"genres\": [\"Science Fiction\", \"Romance\", \"Drama\"], \"studios\": [\"Lightstorm Entertainment\"]}, {\"id\": 2109, \"title\": \"Rush Hour\", \"runtime\": 98, \"revenue\": 244386864, \"vote_average\": 3.43, \"genres\": [\"Action\", \"Comedy\"], \"studios\": [\"New Line Cinema\"]}, {\"id\": 2112, \"title\": \"Payback\", \"runtime\": 100, \"revenue\": 161626121, \"vote_average\": 3.41, \"genres\": [\"Action\", \"Drama\"], \"studios\": [\"Paramount Pictures\"]}, {\"id\": 2118, \"title\": \"L.A. Confidential\", \"runtime\": 138, \"revenue\": 126216940, \"vote_average\": 4.07, \"genres\": [\"Drama\"], \"studios\": [\"Warner Bros.\"]}, {\"id\": 2133, \"title\": \"The Perfect Storm\", \"runtime\": 130, \"revenue\": 325756637, \"vote_average\": 3.08, \"genres\": [\"Drama\"], \"studios\": [\"Warner Bros.\"]}, {\"id\": 2135, \"title\": \"The Time Machine\", \"runtime\": 96, \"revenue\": 123729176, \"vote_average\": 2.85, \"genres\": [\"Action\", \"Science Fiction\"], \"studios\": [\"DreamWorks SKG\", \"Warner Bros.\"]}, {\"id\": 2140, \"title\": \"Kiss of the Dragon\", \"runtime\": 98, \"revenue\": 64437847, \"vote_average\": 3.27, \"genres\": [\"Action\"], \"studios\": [\"Canal+\"]}, {\"id\": 2157, \"title\": \"Lost in Space\", \"runtime\": 130, \"revenue\": 136159423, \"vote_average\": 2.6, \"genres\": [\"Science Fiction\"], \"studios\": [\"New Line Cinema\"]}, {\"id\": 2163, \"title\": \"Breakdown\", \"runtime\": 95, \"revenue\": 50159144, \"vote_average\": 3.31, \"genres\": [\"Action\", \"Drama\"], \"studios\": [\"Paramount Pictures\"]}, {\"id\": 2179, \"title\": \"Tenacious D in The Pick of Destiny\", \"runtime\": 93, \"revenue\": 13405595, \"vote_average\": 3.24, \"genres\": [\"Comedy\"], \"studios\": [\"New Line Cinema\"]}, {\"id\": 2270, \"title\": \"Stardust\", \"runtime\": 127, \"revenue\": 135560026, \"vote_average\": 3.8200000000000003, \"genres\": [\"Romance\"], \"studios\": [\"Paramount Pictures\"]}, {\"id\": 2275, \"title\": \"The General's Daughter\", \"runtime\": 116, \"revenue\": 149705852, \"vote_average\": 3.09, \"genres\": [\"Drama\"], \"studios\": [\"Paramount Pictures\"]}, {\"id\": 2310, \"title\": \"Beowulf\", \"runtime\": 115, \"revenue\": 195735876, \"vote_average\": 2.92, \"genres\": [\"Action\", \"Animation\"], \"studios\": [\"Paramount Pictures\"]}, {\"id\": 2320, \"title\": \"Executive Decision\", \"runtime\": 133, \"revenue\": 121969216, \"vote_average\": 3.37, \"genres\": [\"Action\", \"Drama\"], \"studios\": [\"Warner Bros.\"]}, {\"id\": 2395, \"title\": \"Asterix at the Olympic Games\", \"runtime\": 116, \"revenue\": 132900000, \"vote_average\": 2.49, \"genres\": [\"Comedy\"], \"studios\": [\"Canal+\"]}, {\"id\": 2567, \"title\": \"The Aviator\", \"runtime\": 170, \"revenue\": 102000000, \"vote_average\": 3.6, \"genres\": [\"Drama\"], \"studios\": [\"Warner Bros.\"]}, {\"id\": 2636, \"title\": \"The Specialist\", \"runtime\": 110, \"revenue\": 170362582, \"vote_average\": 2.9, \"genres\": [\"Action\"], \"studios\": [\"Warner Bros.\"]}, {\"id\": 2654, \"title\": \"In the Mouth of Madness\", \"runtime\": 95, \"revenue\": 8946600, \"vote_average\": 3.18, \"genres\": [\"Horror\"], \"studios\": [\"New Line Cinema\"]}, {\"id\": 2655, \"title\": \"What Lies Beneath\", \"runtime\": 130, \"revenue\": 155464351, \"vote_average\": 3.22, \"genres\": [\"Horror\", \"Drama\"], \"studios\": [\"DreamWorks SKG\"]}, {\"id\": 2666, \"title\": \"Dark City\", \"runtime\": 100, \"revenue\": 27200316, \"vote_average\": 3.8, \"genres\": [\"Science Fiction\"], \"studios\": [\"New Line Cinema\"]}, {\"id\": 2668, \"title\": \"Sleepy Hollow\", \"runtime\": 105, \"revenue\": 206071502, \"vote_average\": 3.5300000000000002, \"genres\": [\"Drama\"], \"studios\": [\"Paramount Pictures\"]}, {\"id\": 2687, \"title\": \"Memoirs of an Invisible Man\", \"runtime\": 99, \"revenue\": 14358033, \"vote_average\": 2.8200000000000003, \"genres\": [\"Science Fiction\", \"Comedy\"], \"studios\": [\"Warner Bros.\", \"Canal+\"]}, {\"id\": 2749, \"title\": \"15 Minutes\", \"runtime\": 120, \"revenue\": 56359980, \"vote_average\": 2.98, \"genres\": [\"Action\"], \"studios\": [\"New Line Cinema\"]}, {\"id\": 2755, \"title\": \"About Schmidt\", \"runtime\": 125, \"revenue\": 105834556, \"vote_average\": 3.45, \"genres\": [\"Comedy\", \"Drama\"], \"studios\": [\"New Line Cinema\"]}, {\"id\": 2756, \"title\": \"The Abyss\", \"runtime\": 139, \"revenue\": 90000098, \"vote_average\": 3.67, \"genres\": [\"Action\", \"Science Fiction\"], \"studios\": [\"Lightstorm Entertainment\"]}, {\"id\": 2768, \"title\": \"American Gigolo\", \"runtime\": 117, \"revenue\": 22743674, \"vote_average\": 3.05, \"genres\": [\"Romance\", \"Drama\"], \"studios\": [\"Paramount Pictures\"]}, {\"id\": 2800, \"title\": \"Rumor Has It...\", \"runtime\": 97, \"revenue\": 88933562, \"vote_average\": 2.85, \"genres\": [\"Comedy\"], \"studios\": [\"Warner Bros.\"]}, {\"id\": 2900, \"title\": \"The Astronaut's Wife\", \"runtime\": 109, \"revenue\": 19598588, \"vote_average\": 2.49, \"genres\": [\"Science Fiction\", \"Drama\"], \"studios\": [\"New Line Cinema\"]}, {\"id\": 2907, \"title\": \"The Addams Family\", \"runtime\": 99, \"revenue\": 191502426, \"vote_average\": 3.19, \"genres\": [\"Horror\", \"Comedy\"], \"studios\": [\"Paramount Pictures\"]}, {\"id\": 2959, \"title\": \"License to Wed\", \"runtime\": 91, \"revenue\": 69307224, \"vote_average\": 2.65, \"genres\": [\"Comedy\"], \"studios\": [\"Warner Bros.\"]}, {\"id\": 2976, \"title\": \"Hairspray\", \"runtime\": 117, \"revenue\": 90450008, \"vote_average\": 3.34, \"genres\": [\"Romance\", \"Comedy\"], \"studios\": [\"New Line Cinema\"]}, {\"id\": 3049, \"title\": \"Ace Ventura: Pet Detective\", \"runtime\": 86, \"revenue\": 107217396, \"vote_average\": 2.99, \"genres\": [\"Comedy\"], \"studios\": [\"Warner Bros.\"]}, {\"id\": 3175, \"title\": \"Barry Lyndon\", \"runtime\": 184, \"revenue\": 20000000, \"vote_average\": 3.8200000000000003, \"genres\": [\"War\", \"Romance\", \"Drama\"], \"studios\": [\"Warner Bros.\"]}, {\"id\": 3512, \"title\": \"Under Siege 2: Dark Territory\", \"runtime\": 100, \"revenue\": 104324083, \"vote_average\": 2.93, \"genres\": [\"Action\"], \"studios\": [\"Warner Bros.\"]}, {\"id\": 3594, \"title\": \"The Number 23\", \"runtime\": 101, \"revenue\": 77566815, \"vote_average\": 3.11, \"genres\": [\"Drama\"], \"studios\": [\"New Line Cinema\"]}, {\"id\": 3638, \"title\": \"No Reservations\", \"runtime\": 104, \"revenue\": 92601050, \"vote_average\": 3.27, \"genres\": [\"Comedy\"], \"studios\": [\"Warner Bros.\"]}, {\"id\": 3683, \"title\": \"Flags of Our Fathers\", \"runtime\": 132, \"revenue\": 65900249, \"vote_average\": 3.49, \"genres\": [\"War\", \"Drama\", \"History\"], \"studios\": [\"DreamWorks SKG\", \"Warner Bros.\"]}, {\"id\": 3933, \"title\": \"Corpse Bride\", \"runtime\": 77, \"revenue\": 117195061, \"vote_average\": 3.56, \"genres\": [\"Animation\", \"Romance\"], \"studios\": [\"Warner Bros.\"]}, {\"id\": 3980, \"title\": \"Critters\", \"runtime\": 82, \"revenue\": 13167232, \"vote_average\": 2.74, \"genres\": [\"Action\", \"Horror\", \"Science Fiction\", \"Comedy\"], \"studios\": [\"New Line Cinema\"]}, {\"id\": 3981, \"title\": \"What Women Want\", \"runtime\": 127, \"revenue\": 374111707, \"vote_average\": 3.11, \"genres\": [\"Romance\", \"Comedy\"], \"studios\": [\"Paramount Pictures\"]}, {\"id\": 3989, \"title\": \"Team America: World Police\", \"runtime\": 98, \"revenue\": 50907422, \"vote_average\": 3.46, \"genres\": [\"Animation\", \"Comedy\", \"Action\"], \"studios\": [\"Paramount Pictures\"]}, {\"id\": 4011, \"title\": \"Beetlejuice\", \"runtime\": 92, \"revenue\": 73326666, \"vote_average\": 3.47, \"genres\": [\"Comedy\"], \"studios\": [\"Warner Bros.\"]}, {\"id\": 4105, \"title\": \"Black Rain\", \"runtime\": 125, \"revenue\": 45892212, \"vote_average\": 3.13, \"genres\": [\"Action\"], \"studios\": [\"Paramount Pictures\"]}, {\"id\": 4108, \"title\": \"The Transporter\", \"runtime\": 92, \"revenue\": 43928932, \"vote_average\": 3.36, \"genres\": [\"Action\"], \"studios\": [\"Canal+\"]}, {\"id\": 4133, \"title\": \"Blow\", \"runtime\": 124, \"revenue\": 83282296, \"vote_average\": 3.73, \"genres\": [\"Drama\"], \"studios\": [\"New Line Cinema\"]}, {\"id\": 4141, \"title\": \"Shoot 'Em Up\", \"runtime\": 86, \"revenue\": 26820641, \"vote_average\": 3.29, \"genres\": [\"Action\", \"Comedy\"], \"studios\": [\"New Line Cinema\"]}, {\"id\": 4147, \"title\": \"Road to Perdition\", \"runtime\": 117, \"revenue\": 181001478, \"vote_average\": 3.68, \"genres\": [\"Drama\"], \"studios\": [\"DreamWorks SKG\"]}, {\"id\": 4148, \"title\": \"Revolutionary Road\", \"runtime\": 119, \"revenue\": 75225693, \"vote_average\": 3.52, \"genres\": [\"Romance\", \"Drama\"], \"studios\": [\"DreamWorks SKG\"]}, {\"id\": 4244, \"title\": \"The Kid\", \"runtime\": 104, \"revenue\": 69700000, \"vote_average\": 3.12, \"genres\": [\"Comedy\"], \"studios\": [\"Walt Disney Pictures\"]}, {\"id\": 4379, \"title\": \"Monster-in-Law\", \"runtime\": 101, \"revenue\": 154749918, \"vote_average\": 2.76, \"genres\": [\"Romance\", \"Comedy\"], \"studios\": [\"New Line Cinema\"]}, {\"id\": 4413, \"title\": \"The Brave One\", \"runtime\": 122, \"revenue\": 69766619, \"vote_average\": 3.3, \"genres\": [\"Drama\"], \"studios\": [\"Warner Bros.\"]}, {\"id\": 4478, \"title\": \"Indecent Proposal\", \"runtime\": 117, \"revenue\": 266614059, \"vote_average\": 2.85, \"genres\": [\"Drama\"], \"studios\": [\"Paramount Pictures\"]}, {\"id\": 4488, \"title\": \"Friday the 13th\", \"runtime\": 95, \"revenue\": 59754601, \"vote_average\": 2.89, \"genres\": [\"Horror\"], \"studios\": [\"Paramount Pictures\"]}, {\"id\": 4512, \"title\": \"The Assassination of Jesse James by the Coward Robert Ford\", \"runtime\": 160, \"revenue\": 14711793, \"vote_average\": 3.63, \"genres\": [\"Action\", \"Drama\"], \"studios\": [\"Warner Bros.\"]}, {\"id\": 4523, \"title\": \"Enchanted\", \"runtime\": 107, \"revenue\": 340487652, \"vote_average\": 3.52, \"genres\": [\"Romance\", \"Comedy\"], \"studios\": [\"Walt Disney Pictures\"]}, {\"id\": 4564, \"title\": \"Sex and the City\", \"runtime\": 145, \"revenue\": 415252786, \"vote_average\": 2.8200000000000003, \"genres\": [\"Romance\", \"Comedy\", \"Drama\"], \"studios\": [\"New Line Cinema\"]}, {\"id\": 4614, \"title\": \"The Sum of All Fears\", \"runtime\": 124, \"revenue\": 193000000, \"vote_average\": 3.21, \"genres\": [\"Action\", \"Drama\"], \"studios\": [\"Paramount Pictures\"]}, {\"id\": 4722, \"title\": \"Body Snatchers\", \"runtime\": 87, \"revenue\": 428868, \"vote_average\": 3.11, \"genres\": [\"Horror\", \"Science Fiction\"], \"studios\": [\"Warner Bros.\"]}, {\"id\": 4806, \"title\": \"Runaway Bride\", \"runtime\": 116, \"revenue\": 309457509, \"vote_average\": 2.87, \"genres\": [\"Romance\", \"Comedy\"], \"studios\": [\"Paramount Pictures\"]}, {\"id\": 4858, \"title\": \"The Invasion\", \"runtime\": 99, \"revenue\": 15071514, \"vote_average\": 3.01, \"genres\": [\"Science Fiction\"], \"studios\": [\"Warner Bros.\"]}, {\"id\": 4922, \"title\": \"The Curious Case of Benjamin Button\", \"runtime\": 166, \"revenue\": 333932083, \"vote_average\": 3.61, \"genres\": [\"Romance\", \"Drama\"], \"studios\": [\"Warner Bros.\", \"Paramount Pictures\"]}, {\"id\": 4958, \"title\": \"The Legend of Bagger Vance\", \"runtime\": 126, \"revenue\": 39459427, \"vote_average\": 3.2, \"genres\": [\"Drama\"], \"studios\": [\"DreamWorks SKG\"]}, {\"id\": 4970, \"title\": \"Gothika\", \"runtime\": 98, \"revenue\": 141591324, \"vote_average\": 2.89, \"genres\": [\"Horror\"], \"studios\": [\"Warner Bros.\"]}, {\"id\": 4995, \"title\": \"Boogie Nights\", \"runtime\": 155, \"revenue\": 43101594, \"vote_average\": 3.68, \"genres\": [\"Drama\"], \"studios\": [\"New Line Cinema\"]}, {\"id\": 5123, \"title\": \"August Rush\", \"runtime\": 114, \"revenue\": 66122026, \"vote_average\": 3.62, \"genres\": [\"Drama\"], \"studios\": [\"Warner Bros.\"]}, {\"id\": 5137, \"title\": \"Sky Captain and the World of Tomorrow\", \"runtime\": 107, \"revenue\": 57958696, \"vote_average\": 3.04, \"genres\": [\"Action\", \"Science Fiction\"], \"studios\": [\"Paramount Pictures\"]}, {\"id\": 5174, \"title\": \"Rush Hour 3\", \"runtime\": 91, \"revenue\": 258022233, \"vote_average\": 3.07, \"genres\": [\"Action\", \"Comedy\"], \"studios\": [\"New Line Cinema\"]}, {\"id\": 5175, \"title\": \"Rush Hour 2\", \"runtime\": 90, \"revenue\": 347325802, \"vote_average\": 3.23, \"genres\": [\"Action\", \"Comedy\"], \"studios\": [\"New Line Cinema\"]}, {\"id\": 5236, \"title\": \"Kiss Kiss Bang Bang\", \"runtime\": 103, \"revenue\": 15785148, \"vote_average\": 3.85, \"genres\": [\"Action\", \"Comedy\"], \"studios\": [\"Warner Bros.\"]}, {\"id\": 5375, \"title\": \"Fred Claus\", \"runtime\": 116, \"revenue\": 97838349, \"vote_average\": 2.64, \"genres\": [\"Action\", \"Comedy\", \"Drama\"], \"studios\": [\"Warner Bros.\"]}, {\"id\": 5491, \"title\": \"Battlefield Earth\", \"runtime\": 118, \"revenue\": 21400000, \"vote_average\": 1.6099999999999999, \"genres\": [\"Action\", \"War\", \"Science Fiction\"], \"studios\": [\"Warner Bros.\"]}, {\"id\": 5503, \"title\": \"The Fugitive\", \"runtime\": 130, \"revenue\": 368875760, \"vote_average\": 3.98, \"genres\": [\"Action\"], \"studios\": [\"Warner Bros.\"]}, {\"id\": 5551, \"title\": \"Space Cowboys\", \"runtime\": 130, \"revenue\": 128884132, \"vote_average\": 3.09, \"genres\": [\"Action\"], \"studios\": [\"Warner Bros.\"]}, {\"id\": 5559, \"title\": \"Bee Movie\", \"runtime\": 91, \"revenue\": 287594577, \"vote_average\": 2.87, \"genres\": [\"Animation\", \"Comedy\"], \"studios\": [\"DreamWorks Animation\"]}, {\"id\": 5683, \"title\": \"Pee-wee's Big Adventure\", \"runtime\": 90, \"revenue\": 40940662, \"vote_average\": 3.23, \"genres\": [\"Comedy\"], \"studios\": [\"Warner Bros.\"]}, {\"id\": 5825, \"title\": \"National Lampoon's Christmas Vacation\", \"runtime\": 97, \"revenue\": 71320000, \"vote_average\": 3.61, \"genres\": [\"Comedy\"], \"studios\": [\"Warner Bros.\"]}, {\"id\": 5851, \"title\": \"Showtime\", \"runtime\": 95, \"revenue\": 77741732, \"vote_average\": 2.74, \"genres\": [\"Action\", \"Comedy\"], \"studios\": [\"Warner Bros.\"]}, {\"id\": 5919, \"title\": \"The Towering Inferno\", \"runtime\": 159, \"revenue\": 116000000, \"vote_average\": 3.01, \"genres\": [\"Action\"], \"studios\": [\"Warner Bros.\"]}, {\"id\": 6073, \"title\": \"The Mexican\", \"runtime\": 123, \"revenue\": 147845033, \"vote_average\": 3.03, \"genres\": [\"Action\", \"Romance\", \"Comedy\"], \"studios\": [\"DreamWorks SKG\"]}, {\"id\": 6312, \"title\": \"Brotherhood of the Wolf\", \"runtime\": 137, \"revenue\": 70752904, \"vote_average\": 3.46, \"genres\": [\"Action\", \"Horror\", \"History\"], \"studios\": [\"Canal+\"]}, {\"id\": 6415, \"title\": \"Three Kings\", \"runtime\": 114, \"revenue\": 108000000, \"vote_average\": 3.59, \"genres\": [\"Action\", \"Comedy\"], \"studios\": [\"Warner Bros.\"]}, {\"id\": 6435, \"title\": \"Practical Magic\", \"runtime\": 104, \"revenue\": 46683377, \"vote_average\": 3.09, \"genres\": [\"Comedy\", \"Drama\"], \"studios\": [\"Warner Bros.\"]}, {\"id\": 6466, \"title\": \"Freddy vs. Jason\", \"runtime\": 97, \"revenue\": 114908830, \"vote_average\": 2.49, \"genres\": [\"Horror\"], \"studios\": [\"New Line Cinema\"]}, {\"id\": 6519, \"title\": \"The Dukes of Hazzard\", \"runtime\": 104, \"revenue\": 110803676, \"vote_average\": 2.49, \"genres\": [\"Action\", \"Comedy\"], \"studios\": [\"Warner Bros.\"]}, {\"id\": 6637, \"title\": \"National Treasure: Book of Secrets\", \"runtime\": 124, \"revenue\": 457363168, \"vote_average\": 3.26, \"genres\": [\"Action\"], \"studios\": [\"Walt Disney Pictures\"]}, {\"id\": 6723, \"title\": \"The Rookie\", \"runtime\": 120, \"revenue\": 21633874, \"vote_average\": 2.89, \"genres\": [\"Action\", \"Drama\"], \"studios\": [\"Warner Bros.\"]}, {\"id\": 6877, \"title\": \"Failure to Launch\", \"runtime\": 97, \"revenue\": 128406887, \"vote_average\": 2.87, \"genres\": [\"Comedy\"], \"studios\": [\"Paramount Pictures\"]}, {\"id\": 6950, \"title\": \"Outbreak\", \"runtime\": 127, \"revenue\": 189859560, \"vote_average\": 3.42, \"genres\": [\"Action\", \"Science Fiction\", \"Drama\"], \"studios\": [\"Warner Bros.\"]}, {\"id\": 6963, \"title\": \"The Weather Man\", \"runtime\": 101, \"revenue\": 12482775, \"vote_average\": 3.19, \"genres\": [\"Comedy\", \"Drama\"], \"studios\": [\"Paramount Pictures\"]}, {\"id\": 6964, \"title\": \"Something's Gotta Give\", \"runtime\": 128, \"revenue\": 266728738, \"vote_average\": 3.47, \"genres\": [\"Romance\", \"Comedy\", \"Drama\"], \"studios\": [\"Warner Bros.\"]}, {\"id\": 7191, \"title\": \"Cloverfield\", \"runtime\": 85, \"revenue\": 170764026, \"vote_average\": 3.31, \"genres\": [\"Action\", \"Science Fiction\"], \"studios\": [\"Paramount Pictures\"]}, {\"id\": 7214, \"title\": \"Coach Carter\", \"runtime\": 136, \"revenue\": 76669806, \"vote_average\": 3.64, \"genres\": [\"Drama\"], \"studios\": [\"Paramount Pictures\"]}, {\"id\": 7270, \"title\": \"Matchstick Men\", \"runtime\": 116, \"revenue\": 65565672, \"vote_average\": 3.65, \"genres\": [\"Comedy\", \"Drama\"], \"studios\": [\"Warner Bros.\"]}, {\"id\": 7305, \"title\": \"Alive\", \"runtime\": 120, \"revenue\": 36733909, \"vote_average\": 3.43, \"genres\": [\"Action\", \"Drama\"], \"studios\": [\"Paramount Pictures\"]}, {\"id\": 7364, \"title\": \"Sahara\", \"runtime\": 124, \"revenue\": 119269486, \"vote_average\": 3.05, \"genres\": [\"Action\", \"Comedy\", \"Drama\"], \"studios\": [\"Paramount Pictures\"]}, {\"id\": 7443, \"title\": \"Chicken Run\", \"runtime\": 84, \"revenue\": 224834564, \"vote_average\": 3.52, \"genres\": [\"Animation\", \"Comedy\"], \"studios\": [\"DreamWorks SKG\", \"DreamWorks Animation\"]}, {\"id\": 7446, \"title\": \"Tropic Thunder\", \"runtime\": 107, \"revenue\": 188072649, \"vote_average\": 3.37, \"genres\": [\"Action\", \"Comedy\"], \"studios\": [\"DreamWorks SKG\"]}, {\"id\": 7459, \"title\": \"Speed Racer\", \"runtime\": 135, \"revenue\": 93945766, \"vote_average\": 3.01, \"genres\": [\"Action\", \"Science Fiction\"], \"studios\": [\"Warner Bros.\"]}, {\"id\": 7485, \"title\": \"Shooter\", \"runtime\": 124, \"revenue\": 95696996, \"vote_average\": 3.62, \"genres\": [\"Action\", \"Drama\"], \"studios\": [\"Paramount Pictures\"]}, {\"id\": 7518, \"title\": \"Over the Hedge\", \"runtime\": 83, \"revenue\": 343397247, \"vote_average\": 3.32, \"genres\": [\"Animation\", \"Comedy\"], \"studios\": [\"DreamWorks Animation\"]}, {\"id\": 7840, \"title\": \"10,000 BC\", \"runtime\": 109, \"revenue\": 266000000, \"vote_average\": 2.5300000000000002, \"genres\": [\"Action\", \"Drama\"], \"studios\": [\"Warner Bros.\"]}, {\"id\": 7979, \"title\": \"The Kite Runner\", \"runtime\": 128, \"revenue\": 73276047, \"vote_average\": 3.7800000000000002, \"genres\": [\"Drama\"], \"studios\": [\"DreamWorks SKG\"]}, {\"id\": 7980, \"title\": \"The Lovely Bones\", \"runtime\": 136, \"revenue\": 93525586, \"vote_average\": 3.18, \"genres\": [\"Drama\"], \"studios\": [\"DreamWorks SKG\"]}, {\"id\": 8051, \"title\": \"Punch-Drunk Love\", \"runtime\": 95, \"revenue\": 17000000, \"vote_average\": 3.54, \"genres\": [\"Romance\", \"Comedy\", \"Drama\"], \"studios\": [\"New Line Cinema\"]}, {\"id\": 8069, \"title\": \"Barbarella\", \"runtime\": 98, \"revenue\": 2500000, \"vote_average\": 2.98, \"genres\": [\"Science Fiction\"], \"studios\": [\"Paramount Pictures\"]}, {\"id\": 8193, \"title\": \"Napoleon Dynamite\", \"runtime\": 95, \"revenue\": 46118097, \"vote_average\": 3.34, \"genres\": [\"Comedy\"], \"studios\": [\"Paramount Pictures\"]}, {\"id\": 8197, \"title\": \"Midnight in the Garden of Good and Evil\", \"runtime\": 155, \"revenue\": 25105255, \"vote_average\": 3.26, \"genres\": [\"Drama\"], \"studios\": [\"Warner Bros.\"]}, {\"id\": 8202, \"title\": \"\\u00c6on Flux\", \"runtime\": 93, \"revenue\": 52304001, \"vote_average\": 2.92, \"genres\": [\"Action\", \"Science Fiction\"], \"studios\": [\"Paramount Pictures\"]}, {\"id\": 8265, \"title\": \"Welcome to the Sticks\", \"runtime\": 106, \"revenue\": 53191886, \"vote_average\": 3.63, \"genres\": [\"Comedy\"], \"studios\": [\"Canal+\"]}, {\"id\": 8271, \"title\": \"Disturbia\", \"runtime\": 105, \"revenue\": 117760134, \"vote_average\": 3.29, \"genres\": [\"Drama\"], \"studios\": [\"DreamWorks SKG\", \"Paramount Pictures\"]}, {\"id\": 8292, \"title\": \"Four Brothers\", \"runtime\": 109, \"revenue\": 92374674, \"vote_average\": 3.35, \"genres\": [\"Action\"], \"studios\": [\"Paramount Pictures\"]}, {\"id\": 8358, \"title\": \"Cast Away\", \"runtime\": 143, \"revenue\": 429632142, \"vote_average\": 3.64, \"genres\": [\"Drama\"], \"studios\": [\"DreamWorks SKG\"]}, {\"id\": 8409, \"title\": \"A Man Apart\", \"runtime\": 109, \"revenue\": 44350926, \"vote_average\": 2.86, \"genres\": [\"Action\", \"Drama\"], \"studios\": [\"New Line Cinema\"]}, {\"id\": 8413, \"title\": \"Event Horizon\", \"runtime\": 96, \"revenue\": 26673242, \"vote_average\": 2.96, \"genres\": [\"Horror\", \"Science Fiction\"], \"studios\": [\"Paramount Pictures\"]}, {\"id\": 8467, \"title\": \"Dumb and Dumber\", \"runtime\": 107, \"revenue\": 247275374, \"vote_average\": 2.95, \"genres\": [\"Comedy\"], \"studios\": [\"New Line Cinema\"]}, {\"id\": 8470, \"title\": \"John Q\", \"runtime\": 116, \"revenue\": 102244770, \"vote_average\": 3.38, \"genres\": [\"Drama\"], \"studios\": [\"New Line Cinema\"]}, {\"id\": 8487, \"title\": \"Wild Wild West\", \"runtime\": 106, \"revenue\": 222104681, \"vote_average\": 2.32, \"genres\": [\"Action\", \"Science Fiction\", \"Comedy\"], \"studios\": [\"Warner Bros.\"]}, {\"id\": 8536, \"title\": \"Superman II\", \"runtime\": 127, \"revenue\": 190458706, \"vote_average\": 3.09, \"genres\": [\"Action\", \"Science Fiction\"], \"studios\": [\"Warner Bros.\"]}, {\"id\": 8656, \"title\": \"Deep Impact\", \"runtime\": 120, \"revenue\": 140464664, \"vote_average\": 2.95, \"genres\": [\"Action\", \"Romance\", \"Drama\"], \"studios\": [\"DreamWorks SKG\", \"Paramount Pictures\"]}, {\"id\": 8665, \"title\": \"K-19: The Widowmaker\", \"runtime\": 138, \"revenue\": 35168966, \"vote_average\": 3.24, \"genres\": [\"Drama\", \"History\"], \"studios\": [\"Paramount Pictures\"]}, {\"id\": 8676, \"title\": \"Fool's Gold\", \"runtime\": 112, \"revenue\": 111231041, \"vote_average\": 2.95, \"genres\": [\"Romance\", \"Comedy\"], \"studios\": [\"Warner Bros.\"]}, {\"id\": 8681, \"title\": \"Taken\", \"runtime\": 93, \"revenue\": 226830568, \"vote_average\": 3.7800000000000002, \"genres\": [\"Action\"], \"studios\": [\"Canal+\"]}, {\"id\": 8764, \"title\": \"Top Secret!\", \"runtime\": 90, \"revenue\": 20458340, \"vote_average\": 3.59, \"genres\": [\"Comedy\"], \"studios\": [\"Paramount Pictures\"]}, {\"id\": 8834, \"title\": \"Conspiracy Theory\", \"runtime\": 135, \"revenue\": 136982834, \"vote_average\": 3.33, \"genres\": [\"Action\", \"Drama\"], \"studios\": [\"Warner Bros.\"]}, {\"id\": 8843, \"title\": \"The Cell\", \"runtime\": 107, \"revenue\": 104155843, \"vote_average\": 3.02, \"genres\": [\"Horror\", \"Science Fiction\"], \"studios\": [\"New Line Cinema\"]}, {\"id\": 8845, \"title\": \"Under Siege\", \"runtime\": 103, \"revenue\": 156563139, \"vote_average\": 3.12, \"genres\": [\"Action\"], \"studios\": [\"Warner Bros.\", \"Canal+\"]}, {\"id\": 8849, \"title\": \"Alfie\", \"runtime\": 103, \"revenue\": 13395939, \"vote_average\": 2.93, \"genres\": [\"Comedy\"], \"studios\": [\"Paramount Pictures\"]}, {\"id\": 8870, \"title\": \"Red Planet\", \"runtime\": 106, \"revenue\": 33463969, \"vote_average\": 2.77, \"genres\": [\"Action\", \"Science Fiction\"], \"studios\": [\"Warner Bros.\"]}, {\"id\": 8872, \"title\": \"Wayne's World\", \"runtime\": 94, \"revenue\": 121697323, \"vote_average\": 3.45, \"genres\": [\"Comedy\"], \"studios\": [\"Paramount Pictures\"]}, {\"id\": 8913, \"title\": \"Pet Sematary\", \"runtime\": 103, \"revenue\": 57469467, \"vote_average\": 3.02, \"genres\": [\"Horror\", \"Drama\"], \"studios\": [\"Paramount Pictures\"]}, {\"id\": 8914, \"title\": \"Deep Blue Sea\", \"runtime\": 105, \"revenue\": 73648228, \"vote_average\": 2.69, \"genres\": [\"Action\", \"Science Fiction\"], \"studios\": [\"Warner Bros.\"]}, {\"id\": 8916, \"title\": \"Antz\", \"runtime\": 83, \"revenue\": 171757863, \"vote_average\": 3.25, \"genres\": [\"Animation\", \"Comedy\"], \"studios\": [\"DreamWorks SKG\", \"DreamWorks Animation\"]}, {\"id\": 8984, \"title\": \"Disclosure\", \"runtime\": 123, \"revenue\": 214015089, \"vote_average\": 3.29, \"genres\": [\"Romance\", \"Drama\"], \"studios\": [\"Warner Bros.\"]}, {\"id\": 9007, \"title\": \"Just Like Heaven\", \"runtime\": 95, \"revenue\": 102854431, \"vote_average\": 3.48, \"genres\": [\"Romance\", \"Comedy\"], \"studios\": [\"DreamWorks SKG\"]}, {\"id\": 9012, \"title\": \"Jackass: The Movie\", \"runtime\": 87, \"revenue\": 64282312, \"vote_average\": 2.92, \"genres\": [\"Comedy\"], \"studios\": [\"Paramount Pictures\"]}, {\"id\": 9016, \"title\": \"Treasure Planet\", \"runtime\": 95, \"revenue\": 109578115, \"vote_average\": 3.43, \"genres\": [\"Animation\", \"Science Fiction\"], \"studios\": [\"Walt Disney Pictures\"]}, {\"id\": 9021, \"title\": \"The Santa Clause 2\", \"runtime\": 104, \"revenue\": 172855065, \"vote_average\": 2.69, \"genres\": [\"Comedy\"], \"studios\": [\"Walt Disney Pictures\"]}, {\"id\": 9023, \"title\": \"Spirit: Stallion of the Cimarron\", \"runtime\": 83, \"revenue\": 122563539, \"vote_average\": 3.11, \"genres\": [\"Animation\", \"Comedy\"], \"studios\": [\"DreamWorks SKG\", \"DreamWorks Animation\"]}, {\"id\": 9036, \"title\": \"Eight Below\", \"runtime\": 120, \"revenue\": 120455994, \"vote_average\": 3.38, \"genres\": [\"Drama\"], \"studios\": [\"Walt Disney Pictures\"]}, {\"id\": 9037, \"title\": \"Grease 2\", \"runtime\": 115, \"revenue\": 15171476, \"vote_average\": 1.99, \"genres\": [\"Romance\", \"Comedy\", \"Drama\"], \"studios\": [\"Paramount Pictures\"]}, {\"id\": 9040, \"title\": \"Serpico\", \"runtime\": 129, \"revenue\": 29800000, \"vote_average\": 3.92, \"genres\": [\"Drama\", \"History\"], \"studios\": [\"Paramount Pictures\"]}, {\"id\": 9062, \"title\": \"Love Story\", \"runtime\": 99, \"revenue\": 136400000, \"vote_average\": 3.2, \"genres\": [\"Romance\", \"Drama\"], \"studios\": [\"Paramount Pictures\"]}, {\"id\": 9093, \"title\": \"The Four Feathers\", \"runtime\": 132, \"revenue\": 29882645, \"vote_average\": 3.09, \"genres\": [\"War\", \"Romance\", \"Drama\"], \"studios\": [\"Paramount Pictures\"]}, {\"id\": 9268, \"title\": \"Eraser\", \"runtime\": 115, \"revenue\": 242295562, \"vote_average\": 3.17, \"genres\": [\"Action\", \"Drama\"], \"studios\": [\"Warner Bros.\"]}, {\"id\": 9271, \"title\": \"Virtuosity\", \"runtime\": 106, \"revenue\": 24048000, \"vote_average\": 2.99, \"genres\": [\"Action\", \"Science Fiction\"], \"studios\": [\"Paramount Pictures\"]}, {\"id\": 9273, \"title\": \"Ace Ventura: When Nature Calls\", \"runtime\": 90, \"revenue\": 212385533, \"vote_average\": 2.63, \"genres\": [\"Comedy\"], \"studios\": [\"Warner Bros.\"]}, {\"id\": 9281, \"title\": \"Witness\", \"runtime\": 113, \"revenue\": 68706993, \"vote_average\": 3.83, \"genres\": [\"Romance\", \"Drama\"], \"studios\": [\"Paramount Pictures\"]}, {\"id\": 9285, \"title\": \"Road Trip\", \"runtime\": 93, \"revenue\": 119754278, \"vote_average\": 3.14, \"genres\": [\"Comedy\"], \"studios\": [\"DreamWorks SKG\"]}, {\"id\": 9286, \"title\": \"Final Destination 3\", \"runtime\": 93, \"revenue\": 117719158, \"vote_average\": 2.77, \"genres\": [\"Horror\"], \"studios\": [\"New Line Cinema\"]}, {\"id\": 9291, \"title\": \"The Longest Yard\", \"runtime\": 113, \"revenue\": 190320568, \"vote_average\": 3.09, \"genres\": [\"Comedy\", \"Drama\"], \"studios\": [\"Paramount Pictures\"]}, {\"id\": 9306, \"title\": \"The Island of Dr. Moreau\", \"runtime\": 96, \"revenue\": 49627779, \"vote_average\": 2.5, \"genres\": [\"Horror\", \"Science Fiction\"], \"studios\": [\"New Line Cinema\"]}, {\"id\": 9312, \"title\": \"Mortal Kombat\", \"runtime\": 101, \"revenue\": 122195920, \"vote_average\": 2.63, \"genres\": [\"Action\"], \"studios\": [\"New Line Cinema\"]}, {\"id\": 9319, \"title\": \"The Last Boy Scout\", \"runtime\": 105, \"revenue\": 59509925, \"vote_average\": 3.31, \"genres\": [\"Action\"], \"studios\": [\"Warner Bros.\"]}, {\"id\": 9325, \"title\": \"The Jungle Book\", \"runtime\": 78, \"revenue\": 205843612, \"vote_average\": 3.63, \"genres\": [\"Animation\"], \"studios\": [\"Walt Disney Pictures\"]}, {\"id\": 9331, \"title\": \"Clear and Present Danger\", \"runtime\": 141, \"revenue\": 215887717, \"vote_average\": 3.67, \"genres\": [\"Action\", \"Drama\"], \"studios\": [\"Paramount Pictures\"]}, {\"id\": 9333, \"title\": \"Last Man Standing\", \"runtime\": 101, \"revenue\": 47267001, \"vote_average\": 3.01, \"genres\": [\"Action\", \"Drama\"], \"studios\": [\"New Line Cinema\"]}, {\"id\": 9335, \"title\": \"Transporter 2\", \"runtime\": 87, \"revenue\": 85167639, \"vote_average\": 3.17, \"genres\": [\"Action\"], \"studios\": [\"Canal+\"]}, {\"id\": 9336, \"title\": \"Police Academy\", \"runtime\": 96, \"revenue\": 146198896, \"vote_average\": 2.96, \"genres\": [\"Comedy\"], \"studios\": [\"Warner Bros.\"]}, {\"id\": 9340, \"title\": \"The Goonies\", \"runtime\": 114, \"revenue\": 61503218, \"vote_average\": 3.62, \"genres\": [\"Comedy\"], \"studios\": [\"Warner Bros.\"]}, {\"id\": 9341, \"title\": \"The Core\", \"runtime\": 136, \"revenue\": 74208267, \"vote_average\": 2.6, \"genres\": [\"Action\", \"Science Fiction\"], \"studios\": [\"Paramount Pictures\"]}, {\"id\": 9350, \"title\": \"Cliffhanger\", \"runtime\": 112, \"revenue\": 255000211, \"vote_average\": 3.07, \"genres\": [\"Action\"], \"studios\": [\"Canal+\"]}, {\"id\": 9352, \"title\": \"EuroTrip\", \"runtime\": 93, \"revenue\": 20796847, \"vote_average\": 3.2800000000000002, \"genres\": [\"Comedy\"], \"studios\": [\"DreamWorks SKG\"]}, {\"id\": 9353, \"title\": \"Nacho Libre\", \"runtime\": 92, \"revenue\": 80197993, \"vote_average\": 2.71, \"genres\": [\"Comedy\"], \"studios\": [\"Paramount Pictures\"]}, {\"id\": 9358, \"title\": \"Final Destination 2\", \"runtime\": 90, \"revenue\": 90426405, \"vote_average\": 2.9, \"genres\": [\"Horror\"], \"studios\": [\"New Line Cinema\"]}, {\"id\": 9373, \"title\": \"The Texas Chainsaw Massacre\", \"runtime\": 98, \"revenue\": 107071655, \"vote_average\": 2.77, \"genres\": [\"Horror\"], \"studios\": [\"New Line Cinema\"]}, {\"id\": 9377, \"title\": \"Ferris Bueller's Day Off\", \"runtime\": 103, \"revenue\": 70136369, \"vote_average\": 3.93, \"genres\": [\"Comedy\"], \"studios\": [\"Paramount Pictures\"]}, {\"id\": 9381, \"title\": \"Babylon A.D.\", \"runtime\": 101, \"revenue\": 72108608, \"vote_average\": 2.89, \"genres\": [\"Action\", \"Science Fiction\"], \"studios\": [\"Canal+\"]}, {\"id\": 9384, \"title\": \"Starsky & Hutch\", \"runtime\": 101, \"revenue\": 170268750, \"vote_average\": 2.96, \"genres\": [\"Comedy\"], \"studios\": [\"Warner Bros.\"]}, {\"id\": 9395, \"title\": \"Above the Law\", \"runtime\": 99, \"revenue\": 18869631, \"vote_average\": 2.81, \"genres\": [\"Action\", \"Drama\"], \"studios\": [\"Warner Bros.\"]}, {\"id\": 9397, \"title\": \"Evolution\", \"runtime\": 101, \"revenue\": 98376292, \"vote_average\": 2.89, \"genres\": [\"Action\", \"Science Fiction\", \"Comedy\"], \"studios\": [\"DreamWorks SKG\"]}, {\"id\": 9398, \"title\": \"Zoolander\", \"runtime\": 89, \"revenue\": 60780981, \"vote_average\": 3.24, \"genres\": [\"Comedy\"], \"studios\": [\"Paramount Pictures\"]}, {\"id\": 9403, \"title\": \"Private Parts\", \"runtime\": 109, \"revenue\": 41230799, \"vote_average\": 3.34, \"genres\": [\"Comedy\", \"Drama\"], \"studios\": [\"Paramount Pictures\"]}, {\"id\": 9414, \"title\": \"The Man Who Knew Too Little\", \"runtime\": 97, \"revenue\": 13801755, \"vote_average\": 3.23, \"genres\": [\"Action\", \"Comedy\"], \"studios\": [\"Warner Bros.\"]}, {\"id\": 9422, \"title\": \"A Civil Action\", \"runtime\": 115, \"revenue\": 56702901, \"vote_average\": 3.34, \"genres\": [\"Drama\"], \"studios\": [\"Paramount Pictures\"]}, {\"id\": 9425, \"title\": \"Soldier\", \"runtime\": 99, \"revenue\": 14567883, \"vote_average\": 2.86, \"genres\": [\"Action\", \"War\", \"Science Fiction\"], \"studios\": [\"Warner Bros.\"]}, {\"id\": 9429, \"title\": \"A Night at the Roxbury\", \"runtime\": 81, \"revenue\": 30331165, \"vote_average\": 2.69, \"genres\": [\"Comedy\"], \"studios\": [\"Paramount Pictures\"]}, {\"id\": 9437, \"title\": \"Kiss the Girls\", \"runtime\": 115, \"revenue\": 60527873, \"vote_average\": 3.38, \"genres\": [\"Drama\"], \"studios\": [\"Paramount Pictures\"]}, {\"id\": 9443, \"title\": \"Chariots of Fire\", \"runtime\": 123, \"revenue\": 58972904, \"vote_average\": 3.7, \"genres\": [\"Drama\", \"History\"], \"studios\": [\"Warner Bros.\"]}, {\"id\": 9461, \"title\": \"Enter the Dragon\", \"runtime\": 99, \"revenue\": 90000000, \"vote_average\": 3.7800000000000002, \"genres\": [\"Action\"], \"studios\": [\"Warner Bros.\"]}, {\"id\": 9487, \"title\": \"A Bug's Life\", \"runtime\": 95, \"revenue\": 363258859, \"vote_average\": 3.58, \"genres\": [\"Animation\", \"Comedy\"], \"studios\": [\"Pixar Animation Studios\", \"Walt Disney Pictures\"]}, {\"id\": 9489, \"title\": \"You've Got Mail\", \"runtime\": 119, \"revenue\": 250821495, \"vote_average\": 3.18, \"genres\": [\"Romance\", \"Comedy\"], \"studios\": [\"Warner Bros.\"]}, {\"id\": 9504, \"title\": \"Glengarry Glen Ross\", \"runtime\": 100, \"revenue\": 10725228, \"vote_average\": 3.86, \"genres\": [\"Drama\"], \"studios\": [\"New Line Cinema\"]}, {\"id\": 9516, \"title\": \"Menace II Society\", \"runtime\": 97, \"revenue\": 27900000, \"vote_average\": 3.61, \"genres\": [\"Action\", \"Drama\"], \"studios\": [\"New Line Cinema\"]}, {\"id\": 9522, \"title\": \"Wedding Crashers\", \"runtime\": 119, \"revenue\": 285176741, \"vote_average\": 3.46, \"genres\": [\"Romance\", \"Comedy\"], \"studios\": [\"New Line Cinema\"]}, {\"id\": 9531, \"title\": \"Superman III\", \"runtime\": 125, \"revenue\": 75850624, \"vote_average\": 2.48, \"genres\": [\"Action\", \"Science Fiction\", \"Comedy\"], \"studios\": [\"Warner Bros.\"]}, {\"id\": 9532, \"title\": \"Final Destination\", \"runtime\": 98, \"revenue\": 53302314, \"vote_average\": 3.11, \"genres\": [\"Horror\"], \"studios\": [\"New Line Cinema\"]}, {\"id\": 9535, \"title\": \"Analyze This\", \"runtime\": 103, \"revenue\": 176885658, \"vote_average\": 3.25, \"genres\": [\"Comedy\"], \"studios\": [\"Warner Bros.\"]}, {\"id\": 9543, \"title\": \"Prince of Persia: The Sands of Time\", \"runtime\": 116, \"revenue\": 335154643, \"vote_average\": 3.15, \"genres\": [\"Action\", \"Romance\"], \"studios\": [\"Walt Disney Pictures\"]}, {\"id\": 9549, \"title\": \"The Right Stuff\", \"runtime\": 193, \"revenue\": 21500000, \"vote_average\": 3.92, \"genres\": [\"Drama\", \"History\"], \"studios\": [\"Warner Bros.\"]}, {\"id\": 9552, \"title\": \"The Exorcist\", \"runtime\": 122, \"revenue\": 441306145, \"vote_average\": 3.73, \"genres\": [\"Horror\", \"Drama\"], \"studios\": [\"Warner Bros.\"]}, {\"id\": 9559, \"title\": \"A Perfect World\", \"runtime\": 138, \"revenue\": 135130999, \"vote_average\": 3.52, \"genres\": [\"Drama\"], \"studios\": [\"Warner Bros.\"]}, {\"id\": 9562, \"title\": \"Timeline\", \"runtime\": 116, \"revenue\": 43935763, \"vote_average\": 2.8200000000000003, \"genres\": [\"Action\", \"Science Fiction\"], \"studios\": [\"Paramount Pictures\"]}, {\"id\": 9563, \"title\": \"Any Given Sunday\", \"runtime\": 163, \"revenue\": 100230832, \"vote_average\": 3.2, \"genres\": [\"Drama\"], \"studios\": [\"Warner Bros.\"]}, {\"id\": 9569, \"title\": \"Hard to Kill\", \"runtime\": 96, \"revenue\": 47410000, \"vote_average\": 2.7, \"genres\": [\"Action\"], \"studios\": [\"Warner Bros.\"]}, {\"id\": 9573, \"title\": \"Blood Work\", \"runtime\": 110, \"revenue\": 26199517, \"vote_average\": 3.06, \"genres\": [\"Drama\"], \"studios\": [\"Warner Bros.\"]}, {\"id\": 9574, \"title\": \"Flubber\", \"runtime\": 93, \"revenue\": 177977226, \"vote_average\": 2.58, \"genres\": [\"Science Fiction\", \"Comedy\"], \"studios\": [\"Walt Disney Pictures\"]}, {\"id\": 9586, \"title\": \"The Bonfire of the Vanities\", \"runtime\": 125, \"revenue\": 15691192, \"vote_average\": 2.45, \"genres\": [\"Comedy\", \"Drama\"], \"studios\": [\"Warner Bros.\"]}, {\"id\": 9602, \"title\": \"Coming to America\", \"runtime\": 116, \"revenue\": 288752301, \"vote_average\": 3.51, \"genres\": [\"Romance\", \"Comedy\"], \"studios\": [\"Paramount Pictures\"]}, {\"id\": 9618, \"title\": \"Tango & Cash\", \"runtime\": 104, \"revenue\": 63408614, \"vote_average\": 2.79, \"genres\": [\"Action\", \"Comedy\"], \"studios\": [\"Warner Bros.\"]}, {\"id\": 9620, \"title\": \"Paycheck\", \"runtime\": 119, \"revenue\": 96269812, \"vote_average\": 3.24, \"genres\": [\"Action\", \"Science Fiction\"], \"studios\": [\"DreamWorks SKG\", \"Paramount Pictures\"]}, {\"id\": 9621, \"title\": \"Elizabethtown\", \"runtime\": 123, \"revenue\": 52034889, \"vote_average\": 3.13, \"genres\": [\"Romance\", \"Comedy\", \"Drama\"], \"studios\": [\"Paramount Pictures\"]}, {\"id\": 9624, \"title\": \"On Deadly Ground\", \"runtime\": 102, \"revenue\": 49000000, \"vote_average\": 1.98, \"genres\": [\"Action\"], \"studios\": [\"Warner Bros.\"]}, {\"id\": 9631, \"title\": \"The Negotiator\", \"runtime\": 140, \"revenue\": 44547681, \"vote_average\": 3.58, \"genres\": [\"Action\", \"Drama\"], \"studios\": [\"Warner Bros.\"]}, {\"id\": 9637, \"title\": \"Scooby-Doo\", \"runtime\": 88, \"revenue\": 275650703, \"vote_average\": 2.34, \"genres\": [\"Comedy\"], \"studios\": [\"Warner Bros.\"]}, {\"id\": 9645, \"title\": \"Ghost Ship\", \"runtime\": 91, \"revenue\": 68349884, \"vote_average\": 2.61, \"genres\": [\"Horror\"], \"studios\": [\"Warner Bros.\"]}, {\"id\": 9655, \"title\": \"She's the Man\", \"runtime\": 105, \"revenue\": 33889159, \"vote_average\": 3.32, \"genres\": [\"Romance\", \"Comedy\", \"Drama\"], \"studios\": [\"DreamWorks SKG\"]}, {\"id\": 9671, \"title\": \"Crocodile Dundee\", \"runtime\": 97, \"revenue\": 328203506, \"vote_average\": 3.13, \"genres\": [\"Comedy\"], \"studios\": [\"Paramount Pictures\"]}, {\"id\": 9691, \"title\": \"Assassins\", \"runtime\": 132, \"revenue\": 30303072, \"vote_average\": 3.16, \"genres\": [\"Action\"], \"studios\": [\"Warner Bros.\", \"Canal+\"]}, {\"id\": 9697, \"title\": \"Lady in the Water\", \"runtime\": 110, \"revenue\": 42285169, \"vote_average\": 2.8, \"genres\": [\"Drama\"], \"studios\": [\"Warner Bros.\"]}, {\"id\": 9701, \"title\": \"North Country\", \"runtime\": 126, \"revenue\": 25224242, \"vote_average\": 3.5700000000000003, \"genres\": [\"Drama\"], \"studios\": [\"Warner Bros.\"]}, {\"id\": 9705, \"title\": \"Swordfish\", \"runtime\": 99, \"revenue\": 147080413, \"vote_average\": 3.08, \"genres\": [\"Action\"], \"studios\": [\"Warner Bros.\"]}, {\"id\": 9708, \"title\": \"The Wicker Man\", \"runtime\": 102, \"revenue\": 38755073, \"vote_average\": 2.01, \"genres\": [\"Horror\"], \"studios\": [\"Warner Bros.\"]}, {\"id\": 9725, \"title\": \"Friday the 13th Part 2\", \"runtime\": 87, \"revenue\": 21722776, \"vote_average\": 2.47, \"genres\": [\"Horror\"], \"studios\": [\"Paramount Pictures\"]}, {\"id\": 9728, \"title\": \"Friday the 13th Part III\", \"runtime\": 95, \"revenue\": 36690067, \"vote_average\": 2.18, \"genres\": [\"Horror\"], \"studios\": [\"Paramount Pictures\"]}, {\"id\": 9730, \"title\": \"Friday the 13th: The Final Chapter\", \"runtime\": 91, \"revenue\": 32980880, \"vote_average\": 2.26, \"genres\": [\"Horror\"], \"studios\": [\"Paramount Pictures\"]}, {\"id\": 9731, \"title\": \"Friday the 13th: A New Beginning\", \"runtime\": 92, \"revenue\": 21930418, \"vote_average\": 2.03, \"genres\": [\"Horror\"], \"studios\": [\"Paramount Pictures\"]}, {\"id\": 9739, \"title\": \"Demolition Man\", \"runtime\": 115, \"revenue\": 159055768, \"vote_average\": 3.04, \"genres\": [\"Action\", \"Science Fiction\"], \"studios\": [\"Warner Bros.\"]}, {\"id\": 9757, \"title\": \"Norbit\", \"runtime\": 101, \"revenue\": 95673607, \"vote_average\": 1.8399999999999999, \"genres\": [\"Comedy\"], \"studios\": [\"DreamWorks SKG\"]}, {\"id\": 9759, \"title\": \"Cellular\", \"runtime\": 94, \"revenue\": 56422687, \"vote_average\": 3.08, \"genres\": [\"Action\"], \"studios\": [\"New Line Cinema\"]}, {\"id\": 9781, \"title\": \"Detroit Rock City\", \"runtime\": 95, \"revenue\": 4217115, \"vote_average\": 3.17, \"genres\": [\"Comedy\"], \"studios\": [\"New Line Cinema\"]}, {\"id\": 9823, \"title\": \"Mortal Kombat: Annihilation\", \"runtime\": 95, \"revenue\": 51376861, \"vote_average\": 2.1, \"genres\": [\"Action\", \"Science Fiction\"], \"studios\": [\"New Line Cinema\"]}, {\"id\": 9826, \"title\": \"The Phantom\", \"runtime\": 100, \"revenue\": 17300889, \"vote_average\": 2.81, \"genres\": [\"Action\"], \"studios\": [\"Paramount Pictures\"]}, {\"id\": 9833, \"title\": \"The Phantom of the Opera\", \"runtime\": 143, \"revenue\": 154648887, \"vote_average\": 3.55, \"genres\": [\"Romance\", \"Drama\"], \"studios\": [\"Warner Bros.\"]}, {\"id\": 9837, \"title\": \"The Prince of Egypt\", \"runtime\": 99, \"revenue\": 218613188, \"vote_average\": 3.43, \"genres\": [\"Animation\", \"Drama\"], \"studios\": [\"DreamWorks SKG\", \"DreamWorks Animation\"]}, {\"id\": 9869, \"title\": \"Patriot Games\", \"runtime\": 117, \"revenue\": 178051587, \"vote_average\": 3.61, \"genres\": [\"Action\", \"Drama\"], \"studios\": [\"Paramount Pictures\"]}, {\"id\": 9872, \"title\": \"Explorers\", \"runtime\": 109, \"revenue\": 9873044, \"vote_average\": 3.41, \"genres\": [\"Romance\", \"Science Fiction\"], \"studios\": [\"Paramount Pictures\"]}, {\"id\": 9880, \"title\": \"The Princess Diaries\", \"runtime\": 115, \"revenue\": 165335153, \"vote_average\": 3.19, \"genres\": [\"Romance\", \"Comedy\"], \"studios\": [\"Walt Disney Pictures\"]}, {\"id\": 9884, \"title\": \"Collateral Damage\", \"runtime\": 108, \"revenue\": 78382433, \"vote_average\": 2.6, \"genres\": [\"Action\", \"Drama\"], \"studios\": [\"Warner Bros.\"]}, {\"id\": 9890, \"title\": \"The Stepford Wives\", \"runtime\": 93, \"revenue\": 102000000, \"vote_average\": 2.67, \"genres\": [\"Action\", \"Science Fiction\", \"Comedy\"], \"studios\": [\"Paramount Pictures\"]}, {\"id\": 9896, \"title\": \"Rat Race\", \"runtime\": 112, \"revenue\": 85498534, \"vote_average\": 3.12, \"genres\": [\"Comedy\"], \"studios\": [\"Paramount Pictures\"]}, {\"id\": 9904, \"title\": \"The Wild\", \"runtime\": 94, \"revenue\": 37384046, \"vote_average\": 2.59, \"genres\": [\"Animation\"], \"studios\": [\"Walt Disney Pictures\"]}, {\"id\": 9906, \"title\": \"The Ant Bully\", \"runtime\": 88, \"revenue\": 55181129, \"vote_average\": 2.86, \"genres\": [\"Animation\", \"Comedy\"], \"studios\": [\"Warner Bros.\"]}, {\"id\": 9907, \"title\": \"Barnyard\", \"runtime\": 90, \"revenue\": 72779000, \"vote_average\": 2.59, \"genres\": [\"Animation\", \"Comedy\"], \"studios\": [\"Paramount Pictures\"]}, {\"id\": 9919, \"title\": \"How to Lose a Guy in 10 Days\", \"runtime\": 116, \"revenue\": 177371441, \"vote_average\": 3.17, \"genres\": [\"Romance\", \"Comedy\"], \"studios\": [\"Paramount Pictures\"]}, {\"id\": 9922, \"title\": \"The Postman\", \"runtime\": 177, \"revenue\": 17626234, \"vote_average\": 2.96, \"genres\": [\"Drama\"], \"studios\": [\"Warner Bros.\"]}, {\"id\": 9923, \"title\": \"Domino\", \"runtime\": 127, \"revenue\": 22944502, \"vote_average\": 3.03, \"genres\": [\"Action\"], \"studios\": [\"New Line Cinema\"]}, {\"id\": 9932, \"title\": \"Analyze That\", \"runtime\": 96, \"revenue\": 55003135, \"vote_average\": 2.8, \"genres\": [\"Comedy\"], \"studios\": [\"Warner Bros.\"]}, {\"id\": 9942, \"title\": \"Major League\", \"runtime\": 107, \"revenue\": 49797148, \"vote_average\": 3.49, \"genres\": [\"Comedy\"], \"studios\": [\"Paramount Pictures\"]}, {\"id\": 9944, \"title\": \"The Pelican Brief\", \"runtime\": 141, \"revenue\": 195268056, \"vote_average\": 3.36, \"genres\": [\"Drama\"], \"studios\": [\"Warner Bros.\"]}, {\"id\": 9982, \"title\": \"Chicken Little\", \"runtime\": 81, \"revenue\": 314432665, \"vote_average\": 2.8, \"genres\": [\"Animation\", \"Comedy\"], \"studios\": [\"Walt Disney Pictures\"]}, {\"id\": 9986, \"title\": \"Charlotte's Web\", \"runtime\": 97, \"revenue\": 144000000, \"vote_average\": 3.16, \"genres\": [\"Comedy\"], \"studios\": [\"Paramount Pictures\"]}, {\"id\": 9994, \"title\": \"The Great Mouse Detective\", \"runtime\": 74, \"revenue\": 38625550, \"vote_average\": 3.47, \"genres\": [\"Animation\", \"Comedy\"], \"studios\": [\"Walt Disney Pictures\"]}, {\"id\": 10003, \"title\": \"The Saint\", \"runtime\": 116, \"revenue\": 118063304, \"vote_average\": 3.16, \"genres\": [\"Action\", \"Romance\", \"Science Fiction\"], \"studios\": [\"Paramount Pictures\"]}, {\"id\": 10014, \"title\": \"A Nightmare on Elm Street Part 2: Freddy's Revenge\", \"runtime\": 87, \"revenue\": 29999213, \"vote_average\": 2.45, \"genres\": [\"Horror\"], \"studios\": [\"New Line Cinema\"]}, {\"id\": 10020, \"title\": \"Beauty and the Beast\", \"runtime\": 84, \"revenue\": 377350553, \"vote_average\": 3.68, \"genres\": [\"Animation\", \"Romance\"], \"studios\": [\"Walt Disney Pictures\"]}, {\"id\": 10022, \"title\": \"The Pacifier\", \"runtime\": 95, \"revenue\": 113006880, \"vote_average\": 2.73, \"genres\": [\"Action\", \"Comedy\", \"Drama\"], \"studios\": [\"Walt Disney Pictures\"]}, {\"id\": 10057, \"title\": \"The Three Musketeers\", \"runtime\": 105, \"revenue\": 53898845, \"vote_average\": 3.19, \"genres\": [\"Action\", \"Comedy\"], \"studios\": [\"Walt Disney Pictures\"]}, {\"id\": 10060, \"title\": \"Get Rich or Die Tryin'\", \"runtime\": 117, \"revenue\": 46442528, \"vote_average\": 2.86, \"genres\": [\"Drama\"], \"studios\": [\"Paramount Pictures\"]}, {\"id\": 10061, \"title\": \"Escape from L.A.\", \"runtime\": 97, \"revenue\": 42277365, \"vote_average\": 2.77, \"genres\": [\"Action\", \"Science Fiction\"], \"studios\": [\"Paramount Pictures\"]}, {\"id\": 10066, \"title\": \"House of Wax\", \"runtime\": 113, \"revenue\": 68766121, \"vote_average\": 2.39, \"genres\": [\"Horror\"], \"studios\": [\"Warner Bros.\"]}, {\"id\": 10067, \"title\": \"The Shaggy Dog\", \"runtime\": 98, \"revenue\": 61112916, \"vote_average\": 2.38, \"genres\": [\"Comedy\"], \"studios\": [\"Walt Disney Pictures\"]}, {\"id\": 10072, \"title\": \"A Nightmare on Elm Street 3: Dream Warriors\", \"runtime\": 96, \"revenue\": 44793222, \"vote_average\": 2.7199999999999998, \"genres\": [\"Horror\"], \"studios\": [\"New Line Cinema\"]}, {\"id\": 10110, \"title\": \"Empire of the Sun\", \"runtime\": 153, \"revenue\": 22238696, \"vote_average\": 3.83, \"genres\": [\"War\", \"Drama\", \"History\"], \"studios\": [\"Warner Bros.\"]}, {\"id\": 10131, \"title\": \"A Nightmare on Elm Street 4: The Dream Master\", \"runtime\": 99, \"revenue\": 72500000, \"vote_average\": 2.42, \"genres\": [\"Horror\"], \"studios\": [\"New Line Cinema\"]}, {\"id\": 10136, \"title\": \"The Golden Child\", \"runtime\": 94, \"revenue\": 79817939, \"vote_average\": 2.88, \"genres\": [\"Action\", \"Comedy\"], \"studios\": [\"Paramount Pictures\"]}, {\"id\": 10144, \"title\": \"The Little Mermaid\", \"runtime\": 83, \"revenue\": 222300000, \"vote_average\": 3.51, \"genres\": [\"Animation\"], \"studios\": [\"Walt Disney Pictures\"]}, {\"id\": 10152, \"title\": \"Dumb and Dumberer: When Harry Met Lloyd\", \"runtime\": 85, \"revenue\": 39267515, \"vote_average\": 1.77, \"genres\": [\"Comedy\"], \"studios\": [\"New Line Cinema\"]}, {\"id\": 10153, \"title\": \"Sphere\", \"runtime\": 134, \"revenue\": 13100000, \"vote_average\": 2.87, \"genres\": [\"Science Fiction\"], \"studios\": [\"Warner Bros.\"]}, {\"id\": 10160, \"title\": \"A Nightmare on Elm Street 5: The Dream Child\", \"runtime\": 89, \"revenue\": 22168359, \"vote_average\": 2.23, \"genres\": [\"Horror\"], \"studios\": [\"New Line Cinema\"]}, {\"id\": 10163, \"title\": \"The Lawnmower Man\", \"runtime\": 108, \"revenue\": 32101000, \"vote_average\": 2.74, \"genres\": [\"Horror\", \"Science Fiction\"], \"studios\": [\"New Line Cinema\"]}, {\"id\": 10184, \"title\": \"He's Just Not That Into You\", \"runtime\": 129, \"revenue\": 177259441, \"vote_average\": 3.27, \"genres\": [\"Romance\", \"Comedy\", \"Drama\"], \"studios\": [\"New Line Cinema\"]}, {\"id\": 10191, \"title\": \"How to Train Your Dragon\", \"runtime\": 98, \"revenue\": 494878759, \"vote_average\": 3.92, \"genres\": [\"Animation\"], \"studios\": [\"DreamWorks Animation\"]}, {\"id\": 10195, \"title\": \"Thor\", \"runtime\": 115, \"revenue\": 449326618, \"vote_average\": 3.39, \"genres\": [\"Action\"], \"studios\": [\"Marvel Studios\"]}, {\"id\": 10196, \"title\": \"The Last Airbender\", \"runtime\": 103, \"revenue\": 318502923, \"vote_average\": 2.09, \"genres\": [\"Action\"], \"studios\": [\"Paramount Pictures\"]}, {\"id\": 10198, \"title\": \"The Princess and the Frog\", \"runtime\": 97, \"revenue\": 267045765, \"vote_average\": 3.51, \"genres\": [\"Animation\", \"Romance\"], \"studios\": [\"Walt Disney Pictures\"]}, {\"id\": 10201, \"title\": \"Yes Man\", \"runtime\": 104, \"revenue\": 225990978, \"vote_average\": 3.39, \"genres\": [\"Comedy\"], \"studios\": [\"Warner Bros.\"]}, {\"id\": 10202, \"title\": \"Bedtime Stories\", \"runtime\": 99, \"revenue\": 212874442, \"vote_average\": 3.08, \"genres\": [\"Romance\", \"Comedy\"], \"studios\": [\"Walt Disney Pictures\"]}, {\"id\": 10215, \"title\": \"Sliding Doors\", \"runtime\": 99, \"revenue\": 58000000, \"vote_average\": 3.51, \"genres\": [\"Romance\", \"Comedy\", \"Drama\"], \"studios\": [\"Paramount Pictures\"]}, {\"id\": 10225, \"title\": \"Friday the 13th Part VI: Jason Lives\", \"runtime\": 86, \"revenue\": 19472057, \"vote_average\": 2.17, \"genres\": [\"Horror\"], \"studios\": [\"Paramount Pictures\"]}, {\"id\": 10229, \"title\": \"A Walk to Remember\", \"runtime\": 101, \"revenue\": 41227069, \"vote_average\": 3.43, \"genres\": [\"Romance\", \"Drama\"], \"studios\": [\"Warner Bros.\"]}, {\"id\": 10249, \"title\": \"The Rocketeer\", \"runtime\": 108, \"revenue\": 62000000, \"vote_average\": 3.05, \"genres\": [\"Action\", \"Science Fiction\"], \"studios\": [\"Walt Disney Pictures\"]}, {\"id\": 10281, \"title\": \"Friday the 13th Part VII: The New Blood\", \"runtime\": 88, \"revenue\": 19170001, \"vote_average\": 2.02, \"genres\": [\"Horror\"], \"studios\": [\"Paramount Pictures\"]}, {\"id\": 10283, \"title\": \"Friday the 13th Part VIII: Jason Takes Manhattan\", \"runtime\": 100, \"revenue\": 14000000, \"vote_average\": 1.81, \"genres\": [\"Horror\"], \"studios\": [\"Paramount Pictures\"]}, {\"id\": 10285, \"title\": \"Jason Goes to Hell: The Final Friday\", \"runtime\": 87, \"revenue\": 15938065, \"vote_average\": 2.06, \"genres\": [\"Horror\"], \"studios\": [\"New Line Cinema\"]}, {\"id\": 10329, \"title\": \"Congo\", \"runtime\": 109, \"revenue\": 152022101, \"vote_average\": 2.61, \"genres\": [\"Action\", \"Science Fiction\", \"Drama\"], \"studios\": [\"Paramount Pictures\"]}, {\"id\": 10330, \"title\": \"Freaky Friday\", \"runtime\": 97, \"revenue\": 110230332, \"vote_average\": 3.07, \"genres\": [\"Comedy\"], \"studios\": [\"Walt Disney Pictures\"]}, {\"id\": 10336, \"title\": \"Spawn\", \"runtime\": 96, \"revenue\": 87840042, \"vote_average\": 2.64, \"genres\": [\"Action\", \"Horror\", \"Science Fiction\"], \"studios\": [\"New Line Cinema\"]}, {\"id\": 10398, \"title\": \"Double Jeopardy\", \"runtime\": 105, \"revenue\": 177841558, \"vote_average\": 3.2, \"genres\": [\"Drama\"], \"studios\": [\"Paramount Pictures\"]}, {\"id\": 10426, \"title\": \"Friday After Next\", \"runtime\": 85, \"revenue\": 33526835, \"vote_average\": 2.7199999999999998, \"genres\": [\"Comedy\"], \"studios\": [\"New Line Cinema\"]}, {\"id\": 10439, \"title\": \"Hocus Pocus\", \"runtime\": 96, \"revenue\": 39514713, \"vote_average\": 3.05, \"genres\": [\"Comedy\"], \"studios\": [\"Walt Disney Pictures\"]}, {\"id\": 10461, \"title\": \"Get Carter\", \"runtime\": 102, \"revenue\": 19412993, \"vote_average\": 2.38, \"genres\": [\"Action\", \"Drama\"], \"studios\": [\"Warner Bros.\"]}, {\"id\": 10471, \"title\": \"Next Friday\", \"runtime\": 98, \"revenue\": 59827328, \"vote_average\": 2.85, \"genres\": [\"Comedy\"], \"studios\": [\"New Line Cinema\"]}, {\"id\": 10478, \"title\": \"Tin Cup\", \"runtime\": 135, \"revenue\": 53854588, \"vote_average\": 3.18, \"genres\": [\"Romance\", \"Comedy\", \"Drama\"], \"studios\": [\"Warner Bros.\"]}, {\"id\": 10479, \"title\": \"Rules of Engagement\", \"runtime\": 128, \"revenue\": 71000000, \"vote_average\": 3.3, \"genres\": [\"Action\", \"War\", \"Drama\", \"History\"], \"studios\": [\"Paramount Pictures\"]}, {\"id\": 10481, \"title\": \"102 Dalmatians\", \"runtime\": 100, \"revenue\": 183611771, \"vote_average\": 2.4, \"genres\": [\"Comedy\"], \"studios\": [\"Walt Disney Pictures\"]}, {\"id\": 10497, \"title\": \"Bitter Moon\", \"runtime\": 139, \"revenue\": 1862805, \"vote_average\": 3.43, \"genres\": [\"Romance\", \"Drama\"], \"studios\": [\"Canal+\"]}, {\"id\": 10501, \"title\": \"The Road to El Dorado\", \"runtime\": 89, \"revenue\": 76432727, \"vote_average\": 3.2800000000000002, \"genres\": [\"Animation\", \"Comedy\"], \"studios\": [\"DreamWorks SKG\", \"DreamWorks Animation\"]}, {\"id\": 10530, \"title\": \"Pocahontas\", \"runtime\": 81, \"revenue\": 346079773, \"vote_average\": 2.96, \"genres\": [\"Animation\", \"Drama\"], \"studios\": [\"Walt Disney Pictures\"]}, {\"id\": 10538, \"title\": \"Passenger 57\", \"runtime\": 84, \"revenue\": 44065653, \"vote_average\": 2.85, \"genres\": [\"Action\"], \"studios\": [\"Warner Bros.\"]}, {\"id\": 10539, \"title\": \"James and the Giant Peach\", \"runtime\": 79, \"revenue\": 28921264, \"vote_average\": 3.29, \"genres\": [\"Animation\"], \"studios\": [\"Walt Disney Pictures\"]}, {\"id\": 10545, \"title\": \"The Hunchback of Notre Dame\", \"runtime\": 91, \"revenue\": 100138851, \"vote_average\": 3.24, \"genres\": [\"Animation\", \"Drama\"], \"studios\": [\"Walt Disney Pictures\"]}, {\"id\": 10555, \"title\": \"Shark Tale\", \"runtime\": 90, \"revenue\": 367275019, \"vote_average\": 2.8, \"genres\": [\"Animation\", \"Comedy\", \"Action\"], \"studios\": [\"DreamWorks SKG\", \"DreamWorks Animation\"]}, {\"id\": 10559, \"title\": \"Frequency\", \"runtime\": 118, \"revenue\": 68106245, \"vote_average\": 3.55, \"genres\": [\"Science Fiction\", \"Drama\"], \"studios\": [\"New Line Cinema\"]}, {\"id\": 10567, \"title\": \"Dinosaur\", \"runtime\": 82, \"revenue\": 354248063, \"vote_average\": 3.09, \"genres\": [\"Animation\"], \"studios\": [\"Walt Disney Pictures\"]}, {\"id\": 10589, \"title\": \"After the Sunset\", \"runtime\": 97, \"revenue\": 61347797, \"vote_average\": 3.14, \"genres\": [\"Action\", \"Comedy\", \"Drama\"], \"studios\": [\"New Line Cinema\"]}, {\"id\": 10623, \"title\": \"Cradle 2 the Grave\", \"runtime\": 101, \"revenue\": 56489558, \"vote_average\": 2.81, \"genres\": [\"Action\", \"Drama\"], \"studios\": [\"Warner Bros.\"]}, {\"id\": 10625, \"title\": \"Mean Girls\", \"runtime\": 97, \"revenue\": 129042871, \"vote_average\": 3.55, \"genres\": [\"Comedy\"], \"studios\": [\"Paramount Pictures\"]}, {\"id\": 10634, \"title\": \"Friday\", \"runtime\": 91, \"revenue\": 28215918, \"vote_average\": 3.55, \"genres\": [\"Comedy\"], \"studios\": [\"New Line Cinema\"]}, {\"id\": 10637, \"title\": \"Remember the Titans\", \"runtime\": 113, \"revenue\": 136706683, \"vote_average\": 3.7800000000000002, \"genres\": [\"Drama\"], \"studios\": [\"Walt Disney Pictures\"]}, {\"id\": 10647, \"title\": \"Pay It Forward\", \"runtime\": 122, \"revenue\": 55707411, \"vote_average\": 3.38, \"genres\": [\"Romance\", \"Drama\"], \"studios\": [\"Warner Bros.\"]}, {\"id\": 10649, \"title\": \"The Enforcer\", \"runtime\": 96, \"revenue\": 46236000, \"vote_average\": 3.47, \"genres\": [\"Action\"], \"studios\": [\"Warner Bros.\"]}, {\"id\": 10650, \"title\": \"Sudden Impact\", \"runtime\": 117, \"revenue\": 67642693, \"vote_average\": 3.24, \"genres\": [\"Action\"], \"studios\": [\"Warner Bros.\"]}, {\"id\": 10669, \"title\": \"Deliverance\", \"runtime\": 109, \"revenue\": 46122355, \"vote_average\": 3.7800000000000002, \"genres\": [\"Drama\"], \"studios\": [\"Warner Bros.\"]}, {\"id\": 10674, \"title\": \"Mulan\", \"runtime\": 88, \"revenue\": 304320254, \"vote_average\": 3.69, \"genres\": [\"Animation\"], \"studios\": [\"Walt Disney Pictures\"]}, {\"id\": 10675, \"title\": \"Frantic\", \"runtime\": 120, \"revenue\": 17637950, \"vote_average\": 3.39, \"genres\": [\"Drama\"], \"studios\": [\"Warner Bros.\"]}, {\"id\": 10715, \"title\": \"Looney Tunes: Back in Action\", \"runtime\": 90, \"revenue\": 68514844, \"vote_average\": 2.71, \"genres\": [\"Animation\", \"Comedy\"], \"studios\": [\"Warner Bros.\"]}, {\"id\": 10718, \"title\": \"Torque\", \"runtime\": 84, \"revenue\": 46546197, \"vote_average\": 2.06, \"genres\": [\"Action\"], \"studios\": [\"Warner Bros.\"]}, {\"id\": 10719, \"title\": \"Elf\", \"runtime\": 97, \"revenue\": 173398518, \"vote_average\": 3.36, \"genres\": [\"Comedy\"], \"studios\": [\"New Line Cinema\"]}, {\"id\": 10730, \"title\": \"King Kong\", \"runtime\": 134, \"revenue\": 90614445, \"vote_average\": 2.81, \"genres\": [\"Drama\"], \"studios\": [\"Paramount Pictures\"]}, {\"id\": 10731, \"title\": \"The Client\", \"runtime\": 119, \"revenue\": 117615211, \"vote_average\": 3.47, \"genres\": [\"Drama\"], \"studios\": [\"Warner Bros.\"]}, {\"id\": 10734, \"title\": \"Escape from Alcatraz\", \"runtime\": 111, \"revenue\": 43000000, \"vote_average\": 3.7800000000000002, \"genres\": [\"Drama\"], \"studios\": [\"Paramount Pictures\"]}, {\"id\": 10747, \"title\": \"The Outlaw Josey Wales\", \"runtime\": 135, \"revenue\": 31800000, \"vote_average\": 3.93, \"genres\": [\"Drama\"], \"studios\": [\"Warner Bros.\"]}, {\"id\": 10756, \"title\": \"The Haunted Mansion\", \"runtime\": 87, \"revenue\": 182290266, \"vote_average\": 2.41, \"genres\": [\"Comedy\"], \"studios\": [\"Walt Disney Pictures\"]}, {\"id\": 10762, \"title\": \"Without a Paddle\", \"runtime\": 95, \"revenue\": 69631118, \"vote_average\": 2.85, \"genres\": [\"Action\", \"Comedy\"], \"studios\": [\"Paramount Pictures\"]}, {\"id\": 10776, \"title\": \"Little Shop of Horrors\", \"runtime\": 94, \"revenue\": 38748395, \"vote_average\": 3.2800000000000002, \"genres\": [\"Horror\", \"Comedy\"], \"studios\": [\"Warner Bros.\"]}, {\"id\": 10865, \"title\": \"Atlantis: The Lost Empire\", \"runtime\": 95, \"revenue\": 186053725, \"vote_average\": 3.27, \"genres\": [\"Animation\", \"Science Fiction\"], \"studios\": [\"Walt Disney Pictures\"]}, {\"id\": 10877, \"title\": \"Exit Wounds\", \"runtime\": 101, \"revenue\": 79958599, \"vote_average\": 2.65, \"genres\": [\"Action\"], \"studios\": [\"Warner Bros.\"]}, {\"id\": 10906, \"title\": \"Pet Sematary II\", \"runtime\": 100, \"revenue\": 17092453, \"vote_average\": 2.13, \"genres\": [\"Horror\"], \"studios\": [\"Paramount Pictures\"]}, {\"id\": 10950, \"title\": \"I Am Sam\", \"runtime\": 132, \"revenue\": 92542418, \"vote_average\": 3.58, \"genres\": [\"Drama\"], \"studios\": [\"New Line Cinema\"]}, {\"id\": 10952, \"title\": \"New Jack City\", \"runtime\": 97, \"revenue\": 47624253, \"vote_average\": 3.12, \"genres\": [\"Drama\"], \"studios\": [\"Warner Bros.\"]}, {\"id\": 10957, \"title\": \"The Black Cauldron\", \"runtime\": 80, \"revenue\": 21288692, \"vote_average\": 3.2, \"genres\": [\"Animation\"], \"studios\": [\"Walt Disney Pictures\"]}, {\"id\": 10992, \"title\": \"Cats & Dogs\", \"runtime\": 87, \"revenue\": 93375151, \"vote_average\": 2.62, \"genres\": [\"Comedy\"], \"studios\": [\"Warner Bros.\"]}, {\"id\": 10998, \"title\": \"Fatal Attraction\", \"runtime\": 119, \"revenue\": 320145693, \"vote_average\": 3.43, \"genres\": [\"Horror\", \"Romance\", \"Drama\"], \"studios\": [\"Paramount Pictures\"]}, {\"id\": 11003, \"title\": \"The Wedding Singer\", \"runtime\": 95, \"revenue\": 123306987, \"vote_average\": 3.39, \"genres\": [\"Romance\", \"Comedy\"], \"studios\": [\"New Line Cinema\"]}, {\"id\": 11009, \"title\": \"Saturday Night Fever\", \"runtime\": 118, \"revenue\": 237113184, \"vote_average\": 3.27, \"genres\": [\"Drama\"], \"studios\": [\"Paramount Pictures\"]}, {\"id\": 11015, \"title\": \"The Relic\", \"runtime\": 110, \"revenue\": 33956608, \"vote_average\": 2.8200000000000003, \"genres\": [\"Horror\"], \"studios\": [\"Paramount Pictures\"]}, {\"id\": 11022, \"title\": \"Narc\", \"runtime\": 105, \"revenue\": 12633747, \"vote_average\": 3.52, \"genres\": [\"Action\", \"Drama\"], \"studios\": [\"Paramount Pictures\"]}, {\"id\": 11034, \"title\": \"The Great Gatsby\", \"runtime\": 144, \"revenue\": 26533200, \"vote_average\": 3.21, \"genres\": [\"Romance\", \"Drama\"], \"studios\": [\"Paramount Pictures\"]}, {\"id\": 11036, \"title\": \"The Notebook\", \"runtime\": 123, \"revenue\": 115603229, \"vote_average\": 3.7199999999999998, \"genres\": [\"Romance\", \"Drama\"], \"studios\": [\"New Line Cinema\"]}, {\"id\": 11066, \"title\": \"Boomerang\", \"runtime\": 117, \"revenue\": 70100000, \"vote_average\": 2.86, \"genres\": [\"Romance\", \"Comedy\"], \"studios\": [\"Paramount Pictures\"]}, {\"id\": 11072, \"title\": \"Blazing Saddles\", \"runtime\": 93, \"revenue\": 119500000, \"vote_average\": 3.86, \"genres\": [\"Comedy\"], \"studios\": [\"Warner Bros.\"]}, {\"id\": 11081, \"title\": \"Taking Lives\", \"runtime\": 103, \"revenue\": 65470529, \"vote_average\": 3.08, \"genres\": [\"Action\"], \"studios\": [\"Warner Bros.\"]}, {\"id\": 11092, \"title\": \"Presumed Innocent\", \"runtime\": 127, \"revenue\": 221303188, \"vote_average\": 3.66, \"genres\": [\"Drama\"], \"studios\": [\"Warner Bros.\"]}, {\"id\": 11093, \"title\": \"House of Sand and Fog\", \"runtime\": 126, \"revenue\": 16942795, \"vote_average\": 3.7, \"genres\": [\"Drama\"], \"studios\": [\"DreamWorks SKG\"]}, {\"id\": 11113, \"title\": \"My Fair Lady\", \"runtime\": 170, \"revenue\": 72070731, \"vote_average\": 3.87, \"genres\": [\"Romance\", \"Drama\"], \"studios\": [\"Warner Bros.\"]}, {\"id\": 11130, \"title\": \"The Princess Diaries 2: Royal Engagement\", \"runtime\": 113, \"revenue\": 95149435, \"vote_average\": 3.02, \"genres\": [\"Romance\", \"Comedy\", \"Drama\"], \"studios\": [\"Walt Disney Pictures\"]}, {\"id\": 11132, \"title\": \"Confessions of a Teenage Drama Queen\", \"runtime\": 89, \"revenue\": 29331068, \"vote_average\": 2.51, \"genres\": [\"Comedy\"], \"studios\": [\"Walt Disney Pictures\"]}, {\"id\": 11135, \"title\": \"The Rescuers Down Under\", \"runtime\": 77, \"revenue\": 47431461, \"vote_average\": 3.3, \"genres\": [\"Animation\"], \"studios\": [\"Walt Disney Pictures\"]}, {\"id\": 11141, \"title\": \"Laws of Attraction\", \"runtime\": 90, \"revenue\": 30016165, \"vote_average\": 3.05, \"genres\": [\"Action\", \"Romance\", \"Comedy\"], \"studios\": [\"New Line Cinema\"]}, {\"id\": 11153, \"title\": \"National Lampoon's Vacation\", \"runtime\": 98, \"revenue\": 61399552, \"vote_average\": 3.76, \"genres\": [\"Romance\", \"Comedy\"], \"studios\": [\"Warner Bros.\"]}, {\"id\": 11158, \"title\": \"Honey I Blew Up the Kid\", \"runtime\": 89, \"revenue\": 58662452, \"vote_average\": 2.15, \"genres\": [\"Science Fiction\", \"Comedy\"], \"studios\": [\"Walt Disney Pictures\"]}, {\"id\": 11170, \"title\": \"We Are Marshall\", \"runtime\": 124, \"revenue\": 43545364, \"vote_average\": 3.5300000000000002, \"genres\": [\"Drama\"], \"studios\": [\"Warner Bros.\"]}, {\"id\": 11206, \"title\": \"Wait Until Dark\", \"runtime\": 108, \"revenue\": 11000000, \"vote_average\": 3.94, \"genres\": [\"Horror\"], \"studios\": [\"Warner Bros.\"]}, {\"id\": 11247, \"title\": \"A Cinderella Story\", \"runtime\": 95, \"revenue\": 70067909, \"vote_average\": 3.22, \"genres\": [\"Comedy\"], \"studios\": [\"Warner Bros.\"]}, {\"id\": 11282, \"title\": \"Harold & Kumar Go to White Castle\", \"runtime\": 88, \"revenue\": 23936908, \"vote_average\": 3.45, \"genres\": [\"Comedy\"], \"studios\": [\"New Line Cinema\"]}, {\"id\": 11284, \"title\": \"Freddy's Dead: The Final Nightmare\", \"runtime\": 89, \"revenue\": 34872033, \"vote_average\": 2.31, \"genres\": [\"Horror\", \"Comedy\"], \"studios\": [\"New Line Cinema\"]}, {\"id\": 11313, \"title\": \"Hearts in Atlantis\", \"runtime\": 101, \"revenue\": 24185781, \"vote_average\": 3.3, \"genres\": [\"Drama\"], \"studios\": [\"Warner Bros.\"]}, {\"id\": 11323, \"title\": \"The Informant!\", \"runtime\": 108, \"revenue\": 35424826, \"vote_average\": 3.33, \"genres\": [\"Comedy\", \"Drama\"], \"studios\": [\"Warner Bros.\"]}, {\"id\": 11324, \"title\": \"Shutter Island\", \"runtime\": 138, \"revenue\": 294804195, \"vote_average\": 3.95, \"genres\": [\"Drama\"], \"studios\": [\"Paramount Pictures\"]}, {\"id\": 11336, \"title\": \"The Dead Zone\", \"runtime\": 103, \"revenue\": 20766616, \"vote_average\": 3.65, \"genres\": [\"Horror\", \"Science Fiction\"], \"studios\": [\"Paramount Pictures\"]}, {\"id\": 11371, \"title\": \"The Score\", \"runtime\": 124, \"revenue\": 71069884, \"vote_average\": 3.47, \"genres\": [\"Action\"], \"studios\": [\"Paramount Pictures\"]}, {\"id\": 11377, \"title\": \"House on Haunted Hill\", \"runtime\": 93, \"revenue\": 40846082, \"vote_average\": 2.58, \"genres\": [\"Horror\"], \"studios\": [\"Warner Bros.\"]}, {\"id\": 11395, \"title\": \"The Santa Clause\", \"runtime\": 97, \"revenue\": 189833357, \"vote_average\": 3.13, \"genres\": [\"Comedy\", \"Drama\"], \"studios\": [\"Walt Disney Pictures\"]}, {\"id\": 11398, \"title\": \"The Art of War\", \"runtime\": 117, \"revenue\": 30199105, \"vote_average\": 2.92, \"genres\": [\"Action\"], \"studios\": [\"Warner Bros.\"]}, {\"id\": 11400, \"title\": \"The New World\", \"runtime\": 135, \"revenue\": 30536013, \"vote_average\": 3.39, \"genres\": [\"Romance\", \"Drama\", \"History\"], \"studios\": [\"New Line Cinema\"]}, {\"id\": 11411, \"title\": \"Superman IV: The Quest for Peace\", \"runtime\": 90, \"revenue\": 19300000, \"vote_average\": 2.07, \"genres\": [\"Action\", \"Science Fiction\"], \"studios\": [\"Warner Bros.\"]}, {\"id\": 11412, \"title\": \"The Long Kiss Goodnight\", \"runtime\": 120, \"revenue\": 89456761, \"vote_average\": 3.42, \"genres\": [\"Action\"], \"studios\": [\"New Line Cinema\"]}, {\"id\": 11416, \"title\": \"The Mission\", \"runtime\": 126, \"revenue\": 17218023, \"vote_average\": 3.79, \"genres\": [\"Action\", \"Drama\", \"History\"], \"studios\": [\"Warner Bros.\"]}, {\"id\": 11419, \"title\": \"Vegas Vacation\", \"runtime\": 93, \"revenue\": 36400360, \"vote_average\": 2.81, \"genres\": [\"Comedy\"], \"studios\": [\"Warner Bros.\"]}, {\"id\": 11451, \"title\": \"Herbie Fully Loaded\", \"runtime\": 101, \"revenue\": 66002004, \"vote_average\": 2.49, \"genres\": [\"Romance\", \"Comedy\"], \"studios\": [\"Walt Disney Pictures\"]}, {\"id\": 11459, \"title\": \"Sky High\", \"runtime\": 100, \"revenue\": 86369815, \"vote_average\": 3.19, \"genres\": [\"Comedy\"], \"studios\": [\"Walt Disney Pictures\"]}, {\"id\": 11460, \"title\": \"Red Eye\", \"runtime\": 85, \"revenue\": 57891803, \"vote_average\": 3.14, \"genres\": [\"Horror\"], \"studios\": [\"DreamWorks SKG\"]}, {\"id\": 11470, \"title\": \"Jason X\", \"runtime\": 91, \"revenue\": 16951798, \"vote_average\": 2.1, \"genres\": [\"Horror\", \"Science Fiction\"], \"studios\": [\"New Line Cinema\"]}, {\"id\": 11474, \"title\": \"The Warriors\", \"runtime\": 93, \"revenue\": 22490039, \"vote_average\": 3.7199999999999998, \"genres\": [\"Action\", \"Drama\"], \"studios\": [\"Paramount Pictures\"]}, {\"id\": 11542, \"title\": \"Altered States\", \"runtime\": 102, \"revenue\": 19853892, \"vote_average\": 3.48, \"genres\": [\"Horror\", \"Science Fiction\", \"Drama\"], \"studios\": [\"Warner Bros.\"]}, {\"id\": 11544, \"title\": \"Lilo & Stitch\", \"runtime\": 85, \"revenue\": 145771527, \"vote_average\": 3.5, \"genres\": [\"Animation\"], \"studios\": [\"Walt Disney Pictures\"]}, {\"id\": 11586, \"title\": \"Exorcist II: The Heretic\", \"runtime\": 118, \"revenue\": 30749142, \"vote_average\": 1.9300000000000002, \"genres\": [\"Horror\"], \"studios\": [\"Warner Bros.\"]}, {\"id\": 11595, \"title\": \"Another 48 Hrs.\", \"runtime\": 95, \"revenue\": 153518974, \"vote_average\": 2.76, \"genres\": [\"Action\", \"Comedy\", \"Drama\"], \"studios\": [\"Paramount Pictures\"]}, {\"id\": 11596, \"title\": \"New Nightmare\", \"runtime\": 112, \"revenue\": 18090181, \"vote_average\": 2.9699999999999998, \"genres\": [\"Horror\"], \"studios\": [\"New Line Cinema\"]}, {\"id\": 11619, \"title\": \"Flushed Away\", \"runtime\": 85, \"revenue\": 64459316, \"vote_average\": 3.33, \"genres\": [\"Animation\", \"Comedy\"], \"studios\": [\"DreamWorks Animation\"]}, {\"id\": 11622, \"title\": \"Blast from the Past\", \"runtime\": 112, \"revenue\": 40263020, \"vote_average\": 3.22, \"genres\": [\"Romance\", \"Comedy\"], \"studios\": [\"New Line Cinema\"]}, {\"id\": 11635, \"title\": \"Old School\", \"runtime\": 91, \"revenue\": 87055349, \"vote_average\": 3.61, \"genres\": [\"Comedy\"], \"studios\": [\"DreamWorks SKG\"]}, {\"id\": 11648, \"title\": \"Must Love Dogs\", \"runtime\": 98, \"revenue\": 58405313, \"vote_average\": 3.0, \"genres\": [\"Romance\", \"Comedy\"], \"studios\": [\"Warner Bros.\"]}, {\"id\": 11665, \"title\": \"Get Smart\", \"runtime\": 110, \"revenue\": 230685453, \"vote_average\": 3.19, \"genres\": [\"Action\", \"Comedy\"], \"studios\": [\"Warner Bros.\"]}, {\"id\": 11674, \"title\": \"101 Dalmatians\", \"runtime\": 103, \"revenue\": 320689294, \"vote_average\": 3.07, \"genres\": [\"Comedy\"], \"studios\": [\"Walt Disney Pictures\"]}, {\"id\": 11688, \"title\": \"The Emperor's New Groove\", \"runtime\": 78, \"revenue\": 169327687, \"vote_average\": 3.59, \"genres\": [\"Animation\", \"Comedy\"], \"studios\": [\"Walt Disney Pictures\"]}, {\"id\": 11774, \"title\": \"Lemony Snicket's A Series of Unfortunate Events\", \"runtime\": 108, \"revenue\": 209073645, \"vote_average\": 3.33, \"genres\": [\"Comedy\"], \"studios\": [\"Paramount Pictures\"]}, {\"id\": 11808, \"title\": \"U.S. Marshals\", \"runtime\": 131, \"revenue\": 102367405, \"vote_average\": 3.26, \"genres\": [\"Action\"], \"studios\": [\"Warner Bros.\"]}, {\"id\": 11831, \"title\": \"Amistad\", \"runtime\": 155, \"revenue\": 74000000, \"vote_average\": 3.59, \"genres\": [\"Drama\", \"History\"], \"studios\": [\"DreamWorks SKG\"]}, {\"id\": 11836, \"title\": \"The SpongeBob SquarePants Movie\", \"runtime\": 87, \"revenue\": 140161792, \"vote_average\": 3.07, \"genres\": [\"Animation\", \"Comedy\"], \"studios\": [\"Paramount Pictures\"]}, {\"id\": 11849, \"title\": \"Dungeons & Dragons\", \"runtime\": 107, \"revenue\": 15185241, \"vote_average\": 2.08, \"genres\": [\"Action\", \"Science Fiction\"], \"studios\": [\"New Line Cinema\"]}, {\"id\": 11892, \"title\": \"Murder by Numbers\", \"runtime\": 120, \"revenue\": 56714147, \"vote_average\": 3.0, \"genres\": [\"Drama\"], \"studios\": [\"Warner Bros.\"]}, {\"id\": 11970, \"title\": \"Hercules\", \"runtime\": 93, \"revenue\": 252712101, \"vote_average\": 3.39, \"genres\": [\"Animation\", \"Romance\", \"Comedy\"], \"studios\": [\"Walt Disney Pictures\"]}, {\"id\": 11973, \"title\": \"Thirteen Days\", \"runtime\": 145, \"revenue\": 34566746, \"vote_average\": 3.67, \"genres\": [\"Drama\"], \"studios\": [\"New Line Cinema\"]}, {\"id\": 11975, \"title\": \"The Rainmaker\", \"runtime\": 135, \"revenue\": 45916769, \"vote_average\": 3.61, \"genres\": [\"Drama\"], \"studios\": [\"Paramount Pictures\"]}, {\"id\": 11977, \"title\": \"Caddyshack\", \"runtime\": 98, \"revenue\": 39846344, \"vote_average\": 3.67, \"genres\": [\"Comedy\"], \"studios\": [\"Warner Bros.\"]}, {\"id\": 11979, \"title\": \"Queen of the Damned\", \"runtime\": 101, \"revenue\": 45479110, \"vote_average\": 2.63, \"genres\": [\"Horror\", \"Drama\"], \"studios\": [\"Warner Bros.\"]}, {\"id\": 12094, \"title\": \"Jackass Number Two\", \"runtime\": 95, \"revenue\": 72778712, \"vote_average\": 3.13, \"genres\": [\"Action\", \"Comedy\"], \"studios\": [\"Paramount Pictures\"]}, {\"id\": 12113, \"title\": \"Body of Lies\", \"runtime\": 128, \"revenue\": 113280098, \"vote_average\": 3.59, \"genres\": [\"Action\", \"Drama\"], \"studios\": [\"Warner Bros.\"]}, {\"id\": 12138, \"title\": \"3000 Miles to Graceland\", \"runtime\": 125, \"revenue\": 18720175, \"vote_average\": 2.76, \"genres\": [\"Action\", \"Comedy\"], \"studios\": [\"Warner Bros.\"]}, {\"id\": 12139, \"title\": \"Dennis the Menace\", \"runtime\": 94, \"revenue\": 117270765, \"vote_average\": 2.36, \"genres\": [\"Comedy\"], \"studios\": [\"Warner Bros.\"]}, {\"id\": 12158, \"title\": \"Vampire in Brooklyn\", \"runtime\": 100, \"revenue\": 19800000, \"vote_average\": 2.51, \"genres\": [\"Horror\", \"Romance\", \"Comedy\"], \"studios\": [\"Paramount Pictures\"]}, {\"id\": 12160, \"title\": \"Wyatt Earp\", \"runtime\": 191, \"revenue\": 25052000, \"vote_average\": 3.2, \"genres\": [\"Action\", \"Drama\"], \"studios\": [\"Warner Bros.\"]}, {\"id\": 12177, \"title\": \"The Love Guru\", \"runtime\": 87, \"revenue\": 41819064, \"vote_average\": 2.04, \"genres\": [\"Romance\", \"Comedy\"], \"studios\": [\"Paramount Pictures\"]}, {\"id\": 12193, \"title\": \"Four Christmases\", \"runtime\": 88, \"revenue\": 163733697, \"vote_average\": 2.89, \"genres\": [\"Romance\", \"Comedy\", \"Drama\"], \"studios\": [\"New Line Cinema\"]}, {\"id\": 12201, \"title\": \"Edge of Darkness\", \"runtime\": 117, \"revenue\": 74901339, \"vote_average\": 3.21, \"genres\": [\"Drama\"], \"studios\": [\"Warner Bros.\"]}, {\"id\": 12227, \"title\": \"White Fang\", \"runtime\": 107, \"revenue\": 34793160, \"vote_average\": 3.17, \"genres\": [\"Action\", \"Drama\"], \"studios\": [\"Walt Disney Pictures\"]}, {\"id\": 12233, \"title\": \"Oliver & Company\", \"runtime\": 74, \"revenue\": 74151346, \"vote_average\": 3.31, \"genres\": [\"Animation\", \"Comedy\"], \"studios\": [\"Walt Disney Pictures\"]}, {\"id\": 12405, \"title\": \"Slumdog Millionaire\", \"runtime\": 120, \"revenue\": 377910544, \"vote_average\": 3.86, \"genres\": [\"Romance\", \"Drama\"], \"studios\": [\"Warner Bros.\"]}, {\"id\": 12508, \"title\": \"Rock Star\", \"runtime\": 105, \"revenue\": 16991902, \"vote_average\": 2.9699999999999998, \"genres\": [\"Comedy\", \"Drama\"], \"studios\": [\"Warner Bros.\"]}, {\"id\": 12610, \"title\": \"Osmosis Jones\", \"runtime\": 95, \"revenue\": 13596911, \"vote_average\": 2.86, \"genres\": [\"Animation\", \"Comedy\", \"Action\"], \"studios\": [\"Warner Bros.\"]}, {\"id\": 12690, \"title\": \"Appaloosa\", \"runtime\": 115, \"revenue\": 20211394, \"vote_average\": 3.38, \"genres\": [\"Drama\"], \"studios\": [\"New Line Cinema\"]}, {\"id\": 13027, \"title\": \"Eagle Eye\", \"runtime\": 118, \"revenue\": 178066569, \"vote_average\": 3.27, \"genres\": [\"Action\"], \"studios\": [\"DreamWorks SKG\"]}, {\"id\": 13150, \"title\": \"Pride and Glory\", \"runtime\": 130, \"revenue\": 31148328, \"vote_average\": 3.26, \"genres\": [\"Drama\"], \"studios\": [\"New Line Cinema\"]}, {\"id\": 13183, \"title\": \"Watchmen\", \"runtime\": 163, \"revenue\": 185258983, \"vote_average\": 3.71, \"genres\": [\"Action\", \"Science Fiction\"], \"studios\": [\"Warner Bros.\", \"Paramount Pictures\"]}, {\"id\": 13207, \"title\": \"Friday the 13th\", \"runtime\": 97, \"revenue\": 91379051, \"vote_average\": 2.5700000000000003, \"genres\": [\"Horror\"], \"studios\": [\"New Line Cinema\"]}, {\"id\": 13223, \"title\": \"Gran Torino\", \"runtime\": 116, \"revenue\": 269958228, \"vote_average\": 3.93, \"genres\": [\"Drama\"], \"studios\": [\"Warner Bros.\"]}, {\"id\": 13335, \"title\": \"Harold & Kumar Escape from Guantanamo Bay\", \"runtime\": 107, \"revenue\": 43493123, \"vote_average\": 3.14, \"genres\": [\"Comedy\"], \"studios\": [\"New Line Cinema\"]}, {\"id\": 13374, \"title\": \"Ice Princess\", \"runtime\": 98, \"revenue\": 27645491, \"vote_average\": 3.1, \"genres\": [\"Comedy\", \"Drama\"], \"studios\": [\"Walt Disney Pictures\"]}, {\"id\": 13475, \"title\": \"Star Trek\", \"runtime\": 127, \"revenue\": 385680446, \"vote_average\": 3.87, \"genres\": [\"Action\", \"Science Fiction\"], \"studios\": [\"Paramount Pictures\"]}, {\"id\": 13476, \"title\": \"Win a Date with Tad Hamilton!\", \"runtime\": 95, \"revenue\": 16980098, \"vote_average\": 2.84, \"genres\": [\"Romance\", \"Comedy\"], \"studios\": [\"DreamWorks SKG\"]}, {\"id\": 13499, \"title\": \"Yours, Mine & Ours\", \"runtime\": 90, \"revenue\": 72028752, \"vote_average\": 2.96, \"genres\": [\"Romance\", \"Comedy\"], \"studios\": [\"Paramount Pictures\"]}, {\"id\": 13572, \"title\": \"Twisted\", \"runtime\": 97, \"revenue\": 25195000, \"vote_average\": 2.56, \"genres\": [\"Action\", \"Drama\"], \"studios\": [\"Paramount Pictures\"]}, {\"id\": 13672, \"title\": \"JCVD\", \"runtime\": 96, \"revenue\": 276891, \"vote_average\": 3.43, \"genres\": [\"Action\", \"Comedy\", \"Drama\"], \"studios\": [\"Canal+\"]}, {\"id\": 13680, \"title\": \"The Game Plan\", \"runtime\": 110, \"revenue\": 147880543, \"vote_average\": 3.01, \"genres\": [\"Comedy\"], \"studios\": [\"Walt Disney Pictures\"]}, {\"id\": 13700, \"title\": \"Home on the Range\", \"runtime\": 76, \"revenue\": 103951461, \"vote_average\": 2.67, \"genres\": [\"Animation\"], \"studios\": [\"Walt Disney Pictures\"]}, {\"id\": 13767, \"title\": \"The Santa Clause 3: The Escape Clause\", \"runtime\": 98, \"revenue\": 84500122, \"vote_average\": 2.44, \"genres\": [\"Comedy\"], \"studios\": [\"Walt Disney Pictures\"]}, {\"id\": 13768, \"title\": \"Tuck Everlasting\", \"runtime\": 90, \"revenue\": 19158074, \"vote_average\": 3.21, \"genres\": [\"Science Fiction\", \"Romance\", \"Drama\"], \"studios\": [\"Walt Disney Pictures\"]}, {\"id\": 13809, \"title\": \"RockNRolla\", \"runtime\": 114, \"revenue\": 25739015, \"vote_average\": 3.68, \"genres\": [\"Action\"], \"studios\": [\"Warner Bros.\"]}, {\"id\": 13836, \"title\": \"Race to Witch Mountain\", \"runtime\": 98, \"revenue\": 106303988, \"vote_average\": 2.79, \"genres\": [\"Action\", \"Science Fiction\"], \"studios\": [\"Walt Disney Pictures\"]}, {\"id\": 13885, \"title\": \"Sweeney Todd: The Demon Barber of Fleet Street\", \"runtime\": 116, \"revenue\": 152000000, \"vote_average\": 3.51, \"genres\": [\"Horror\", \"Drama\"], \"studios\": [\"Warner Bros.\"]}, {\"id\": 13939, \"title\": \"Death Wish\", \"runtime\": 93, \"revenue\": 22000000, \"vote_average\": 3.19, \"genres\": [\"Action\", \"Drama\"], \"studios\": [\"Paramount Pictures\"]}, {\"id\": 14024, \"title\": \"Raise Your Voice\", \"runtime\": 103, \"revenue\": 14867514, \"vote_average\": 3.13, \"genres\": [\"Romance\", \"Drama\"], \"studios\": [\"New Line Cinema\"]}, {\"id\": 14181, \"title\": \"Boiler Room\", \"runtime\": 118, \"revenue\": 28780255, \"vote_average\": 3.5, \"genres\": [\"Drama\"], \"studios\": [\"New Line Cinema\"]}, {\"id\": 14239, \"title\": \"Cool World\", \"runtime\": 102, \"revenue\": 14110589, \"vote_average\": 2.42, \"genres\": [\"Animation\", \"Comedy\"], \"studios\": [\"Paramount Pictures\"]}, {\"id\": 14362, \"title\": \"Out for Justice\", \"runtime\": 91, \"revenue\": 39673161, \"vote_average\": 2.7800000000000002, \"genres\": [\"Action\"], \"studios\": [\"Warner Bros.\"]}, {\"id\": 14375, \"title\": \"Romanzo criminale\", \"runtime\": 152, \"revenue\": 4851244, \"vote_average\": 3.58, \"genres\": [\"Drama\"], \"studios\": [\"Warner Bros.\"]}, {\"id\": 14405, \"title\": \"Beverly Hills Chihuahua\", \"runtime\": 91, \"revenue\": 149281606, \"vote_average\": 1.81, \"genres\": [\"Comedy\"], \"studios\": [\"Walt Disney Pictures\"]}, {\"id\": 14411, \"title\": \"Sinbad: Legend of the Seven Seas\", \"runtime\": 86, \"revenue\": 26288320, \"vote_average\": 3.2800000000000002, \"genres\": [\"Animation\"], \"studios\": [\"DreamWorks Animation\"]}, {\"id\": 14444, \"title\": \"The Rugrats Movie\", \"runtime\": 79, \"revenue\": 100491683, \"vote_average\": 2.67, \"genres\": [\"Animation\"], \"studios\": [\"Paramount Pictures\"]}, {\"id\": 14462, \"title\": \"The Manchurian Candidate\", \"runtime\": 129, \"revenue\": 96105964, \"vote_average\": 3.36, \"genres\": [\"Drama\"], \"studios\": [\"Paramount Pictures\"]}, {\"id\": 14564, \"title\": \"Rings\", \"runtime\": 102, \"revenue\": 83080890, \"vote_average\": 2.31, \"genres\": [\"Horror\"], \"studios\": [\"Paramount Pictures\"]}, {\"id\": 14635, \"title\": \"The Rookie\", \"runtime\": 127, \"revenue\": 75597042, \"vote_average\": 3.5, \"genres\": [\"Drama\"], \"studios\": [\"Walt Disney Pictures\"]}, {\"id\": 14869, \"title\": \"G.I. Joe: The Rise of Cobra\", \"runtime\": 118, \"revenue\": 302469017, \"vote_average\": 2.83, \"genres\": [\"Action\", \"Science Fiction\"], \"studios\": [\"Paramount Pictures\"]}, {\"id\": 14873, \"title\": \"The Jungle Book 2\", \"runtime\": 72, \"revenue\": 135680000, \"vote_average\": 2.36, \"genres\": [\"Animation\"], \"studios\": [\"Walt Disney Pictures\"]}, {\"id\": 14919, \"title\": \"Batman: Mask of the Phantasm\", \"runtime\": 76, \"revenue\": 5617391, \"vote_average\": 3.49, \"genres\": [\"Action\", \"Animation\"], \"studios\": [\"Warner Bros.\"]}, {\"id\": 15189, \"title\": \"Hotel for Dogs\", \"runtime\": 100, \"revenue\": 73034460, \"vote_average\": 2.69, \"genres\": [\"Comedy\"], \"studios\": [\"DreamWorks SKG\"]}, {\"id\": 15196, \"title\": \"Clue\", \"runtime\": 94, \"revenue\": 14643997, \"vote_average\": 3.48, \"genres\": [\"Comedy\"], \"studios\": [\"Paramount Pictures\"]}, {\"id\": 15301, \"title\": \"Twilight Zone: The Movie\", \"runtime\": 101, \"revenue\": 29450919, \"vote_average\": 3.26, \"genres\": [\"Horror\", \"Science Fiction\", \"Drama\"], \"studios\": [\"Warner Bros.\"]}, {\"id\": 15357, \"title\": \"District 13: Ultimatum\", \"runtime\": 101, \"revenue\": 8786375, \"vote_average\": 3.31, \"genres\": [\"Action\"], \"studios\": [\"Canal+\"]}, {\"id\": 15417, \"title\": \"Every Which Way But Loose\", \"runtime\": 110, \"revenue\": 85, \"vote_average\": 2.77, \"genres\": [\"Action\", \"Romance\", \"Comedy\"], \"studios\": [\"Warner Bros.\"]}, {\"id\": 15487, \"title\": \"The Greatest Game Ever Played\", \"runtime\": 120, \"revenue\": 15431177, \"vote_average\": 3.67, \"genres\": [\"Drama\"], \"studios\": [\"Walt Disney Pictures\"]}, {\"id\": 15512, \"title\": \"Monsters vs Aliens\", \"runtime\": 94, \"revenue\": 381509870, \"vote_average\": 3.19, \"genres\": [\"Animation\", \"Science Fiction\"], \"studios\": [\"DreamWorks Animation\"]}, {\"id\": 15566, \"title\": \"Surviving Christmas\", \"runtime\": 91, \"revenue\": 14793624, \"vote_average\": 2.5, \"genres\": [\"Romance\", \"Comedy\"], \"studios\": [\"DreamWorks SKG\"]}, {\"id\": 15613, \"title\": \"Fire in the Sky\", \"runtime\": 109, \"revenue\": 19724334, \"vote_average\": 3.1, \"genres\": [\"Horror\", \"Drama\"], \"studios\": [\"Paramount Pictures\"]}, {\"id\": 15655, \"title\": \"The Tigger Movie\", \"runtime\": 77, \"revenue\": 45554533, \"vote_average\": 2.91, \"genres\": [\"Animation\"], \"studios\": [\"Walt Disney Pictures\"]}, {\"id\": 16136, \"title\": \"Juice\", \"runtime\": 96, \"revenue\": 20146880, \"vote_average\": 3.34, \"genres\": [\"Action\", \"Drama\"], \"studios\": [\"Paramount Pictures\"]}, {\"id\": 16281, \"title\": \"Creepshow\", \"runtime\": 120, \"revenue\": 21028755, \"vote_average\": 3.21, \"genres\": [\"Horror\", \"Comedy\"], \"studios\": [\"Warner Bros.\"]}, {\"id\": 16340, \"title\": \"Rugrats in Paris: The Movie\", \"runtime\": 78, \"revenue\": 103, \"vote_average\": 2.58, \"genres\": [\"Animation\", \"Comedy\"], \"studios\": [\"Paramount Pictures\"]}, {\"id\": 16690, \"title\": \"Return to Never Land\", \"runtime\": 72, \"revenue\": 109862682, \"vote_average\": 2.79, \"genres\": [\"Animation\"], \"studios\": [\"Walt Disney Pictures\"]}, {\"id\": 16996, \"title\": \"17 Again\", \"runtime\": 102, \"revenue\": 136267476, \"vote_average\": 3.1, \"genres\": [\"Comedy\"], \"studios\": [\"New Line Cinema\"]}, {\"id\": 17130, \"title\": \"Crossroads\", \"runtime\": 93, \"revenue\": 61141030, \"vote_average\": 1.8900000000000001, \"genres\": [\"Action\", \"Romance\", \"Comedy\", \"Drama\"], \"studios\": [\"Paramount Pictures\"]}, {\"id\": 17379, \"title\": \"Last Holiday\", \"runtime\": 112, \"revenue\": 38399961, \"vote_average\": 3.35, \"genres\": [\"Comedy\", \"Drama\"], \"studios\": [\"Paramount Pictures\"]}, {\"id\": 17578, \"title\": \"The Adventures of Tintin\", \"runtime\": 107, \"revenue\": 371940071, \"vote_average\": 3.51, \"genres\": [\"Animation\"], \"studios\": [\"Paramount Pictures\"]}, {\"id\": 17609, \"title\": \"Antichrist\", \"runtime\": 108, \"revenue\": 791867, \"vote_average\": 3.42, \"genres\": [\"Horror\", \"Drama\"], \"studios\": [\"Canal+\"]}, {\"id\": 17689, \"title\": \"The Gauntlet\", \"runtime\": 109, \"revenue\": 26414658, \"vote_average\": 3.24, \"genres\": [\"Action\", \"Drama\"], \"studios\": [\"Warner Bros.\"]}, {\"id\": 17979, \"title\": \"A Christmas Carol\", \"runtime\": 96, \"revenue\": 325233863, \"vote_average\": 3.24, \"genres\": [\"Animation\", \"Drama\"], \"studios\": [\"Walt Disney Pictures\"]}, {\"id\": 18126, \"title\": \"Hannah Montana: The Movie\", \"runtime\": 102, \"revenue\": 155545279, \"vote_average\": 2.45, \"genres\": [\"Romance\", \"Comedy\", \"Drama\"], \"studios\": [\"Walt Disney Pictures\"]}, {\"id\": 18736, \"title\": \"The Lizzie McGuire Movie\", \"runtime\": 94, \"revenue\": 55534455, \"vote_average\": 2.69, \"genres\": [\"Comedy\"], \"studios\": [\"Walt Disney Pictures\"]}, {\"id\": 18785, \"title\": \"The Hangover\", \"runtime\": 100, \"revenue\": 459270619, \"vote_average\": 3.64, \"genres\": [\"Comedy\"], \"studios\": [\"Warner Bros.\"]}, {\"id\": 18823, \"title\": \"Clash of the Titans\", \"runtime\": 106, \"revenue\": 232713139, \"vote_average\": 2.75, \"genres\": [\"Action\"], \"studios\": [\"Warner Bros.\"]}, {\"id\": 18937, \"title\": \"Quest for Camelot\", \"runtime\": 86, \"revenue\": 38172500, \"vote_average\": 2.87, \"genres\": [\"Animation\", \"Romance\", \"Drama\"], \"studios\": [\"Warner Bros.\"]}, {\"id\": 19585, \"title\": \"G-Force\", \"runtime\": 88, \"revenue\": 292817841, \"vote_average\": 2.35, \"genres\": [\"Action\", \"Comedy\"], \"studios\": [\"Walt Disney Pictures\"]}, {\"id\": 19912, \"title\": \"The Final Destination\", \"runtime\": 82, \"revenue\": 186167139, \"vote_average\": 2.71, \"genres\": [\"Horror\"], \"studios\": [\"New Line Cinema\"]}, {\"id\": 20526, \"title\": \"TRON: Legacy\", \"runtime\": 125, \"revenue\": 400062763, \"vote_average\": 3.31, \"genres\": [\"Action\", \"Science Fiction\"], \"studios\": [\"Walt Disney Pictures\"]}, {\"id\": 20533, \"title\": \"Jonah Hex\", \"runtime\": 80, \"revenue\": 10539000, \"vote_average\": 2.36, \"genres\": [\"Action\", \"Drama\"], \"studios\": [\"Warner Bros.\"]}, {\"id\": 20737, \"title\": \"Air Bud\", \"runtime\": 98, \"revenue\": 23144499, \"vote_average\": 2.34, \"genres\": [\"Comedy\", \"Drama\"], \"studios\": [\"Walt Disney Pictures\"]}, {\"id\": 20857, \"title\": \"Hardball\", \"runtime\": 106, \"revenue\": 40222729, \"vote_average\": 3.11, \"genres\": [\"Romance\", \"Comedy\"], \"studios\": [\"Paramount Pictures\"]}, {\"id\": 22787, \"title\": \"Whiteout\", \"runtime\": 101, \"revenue\": 12206028, \"vote_average\": 2.67, \"genres\": [\"Action\"], \"studios\": [\"Warner Bros.\"]}, {\"id\": 22825, \"title\": \"The Box\", \"runtime\": 115, \"revenue\": 33333531, \"vote_average\": 2.7800000000000002, \"genres\": [\"Science Fiction\"], \"studios\": [\"Warner Bros.\"]}, {\"id\": 22832, \"title\": \"Ninja Assassin\", \"runtime\": 99, \"revenue\": 60462347, \"vote_average\": 3.1, \"genres\": [\"Action\"], \"studios\": [\"Warner Bros.\"]}, {\"id\": 22947, \"title\": \"Up in the Air\", \"runtime\": 109, \"revenue\": 163670000, \"vote_average\": 3.71, \"genres\": [\"Romance\", \"Drama\"], \"studios\": [\"Paramount Pictures\"]}, {\"id\": 22949, \"title\": \"Old Dogs\", \"runtime\": 88, \"revenue\": 92219310, \"vote_average\": 2.54, \"genres\": [\"Comedy\"], \"studios\": [\"Walt Disney Pictures\"]}, {\"id\": 22954, \"title\": \"Invictus\", \"runtime\": 134, \"revenue\": 122233971, \"vote_average\": 3.58, \"genres\": [\"Drama\", \"History\"], \"studios\": [\"Warner Bros.\"]}, {\"id\": 23082, \"title\": \"The Invention of Lying\", \"runtime\": 100, \"revenue\": 31912793, \"vote_average\": 3.23, \"genres\": [\"Romance\", \"Comedy\"], \"studios\": [\"Warner Bros.\"]}, {\"id\": 23168, \"title\": \"The Town\", \"runtime\": 125, \"revenue\": 154026136, \"vote_average\": 3.75, \"genres\": [\"Drama\"], \"studios\": [\"Warner Bros.\"]}, {\"id\": 23437, \"title\": \"A Nightmare on Elm Street\", \"runtime\": 95, \"revenue\": 115664037, \"vote_average\": 2.58, \"genres\": [\"Horror\"], \"studios\": [\"New Line Cinema\"]}, {\"id\": 23479, \"title\": \"The Bad News Bears\", \"runtime\": 102, \"revenue\": 35323292, \"vote_average\": 3.4, \"genres\": [\"Comedy\"], \"studios\": [\"Paramount Pictures\"]}, {\"id\": 23629, \"title\": \"Sucker Punch\", \"runtime\": 110, \"revenue\": 89792502, \"vote_average\": 2.94, \"genres\": [\"Action\"], \"studios\": [\"Warner Bros.\"]}, {\"id\": 23742, \"title\": \"Cop Out\", \"runtime\": 107, \"revenue\": 55583804, \"vote_average\": 2.69, \"genres\": [\"Action\", \"Comedy\"], \"studios\": [\"Warner Bros.\"]}, {\"id\": 23759, \"title\": \"Centurion\", \"runtime\": 97, \"revenue\": 6814789, \"vote_average\": 3.14, \"genres\": [\"Action\", \"Drama\"], \"studios\": [\"Warner Bros.\", \"Canal+\"]}, {\"id\": 24420, \"title\": \"The Time Traveler's Wife\", \"runtime\": 107, \"revenue\": 101229792, \"vote_average\": 3.58, \"genres\": [\"Romance\", \"Drama\"], \"studios\": [\"New Line Cinema\"]}, {\"id\": 26389, \"title\": \"From Paris with Love\", \"runtime\": 92, \"revenue\": 52826594, \"vote_average\": 3.15, \"genres\": [\"Action\"], \"studios\": [\"Canal+\"]}, {\"id\": 27022, \"title\": \"The Sorcerer's Apprentice\", \"runtime\": 109, \"revenue\": 215283742, \"vote_average\": 3.2, \"genres\": [\"Action\", \"Comedy\", \"Drama\"], \"studios\": [\"Walt Disney Pictures\"]}, {\"id\": 28032, \"title\": \"Thumbelina\", \"runtime\": 87, \"revenue\": 11373501, \"vote_average\": 2.79, \"genres\": [\"Animation\", \"Drama\"], \"studios\": [\"Warner Bros.\"]}, {\"id\": 30497, \"title\": \"The Texas Chain Saw Massacre\", \"runtime\": 83, \"revenue\": 30859000, \"vote_average\": 3.26, \"genres\": [\"Horror\"], \"studios\": [\"New Line Cinema\"]}, {\"id\": 32856, \"title\": \"Valentine's Day\", \"runtime\": 125, \"revenue\": 216485654, \"vote_average\": 2.93, \"genres\": [\"Romance\", \"Comedy\"], \"studios\": [\"New Line Cinema\"]}, {\"id\": 33273, \"title\": \"Cell 211\", \"runtime\": 110, \"revenue\": 19300483, \"vote_average\": 3.77, \"genres\": [\"Action\", \"Drama\"], \"studios\": [\"Canal+\"]}, {\"id\": 33542, \"title\": \"Rumble in the Bronx\", \"runtime\": 91, \"revenue\": 32392047, \"vote_average\": 3.4, \"genres\": [\"Action\", \"Comedy\"], \"studios\": [\"New Line Cinema\"]}, {\"id\": 34016, \"title\": \"She's Out of My League\", \"runtime\": 104, \"revenue\": 49779728, \"vote_average\": 3.26, \"genres\": [\"Romance\", \"Comedy\"], \"studios\": [\"DreamWorks SKG\"]}, {\"id\": 34584, \"title\": \"The NeverEnding Story\", \"runtime\": 102, \"revenue\": 20158808, \"vote_average\": 3.5, \"genres\": [\"Drama\"], \"studios\": [\"Warner Bros.\"]}, {\"id\": 34636, \"title\": \"The Neverending Story II: The Next Chapter\", \"runtime\": 89, \"revenue\": 16283667, \"vote_average\": 2.48, \"genres\": [\"Drama\"], \"studios\": [\"Warner Bros.\"]}, {\"id\": 34813, \"title\": \"The Losers\", \"runtime\": 97, \"revenue\": 23580000, \"vote_average\": 3.18, \"genres\": [\"Action\"], \"studios\": [\"Warner Bros.\"]}, {\"id\": 36586, \"title\": \"Blade II\", \"runtime\": 117, \"revenue\": 155010032, \"vote_average\": 3.12, \"genres\": [\"Action\", \"Horror\"], \"studios\": [\"New Line Cinema\"]}, {\"id\": 36593, \"title\": \"The Naked Gun 33\\u2153: The Final Insult\", \"runtime\": 83, \"revenue\": 51132598, \"vote_average\": 2.96, \"genres\": [\"Comedy\"], \"studios\": [\"Paramount Pictures\"]}, {\"id\": 36647, \"title\": \"Blade\", \"runtime\": 120, \"revenue\": 131183530, \"vote_average\": 3.35, \"genres\": [\"Action\", \"Horror\"], \"studios\": [\"New Line Cinema\"]}, {\"id\": 36648, \"title\": \"Blade: Trinity\", \"runtime\": 123, \"revenue\": 128905366, \"vote_average\": 2.94, \"genres\": [\"Action\", \"Horror\", \"Science Fiction\"], \"studios\": [\"New Line Cinema\"]}, {\"id\": 36955, \"title\": \"True Lies\", \"runtime\": 141, \"revenue\": 378882411, \"vote_average\": 3.5, \"genres\": [\"Action\"], \"studios\": [\"Lightstorm Entertainment\"]}, {\"id\": 37094, \"title\": \"Falling Down\", \"runtime\": 113, \"revenue\": 40903593, \"vote_average\": 3.6, \"genres\": [\"Drama\"], \"studios\": [\"Warner Bros.\", \"Canal+\"]}, {\"id\": 37135, \"title\": \"Tarzan\", \"runtime\": 88, \"revenue\": 448000000, \"vote_average\": 3.47, \"genres\": [\"Animation\", \"Drama\"], \"studios\": [\"Walt Disney Pictures\"]}, {\"id\": 37136, \"title\": \"The Naked Gun: From the Files of Police Squad!\", \"runtime\": 85, \"revenue\": 78756177, \"vote_average\": 3.58, \"genres\": [\"Comedy\"], \"studios\": [\"Paramount Pictures\"]}, {\"id\": 37137, \"title\": \"The Naked Gun 2\\u00bd: The Smell of Fear\", \"runtime\": 85, \"revenue\": 86930411, \"vote_average\": 3.19, \"genres\": [\"Comedy\"], \"studios\": [\"Paramount Pictures\"]}, {\"id\": 37165, \"title\": \"The Truman Show\", \"runtime\": 103, \"revenue\": 264118201, \"vote_average\": 3.84, \"genres\": [\"Comedy\", \"Drama\"], \"studios\": [\"Paramount Pictures\"]}, {\"id\": 37233, \"title\": \"The Firm\", \"runtime\": 154, \"revenue\": 270248367, \"vote_average\": 3.5, \"genres\": [\"Drama\"], \"studios\": [\"Paramount Pictures\"]}, {\"id\": 37686, \"title\": \"Super 8\", \"runtime\": 112, \"revenue\": 260095987, \"vote_average\": 3.5, \"genres\": [\"Science Fiction\"], \"studios\": [\"Paramount Pictures\"]}, {\"id\": 37786, \"title\": \"Sex and the City 2\", \"runtime\": 146, \"revenue\": 288347692, \"vote_average\": 2.32, \"genres\": [\"Romance\", \"Comedy\", \"Drama\"], \"studios\": [\"New Line Cinema\"]}, {\"id\": 37933, \"title\": \"Tales from Earthsea\", \"runtime\": 115, \"revenue\": 68000000, \"vote_average\": 3.1, \"genres\": [\"Animation\", \"Science Fiction\"], \"studios\": [\"Walt Disney Pictures\"]}, {\"id\": 38055, \"title\": \"Megamind\", \"runtime\": 95, \"revenue\": 321887208, \"vote_average\": 3.59, \"genres\": [\"Animation\", \"Science Fiction\", \"Comedy\", \"Action\"], \"studios\": [\"DreamWorks Animation\"]}, {\"id\": 38073, \"title\": \"Going the Distance\", \"runtime\": 102, \"revenue\": 42045846, \"vote_average\": 3.18, \"genres\": [\"Romance\", \"Comedy\", \"Drama\"], \"studios\": [\"New Line Cinema\"]}, {\"id\": 38778, \"title\": \"Dinner for Schmucks\", \"runtime\": 114, \"revenue\": 86387857, \"vote_average\": 2.87, \"genres\": [\"Comedy\"], \"studios\": [\"DreamWorks SKG\", \"Paramount Pictures\"]}, {\"id\": 38985, \"title\": \"Sorcerer\", \"runtime\": 121, \"revenue\": 12000000, \"vote_average\": 3.75, \"genres\": [\"Action\"], \"studios\": [\"Paramount Pictures\"]}, {\"id\": 39254, \"title\": \"Real Steel\", \"runtime\": 127, \"revenue\": 299268508, \"vote_average\": 3.3, \"genres\": [\"Action\", \"Science Fiction\", \"Drama\"], \"studios\": [\"DreamWorks SKG\"]}, {\"id\": 39451, \"title\": \"Little Fockers\", \"runtime\": 98, \"revenue\": 310650585, \"vote_average\": 2.73, \"genres\": [\"Romance\", \"Comedy\"], \"studios\": [\"Paramount Pictures\"]}, {\"id\": 39486, \"title\": \"Secretariat\", \"runtime\": 123, \"revenue\": 60251371, \"vote_average\": 3.7199999999999998, \"genres\": [\"Drama\"], \"studios\": [\"Walt Disney Pictures\"]}, {\"id\": 39538, \"title\": \"Contagion\", \"runtime\": 106, \"revenue\": 137551594, \"vote_average\": 3.48, \"genres\": [\"Science Fiction\", \"Drama\"], \"studios\": [\"Warner Bros.\"]}, {\"id\": 41201, \"title\": \"The Illusionist\", \"runtime\": 80, \"revenue\": 5602431, \"vote_average\": 3.69, \"genres\": [\"Animation\", \"Drama\"], \"studios\": [\"Canal+\"]}, {\"id\": 41216, \"title\": \"Legend of the Guardians: The Owls of Ga'Hoole\", \"runtime\": 97, \"revenue\": 140073390, \"vote_average\": 3.21, \"genres\": [\"Animation\"], \"studios\": [\"Warner Bros.\"]}, {\"id\": 41436, \"title\": \"Paranormal Activity 2\", \"runtime\": 91, \"revenue\": 177512032, \"vote_average\": 2.8200000000000003, \"genres\": [\"Horror\"], \"studios\": [\"Paramount Pictures\"]}, {\"id\": 41733, \"title\": \"Due Date\", \"runtime\": 95, \"revenue\": 211780824, \"vote_average\": 3.17, \"genres\": [\"Comedy\", \"Drama\"], \"studios\": [\"Warner Bros.\"]}, {\"id\": 44115, \"title\": \"127 Hours\", \"runtime\": 94, \"revenue\": 35692920, \"vote_average\": 3.65, \"genres\": [\"Drama\"], \"studios\": [\"Warner Bros.\"]}, {\"id\": 44264, \"title\": \"True Grit\", \"runtime\": 110, \"revenue\": 252276927, \"vote_average\": 3.8, \"genres\": [\"Drama\"], \"studios\": [\"Paramount Pictures\"]}, {\"id\": 44603, \"title\": \"Hereafter\", \"runtime\": 129, \"revenue\": 105197635, \"vote_average\": 3.09, \"genres\": [\"Drama\"], \"studios\": [\"Warner Bros.\"]}, {\"id\": 44826, \"title\": \"Hugo\", \"runtime\": 126, \"revenue\": 185770160, \"vote_average\": 3.56, \"genres\": [\"Drama\"], \"studios\": [\"Paramount Pictures\"]}, {\"id\": 44896, \"title\": \"Rango\", \"runtime\": 107, \"revenue\": 245724603, \"vote_average\": 3.38, \"genres\": [\"Animation\", \"Comedy\"], \"studios\": [\"Paramount Pictures\"]}, {\"id\": 44912, \"title\": \"Green Lantern\", \"runtime\": 114, \"revenue\": 219851172, \"vote_average\": 2.54, \"genres\": [\"Action\", \"Science Fiction\"], \"studios\": [\"Warner Bros.\"]}, {\"id\": 45243, \"title\": \"The Hangover Part II\", \"runtime\": 102, \"revenue\": 254455986, \"vote_average\": 3.01, \"genres\": [\"Comedy\"], \"studios\": [\"Warner Bros.\"]}, {\"id\": 45317, \"title\": \"The Fighter\", \"runtime\": 116, \"revenue\": 93617009, \"vote_average\": 3.85, \"genres\": [\"Drama\"], \"studios\": [\"Paramount Pictures\"]}, {\"id\": 45649, \"title\": \"Rubber\", \"runtime\": 85, \"revenue\": 98017, \"vote_average\": 2.9, \"genres\": [\"Horror\", \"Comedy\", \"Drama\"], \"studios\": [\"Canal+\"]}, {\"id\": 46529, \"title\": \"I Am Number Four\", \"runtime\": 109, \"revenue\": 144492830, \"vote_average\": 3.02, \"genres\": [\"Action\", \"Science Fiction\"], \"studios\": [\"DreamWorks SKG\"]}, {\"id\": 47971, \"title\": \"xXx: Return of Xander Cage\", \"runtime\": 107, \"revenue\": 346147658, \"vote_average\": 2.9, \"genres\": [\"Action\"], \"studios\": [\"Paramount Pictures\"]}, {\"id\": 48138, \"title\": \"Unknown\", \"runtime\": 113, \"revenue\": 130786397, \"vote_average\": 3.49, \"genres\": [\"Action\"], \"studios\": [\"Canal+\"]}, {\"id\": 48171, \"title\": \"The Rite\", \"runtime\": 114, \"revenue\": 96047633, \"vote_average\": 2.98, \"genres\": [\"Horror\", \"Drama\"], \"studios\": [\"New Line Cinema\"]}, {\"id\": 48988, \"title\": \"Hall Pass\", \"runtime\": 105, \"revenue\": 83160734, \"vote_average\": 2.75, \"genres\": [\"Comedy\"], \"studios\": [\"New Line Cinema\"]}, {\"id\": 49012, \"title\": \"Arthur\", \"runtime\": 110, \"revenue\": 45735397, \"vote_average\": 2.91, \"genres\": [\"Romance\", \"Comedy\"], \"studios\": [\"Warner Bros.\"]}, {\"id\": 49014, \"title\": \"Cosmopolis\", \"runtime\": 109, \"revenue\": 6063556, \"vote_average\": 2.64, \"genres\": [\"Drama\"], \"studios\": [\"Canal+\"]}, {\"id\": 49529, \"title\": \"John Carter\", \"runtime\": 132, \"revenue\": 284139100, \"vote_average\": 3.21, \"genres\": [\"Action\", \"Science Fiction\"], \"studios\": [\"Walt Disney Pictures\"]}, {\"id\": 49730, \"title\": \"Red Riding Hood\", \"runtime\": 100, \"revenue\": 89162162, \"vote_average\": 2.71, \"genres\": [\"Horror\"], \"studios\": [\"Warner Bros.\"]}, {\"id\": 49849, \"title\": \"Cowboys & Aliens\", \"runtime\": 119, \"revenue\": 174822325, \"vote_average\": 2.89, \"genres\": [\"Action\", \"Science Fiction\"], \"studios\": [\"DreamWorks SKG\"]}, {\"id\": 49948, \"title\": \"Fantasia 2000\", \"runtime\": 74, \"revenue\": 90874570, \"vote_average\": 3.51, \"genres\": [\"Animation\"], \"studios\": [\"Walt Disney Pictures\"]}, {\"id\": 50014, \"title\": \"The Help\", \"runtime\": 146, \"revenue\": 124272124, \"vote_average\": 3.91, \"genres\": [\"Drama\"], \"studios\": [\"DreamWorks SKG\"]}, {\"id\": 50646, \"title\": \"Crazy, Stupid, Love.\", \"runtime\": 118, \"revenue\": 142851197, \"vote_average\": 3.75, \"genres\": [\"Romance\", \"Comedy\", \"Drama\"], \"studios\": [\"Warner Bros.\"]}, {\"id\": 51162, \"title\": \"Winnie the Pooh\", \"runtime\": 63, \"revenue\": 14460000, \"vote_average\": 3.36, \"genres\": [\"Animation\"], \"studios\": [\"Walt Disney Pictures\"]}, {\"id\": 51540, \"title\": \"Horrible Bosses\", \"runtime\": 98, \"revenue\": 117000000, \"vote_average\": 3.32, \"genres\": [\"Comedy\"], \"studios\": [\"New Line Cinema\"]}, {\"id\": 51588, \"title\": \"Prom\", \"runtime\": 104, \"revenue\": 10130000, \"vote_average\": 2.75, \"genres\": [\"Comedy\"], \"studios\": [\"Walt Disney Pictures\"]}, {\"id\": 53182, \"title\": \"300: Rise of an Empire\", \"runtime\": 102, \"revenue\": 337580051, \"vote_average\": 2.98, \"genres\": [\"Action\", \"War\"], \"studios\": [\"Warner Bros.\"]}, {\"id\": 53457, \"title\": \"Sarah's Key\", \"runtime\": 111, \"revenue\": 17511906, \"vote_average\": 3.61, \"genres\": [\"War\", \"Drama\"], \"studios\": [\"Canal+\"]}, {\"id\": 54138, \"title\": \"Star Trek Into Darkness\", \"runtime\": 132, \"revenue\": 467365246, \"vote_average\": 3.77, \"genres\": [\"Action\", \"Science Fiction\"], \"studios\": [\"Paramount Pictures\"]}, {\"id\": 55465, \"title\": \"A Very Harold & Kumar Christmas\", \"runtime\": 108, \"revenue\": 35387212, \"vote_average\": 2.9699999999999998, \"genres\": [\"Comedy\"], \"studios\": [\"New Line Cinema\"]}, {\"id\": 55779, \"title\": \"Final Destination 5\", \"runtime\": 92, \"revenue\": 157887643, \"vote_average\": 2.83, \"genres\": [\"Horror\"], \"studios\": [\"New Line Cinema\"]}, {\"id\": 57157, \"title\": \"Young Adult\", \"runtime\": 94, \"revenue\": 22939027, \"vote_average\": 3.13, \"genres\": [\"Comedy\", \"Drama\"], \"studios\": [\"Paramount Pictures\"]}, {\"id\": 57201, \"title\": \"The Lone Ranger\", \"runtime\": 149, \"revenue\": 89289910, \"vote_average\": 2.99, \"genres\": [\"Action\"], \"studios\": [\"Walt Disney Pictures\"]}, {\"id\": 57212, \"title\": \"War Horse\", \"runtime\": 146, \"revenue\": 177584879, \"vote_average\": 3.36, \"genres\": [\"War\", \"Drama\"], \"studios\": [\"DreamWorks SKG\"]}, {\"id\": 58574, \"title\": \"Sherlock Holmes: A Game of Shadows\", \"runtime\": 129, \"revenue\": 334615000, \"vote_average\": 3.74, \"genres\": [\"Action\"], \"studios\": [\"Warner Bros.\"]}, {\"id\": 60304, \"title\": \"Hansel & Gretel: Witch Hunters\", \"runtime\": 88, \"revenue\": 224803475, \"vote_average\": 2.96, \"genres\": [\"Action\", \"Horror\"], \"studios\": [\"Paramount Pictures\"]}, {\"id\": 62213, \"title\": \"Dark Shadows\", \"runtime\": 113, \"revenue\": 245527149, \"vote_average\": 2.95, \"genres\": [\"Comedy\"], \"studios\": [\"Warner Bros.\"]}, {\"id\": 62215, \"title\": \"Melancholia\", \"runtime\": 136, \"revenue\": 21817298, \"vote_average\": 3.6, \"genres\": [\"Science Fiction\", \"Drama\"], \"studios\": [\"Canal+\"]}, {\"id\": 62835, \"title\": \"Colombiana\", \"runtime\": 108, \"revenue\": 60965854, \"vote_average\": 3.23, \"genres\": [\"Action\", \"Drama\"], \"studios\": [\"Canal+\"]}, {\"id\": 62838, \"title\": \"New Year's Eve\", \"runtime\": 118, \"revenue\": 142044638, \"vote_average\": 2.77, \"genres\": [\"Romance\", \"Comedy\"], \"studios\": [\"New Line Cinema\"]}, {\"id\": 64328, \"title\": \"The Muppets\", \"runtime\": 103, \"revenue\": 165184237, \"vote_average\": 3.4, \"genres\": [\"Comedy\"], \"studios\": [\"Walt Disney Pictures\"]}, {\"id\": 64682, \"title\": \"The Great Gatsby\", \"runtime\": 143, \"revenue\": 351040419, \"vote_average\": 3.51, \"genres\": [\"Romance\", \"Drama\"], \"studios\": [\"Warner Bros.\"]}, {\"id\": 64685, \"title\": \"Extremely Loud & Incredibly Close\", \"runtime\": 129, \"revenue\": 55247881, \"vote_average\": 3.41, \"genres\": [\"Drama\"], \"studios\": [\"Warner Bros.\", \"Paramount Pictures\"]}, {\"id\": 64807, \"title\": \"Grudge Match\", \"runtime\": 113, \"revenue\": 44907260, \"vote_average\": 3.04, \"genres\": [\"Comedy\"], \"studios\": [\"Warner Bros.\"]}, {\"id\": 65759, \"title\": \"Happy Feet Two\", \"runtime\": 100, \"revenue\": 150406466, \"vote_average\": 2.74, \"genres\": [\"Animation\", \"Comedy\"], \"studios\": [\"Warner Bros.\"]}, {\"id\": 68726, \"title\": \"Pacific Rim\", \"runtime\": 131, \"revenue\": 407602906, \"vote_average\": 3.36, \"genres\": [\"Action\", \"Science Fiction\"], \"studios\": [\"Warner Bros.\"]}, {\"id\": 68734, \"title\": \"Argo\", \"runtime\": 120, \"revenue\": 232324128, \"vote_average\": 3.8, \"genres\": [\"Drama\"], \"studios\": [\"Warner Bros.\"]}, {\"id\": 71688, \"title\": \"The Iron Lady\", \"runtime\": 105, \"revenue\": 114956699, \"vote_average\": 3.26, \"genres\": [\"Drama\", \"History\"], \"studios\": [\"Canal+\"]}, {\"id\": 72113, \"title\": \"Carnage\", \"runtime\": 80, \"revenue\": 27603069, \"vote_average\": 3.61, \"genres\": [\"Comedy\", \"Drama\"], \"studios\": [\"Canal+\"]}, {\"id\": 72358, \"title\": \"A Thousand Words\", \"runtime\": 91, \"revenue\": 22044277, \"vote_average\": 3.0, \"genres\": [\"Comedy\", \"Drama\"], \"studios\": [\"DreamWorks SKG\", \"Paramount Pictures\"]}, {\"id\": 72545, \"title\": \"Journey 2: The Mysterious Island\", \"runtime\": 94, \"revenue\": 355692760, \"vote_average\": 2.79, \"genres\": [\"Action\", \"Science Fiction\"], \"studios\": [\"New Line Cinema\"]}, {\"id\": 72559, \"title\": \"G.I. Joe: Retaliation\", \"runtime\": 110, \"revenue\": 371876278, \"vote_average\": 2.7800000000000002, \"genres\": [\"Action\", \"Science Fiction\"], \"studios\": [\"Paramount Pictures\"]}, {\"id\": 72571, \"title\": \"Paranormal Activity 3\", \"runtime\": 83, \"revenue\": 205703818, \"vote_average\": 2.7800000000000002, \"genres\": [\"Horror\"], \"studios\": [\"Paramount Pictures\"]}, {\"id\": 74513, \"title\": \"Special Forces\", \"runtime\": 109, \"revenue\": 10759, \"vote_average\": 3.32, \"genres\": [\"Action\", \"War\", \"Drama\"], \"studios\": [\"Canal+\"]}, {\"id\": 75780, \"title\": \"Jack Reacher\", \"runtime\": 130, \"revenue\": 218340595, \"vote_average\": 3.5, \"genres\": [\"Drama\"], \"studios\": [\"Paramount Pictures\"]}, {\"id\": 76341, \"title\": \"Mad Max: Fury Road\", \"runtime\": 120, \"revenue\": 378858340, \"vote_average\": 3.83, \"genres\": [\"Action\", \"Science Fiction\"], \"studios\": [\"Warner Bros.\"]}, {\"id\": 76493, \"title\": \"The Dictator\", \"runtime\": 83, \"revenue\": 179379533, \"vote_average\": 3.06, \"genres\": [\"Comedy\"], \"studios\": [\"Paramount Pictures\"]}, {\"id\": 76757, \"title\": \"Jupiter Ascending\", \"runtime\": 124, \"revenue\": 183987723, \"vote_average\": 2.66, \"genres\": [\"Action\", \"Science Fiction\"], \"studios\": [\"Warner Bros.\"]}, {\"id\": 77338, \"title\": \"The Intouchables\", \"runtime\": 112, \"revenue\": 426480871, \"vote_average\": 4.12, \"genres\": [\"Comedy\", \"Drama\"], \"studios\": [\"Canal+\"]}, {\"id\": 77877, \"title\": \"The Lucky One\", \"runtime\": 101, \"revenue\": 99357138, \"vote_average\": 3.46, \"genres\": [\"Romance\", \"Drama\"], \"studios\": [\"Warner Bros.\"]}, {\"id\": 77950, \"title\": \"Turbo\", \"runtime\": 96, \"revenue\": 282570682, \"vote_average\": 3.05, \"genres\": [\"Animation\"], \"studios\": [\"DreamWorks Animation\"]}, {\"id\": 79694, \"title\": \"The Apparition\", \"runtime\": 82, \"revenue\": 9627492, \"vote_average\": 2.13, \"genres\": [\"Horror\"], \"studios\": [\"Warner Bros.\"]}, {\"id\": 80585, \"title\": \"Rock of Ages\", \"runtime\": 123, \"revenue\": 59418613, \"vote_average\": 2.93, \"genres\": [\"Romance\", \"Comedy\", \"Drama\"], \"studios\": [\"New Line Cinema\"]}, {\"id\": 81005, \"title\": \"Jack the Giant Slayer\", \"runtime\": 114, \"revenue\": 197687603, \"vote_average\": 3.01, \"genres\": [\"Action\"], \"studios\": [\"New Line Cinema\", \"Warner Bros.\"]}, {\"id\": 81188, \"title\": \"Rise of the Guardians\", \"runtime\": 97, \"revenue\": 306941670, \"vote_average\": 3.5300000000000002, \"genres\": [\"Animation\"], \"studios\": [\"DreamWorks Animation\"]}, {\"id\": 81796, \"title\": \"Lockout\", \"runtime\": 95, \"revenue\": 32204030, \"vote_average\": 3.11, \"genres\": [\"Action\", \"Science Fiction\"], \"studios\": [\"Canal+\"]}, {\"id\": 82675, \"title\": \"Taken 2\", \"runtime\": 91, \"revenue\": 376141306, \"vote_average\": 3.18, \"genres\": [\"Action\"], \"studios\": [\"Canal+\"]}, {\"id\": 82679, \"title\": \"Fun Size\", \"runtime\": 87, \"revenue\": 11417362, \"vote_average\": 2.62, \"genres\": [\"Comedy\"], \"studios\": [\"Paramount Pictures\"]}, {\"id\": 82682, \"title\": \"Gangster Squad\", \"runtime\": 113, \"revenue\": 105200903, \"vote_average\": 3.19, \"genres\": [\"Action\", \"Drama\"], \"studios\": [\"Warner Bros.\"]}, {\"id\": 82687, \"title\": \"The Guilt Trip\", \"runtime\": 95, \"revenue\": 41863726, \"vote_average\": 2.85, \"genres\": [\"Comedy\"], \"studios\": [\"Paramount Pictures\"]}, {\"id\": 82703, \"title\": \"Mr. Peabody & Sherman\", \"runtime\": 92, \"revenue\": 272912430, \"vote_average\": 3.29, \"genres\": [\"Animation\"], \"studios\": [\"DreamWorks Animation\"]}, {\"id\": 82990, \"title\": \"Paranormal Activity 4\", \"runtime\": 95, \"revenue\": 142817992, \"vote_average\": 2.43, \"genres\": [\"Horror\"], \"studios\": [\"Paramount Pictures\"]}, {\"id\": 83770, \"title\": \"On the Road\", \"runtime\": 137, \"revenue\": 8784318, \"vote_average\": 3.05, \"genres\": [\"Drama\"], \"studios\": [\"Canal+\"]}, {\"id\": 86834, \"title\": \"Noah\", \"runtime\": 139, \"revenue\": 362637473, \"vote_average\": 2.76, \"genres\": [\"Drama\"], \"studios\": [\"Paramount Pictures\"]}, {\"id\": 87101, \"title\": \"Terminator Genisys\", \"runtime\": 126, \"revenue\": 440603537, \"vote_average\": 3.1, \"genres\": [\"Action\", \"Science Fiction\"], \"studios\": [\"Paramount Pictures\"]}, {\"id\": 87368, \"title\": \"17 Girls\", \"runtime\": 87, \"revenue\": 201607, \"vote_average\": 3.07, \"genres\": [\"Drama\"], \"studios\": [\"Canal+\"]}, {\"id\": 87502, \"title\": \"Flight\", \"runtime\": 138, \"revenue\": 161772375, \"vote_average\": 3.63, \"genres\": [\"Drama\"], \"studios\": [\"Paramount Pictures\"]}, {\"id\": 88751, \"title\": \"Journey to the Center of the Earth\", \"runtime\": 93, \"revenue\": 101702060, \"vote_average\": 2.84, \"genres\": [\"Action\", \"Comedy\", \"Science Fiction\"], \"studios\": [\"New Line Cinema\"]}, {\"id\": 97365, \"title\": \"Rust and Bone\", \"runtime\": 123, \"revenue\": 25762027, \"vote_average\": 3.7, \"genres\": [\"Romance\", \"Drama\"], \"studios\": [\"Canal+\"]}, {\"id\": 98548, \"title\": \"People Like Us\", \"runtime\": 114, \"revenue\": 12434778, \"vote_average\": 3.58, \"genres\": [\"Drama\"], \"studios\": [\"DreamWorks SKG\"]}, {\"id\": 98566, \"title\": \"Teenage Mutant Ninja Turtles\", \"runtime\": 101, \"revenue\": 477200000, \"vote_average\": 2.61, \"genres\": [\"Action\", \"Comedy\", \"Science Fiction\"], \"studios\": [\"Paramount Pictures\"]}, {\"id\": 100042, \"title\": \"Dumb and Dumber To\", \"runtime\": 110, \"revenue\": 169837010, \"vote_average\": 2.54, \"genres\": [\"Comedy\"], \"studios\": [\"New Line Cinema\"]}, {\"id\": 102207, \"title\": \"HOUBA! On the Trail of the Marsupilami\", \"runtime\": 105, \"revenue\": 48600000, \"vote_average\": 2.86, \"genres\": [\"Comedy\"], \"studios\": [\"Canal+\"]}, {\"id\": 103620, \"title\": \"Maniac\", \"runtime\": 89, \"revenue\": 31081, \"vote_average\": 2.96, \"genres\": [\"Horror\"], \"studios\": [\"Canal+\"]}, {\"id\": 105864, \"title\": \"The Good Dinosaur\", \"runtime\": 93, \"revenue\": 331926147, \"vote_average\": 3.2, \"genres\": [\"Animation\"], \"studios\": [\"Pixar Animation Studios\", \"Walt Disney Pictures\"]}, {\"id\": 106646, \"title\": \"The Wolf of Wall Street\", \"runtime\": 180, \"revenue\": 392000694, \"vote_average\": 3.86, \"genres\": [\"Comedy\", \"Drama\"], \"studios\": [\"Paramount Pictures\"]}, {\"id\": 109410, \"title\": \"42\", \"runtime\": 128, \"revenue\": 95020213, \"vote_average\": 3.69, \"genres\": [\"Drama\"], \"studios\": [\"Warner Bros.\"]}, {\"id\": 109443, \"title\": \"Anchorman 2: The Legend Continues\", \"runtime\": 119, \"revenue\": 173649015, \"vote_average\": 2.96, \"genres\": [\"Comedy\"], \"studios\": [\"Paramount Pictures\"]}, {\"id\": 109491, \"title\": \"Beautiful Creatures\", \"runtime\": 124, \"revenue\": 60052138, \"vote_average\": 3.24, \"genres\": [\"Romance\", \"Drama\"], \"studios\": [\"Warner Bros.\"]}, {\"id\": 111190, \"title\": \"Adore\", \"runtime\": 100, \"revenue\": 318982, \"vote_average\": 3.11, \"genres\": [\"Drama\"], \"studios\": [\"Canal+\"]}, {\"id\": 116149, \"title\": \"Paddington\", \"runtime\": 95, \"revenue\": 259207227, \"vote_average\": 3.36, \"genres\": [\"Comedy\"], \"studios\": [\"Canal+\"]}, {\"id\": 116745, \"title\": \"The Secret Life of Walter Mitty\", \"runtime\": 114, \"revenue\": 188133322, \"vote_average\": 3.68, \"genres\": [\"Comedy\", \"Drama\"], \"studios\": [\"New Line Cinema\"]}, {\"id\": 124459, \"title\": \"The Incredible Burt Wonderstone\", \"runtime\": 100, \"revenue\": 27437881, \"vote_average\": 2.74, \"genres\": [\"Comedy\"], \"studios\": [\"New Line Cinema\"]}, {\"id\": 134374, \"title\": \"Pain & Gain\", \"runtime\": 130, \"revenue\": 86175291, \"vote_average\": 3.1, \"genres\": [\"Action\"], \"studios\": [\"Paramount Pictures\"]}, {\"id\": 136797, \"title\": \"Need for Speed\", \"runtime\": 130, \"revenue\": 203277636, \"vote_average\": 2.98, \"genres\": [\"Action\", \"Drama\"], \"studios\": [\"DreamWorks SKG\"]}, {\"id\": 136799, \"title\": \"Trolls\", \"runtime\": 92, \"revenue\": 346864462, \"vote_average\": 3.09, \"genres\": [\"Animation\"], \"studios\": [\"DreamWorks Animation\"]}, {\"id\": 137094, \"title\": \"Jack Ryan: Shadow Recruit\", \"runtime\": 105, \"revenue\": 50549107, \"vote_average\": 3.22, \"genres\": [\"Action\", \"Drama\"], \"studios\": [\"Paramount Pictures\"]}, {\"id\": 137106, \"title\": \"The Lego Movie\", \"runtime\": 100, \"revenue\": 469160692, \"vote_average\": 3.7, \"genres\": [\"Animation\", \"Comedy\"], \"studios\": [\"Warner Bros.\"]}, {\"id\": 137113, \"title\": \"Edge of Tomorrow\", \"runtime\": 113, \"revenue\": 370541256, \"vote_average\": 3.93, \"genres\": [\"Action\", \"Science Fiction\"], \"studios\": [\"Warner Bros.\"]}, {\"id\": 137321, \"title\": \"Winter's Tale\", \"runtime\": 118, \"revenue\": 30800231, \"vote_average\": 3.07, \"genres\": [\"Romance\", \"Drama\"], \"studios\": [\"Warner Bros.\"]}, {\"id\": 138832, \"title\": \"We're the Millers\", \"runtime\": 110, \"revenue\": 269994119, \"vote_average\": 3.48, \"genres\": [\"Comedy\"], \"studios\": [\"New Line Cinema\"]}, {\"id\": 138843, \"title\": \"The Conjuring\", \"runtime\": 112, \"revenue\": 318000141, \"vote_average\": 3.66, \"genres\": [\"Horror\"], \"studios\": [\"New Line Cinema\"]}, {\"id\": 140823, \"title\": \"Saving Mr. Banks\", \"runtime\": 125, \"revenue\": 112544580, \"vote_average\": 3.65, \"genres\": [\"History\", \"Comedy\", \"Drama\"], \"studios\": [\"Walt Disney Pictures\"]}, {\"id\": 146239, \"title\": \"Delivery Man\", \"runtime\": 105, \"revenue\": 51164106, \"vote_average\": 3.07, \"genres\": [\"Comedy\"], \"studios\": [\"DreamWorks SKG\"]}, {\"id\": 146301, \"title\": \"Paranormal Activity: The Ghost Dimension\", \"runtime\": 88, \"revenue\": 78096553, \"vote_average\": 2.35, \"genres\": [\"Horror\"], \"studios\": [\"Paramount Pictures\"]}, {\"id\": 151960, \"title\": \"Planes\", \"runtime\": 91, \"revenue\": 219788712, \"vote_average\": 2.77, \"genres\": [\"Animation\", \"Comedy\"], \"studios\": [\"Walt Disney Pictures\"]}, {\"id\": 152584, \"title\": \"Blue Is the Warmest Color\", \"runtime\": 179, \"revenue\": 10165694, \"vote_average\": 3.8200000000000003, \"genres\": [\"Romance\", \"Drama\"], \"studios\": [\"Canal+\"]}, {\"id\": 152601, \"title\": \"Her\", \"runtime\": 126, \"revenue\": 47351251, \"vote_average\": 3.89, \"genres\": [\"Romance\", \"Science Fiction\", \"Drama\"], \"studios\": [\"Warner Bros.\"]}, {\"id\": 152742, \"title\": \"The Best Offer\", \"runtime\": 124, \"revenue\": 19255873, \"vote_average\": 3.92, \"genres\": [\"Romance\", \"Drama\"], \"studios\": [\"Warner Bros.\"]}, {\"id\": 158852, \"title\": \"Tomorrowland\", \"runtime\": 130, \"revenue\": 209154322, \"vote_average\": 3.21, \"genres\": [\"Science Fiction\"], \"studios\": [\"Walt Disney Pictures\"]}, {\"id\": 162903, \"title\": \"The Fifth Estate\", \"runtime\": 128, \"revenue\": 8555008, \"vote_average\": 3.11, \"genres\": [\"Drama\"], \"studios\": [\"DreamWorks SKG\"]}, {\"id\": 171274, \"title\": \"Inherent Vice\", \"runtime\": 148, \"revenue\": 11110975, \"vote_average\": 3.37, \"genres\": [\"Romance\", \"Comedy\", \"Drama\"], \"studios\": [\"Warner Bros.\"]}, {\"id\": 177494, \"title\": \"Veronica Mars\", \"runtime\": 107, \"revenue\": 3485127, \"vote_average\": 3.2800000000000002, \"genres\": [\"Comedy\", \"Drama\"], \"studios\": [\"Warner Bros.\"]}, {\"id\": 179144, \"title\": \"The Great Beauty\", \"runtime\": 142, \"revenue\": 8371085, \"vote_average\": 3.92, \"genres\": [\"Comedy\", \"Drama\"], \"studios\": [\"Canal+\"]}, {\"id\": 184315, \"title\": \"Hercules\", \"runtime\": 99, \"revenue\": 243400000, \"vote_average\": 2.77, \"genres\": [\"Action\"], \"studios\": [\"Paramount Pictures\"]}, {\"id\": 188222, \"title\": \"Entourage\", \"runtime\": 104, \"revenue\": 49263404, \"vote_average\": 3.0, \"genres\": [\"Comedy\"], \"studios\": [\"Warner Bros.\"]}, {\"id\": 188927, \"title\": \"Star Trek Beyond\", \"runtime\": 122, \"revenue\": 343471816, \"vote_average\": 3.56, \"genres\": [\"Action\", \"Science Fiction\"], \"studios\": [\"Paramount Pictures\"]}, {\"id\": 190955, \"title\": \"Blood Ties\", \"runtime\": 128, \"revenue\": 2415472, \"vote_average\": 3.24, \"genres\": [\"Drama\"], \"studios\": [\"Canal+\"]}, {\"id\": 198185, \"title\": \"Million Dollar Arm\", \"runtime\": 124, \"revenue\": 38307627, \"vote_average\": 3.45, \"genres\": [\"Drama\"], \"studios\": [\"Walt Disney Pictures\"]}, {\"id\": 203801, \"title\": \"The Man from U.N.C.L.E.\", \"runtime\": 116, \"revenue\": 108145109, \"vote_average\": 3.69, \"genres\": [\"Action\", \"Comedy\"], \"studios\": [\"Warner Bros.\"]}, {\"id\": 205587, \"title\": \"The Judge\", \"runtime\": 141, \"revenue\": 83719388, \"vote_average\": 3.47, \"genres\": [\"Drama\"], \"studios\": [\"Warner Bros.\"]}, {\"id\": 205775, \"title\": \"In the Heart of the Sea\", \"runtime\": 122, \"revenue\": 93820758, \"vote_average\": 3.32, \"genres\": [\"Action\", \"Drama\", \"History\"], \"studios\": [\"Warner Bros.\"]}, {\"id\": 208134, \"title\": \"Bad Grandpa\", \"runtime\": 92, \"revenue\": 151831537, \"vote_average\": 2.96, \"genres\": [\"Comedy\"], \"studios\": [\"Paramount Pictures\"]}, {\"id\": 209451, \"title\": \"Jersey Boys\", \"runtime\": 134, \"revenue\": 67347013, \"vote_average\": 3.3, \"genres\": [\"Drama\"], \"studios\": [\"Warner Bros.\"]}, {\"id\": 216282, \"title\": \"Into the Storm\", \"runtime\": 89, \"revenue\": 160602194, \"vote_average\": 2.83, \"genres\": [\"Action\"], \"studios\": [\"New Line Cinema\"]}, {\"id\": 218778, \"title\": \"Alexander and the Terrible, Horrible, No Good, Very Bad Day\", \"runtime\": 81, \"revenue\": 100654149, \"vote_average\": 3.18, \"genres\": [\"Comedy\"], \"studios\": [\"Walt Disney Pictures\"]}, {\"id\": 218836, \"title\": \"Planes: Fire & Rescue\", \"runtime\": 83, \"revenue\": 151165787, \"vote_average\": 2.9, \"genres\": [\"Animation\", \"Comedy\"], \"studios\": [\"Walt Disney Pictures\"]}, {\"id\": 221902, \"title\": \"Two Days, One Night\", \"runtime\": 95, \"revenue\": 6860853, \"vote_average\": 3.6, \"genres\": [\"Drama\"], \"studios\": [\"Canal+\"]}, {\"id\": 224141, \"title\": \"Into the Woods\", \"runtime\": 125, \"revenue\": 212902372, \"vote_average\": 3.03, \"genres\": [\"Comedy\"], \"studios\": [\"Walt Disney Pictures\"]}, {\"id\": 225574, \"title\": \"Non-Stop\", \"runtime\": 106, \"revenue\": 222809600, \"vote_average\": 3.48, \"genres\": [\"Action\"], \"studios\": [\"Canal+\"]}, {\"id\": 226486, \"title\": \"Tammy\", \"runtime\": 97, \"revenue\": 100525432, \"vote_average\": 2.6, \"genres\": [\"Comedy\"], \"studios\": [\"New Line Cinema\"]}, {\"id\": 227159, \"title\": \"Horrible Bosses 2\", \"runtime\": 108, \"revenue\": 107670357, \"vote_average\": 3.13, \"genres\": [\"Comedy\"], \"studios\": [\"New Line Cinema\"]}, {\"id\": 227719, \"title\": \"Project Almanac\", \"runtime\": 106, \"revenue\": 32248241, \"vote_average\": 3.29, \"genres\": [\"Science Fiction\"], \"studios\": [\"Paramount Pictures\"]}, {\"id\": 228161, \"title\": \"Home\", \"runtime\": 94, \"revenue\": 368871007, \"vote_average\": 3.2800000000000002, \"genres\": [\"Animation\", \"Science Fiction\", \"Comedy\"], \"studios\": [\"DreamWorks Animation\"]}, {\"id\": 228165, \"title\": \"The SpongeBob Movie: Sponge Out of Water\", \"runtime\": 93, \"revenue\": 311594032, \"vote_average\": 2.92, \"genres\": [\"Animation\", \"Comedy\"], \"studios\": [\"Paramount Pictures\"]}, {\"id\": 232672, \"title\": \"Blended\", \"runtime\": 117, \"revenue\": 123494610, \"vote_average\": 3.32, \"genres\": [\"Comedy\"], \"studios\": [\"Warner Bros.\"]}, {\"id\": 239678, \"title\": \"This Is Where I Leave You\", \"runtime\": 103, \"revenue\": 41296320, \"vote_average\": 3.27, \"genres\": [\"Comedy\", \"Drama\"], \"studios\": [\"Warner Bros.\"]}, {\"id\": 240832, \"title\": \"Lucy\", \"runtime\": 89, \"revenue\": 126546825, \"vote_average\": 3.07, \"genres\": [\"Action\", \"Science Fiction\"], \"studios\": [\"Canal+\"]}, {\"id\": 242512, \"title\": \"Ouija\", \"runtime\": 89, \"revenue\": 103590271, \"vote_average\": 2.34, \"genres\": [\"Horror\"], \"studios\": [\"Hasbro Studios\"]}, {\"id\": 243938, \"title\": \"Hot Tub Time Machine 2\", \"runtime\": 93, \"revenue\": 12314651, \"vote_average\": 2.55, \"genres\": [\"Comedy\"], \"studios\": [\"Paramount Pictures\"]}, {\"id\": 245703, \"title\": \"Midnight Special\", \"runtime\": 112, \"revenue\": 6212282, \"vote_average\": 3.31, \"genres\": [\"Science Fiction\", \"Drama\"], \"studios\": [\"Warner Bros.\"]}, {\"id\": 245891, \"title\": \"John Wick\", \"runtime\": 101, \"revenue\": 88761661, \"vote_average\": 3.7, \"genres\": [\"Action\"], \"studios\": [\"Warner Bros.\"]}, {\"id\": 249164, \"title\": \"If I Stay\", \"runtime\": 106, \"revenue\": 78874843, \"vote_average\": 3.46, \"genres\": [\"Drama\"], \"studios\": [\"New Line Cinema\"]}, {\"id\": 250546, \"title\": \"Annabelle\", \"runtime\": 99, \"revenue\": 255273813, \"vote_average\": 2.64, \"genres\": [\"Horror\"], \"studios\": [\"New Line Cinema\"]}, {\"id\": 254128, \"title\": \"San Andreas\", \"runtime\": 114, \"revenue\": 470490832, \"vote_average\": 2.83, \"genres\": [\"Action\", \"Drama\"], \"studios\": [\"New Line Cinema\", \"Warner Bros.\"]}, {\"id\": 254320, \"title\": \"The Lobster\", \"runtime\": 118, \"revenue\": 15656193, \"vote_average\": 3.63, \"genres\": [\"Science Fiction\", \"Romance\", \"Comedy\", \"Drama\"], \"studios\": [\"Canal+\"]}, {\"id\": 254473, \"title\": \"Brick Mansions\", \"runtime\": 90, \"revenue\": 68896829, \"vote_average\": 2.91, \"genres\": [\"Action\", \"Drama\"], \"studios\": [\"Canal+\"]}, {\"id\": 257091, \"title\": \"Get Hard\", \"runtime\": 100, \"revenue\": 111811453, \"vote_average\": 3.08, \"genres\": [\"Comedy\"], \"studios\": [\"Warner Bros.\"]}, {\"id\": 257211, \"title\": \"The Intern\", \"runtime\": 121, \"revenue\": 194564672, \"vote_average\": 3.67, \"genres\": [\"Comedy\"], \"studios\": [\"Warner Bros.\"]}, {\"id\": 259693, \"title\": \"The Conjuring 2\", \"runtime\": 134, \"revenue\": 320170008, \"vote_average\": 3.46, \"genres\": [\"Horror\"], \"studios\": [\"New Line Cinema\"]}, {\"id\": 259694, \"title\": \"How to Be Single\", \"runtime\": 110, \"revenue\": 112343513, \"vote_average\": 3.11, \"genres\": [\"Romance\", \"Comedy\"], \"studios\": [\"New Line Cinema\"]}, {\"id\": 259695, \"title\": \"Live by Night\", \"runtime\": 129, \"revenue\": 22678555, \"vote_average\": 3.16, \"genres\": [\"Drama\"], \"studios\": [\"Warner Bros.\"]}, {\"id\": 260346, \"title\": \"Taken 3\", \"runtime\": 109, \"revenue\": 325771424, \"vote_average\": 2.98, \"genres\": [\"Action\"], \"studios\": [\"Canal+\"]}, {\"id\": 260514, \"title\": \"Cars 3\", \"runtime\": 109, \"revenue\": 350170057, \"vote_average\": 2.99, \"genres\": [\"Animation\", \"Comedy\"], \"studios\": [\"Pixar Animation Studios\", \"Walt Disney Pictures\"]}, {\"id\": 262841, \"title\": \"Monster Trucks\", \"runtime\": 105, \"revenue\": 64493915, \"vote_average\": 2.66, \"genres\": [\"Action\", \"Science Fiction\", \"Comedy\"], \"studios\": [\"Paramount Pictures\"]}, {\"id\": 264999, \"title\": \"Magic Mike XXL\", \"runtime\": 115, \"revenue\": 122513057, \"vote_average\": 2.85, \"genres\": [\"Comedy\", \"Drama\"], \"studios\": [\"Warner Bros.\"]}, {\"id\": 266396, \"title\": \"The Gunman\", \"runtime\": 115, \"revenue\": 13644292, \"vote_average\": 2.95, \"genres\": [\"Action\", \"Drama\"], \"studios\": [\"Canal+\"]}, {\"id\": 266639, \"title\": \"Jem and the Holograms\", \"runtime\": 119, \"revenue\": 2333684, \"vote_average\": 1.71, \"genres\": [\"Drama\"], \"studios\": [\"Hasbro Studios\"]}, {\"id\": 268531, \"title\": \"Captain Underpants: The First Epic Movie\", \"runtime\": 89, \"revenue\": 110824373, \"vote_average\": 2.19, \"genres\": [\"Action\", \"Animation\", \"Comedy\"], \"studios\": [\"DreamWorks Animation\"]}, {\"id\": 268920, \"title\": \"Hot Pursuit\", \"runtime\": 87, \"revenue\": 51680201, \"vote_average\": 2.79, \"genres\": [\"Action\", \"Comedy\"], \"studios\": [\"New Line Cinema\", \"Warner Bros.\"]}, {\"id\": 270946, \"title\": \"Penguins of Madagascar\", \"runtime\": 92, \"revenue\": 373552094, \"vote_average\": 3.25, \"genres\": [\"Animation\", \"Comedy\"], \"studios\": [\"DreamWorks Animation\"]}, {\"id\": 271674, \"title\": \"Suite Fran\\u00e7aise\", \"runtime\": 107, \"revenue\": 9104716, \"vote_average\": 3.55, \"genres\": [\"War\", \"Romance\", \"Drama\"], \"studios\": [\"Canal+\"]}, {\"id\": 271969, \"title\": \"Ben-Hur\", \"runtime\": 125, \"revenue\": 94061311, \"vote_average\": 2.81, \"genres\": [\"Action\", \"Drama\"], \"studios\": [\"Paramount Pictures\"]}, {\"id\": 272878, \"title\": \"Max\", \"runtime\": 111, \"revenue\": 43967255, \"vote_average\": 3.19, \"genres\": [\"Drama\"], \"studios\": [\"Warner Bros.\"]}, {\"id\": 273477, \"title\": \"Scouts Guide to the Zombie Apocalypse\", \"runtime\": 93, \"revenue\": 14860766, \"vote_average\": 3.11, \"genres\": [\"Horror\", \"Comedy\"], \"studios\": [\"Paramount Pictures\"]}, {\"id\": 274167, \"title\": \"Daddy's Home\", \"runtime\": 96, \"revenue\": 242786137, \"vote_average\": 3.12, \"genres\": [\"Comedy\"], \"studios\": [\"Paramount Pictures\"]}, {\"id\": 274857, \"title\": \"King Arthur: Legend of the Sword\", \"runtime\": 126, \"revenue\": 146175066, \"vote_average\": 3.36, \"genres\": [\"Action\", \"Drama\"], \"studios\": [\"Warner Bros.\"]}, {\"id\": 277216, \"title\": \"Straight Outta Compton\", \"runtime\": 147, \"revenue\": 201634991, \"vote_average\": 3.73, \"genres\": [\"Drama\"], \"studios\": [\"New Line Cinema\"]}, {\"id\": 279641, \"title\": \"Whiskey Tango Foxtrot\", \"runtime\": 112, \"revenue\": 23083334, \"vote_average\": 3.35, \"genres\": [\"War\", \"Comedy\"], \"studios\": [\"Paramount Pictures\"]}, {\"id\": 283552, \"title\": \"The Light Between Oceans\", \"runtime\": 133, \"revenue\": 25956113, \"vote_average\": 3.55, \"genres\": [\"Drama\"], \"studios\": [\"DreamWorks SKG\"]}, {\"id\": 284536, \"title\": \"The Gambler\", \"runtime\": 111, \"revenue\": 39171130, \"vote_average\": 3.05, \"genres\": [\"Drama\"], \"studios\": [\"Paramount Pictures\"]}, {\"id\": 290250, \"title\": \"The Nice Guys\", \"runtime\": 116, \"revenue\": 62788218, \"vote_average\": 3.71, \"genres\": [\"Action\", \"Comedy\"], \"studios\": [\"Warner Bros.\"]}, {\"id\": 295693, \"title\": \"The Boss Baby\", \"runtime\": 97, \"revenue\": 498814908, \"vote_average\": 3.08, \"genres\": [\"Animation\", \"Comedy\"], \"studios\": [\"DreamWorks Animation\"]}, {\"id\": 296096, \"title\": \"Me Before You\", \"runtime\": 110, \"revenue\": 207945075, \"vote_average\": 3.64, \"genres\": [\"Romance\", \"Drama\"], \"studios\": [\"New Line Cinema\"]}, {\"id\": 296098, \"title\": \"Bridge of Spies\", \"runtime\": 141, \"revenue\": 165478348, \"vote_average\": 3.7800000000000002, \"genres\": [\"Drama\"], \"studios\": [\"DreamWorks SKG\"]}, {\"id\": 296099, \"title\": \"Vacation\", \"runtime\": 99, \"revenue\": 104384188, \"vote_average\": 3.24, \"genres\": [\"Comedy\"], \"studios\": [\"New Line Cinema\"]}, {\"id\": 299245, \"title\": \"The Gallows\", \"runtime\": 87, \"revenue\": 42664410, \"vote_average\": 2.25, \"genres\": [\"Horror\"], \"studios\": [\"New Line Cinema\"]}, {\"id\": 300671, \"title\": \"13 Hours: The Secret Soldiers of Benghazi\", \"runtime\": 144, \"revenue\": 69411370, \"vote_average\": 3.7199999999999998, \"genres\": [\"Action\", \"War\", \"Drama\", \"History\"], \"studios\": [\"Paramount Pictures\"]}, {\"id\": 300673, \"title\": \"The Finest Hours\", \"runtime\": 114, \"revenue\": 52099090, \"vote_average\": 3.33, \"genres\": [\"Action\", \"Drama\", \"History\"], \"studios\": [\"Walt Disney Pictures\"]}, {\"id\": 302699, \"title\": \"Central Intelligence\", \"runtime\": 107, \"revenue\": 216972543, \"vote_average\": 3.19, \"genres\": [\"Action\", \"Comedy\"], \"studios\": [\"New Line Cinema\"]}, {\"id\": 302946, \"title\": \"The Accountant\", \"runtime\": 128, \"revenue\": 155160045, \"vote_average\": 3.71, \"genres\": [\"Drama\"], \"studios\": [\"Warner Bros.\"]}, {\"id\": 308266, \"title\": \"War Dogs\", \"runtime\": 114, \"revenue\": 86234523, \"vote_average\": 3.59, \"genres\": [\"Comedy\", \"Drama\"], \"studios\": [\"Warner Bros.\"]}, {\"id\": 308531, \"title\": \"Teenage Mutant Ninja Turtles: Out of the Shadows\", \"runtime\": 112, \"revenue\": 245623848, \"vote_average\": 2.81, \"genres\": [\"Action\", \"Comedy\"], \"studios\": [\"Paramount Pictures\"]}, {\"id\": 312221, \"title\": \"Creed\", \"runtime\": 133, \"revenue\": 173567581, \"vote_average\": 3.65, \"genres\": [\"Drama\"], \"studios\": [\"New Line Cinema\", \"Warner Bros.\"]}, {\"id\": 315837, \"title\": \"Ghost in the Shell\", \"runtime\": 107, \"revenue\": 169801921, \"vote_average\": 3.33, \"genres\": [\"Action\", \"Science Fiction\"], \"studios\": [\"DreamWorks SKG\", \"Paramount Pictures\"]}, {\"id\": 317557, \"title\": \"Queen of Katwe\", \"runtime\": 124, \"revenue\": 10367161, \"vote_average\": 3.73, \"genres\": [\"Drama\"], \"studios\": [\"Walt Disney Pictures\"]}, {\"id\": 318846, \"title\": \"The Big Short\", \"runtime\": 130, \"revenue\": 133346506, \"vote_average\": 4.01, \"genres\": [\"Comedy\", \"Drama\"], \"studios\": [\"Paramount Pictures\"]}, {\"id\": 324849, \"title\": \"The Lego Batman Movie\", \"runtime\": 104, \"revenue\": 311950384, \"vote_average\": 3.5700000000000003, \"genres\": [\"Action\", \"Animation\", \"Comedy\"], \"studios\": [\"Warner Bros.\"]}, {\"id\": 326423, \"title\": \"Barbershop: The Next Cut\", \"runtime\": 112, \"revenue\": 55030051, \"vote_average\": 3.1, \"genres\": [\"Comedy\"], \"studios\": [\"New Line Cinema\"]}, {\"id\": 329865, \"title\": \"Arrival\", \"runtime\": 113, \"revenue\": 203388186, \"vote_average\": 4.02, \"genres\": [\"Science Fiction\", \"Drama\"], \"studios\": [\"Paramount Pictures\"]}, {\"id\": 329981, \"title\": \"Shut In\", \"runtime\": 91, \"revenue\": 13082071, \"vote_average\": 2.43, \"genres\": [\"Drama\"], \"studios\": [\"Canal+\"]}, {\"id\": 332210, \"title\": \"Storks\", \"runtime\": 87, \"revenue\": 182379278, \"vote_average\": 3.32, \"genres\": [\"Animation\", \"Comedy\"], \"studios\": [\"Warner Bros.\"]}, {\"id\": 333371, \"title\": \"10 Cloverfield Lane\", \"runtime\": 103, \"revenue\": 108286421, \"vote_average\": 3.68, \"genres\": [\"Science Fiction\", \"Drama\"], \"studios\": [\"Paramount Pictures\"]}, {\"id\": 333669, \"title\": \"Bastille Day\", \"runtime\": 92, \"revenue\": 14397593, \"vote_average\": 3.25, \"genres\": [\"Action\"], \"studios\": [\"Canal+\"]}, {\"id\": 336804, \"title\": \"Mustang\", \"runtime\": 97, \"revenue\": 250000, \"vote_average\": 3.77, \"genres\": [\"Drama\"], \"studios\": [\"Canal+\"]}, {\"id\": 337674, \"title\": \"Elle\", \"runtime\": 130, \"revenue\": 2341534, \"vote_average\": 3.46, \"genres\": [\"Drama\"], \"studios\": [\"Canal+\"]}, {\"id\": 339846, \"title\": \"Baywatch\", \"runtime\": 116, \"revenue\": 177856751, \"vote_average\": 2.43, \"genres\": [\"Action\", \"Comedy\"], \"studios\": [\"Paramount Pictures\"]}, {\"id\": 342521, \"title\": \"Keanu\", \"runtime\": 94, \"revenue\": 20566327, \"vote_average\": 3.05, \"genres\": [\"Action\", \"Comedy\"], \"studios\": [\"New Line Cinema\"]}, {\"id\": 343611, \"title\": \"Jack Reacher: Never Go Back\", \"runtime\": 118, \"revenue\": 162146076, \"vote_average\": 3.05, \"genres\": [\"Action\"], \"studios\": [\"Paramount Pictures\"]}, {\"id\": 345920, \"title\": \"Collateral Beauty\", \"runtime\": 97, \"revenue\": 87416021, \"vote_average\": 3.4, \"genres\": [\"Romance\", \"Drama\"], \"studios\": [\"New Line Cinema\"]}, {\"id\": 353070, \"title\": \"Going in Style\", \"runtime\": 96, \"revenue\": 84618541, \"vote_average\": 3.22, \"genres\": [\"Comedy\", \"Drama\"], \"studios\": [\"New Line Cinema\", \"Warner Bros.\"]}, {\"id\": 360814, \"title\": \"Dangal\", \"runtime\": 161, \"revenue\": 310000000, \"vote_average\": 4.01, \"genres\": [\"Drama\"], \"studios\": [\"Walt Disney Pictures\"]}, {\"id\": 363676, \"title\": \"Sully\", \"runtime\": 96, \"revenue\": 238470033, \"vote_average\": 3.75, \"genres\": [\"Drama\", \"History\"], \"studios\": [\"Warner Bros.\"]}, {\"id\": 369885, \"title\": \"Allied\", \"runtime\": 124, \"revenue\": 119520023, \"vote_average\": 3.5300000000000002, \"genres\": [\"Action\", \"War\", \"Romance\", \"Drama\"], \"studios\": [\"Paramount Pictures\"]}, {\"id\": 376290, \"title\": \"Miss Sloane\", \"runtime\": 132, \"revenue\": 3500605, \"vote_average\": 3.63, \"genres\": [\"Drama\"], \"studios\": [\"Canal+\"]}, {\"id\": 384682, \"title\": \"Office Christmas Party\", \"runtime\": 105, \"revenue\": 114501299, \"vote_average\": 3.0, \"genres\": [\"Comedy\"], \"studios\": [\"DreamWorks SKG\", \"Paramount Pictures\"]}, {\"id\": 393457, \"title\": \"Fences\", \"runtime\": 139, \"revenue\": 64414761, \"vote_average\": 3.5, \"genres\": [\"Drama\"], \"studios\": [\"Paramount Pictures\"]}, {\"id\": 393519, \"title\": \"Raw\", \"runtime\": 99, \"revenue\": 4100000, \"vote_average\": 3.48, \"genres\": [\"Horror\", \"Drama\"], \"studios\": [\"Canal+\"]}, {\"id\": 417644, \"title\": \"CHiPS\", \"runtime\": 100, \"revenue\": 26800152, \"vote_average\": 2.68, \"genres\": [\"Action\", \"Comedy\"], \"studios\": [\"Warner Bros.\"]}]}}, {\"mode\": \"vega-lite\"});\n",
       "</script>"
      ],
      "text/plain": [
       "alt.Chart(...)"
      ]
     },
     "execution_count": 64,
     "metadata": {},
     "output_type": "execute_result"
    }
   ],
   "source": [
    "vote_avg_hist = alt.Chart(movies).mark_bar().encode(\n",
    "    alt.X('vote_average'),\n",
    ").properties(\n",
    "    height = 100\n",
    ")\n",
    "\n",
    "# Show the plot\n",
    "vote_avg_hist"
   ]
  },
  {
   "cell_type": "code",
   "execution_count": 65,
   "metadata": {
    "deletable": false,
    "editable": false
   },
   "outputs": [
    {
     "data": {
      "text/html": [
       "<p><strong><pre style='display: inline;'>q2</pre></strong> passed! 🎉</p><p><strong><pre style='display: inline;'>q2 - 1</pre> message:</strong> This test only checks that your variables have the correct name and type</p>"
      ],
      "text/plain": [
       "q2 results: All test cases passed!\n",
       "q2 - 1 message: This test only checks that your variables have the correct name and type"
      ]
     },
     "execution_count": 65,
     "metadata": {},
     "output_type": "execute_result"
    }
   ],
   "source": [
    "grader.check(\"q2\")"
   ]
  },
  {
   "cell_type": "markdown",
   "metadata": {},
   "source": [
    "## Question 3"
   ]
  },
  {
   "cell_type": "markdown",
   "metadata": {},
   "source": [
    "As we have learned, graphical summaries are often more informative, and we can also experience that in the histogram above\n",
    "compared to the textual output in the first question Q1.\n",
    "\n",
    "<div class=\"alert alert-info\" style=\"color:black\"> \n",
    "\n",
    "As far as  Bestflix™ is concerned,\n",
    "it does look like there are still a fair amount of movies with high `rating` above 4.0\n",
    "which could be worth targeting.\n",
    "\n",
    "Let's explore all the numerical columns in the data\n",
    "and think about what those distributions tell us.\n",
    "    \n",
    "\n",
    "- Extract the column names from all numerical columns that you think makes sense to visualize as histograms and save the names to a variable as a list (the <code>.select_dtypes()</code> method can help here, or you can do it manually).\n",
    "- Create a `repeated plot` of histograms with an appropriate number of bins for the numeric columns you selected. (Don't use a loop, use the Altair approach to created a repeated chart.)\n",
    "- Since these columns do not share an x-axis, their arrangement is not as critical, but let's still `stack them vertically` in a single column and set the size of each histogram so that the entire chart nicely fits in a single view.\n",
    "\n",
    "\n",
    "</div>\n",
    "\n",
    "_Points:_ 10"
   ]
  },
  {
   "cell_type": "code",
   "execution_count": 110,
   "metadata": {},
   "outputs": [
    {
     "data": {
      "text/plain": [
       "['runtime', 'revenue', 'vote_average']"
      ]
     },
     "execution_count": 110,
     "metadata": {},
     "output_type": "execute_result"
    }
   ],
   "source": [
    "movies.head()\n",
    "\n",
    "numeric_cols"
   ]
  },
  {
   "cell_type": "code",
   "execution_count": 113,
   "metadata": {
    "ExecuteTime": {
     "end_time": "2023-11-16T07:16:47.151264Z",
     "start_time": "2023-11-16T07:16:47.128005Z"
    },
    "tags": [
     "solution"
    ]
   },
   "outputs": [
    {
     "data": {
      "text/html": [
       "\n",
       "<style>\n",
       "  #altair-viz-d43c5d40a1024164993c96c5e1830053.vega-embed {\n",
       "    width: 100%;\n",
       "    display: flex;\n",
       "  }\n",
       "\n",
       "  #altair-viz-d43c5d40a1024164993c96c5e1830053.vega-embed details,\n",
       "  #altair-viz-d43c5d40a1024164993c96c5e1830053.vega-embed details summary {\n",
       "    position: relative;\n",
       "  }\n",
       "</style>\n",
       "<div id=\"altair-viz-d43c5d40a1024164993c96c5e1830053\"></div>\n",
       "<script type=\"text/javascript\">\n",
       "  var VEGA_DEBUG = (typeof VEGA_DEBUG == \"undefined\") ? {} : VEGA_DEBUG;\n",
       "  (function(spec, embedOpt){\n",
       "    let outputDiv = document.currentScript.previousElementSibling;\n",
       "    if (outputDiv.id !== \"altair-viz-d43c5d40a1024164993c96c5e1830053\") {\n",
       "      outputDiv = document.getElementById(\"altair-viz-d43c5d40a1024164993c96c5e1830053\");\n",
       "    }\n",
       "    const paths = {\n",
       "      \"vega\": \"https://cdn.jsdelivr.net/npm/vega@5?noext\",\n",
       "      \"vega-lib\": \"https://cdn.jsdelivr.net/npm/vega-lib?noext\",\n",
       "      \"vega-lite\": \"https://cdn.jsdelivr.net/npm/vega-lite@5.8.0?noext\",\n",
       "      \"vega-embed\": \"https://cdn.jsdelivr.net/npm/vega-embed@6?noext\",\n",
       "    };\n",
       "\n",
       "    function maybeLoadScript(lib, version) {\n",
       "      var key = `${lib.replace(\"-\", \"\")}_version`;\n",
       "      return (VEGA_DEBUG[key] == version) ?\n",
       "        Promise.resolve(paths[lib]) :\n",
       "        new Promise(function(resolve, reject) {\n",
       "          var s = document.createElement('script');\n",
       "          document.getElementsByTagName(\"head\")[0].appendChild(s);\n",
       "          s.async = true;\n",
       "          s.onload = () => {\n",
       "            VEGA_DEBUG[key] = version;\n",
       "            return resolve(paths[lib]);\n",
       "          };\n",
       "          s.onerror = () => reject(`Error loading script: ${paths[lib]}`);\n",
       "          s.src = paths[lib];\n",
       "        });\n",
       "    }\n",
       "\n",
       "    function showError(err) {\n",
       "      outputDiv.innerHTML = `<div class=\"error\" style=\"color:red;\">${err}</div>`;\n",
       "      throw err;\n",
       "    }\n",
       "\n",
       "    function displayChart(vegaEmbed) {\n",
       "      vegaEmbed(outputDiv, spec, embedOpt)\n",
       "        .catch(err => showError(`Javascript Error: ${err.message}<br>This usually means there's a typo in your chart specification. See the javascript console for the full traceback.`));\n",
       "    }\n",
       "\n",
       "    if(typeof define === \"function\" && define.amd) {\n",
       "      requirejs.config({paths});\n",
       "      require([\"vega-embed\"], displayChart, err => showError(`Error loading script: ${err.message}`));\n",
       "    } else {\n",
       "      maybeLoadScript(\"vega\", \"5\")\n",
       "        .then(() => maybeLoadScript(\"vega-lite\", \"5.8.0\"))\n",
       "        .then(() => maybeLoadScript(\"vega-embed\", \"6\"))\n",
       "        .catch(showError)\n",
       "        .then(() => displayChart(vegaEmbed));\n",
       "    }\n",
       "  })({\"config\": {\"view\": {\"continuousWidth\": 300, \"continuousHeight\": 300}}, \"repeat\": {\"column\": [\"runtime\", \"revenue\", \"vote_average\"], \"row\": [\"count(runtime)\", \"count(revenue)\"]}, \"spec\": {\"data\": {\"name\": \"empty\"}, \"mark\": {\"type\": \"bar\"}, \"encoding\": {\"x\": {\"bin\": {\"maxbins\": 20}, \"field\": {\"repeat\": \"column\"}, \"type\": \"quantitative\"}, \"y\": {\"field\": {\"repeat\": \"row\"}, \"type\": \"quantitative\"}}}, \"$schema\": \"https://vega.github.io/schema/vega-lite/v5.8.0.json\", \"datasets\": {\"empty\": [{}]}}, {\"mode\": \"vega-lite\"});\n",
       "</script>"
      ],
      "text/plain": [
       "alt.RepeatChart(...)"
      ]
     },
     "execution_count": 113,
     "metadata": {},
     "output_type": "execute_result"
    }
   ],
   "source": [
    "numeric_cols = movies.select_dtypes(include = 'number').columns.tolist()\n",
    "numeric_cols.remove('id')\n",
    "\n",
    "numeric_cols_hists = alt.Chart().mark_bar().encode(\n",
    "    alt.X(alt.repeat('column'), type = 'quantitative', bin = alt.Bin(maxbins = 20)),\n",
    "    alt.Y('count():Q')\n",
    ").repeat(\n",
    "    column = numeric_cols\n",
    ")\n",
    "\n",
    "numeric_cols_hists"
   ]
  },
  {
   "cell_type": "code",
   "execution_count": 103,
   "metadata": {
    "deletable": false,
    "editable": false
   },
   "outputs": [
    {
     "data": {
      "text/html": [
       "<p><strong><pre style='display: inline;'>q3</pre></strong> passed! 🎉</p><p><strong><pre style='display: inline;'>q3 - 1</pre> message:</strong> This test only checks that your variables have the correct name and type</p>"
      ],
      "text/plain": [
       "q3 results: All test cases passed!\n",
       "q3 - 1 message: This test only checks that your variables have the correct name and type"
      ]
     },
     "execution_count": 103,
     "metadata": {},
     "output_type": "execute_result"
    }
   ],
   "source": [
    "grader.check(\"q3\")"
   ]
  },
  {
   "cell_type": "markdown",
   "metadata": {},
   "source": [
    "## Question 4\n",
    "### Pairwise numerical columns"
   ]
  },
  {
   "cell_type": "markdown",
   "metadata": {},
   "source": [
    "Hmmm, there is quite the spread in all the distributions above,\n",
    "and there seems to exist a few movies with rather extreme values, e.g. for revenue.\n",
    "It will be a good idea for us to look into those later\n",
    "to understand what is going on,\n",
    "but for now let's move on to investigating the relationships between pairs of numerical columns\n",
    "to better understand which features are correlated to each other.\n",
    "For example, we might find out the the movies that generate the most revenue\n",
    "are also the highest rated ones\n",
    "and those would then make great candidates to include in our streaming service.\n",
    "\n",
    "<div class=\"alert alert-info\" style=\"color:black\">\n",
    "\n",
    "For this task you need extract the column names for all numerical columns\n",
    "that you think makes sense to compare in a repeated pairwise scatterplot\n",
    "(sometimes called a scatterplot matrix or SPLOM for short).\n",
    "    \n",
    "<ul>\n",
    "<li>I recommend starting with creating a single scatter plot and gradually substituting in the repeating columns.</li>\n",
    "<li>Do not include zero on either axis unless the data actually starts at zero.</li>\n",
    "<li>Reduce each subplots height and width to be able to see the entire lower diagonal in view.</li>\n",
    "<li>Set the opacity and size of the points directly inside <code>mark_point()</code> in order for the plots to appear less saturated.</li>\n",
    "</ul>\n",
    "\n",
    "You can <a href=https://altair-viz.github.io/gallery/scatter_matrix.html> study this example if you want guidance.</a>\n",
    "\n",
    "</div>\n",
    "\n",
    "_Points:_ 10"
   ]
  },
  {
   "cell_type": "code",
   "execution_count": 73,
   "metadata": {},
   "outputs": [
    {
     "data": {
      "text/html": [
       "<div>\n",
       "<style scoped>\n",
       "    .dataframe tbody tr th:only-of-type {\n",
       "        vertical-align: middle;\n",
       "    }\n",
       "\n",
       "    .dataframe tbody tr th {\n",
       "        vertical-align: top;\n",
       "    }\n",
       "\n",
       "    .dataframe thead th {\n",
       "        text-align: right;\n",
       "    }\n",
       "</style>\n",
       "<table border=\"1\" class=\"dataframe\">\n",
       "  <thead>\n",
       "    <tr style=\"text-align: right;\">\n",
       "      <th></th>\n",
       "      <th>id</th>\n",
       "      <th>title</th>\n",
       "      <th>runtime</th>\n",
       "      <th>revenue</th>\n",
       "      <th>vote_average</th>\n",
       "      <th>genres</th>\n",
       "      <th>studios</th>\n",
       "    </tr>\n",
       "  </thead>\n",
       "  <tbody>\n",
       "    <tr>\n",
       "      <th>2</th>\n",
       "      <td>14</td>\n",
       "      <td>American Beauty</td>\n",
       "      <td>122</td>\n",
       "      <td>356296601</td>\n",
       "      <td>4.13</td>\n",
       "      <td>[Drama]</td>\n",
       "      <td>[DreamWorks SKG]</td>\n",
       "    </tr>\n",
       "    <tr>\n",
       "      <th>3</th>\n",
       "      <td>16</td>\n",
       "      <td>Dancer in the Dark</td>\n",
       "      <td>140</td>\n",
       "      <td>40031879</td>\n",
       "      <td>3.84</td>\n",
       "      <td>[Drama]</td>\n",
       "      <td>[Canal+]</td>\n",
       "    </tr>\n",
       "    <tr>\n",
       "      <th>6</th>\n",
       "      <td>59</td>\n",
       "      <td>A History of Violence</td>\n",
       "      <td>96</td>\n",
       "      <td>60740827</td>\n",
       "      <td>3.63</td>\n",
       "      <td>[Drama]</td>\n",
       "      <td>[New Line Cinema]</td>\n",
       "    </tr>\n",
       "    <tr>\n",
       "      <th>7</th>\n",
       "      <td>70</td>\n",
       "      <td>Million Dollar Baby</td>\n",
       "      <td>132</td>\n",
       "      <td>216763646</td>\n",
       "      <td>3.84</td>\n",
       "      <td>[Drama]</td>\n",
       "      <td>[Warner Bros.]</td>\n",
       "    </tr>\n",
       "    <tr>\n",
       "      <th>8</th>\n",
       "      <td>73</td>\n",
       "      <td>American History X</td>\n",
       "      <td>119</td>\n",
       "      <td>23875127</td>\n",
       "      <td>4.15</td>\n",
       "      <td>[Drama]</td>\n",
       "      <td>[New Line Cinema]</td>\n",
       "    </tr>\n",
       "  </tbody>\n",
       "</table>\n",
       "</div>"
      ],
      "text/plain": [
       "   id                  title  runtime    revenue  vote_average   genres  \\\n",
       "2  14        American Beauty      122  356296601          4.13  [Drama]   \n",
       "3  16     Dancer in the Dark      140   40031879          3.84  [Drama]   \n",
       "6  59  A History of Violence       96   60740827          3.63  [Drama]   \n",
       "7  70    Million Dollar Baby      132  216763646          3.84  [Drama]   \n",
       "8  73     American History X      119   23875127          4.15  [Drama]   \n",
       "\n",
       "             studios  \n",
       "2   [DreamWorks SKG]  \n",
       "3           [Canal+]  \n",
       "6  [New Line Cinema]  \n",
       "7     [Warner Bros.]  \n",
       "8  [New Line Cinema]  "
      ]
     },
     "execution_count": 73,
     "metadata": {},
     "output_type": "execute_result"
    }
   ],
   "source": [
    "movies.head()"
   ]
  },
  {
   "cell_type": "code",
   "execution_count": 96,
   "metadata": {
    "ExecuteTime": {
     "end_time": "2023-11-16T07:16:47.320423Z",
     "start_time": "2023-11-16T07:16:47.285811Z"
    },
    "tags": [
     "solution"
    ]
   },
   "outputs": [
    {
     "data": {
      "text/html": [
       "\n",
       "<style>\n",
       "  #altair-viz-51ed730136234266a1c964dca2349298.vega-embed {\n",
       "    width: 100%;\n",
       "    display: flex;\n",
       "  }\n",
       "\n",
       "  #altair-viz-51ed730136234266a1c964dca2349298.vega-embed details,\n",
       "  #altair-viz-51ed730136234266a1c964dca2349298.vega-embed details summary {\n",
       "    position: relative;\n",
       "  }\n",
       "</style>\n",
       "<div id=\"altair-viz-51ed730136234266a1c964dca2349298\"></div>\n",
       "<script type=\"text/javascript\">\n",
       "  var VEGA_DEBUG = (typeof VEGA_DEBUG == \"undefined\") ? {} : VEGA_DEBUG;\n",
       "  (function(spec, embedOpt){\n",
       "    let outputDiv = document.currentScript.previousElementSibling;\n",
       "    if (outputDiv.id !== \"altair-viz-51ed730136234266a1c964dca2349298\") {\n",
       "      outputDiv = document.getElementById(\"altair-viz-51ed730136234266a1c964dca2349298\");\n",
       "    }\n",
       "    const paths = {\n",
       "      \"vega\": \"https://cdn.jsdelivr.net/npm/vega@5?noext\",\n",
       "      \"vega-lib\": \"https://cdn.jsdelivr.net/npm/vega-lib?noext\",\n",
       "      \"vega-lite\": \"https://cdn.jsdelivr.net/npm/vega-lite@5.8.0?noext\",\n",
       "      \"vega-embed\": \"https://cdn.jsdelivr.net/npm/vega-embed@6?noext\",\n",
       "    };\n",
       "\n",
       "    function maybeLoadScript(lib, version) {\n",
       "      var key = `${lib.replace(\"-\", \"\")}_version`;\n",
       "      return (VEGA_DEBUG[key] == version) ?\n",
       "        Promise.resolve(paths[lib]) :\n",
       "        new Promise(function(resolve, reject) {\n",
       "          var s = document.createElement('script');\n",
       "          document.getElementsByTagName(\"head\")[0].appendChild(s);\n",
       "          s.async = true;\n",
       "          s.onload = () => {\n",
       "            VEGA_DEBUG[key] = version;\n",
       "            return resolve(paths[lib]);\n",
       "          };\n",
       "          s.onerror = () => reject(`Error loading script: ${paths[lib]}`);\n",
       "          s.src = paths[lib];\n",
       "        });\n",
       "    }\n",
       "\n",
       "    function showError(err) {\n",
       "      outputDiv.innerHTML = `<div class=\"error\" style=\"color:red;\">${err}</div>`;\n",
       "      throw err;\n",
       "    }\n",
       "\n",
       "    function displayChart(vegaEmbed) {\n",
       "      vegaEmbed(outputDiv, spec, embedOpt)\n",
       "        .catch(err => showError(`Javascript Error: ${err.message}<br>This usually means there's a typo in your chart specification. See the javascript console for the full traceback.`));\n",
       "    }\n",
       "\n",
       "    if(typeof define === \"function\" && define.amd) {\n",
       "      requirejs.config({paths});\n",
       "      require([\"vega-embed\"], displayChart, err => showError(`Error loading script: ${err.message}`));\n",
       "    } else {\n",
       "      maybeLoadScript(\"vega\", \"5\")\n",
       "        .then(() => maybeLoadScript(\"vega-lite\", \"5.8.0\"))\n",
       "        .then(() => maybeLoadScript(\"vega-embed\", \"6\"))\n",
       "        .catch(showError)\n",
       "        .then(() => displayChart(vegaEmbed));\n",
       "    }\n",
       "  })({\"config\": {\"view\": {\"continuousWidth\": 300, \"continuousHeight\": 300}}, \"repeat\": {\"column\": [\"vote_average\", \"runtime\", \"revenue\"], \"row\": [\"revenue\", \"runtime\", \"vote_average\"]}, \"spec\": {\"data\": {\"name\": \"data-b98185c46af72946cc44abcb25fbd79e\"}, \"mark\": {\"type\": \"point\", \"opacity\": 0.3}, \"encoding\": {\"x\": {\"field\": {\"repeat\": \"column\"}, \"scale\": {\"zero\": false}, \"type\": \"quantitative\"}, \"y\": {\"field\": {\"repeat\": \"row\"}, \"scale\": {\"zero\": false}, \"type\": \"quantitative\"}}, \"height\": 150, \"width\": 100}, \"$schema\": \"https://vega.github.io/schema/vega-lite/v5.8.0.json\", \"datasets\": {\"data-b98185c46af72946cc44abcb25fbd79e\": [{\"id\": 14, \"title\": \"American Beauty\", \"runtime\": 122, \"revenue\": 356296601, \"vote_average\": 4.13, \"genres\": [\"Drama\"], \"studios\": [\"DreamWorks SKG\"]}, {\"id\": 16, \"title\": \"Dancer in the Dark\", \"runtime\": 140, \"revenue\": 40031879, \"vote_average\": 3.84, \"genres\": [\"Drama\"], \"studios\": [\"Canal+\"]}, {\"id\": 59, \"title\": \"A History of Violence\", \"runtime\": 96, \"revenue\": 60740827, \"vote_average\": 3.63, \"genres\": [\"Drama\"], \"studios\": [\"New Line Cinema\"]}, {\"id\": 70, \"title\": \"Million Dollar Baby\", \"runtime\": 132, \"revenue\": 216763646, \"vote_average\": 3.84, \"genres\": [\"Drama\"], \"studios\": [\"Warner Bros.\"]}, {\"id\": 73, \"title\": \"American History X\", \"runtime\": 119, \"revenue\": 23875127, \"vote_average\": 4.15, \"genres\": [\"Drama\"], \"studios\": [\"New Line Cinema\"]}, {\"id\": 76, \"title\": \"Before Sunrise\", \"runtime\": 105, \"revenue\": 5535405, \"vote_average\": 3.89, \"genres\": [\"Romance\", \"Drama\"], \"studios\": [\"Warner Bros.\"]}, {\"id\": 78, \"title\": \"Blade Runner\", \"runtime\": 117, \"revenue\": 33139618, \"vote_average\": 4.12, \"genres\": [\"Science Fiction\", \"Drama\"], \"studios\": [\"Warner Bros.\"]}, {\"id\": 85, \"title\": \"Raiders of the Lost Ark\", \"runtime\": 115, \"revenue\": 389925971, \"vote_average\": 4.13, \"genres\": [\"Action\"], \"studios\": [\"Paramount Pictures\"]}, {\"id\": 87, \"title\": \"Indiana Jones and the Temple of Doom\", \"runtime\": 118, \"revenue\": 333000000, \"vote_average\": 3.69, \"genres\": [\"Action\"], \"studios\": [\"Paramount Pictures\"]}, {\"id\": 89, \"title\": \"Indiana Jones and the Last Crusade\", \"runtime\": 127, \"revenue\": 474171806, \"vote_average\": 3.98, \"genres\": [\"Action\"], \"studios\": [\"Paramount Pictures\"]}, {\"id\": 90, \"title\": \"Beverly Hills Cop\", \"runtime\": 105, \"revenue\": 316360478, \"vote_average\": 3.56, \"genres\": [\"Action\", \"Comedy\"], \"studios\": [\"Paramount Pictures\"]}, {\"id\": 96, \"title\": \"Beverly Hills Cop II\", \"runtime\": 100, \"revenue\": 299965036, \"vote_average\": 3.09, \"genres\": [\"Action\", \"Comedy\"], \"studios\": [\"Paramount Pictures\"]}, {\"id\": 97, \"title\": \"Tron\", \"runtime\": 96, \"revenue\": 33000000, \"vote_average\": 3.31, \"genres\": [\"Action\", \"Science Fiction\"], \"studios\": [\"Walt Disney Pictures\"]}, {\"id\": 98, \"title\": \"Gladiator\", \"runtime\": 155, \"revenue\": 457640427, \"vote_average\": 3.95, \"genres\": [\"Action\", \"Drama\"], \"studios\": [\"DreamWorks SKG\"]}, {\"id\": 117, \"title\": \"The Untouchables\", \"runtime\": 119, \"revenue\": 76270454, \"vote_average\": 3.88, \"genres\": [\"Drama\", \"History\"], \"studios\": [\"Paramount Pictures\"]}, {\"id\": 118, \"title\": \"Charlie and the Chocolate Factory\", \"runtime\": 115, \"revenue\": 474968763, \"vote_average\": 3.23, \"genres\": [\"Comedy\"], \"studios\": [\"Warner Bros.\"]}, {\"id\": 150, \"title\": \"48 Hrs.\", \"runtime\": 96, \"revenue\": 78868508, \"vote_average\": 3.49, \"genres\": [\"Action\", \"Comedy\", \"Drama\"], \"studios\": [\"Paramount Pictures\"]}, {\"id\": 152, \"title\": \"Star Trek: The Motion Picture\", \"runtime\": 132, \"revenue\": 139000000, \"vote_average\": 3.09, \"genres\": [\"Science Fiction\"], \"studios\": [\"Paramount Pictures\"]}, {\"id\": 154, \"title\": \"Star Trek II: The Wrath of Khan\", \"runtime\": 113, \"revenue\": 96800000, \"vote_average\": 3.68, \"genres\": [\"Action\", \"Science Fiction\"], \"studios\": [\"Paramount Pictures\"]}, {\"id\": 157, \"title\": \"Star Trek III: The Search for Spock\", \"runtime\": 105, \"revenue\": 87000000, \"vote_average\": 3.23, \"genres\": [\"Action\", \"Science Fiction\"], \"studios\": [\"Paramount Pictures\"]}, {\"id\": 164, \"title\": \"Breakfast at Tiffany's\", \"runtime\": 110, \"revenue\": 9500000, \"vote_average\": 3.8200000000000003, \"genres\": [\"Romance\", \"Comedy\", \"Drama\"], \"studios\": [\"Paramount Pictures\"]}, {\"id\": 168, \"title\": \"Star Trek IV: The Voyage Home\", \"runtime\": 119, \"revenue\": 133000000, \"vote_average\": 3.46, \"genres\": [\"Science Fiction\"], \"studios\": [\"Paramount Pictures\"]}, {\"id\": 172, \"title\": \"Star Trek V: The Final Frontier\", \"runtime\": 107, \"revenue\": 70200000, \"vote_average\": 2.87, \"genres\": [\"Action\", \"Science Fiction\"], \"studios\": [\"Paramount Pictures\"]}, {\"id\": 174, \"title\": \"Star Trek VI: The Undiscovered Country\", \"runtime\": 113, \"revenue\": 96900000, \"vote_average\": 3.3, \"genres\": [\"Action\", \"Science Fiction\"], \"studios\": [\"Paramount Pictures\"]}, {\"id\": 180, \"title\": \"Minority Report\", \"runtime\": 145, \"revenue\": 358372926, \"vote_average\": 3.67, \"genres\": [\"Action\", \"Science Fiction\"], \"studios\": [\"DreamWorks SKG\"]}, {\"id\": 185, \"title\": \"A Clockwork Orange\", \"runtime\": 136, \"revenue\": 26589000, \"vote_average\": 3.98, \"genres\": [\"Science Fiction\", \"Drama\"], \"studios\": [\"Warner Bros.\"]}, {\"id\": 193, \"title\": \"Star Trek: Generations\", \"runtime\": 118, \"revenue\": 120000000, \"vote_average\": 3.34, \"genres\": [\"Action\", \"Science Fiction\"], \"studios\": [\"Paramount Pictures\"]}, {\"id\": 194, \"title\": \"Am\\u00e9lie\", \"runtime\": 122, \"revenue\": 173921954, \"vote_average\": 4.13, \"genres\": [\"Romance\", \"Comedy\"], \"studios\": [\"Canal+\"]}, {\"id\": 199, \"title\": \"Star Trek: First Contact\", \"runtime\": 111, \"revenue\": 150000000, \"vote_average\": 3.67, \"genres\": [\"Action\", \"Science Fiction\"], \"studios\": [\"Paramount Pictures\"]}, {\"id\": 200, \"title\": \"Star Trek: Insurrection\", \"runtime\": 103, \"revenue\": 118000000, \"vote_average\": 3.19, \"genres\": [\"Action\", \"Science Fiction\"], \"studios\": [\"Paramount Pictures\"]}, {\"id\": 201, \"title\": \"Star Trek: Nemesis\", \"runtime\": 117, \"revenue\": 67312826, \"vote_average\": 3.13, \"genres\": [\"Action\", \"Science Fiction\"], \"studios\": [\"Paramount Pictures\"]}, {\"id\": 227, \"title\": \"The Outsiders\", \"runtime\": 91, \"revenue\": 33697647, \"vote_average\": 3.6, \"genres\": [\"Drama\"], \"studios\": [\"Warner Bros.\"]}, {\"id\": 231, \"title\": \"Syriana\", \"runtime\": 128, \"revenue\": 94000000, \"vote_average\": 3.55, \"genres\": [\"Drama\"], \"studios\": [\"Warner Bros.\"]}, {\"id\": 238, \"title\": \"The Godfather\", \"runtime\": 175, \"revenue\": 245066411, \"vote_average\": 4.34, \"genres\": [\"Drama\"], \"studios\": [\"Paramount Pictures\"]}, {\"id\": 240, \"title\": \"The Godfather: Part II\", \"runtime\": 200, \"revenue\": 47542841, \"vote_average\": 4.26, \"genres\": [\"Drama\"], \"studios\": [\"Paramount Pictures\"]}, {\"id\": 241, \"title\": \"Natural Born Killers\", \"runtime\": 119, \"revenue\": 50282766, \"vote_average\": 3.25, \"genres\": [\"Drama\"], \"studios\": [\"Warner Bros.\"]}, {\"id\": 242, \"title\": \"The Godfather: Part III\", \"runtime\": 162, \"revenue\": 136766062, \"vote_average\": 3.45, \"genres\": [\"Drama\"], \"studios\": [\"Paramount Pictures\"]}, {\"id\": 268, \"title\": \"Batman\", \"runtime\": 126, \"revenue\": 411348924, \"vote_average\": 3.38, \"genres\": [\"Action\"], \"studios\": [\"Warner Bros.\"]}, {\"id\": 272, \"title\": \"Batman Begins\", \"runtime\": 140, \"revenue\": 374218673, \"vote_average\": 3.94, \"genres\": [\"Action\", \"Drama\"], \"studios\": [\"Warner Bros.\"]}, {\"id\": 278, \"title\": \"The Shawshank Redemption\", \"runtime\": 142, \"revenue\": 28341469, \"vote_average\": 4.43, \"genres\": [\"Drama\"], \"studios\": [\"Warner Bros.\"]}, {\"id\": 279, \"title\": \"Amadeus\", \"runtime\": 160, \"revenue\": 51973029, \"vote_average\": 4.06, \"genres\": [\"Drama\", \"History\"], \"studios\": [\"Warner Bros.\"]}, {\"id\": 281, \"title\": \"Strange Days\", \"runtime\": 145, \"revenue\": 7959291, \"vote_average\": 3.42, \"genres\": [\"Science Fiction\", \"Drama\"], \"studios\": [\"Lightstorm Entertainment\"]}, {\"id\": 296, \"title\": \"Terminator 3: Rise of the Machines\", \"runtime\": 109, \"revenue\": 435000000, \"vote_average\": 3.07, \"genres\": [\"Action\", \"Science Fiction\"], \"studios\": [\"Warner Bros.\"]}, {\"id\": 300, \"title\": \"The Science of Sleep\", \"runtime\": 105, \"revenue\": 9524340, \"vote_average\": 3.75, \"genres\": [\"Comedy\", \"Drama\"], \"studios\": [\"Canal+\"]}, {\"id\": 306, \"title\": \"Beverly Hills Cop III\", \"runtime\": 104, \"revenue\": 119208989, \"vote_average\": 2.76, \"genres\": [\"Action\", \"Comedy\"], \"studios\": [\"Paramount Pictures\"]}, {\"id\": 314, \"title\": \"Catwoman\", \"runtime\": 104, \"revenue\": 82102379, \"vote_average\": 1.8599999999999999, \"genres\": [\"Action\"], \"studios\": [\"Warner Bros.\"]}, {\"id\": 319, \"title\": \"True Romance\", \"runtime\": 120, \"revenue\": 12281551, \"vote_average\": 3.8, \"genres\": [\"Action\", \"Romance\"], \"studios\": [\"Warner Bros.\"]}, {\"id\": 322, \"title\": \"Mystic River\", \"runtime\": 138, \"revenue\": 156822020, \"vote_average\": 3.83, \"genres\": [\"Drama\"], \"studios\": [\"Warner Bros.\"]}, {\"id\": 326, \"title\": \"Snakes on a Plane\", \"runtime\": 105, \"revenue\": 62022014, \"vote_average\": 2.54, \"genres\": [\"Action\", \"Horror\"], \"studios\": [\"New Line Cinema\"]}, {\"id\": 334, \"title\": \"Magnolia\", \"runtime\": 188, \"revenue\": 48451803, \"vote_average\": 3.86, \"genres\": [\"Drama\"], \"studios\": [\"New Line Cinema\"]}, {\"id\": 345, \"title\": \"Eyes Wide Shut\", \"runtime\": 159, \"revenue\": 162091208, \"vote_average\": 3.23, \"genres\": [\"Drama\"], \"studios\": [\"Warner Bros.\"]}, {\"id\": 364, \"title\": \"Batman Returns\", \"runtime\": 126, \"revenue\": 280000000, \"vote_average\": 3.12, \"genres\": [\"Action\"], \"studios\": [\"Warner Bros.\"]}, {\"id\": 377, \"title\": \"A Nightmare on Elm Street\", \"runtime\": 91, \"revenue\": 25504513, \"vote_average\": 3.26, \"genres\": [\"Horror\"], \"studios\": [\"New Line Cinema\"]}, {\"id\": 403, \"title\": \"Driving Miss Daisy\", \"runtime\": 99, \"revenue\": 145793296, \"vote_average\": 3.68, \"genres\": [\"Comedy\", \"Drama\"], \"studios\": [\"Warner Bros.\"]}, {\"id\": 414, \"title\": \"Batman Forever\", \"runtime\": 121, \"revenue\": 336529144, \"vote_average\": 2.91, \"genres\": [\"Action\"], \"studios\": [\"Warner Bros.\"]}, {\"id\": 415, \"title\": \"Batman & Robin\", \"runtime\": 125, \"revenue\": 238207122, \"vote_average\": 2.2, \"genres\": [\"Action\"], \"studios\": [\"Warner Bros.\"]}, {\"id\": 423, \"title\": \"The Pianist\", \"runtime\": 150, \"revenue\": 120072577, \"vote_average\": 4.05, \"genres\": [\"War\", \"Drama\"], \"studios\": [\"Canal+\"]}, {\"id\": 453, \"title\": \"A Beautiful Mind\", \"runtime\": 135, \"revenue\": 313542341, \"vote_average\": 3.96, \"genres\": [\"Romance\", \"Drama\"], \"studios\": [\"DreamWorks SKG\"]}, {\"id\": 479, \"title\": \"Shaft\", \"runtime\": 99, \"revenue\": 107196498, \"vote_average\": 2.98, \"genres\": [\"Action\"], \"studios\": [\"Paramount Pictures\"]}, {\"id\": 497, \"title\": \"The Green Mile\", \"runtime\": 189, \"revenue\": 284600000, \"vote_average\": 4.02, \"genres\": [\"Drama\"], \"studios\": [\"Warner Bros.\"]}, {\"id\": 503, \"title\": \"Poseidon\", \"runtime\": 99, \"revenue\": 181674817, \"vote_average\": 2.68, \"genres\": [\"Action\", \"Drama\"], \"studios\": [\"Warner Bros.\"]}, {\"id\": 510, \"title\": \"One Flew Over the Cuckoo's Nest\", \"runtime\": 133, \"revenue\": 108981275, \"vote_average\": 4.23, \"genres\": [\"Drama\"], \"studios\": [\"Warner Bros.\"]}, {\"id\": 526, \"title\": \"Ladyhawke\", \"runtime\": 121, \"revenue\": 18432000, \"vote_average\": 3.56, \"genres\": [\"Romance\", \"Drama\"], \"studios\": [\"Warner Bros.\"]}, {\"id\": 533, \"title\": \"The Curse of the Were-Rabbit\", \"runtime\": 85, \"revenue\": 192452832, \"vote_average\": 3.7199999999999998, \"genres\": [\"Animation\", \"Comedy\"], \"studios\": [\"DreamWorks Animation\"]}, {\"id\": 534, \"title\": \"Terminator Salvation\", \"runtime\": 115, \"revenue\": 371353001, \"vote_average\": 3.15, \"genres\": [\"Action\", \"Science Fiction\"], \"studios\": [\"Warner Bros.\"]}, {\"id\": 535, \"title\": \"Flashdance\", \"runtime\": 95, \"revenue\": 92921203, \"vote_average\": 2.98, \"genres\": [\"Romance\", \"Drama\"], \"studios\": [\"Paramount Pictures\"]}, {\"id\": 539, \"title\": \"Psycho\", \"runtime\": 109, \"revenue\": 32000000, \"vote_average\": 4.07, \"genres\": [\"Horror\", \"Drama\"], \"studios\": [\"Paramount Pictures\"]}, {\"id\": 561, \"title\": \"Constantine\", \"runtime\": 121, \"revenue\": 230884728, \"vote_average\": 3.41, \"genres\": [\"Horror\", \"Drama\"], \"studios\": [\"Warner Bros.\"]}, {\"id\": 565, \"title\": \"The Ring\", \"runtime\": 115, \"revenue\": 249348933, \"vote_average\": 3.37, \"genres\": [\"Horror\"], \"studios\": [\"DreamWorks SKG\"]}, {\"id\": 586, \"title\": \"Wag the Dog\", \"runtime\": 97, \"revenue\": 64256513, \"vote_average\": 3.51, \"genres\": [\"Comedy\", \"Drama\"], \"studios\": [\"New Line Cinema\"]}, {\"id\": 590, \"title\": \"The Hours\", \"runtime\": 114, \"revenue\": 41597830, \"vote_average\": 3.69, \"genres\": [\"Drama\"], \"studios\": [\"Paramount Pictures\"]}, {\"id\": 592, \"title\": \"The Conversation\", \"runtime\": 113, \"revenue\": 4420000, \"vote_average\": 4.05, \"genres\": [\"Drama\"], \"studios\": [\"Paramount Pictures\"]}, {\"id\": 594, \"title\": \"The Terminal\", \"runtime\": 128, \"revenue\": 219417255, \"vote_average\": 3.5700000000000003, \"genres\": [\"Comedy\", \"Drama\"], \"studios\": [\"DreamWorks SKG\"]}, {\"id\": 600, \"title\": \"Full Metal Jacket\", \"runtime\": 116, \"revenue\": 46357676, \"vote_average\": 4.04, \"genres\": [\"War\", \"Drama\"], \"studios\": [\"Warner Bros.\"]}, {\"id\": 603, \"title\": \"The Matrix\", \"runtime\": 136, \"revenue\": 463517383, \"vote_average\": 4.15, \"genres\": [\"Action\", \"Science Fiction\"], \"studios\": [\"Warner Bros.\"]}, {\"id\": 605, \"title\": \"The Matrix Revolutions\", \"runtime\": 129, \"revenue\": 424988211, \"vote_average\": 3.19, \"genres\": [\"Action\", \"Science Fiction\"], \"studios\": [\"Warner Bros.\"]}, {\"id\": 612, \"title\": \"Munich\", \"runtime\": 164, \"revenue\": 130358911, \"vote_average\": 3.7199999999999998, \"genres\": [\"Action\", \"Drama\", \"History\"], \"studios\": [\"DreamWorks SKG\"]}, {\"id\": 616, \"title\": \"The Last Samurai\", \"runtime\": 154, \"revenue\": 456758981, \"vote_average\": 3.67, \"genres\": [\"Action\", \"War\", \"Drama\", \"History\"], \"studios\": [\"Warner Bros.\"]}, {\"id\": 619, \"title\": \"The Bodyguard\", \"runtime\": 129, \"revenue\": 411006740, \"vote_average\": 2.79, \"genres\": [\"Action\", \"Romance\", \"Drama\"], \"studios\": [\"Warner Bros.\"]}, {\"id\": 621, \"title\": \"Grease\", \"runtime\": 110, \"revenue\": 181813770, \"vote_average\": 3.31, \"genres\": [\"Romance\"], \"studios\": [\"Paramount Pictures\"]}, {\"id\": 622, \"title\": \"The Ninth Gate\", \"runtime\": 133, \"revenue\": 58401898, \"vote_average\": 3.22, \"genres\": [\"Horror\"], \"studios\": [\"Canal+\"]}, {\"id\": 636, \"title\": \"THX 1138\", \"runtime\": 86, \"revenue\": 2437000, \"vote_average\": 3.45, \"genres\": [\"Science Fiction\", \"Drama\"], \"studios\": [\"Warner Bros.\"]}, {\"id\": 644, \"title\": \"A.I. Artificial Intelligence\", \"runtime\": 146, \"revenue\": 235926552, \"vote_average\": 3.25, \"genres\": [\"Science Fiction\", \"Drama\"], \"studios\": [\"DreamWorks SKG\", \"Warner Bros.\"]}, {\"id\": 652, \"title\": \"Troy\", \"runtime\": 163, \"revenue\": 497409852, \"vote_average\": 3.34, \"genres\": [\"War\", \"Drama\"], \"studios\": [\"Warner Bros.\"]}, {\"id\": 664, \"title\": \"Twister\", \"runtime\": 113, \"revenue\": 494471524, \"vote_average\": 3.22, \"genres\": [\"Action\", \"Drama\"], \"studios\": [\"Warner Bros.\"]}, {\"id\": 686, \"title\": \"Contact\", \"runtime\": 150, \"revenue\": 171120329, \"vote_average\": 3.67, \"genres\": [\"Science Fiction\", \"Drama\"], \"studios\": [\"Warner Bros.\"]}, {\"id\": 688, \"title\": \"The Bridges of Madison County\", \"runtime\": 135, \"revenue\": 182016617, \"vote_average\": 3.33, \"genres\": [\"Romance\", \"Drama\"], \"studios\": [\"Warner Bros.\"]}, {\"id\": 694, \"title\": \"The Shining\", \"runtime\": 144, \"revenue\": 44017374, \"vote_average\": 4.01, \"genres\": [\"Horror\"], \"studios\": [\"Warner Bros.\"]}, {\"id\": 744, \"title\": \"Top Gun\", \"runtime\": 110, \"revenue\": 356830601, \"vote_average\": 3.41, \"genres\": [\"Action\", \"War\", \"Romance\"], \"studios\": [\"Paramount Pictures\"]}, {\"id\": 752, \"title\": \"V for Vendetta\", \"runtime\": 132, \"revenue\": 132511035, \"vote_average\": 3.92, \"genres\": [\"Action\"], \"studios\": [\"Warner Bros.\"]}, {\"id\": 754, \"title\": \"Face/Off\", \"runtime\": 138, \"revenue\": 245676146, \"vote_average\": 3.33, \"genres\": [\"Action\", \"Science Fiction\"], \"studios\": [\"Paramount Pictures\"]}, {\"id\": 795, \"title\": \"City of Angels\", \"runtime\": 114, \"revenue\": 198685114, \"vote_average\": 3.2800000000000002, \"genres\": [\"Romance\", \"Drama\"], \"studios\": [\"Warner Bros.\"]}, {\"id\": 805, \"title\": \"Rosemary's Baby\", \"runtime\": 136, \"revenue\": 33395426, \"vote_average\": 3.74, \"genres\": [\"Horror\", \"Drama\"], \"studios\": [\"Paramount Pictures\"]}, {\"id\": 808, \"title\": \"Shrek\", \"runtime\": 90, \"revenue\": 484409218, \"vote_average\": 3.79, \"genres\": [\"Animation\", \"Comedy\"], \"studios\": [\"DreamWorks SKG\", \"DreamWorks Animation\"]}, {\"id\": 813, \"title\": \"Airplane!\", \"runtime\": 88, \"revenue\": 83453539, \"vote_average\": 3.79, \"genres\": [\"Comedy\"], \"studios\": [\"Paramount Pictures\"]}, {\"id\": 816, \"title\": \"Austin Powers: International Man of Mystery\", \"runtime\": 94, \"revenue\": 67683989, \"vote_average\": 3.4, \"genres\": [\"Comedy\", \"Science Fiction\"], \"studios\": [\"New Line Cinema\"]}, {\"id\": 817, \"title\": \"Austin Powers: The Spy Who Shagged Me\", \"runtime\": 95, \"revenue\": 310940086, \"vote_average\": 3.19, \"genres\": [\"Science Fiction\", \"Comedy\"], \"studios\": [\"New Line Cinema\"]}, {\"id\": 818, \"title\": \"Austin Powers in Goldmember\", \"runtime\": 94, \"revenue\": 296655431, \"vote_average\": 2.95, \"genres\": [\"Science Fiction\", \"Comedy\"], \"studios\": [\"New Line Cinema\"]}, {\"id\": 819, \"title\": \"Sleepers\", \"runtime\": 147, \"revenue\": 165615285, \"vote_average\": 3.63, \"genres\": [\"Drama\"], \"studios\": [\"Warner Bros.\"]}, {\"id\": 820, \"title\": \"JFK\", \"runtime\": 189, \"revenue\": 205405498, \"vote_average\": 3.65, \"genres\": [\"Drama\", \"History\"], \"studios\": [\"Warner Bros.\"]}, {\"id\": 829, \"title\": \"Chinatown\", \"runtime\": 130, \"revenue\": 30000000, \"vote_average\": 4.16, \"genres\": [\"Drama\"], \"studios\": [\"Paramount Pictures\"]}, {\"id\": 853, \"title\": \"Enemy at the Gates\", \"runtime\": 131, \"revenue\": 96976270, \"vote_average\": 3.7199999999999998, \"genres\": [\"War\"], \"studios\": [\"Paramount Pictures\"]}, {\"id\": 854, \"title\": \"The Mask\", \"runtime\": 101, \"revenue\": 351583407, \"vote_average\": 3.18, \"genres\": [\"Romance\", \"Comedy\"], \"studios\": [\"New Line Cinema\"]}, {\"id\": 857, \"title\": \"Saving Private Ryan\", \"runtime\": 169, \"revenue\": 481840909, \"vote_average\": 4.05, \"genres\": [\"War\", \"Drama\", \"History\"], \"studios\": [\"DreamWorks SKG\", \"Paramount Pictures\"]}, {\"id\": 859, \"title\": \"Dangerous Liaisons\", \"runtime\": 119, \"revenue\": 34670720, \"vote_average\": 3.86, \"genres\": [\"Romance\", \"Drama\"], \"studios\": [\"Warner Bros.\"]}, {\"id\": 862, \"title\": \"Toy Story\", \"runtime\": 81, \"revenue\": 373554033, \"vote_average\": 3.89, \"genres\": [\"Animation\", \"Comedy\"], \"studios\": [\"Pixar Animation Studios\"]}, {\"id\": 863, \"title\": \"Toy Story 2\", \"runtime\": 92, \"revenue\": 497366869, \"vote_average\": 3.81, \"genres\": [\"Animation\", \"Comedy\"], \"studios\": [\"Pixar Animation Studios\"]}, {\"id\": 867, \"title\": \"Sliver\", \"runtime\": 108, \"revenue\": 116300000, \"vote_average\": 2.7199999999999998, \"genres\": [\"Drama\"], \"studios\": [\"Paramount Pictures\"]}, {\"id\": 873, \"title\": \"The Color Purple\", \"runtime\": 154, \"revenue\": 146292009, \"vote_average\": 3.73, \"genres\": [\"Drama\"], \"studios\": [\"Warner Bros.\"]}, {\"id\": 891, \"title\": \"All the President's Men\", \"runtime\": 138, \"revenue\": 70600000, \"vote_average\": 4.03, \"genres\": [\"Drama\", \"History\"], \"studios\": [\"Warner Bros.\"]}, {\"id\": 902, \"title\": \"The City of Lost Children\", \"runtime\": 108, \"revenue\": 1738611, \"vote_average\": 3.92, \"genres\": [\"Science Fiction\"], \"studios\": [\"Canal+\"]}, {\"id\": 903, \"title\": \"Cool Hand Luke\", \"runtime\": 126, \"revenue\": 16217773, \"vote_average\": 4.08, \"genres\": [\"Drama\"], \"studios\": [\"Warner Bros.\"]}, {\"id\": 920, \"title\": \"Cars\", \"runtime\": 117, \"revenue\": 461983149, \"vote_average\": 3.37, \"genres\": [\"Animation\", \"Comedy\"], \"studios\": [\"Pixar Animation Studios\", \"Walt Disney Pictures\"]}, {\"id\": 926, \"title\": \"Galaxy Quest\", \"runtime\": 102, \"revenue\": 90683916, \"vote_average\": 3.59, \"genres\": [\"Science Fiction\", \"Comedy\"], \"studios\": [\"DreamWorks SKG\"]}, {\"id\": 927, \"title\": \"Gremlins\", \"runtime\": 106, \"revenue\": 153083102, \"vote_average\": 3.25, \"genres\": [\"Horror\", \"Comedy\"], \"studios\": [\"Warner Bros.\"]}, {\"id\": 928, \"title\": \"Gremlins 2: The New Batch\", \"runtime\": 106, \"revenue\": 41482207, \"vote_average\": 2.73, \"genres\": [\"Horror\", \"Comedy\"], \"studios\": [\"Warner Bros.\"]}, {\"id\": 941, \"title\": \"Lethal Weapon\", \"runtime\": 110, \"revenue\": 120207127, \"vote_average\": 3.69, \"genres\": [\"Action\", \"Comedy\"], \"studios\": [\"Warner Bros.\"]}, {\"id\": 942, \"title\": \"Lethal Weapon 2\", \"runtime\": 114, \"revenue\": 227853986, \"vote_average\": 3.31, \"genres\": [\"Action\", \"Comedy\"], \"studios\": [\"Warner Bros.\"]}, {\"id\": 943, \"title\": \"Lethal Weapon 3\", \"runtime\": 118, \"revenue\": 321731527, \"vote_average\": 3.21, \"genres\": [\"Action\", \"Comedy\"], \"studios\": [\"Warner Bros.\"]}, {\"id\": 944, \"title\": \"Lethal Weapon 4\", \"runtime\": 127, \"revenue\": 285444603, \"vote_average\": 3.13, \"genres\": [\"Action\", \"Comedy\"], \"studios\": [\"Warner Bros.\"]}, {\"id\": 949, \"title\": \"Heat\", \"runtime\": 170, \"revenue\": 187436818, \"vote_average\": 3.84, \"genres\": [\"Action\", \"Drama\"], \"studios\": [\"Warner Bros.\"]}, {\"id\": 954, \"title\": \"Mission: Impossible\", \"runtime\": 110, \"revenue\": 457696359, \"vote_average\": 3.4, \"genres\": [\"Action\"], \"studios\": [\"Paramount Pictures\"]}, {\"id\": 956, \"title\": \"Mission: Impossible III\", \"runtime\": 126, \"revenue\": 397850012, \"vote_average\": 3.34, \"genres\": [\"Action\"], \"studios\": [\"Paramount Pictures\"]}, {\"id\": 968, \"title\": \"Dog Day Afternoon\", \"runtime\": 125, \"revenue\": 46665856, \"vote_average\": 3.96, \"genres\": [\"Drama\"], \"studios\": [\"Warner Bros.\"]}, {\"id\": 984, \"title\": \"Dirty Harry\", \"runtime\": 102, \"revenue\": 35976000, \"vote_average\": 3.77, \"genres\": [\"Action\"], \"studios\": [\"Warner Bros.\"]}, {\"id\": 1018, \"title\": \"Mulholland Drive\", \"runtime\": 147, \"revenue\": 20117339, \"vote_average\": 3.8200000000000003, \"genres\": [\"Drama\"], \"studios\": [\"Canal+\"]}, {\"id\": 1124, \"title\": \"The Prestige\", \"runtime\": 130, \"revenue\": 109676311, \"vote_average\": 4.08, \"genres\": [\"Drama\"], \"studios\": [\"Warner Bros.\"]}, {\"id\": 1125, \"title\": \"Dreamgirls\", \"runtime\": 134, \"revenue\": 154937680, \"vote_average\": 3.26, \"genres\": [\"Drama\"], \"studios\": [\"DreamWorks SKG\", \"Paramount Pictures\"]}, {\"id\": 1165, \"title\": \"The Queen\", \"runtime\": 103, \"revenue\": 123384128, \"vote_average\": 3.7199999999999998, \"genres\": [\"Drama\"], \"studios\": [\"Canal+\"]}, {\"id\": 1213, \"title\": \"The Talented Mr. Ripley\", \"runtime\": 139, \"revenue\": 128798265, \"vote_average\": 3.5, \"genres\": [\"Drama\"], \"studios\": [\"Paramount Pictures\"]}, {\"id\": 1251, \"title\": \"Letters from Iwo Jima\", \"runtime\": 141, \"revenue\": 68673228, \"vote_average\": 3.8200000000000003, \"genres\": [\"Action\", \"War\", \"Drama\"], \"studios\": [\"DreamWorks SKG\", \"Warner Bros.\"]}, {\"id\": 1267, \"title\": \"Meet the Robinsons\", \"runtime\": 95, \"revenue\": 169332978, \"vote_average\": 3.48, \"genres\": [\"Animation\", \"Comedy\"], \"studios\": [\"Walt Disney Pictures\"]}, {\"id\": 1271, \"title\": \"300\", \"runtime\": 117, \"revenue\": 422610419, \"vote_average\": 3.6, \"genres\": [\"Action\", \"War\"], \"studios\": [\"Warner Bros.\"]}, {\"id\": 1273, \"title\": \"TMNT\", \"runtime\": 90, \"revenue\": 95608995, \"vote_average\": 2.9, \"genres\": [\"Animation\", \"Comedy\"], \"studios\": [\"Warner Bros.\"]}, {\"id\": 1372, \"title\": \"Blood Diamond\", \"runtime\": 143, \"revenue\": 170877916, \"vote_average\": 3.86, \"genres\": [\"Action\", \"Drama\"], \"studios\": [\"Warner Bros.\"]}, {\"id\": 1381, \"title\": \"The Fountain\", \"runtime\": 96, \"revenue\": 15304890, \"vote_average\": 3.61, \"genres\": [\"Science Fiction\", \"Romance\", \"Drama\"], \"studios\": [\"Warner Bros.\"]}, {\"id\": 1406, \"title\": \"City Slickers\", \"runtime\": 112, \"revenue\": 179033791, \"vote_average\": 3.3, \"genres\": [\"Action\", \"Comedy\", \"Drama\"], \"studios\": [\"New Line Cinema\"]}, {\"id\": 1422, \"title\": \"The Departed\", \"runtime\": 151, \"revenue\": 289847354, \"vote_average\": 4.12, \"genres\": [\"Drama\"], \"studios\": [\"Warner Bros.\"]}, {\"id\": 1440, \"title\": \"Little Children\", \"runtime\": 136, \"revenue\": 14821658, \"vote_average\": 3.77, \"genres\": [\"Romance\", \"Drama\"], \"studios\": [\"New Line Cinema\"]}, {\"id\": 1452, \"title\": \"Superman Returns\", \"runtime\": 154, \"revenue\": 391081192, \"vote_average\": 2.9699999999999998, \"genres\": [\"Action\", \"Science Fiction\"], \"studios\": [\"Warner Bros.\"]}, {\"id\": 1492, \"title\": \"1492: Conquest of Paradise\", \"runtime\": 154, \"revenue\": 7191399, \"vote_average\": 3.1, \"genres\": [\"Action\", \"Drama\", \"History\"], \"studios\": [\"Paramount Pictures\"]}, {\"id\": 1497, \"title\": \"Teenage Mutant Ninja Turtles II: The Secret of the Ooze\", \"runtime\": 88, \"revenue\": 78000000, \"vote_average\": 2.5300000000000002, \"genres\": [\"Action\", \"Comedy\", \"Science Fiction\"], \"studios\": [\"New Line Cinema\"]}, {\"id\": 1498, \"title\": \"Teenage Mutant Ninja Turtles\", \"runtime\": 93, \"revenue\": 202000000, \"vote_average\": 2.85, \"genres\": [\"Action\", \"Comedy\", \"Science Fiction\"], \"studios\": [\"New Line Cinema\"]}, {\"id\": 1499, \"title\": \"Teenage Mutant Ninja Turtles III\", \"runtime\": 96, \"revenue\": 42000000, \"vote_average\": 2.21, \"genres\": [\"Action\", \"Science Fiction\", \"Comedy\"], \"studios\": [\"New Line Cinema\"]}, {\"id\": 1537, \"title\": \"Changing Lanes\", \"runtime\": 89, \"revenue\": 94935764, \"vote_average\": 3.27, \"genres\": [\"Action\"], \"studios\": [\"Paramount Pictures\"]}, {\"id\": 1538, \"title\": \"Collateral\", \"runtime\": 120, \"revenue\": 217764291, \"vote_average\": 3.69, \"genres\": [\"Drama\"], \"studios\": [\"DreamWorks SKG\", \"Paramount Pictures\"]}, {\"id\": 1547, \"title\": \"The Lost Boys\", \"runtime\": 97, \"revenue\": 32222567, \"vote_average\": 3.5700000000000003, \"genres\": [\"Horror\", \"Comedy\"], \"studios\": [\"Warner Bros.\"]}, {\"id\": 1584, \"title\": \"School of Rock\", \"runtime\": 108, \"revenue\": 131282949, \"vote_average\": 3.39, \"genres\": [\"Comedy\"], \"studios\": [\"Paramount Pictures\"]}, {\"id\": 1587, \"title\": \"What's Eating Gilbert Grape\", \"runtime\": 118, \"revenue\": 10032765, \"vote_average\": 3.75, \"genres\": [\"Romance\", \"Drama\"], \"studios\": [\"Paramount Pictures\"]}, {\"id\": 1592, \"title\": \"Primal Fear\", \"runtime\": 129, \"revenue\": 102616183, \"vote_average\": 3.75, \"genres\": [\"Drama\"], \"studios\": [\"Paramount Pictures\"]}, {\"id\": 1597, \"title\": \"Meet the Parents\", \"runtime\": 108, \"revenue\": 330444045, \"vote_average\": 3.42, \"genres\": [\"Romance\", \"Comedy\"], \"studios\": [\"DreamWorks SKG\"]}, {\"id\": 1621, \"title\": \"Trading Places\", \"runtime\": 116, \"revenue\": 90400000, \"vote_average\": 3.7199999999999998, \"genres\": [\"Comedy\"], \"studios\": [\"Paramount Pictures\"]}, {\"id\": 1635, \"title\": \"The Island\", \"runtime\": 136, \"revenue\": 162949164, \"vote_average\": 3.41, \"genres\": [\"Action\", \"Science Fiction\"], \"studios\": [\"DreamWorks SKG\", \"Warner Bros.\"]}, {\"id\": 1641, \"title\": \"Forces of Nature\", \"runtime\": 105, \"revenue\": 93888180, \"vote_average\": 2.73, \"genres\": [\"Romance\", \"Comedy\"], \"studios\": [\"DreamWorks SKG\"]}, {\"id\": 1645, \"title\": \"A Time to Kill\", \"runtime\": 149, \"revenue\": 152266007, \"vote_average\": 3.69, \"genres\": [\"Drama\"], \"studios\": [\"Warner Bros.\"]}, {\"id\": 1669, \"title\": \"The Hunt for Red October\", \"runtime\": 134, \"revenue\": 199200000, \"vote_average\": 3.86, \"genres\": [\"Action\"], \"studios\": [\"Paramount Pictures\"]}, {\"id\": 1683, \"title\": \"The Reaping\", \"runtime\": 99, \"revenue\": 62771059, \"vote_average\": 2.8, \"genres\": [\"Horror\"], \"studios\": [\"Warner Bros.\"]}, {\"id\": 1724, \"title\": \"The Incredible Hulk\", \"runtime\": 114, \"revenue\": 163712074, \"vote_average\": 3.22, \"genres\": [\"Action\", \"Science Fiction\"], \"studios\": [\"Marvel Studios\"]}, {\"id\": 1738, \"title\": \"Next\", \"runtime\": 96, \"revenue\": 76066841, \"vote_average\": 3.22, \"genres\": [\"Action\", \"Science Fiction\"], \"studios\": [\"Paramount Pictures\"]}, {\"id\": 1771, \"title\": \"Captain America: The First Avenger\", \"runtime\": 124, \"revenue\": 370569774, \"vote_average\": 3.52, \"genres\": [\"Action\", \"Science Fiction\"], \"studios\": [\"Marvel Studios\", \"Paramount Pictures\"]}, {\"id\": 1788, \"title\": \"Footloose\", \"runtime\": 107, \"revenue\": 80035402, \"vote_average\": 3.12, \"genres\": [\"Romance\", \"Drama\"], \"studios\": [\"Paramount Pictures\"]}, {\"id\": 1791, \"title\": \"The Piano Teacher\", \"runtime\": 131, \"revenue\": 9801375, \"vote_average\": 3.55, \"genres\": [\"Romance\", \"Drama\"], \"studios\": [\"Canal+\"]}, {\"id\": 1813, \"title\": \"The Devil's Advocate\", \"runtime\": 144, \"revenue\": 152944660, \"vote_average\": 3.52, \"genres\": [\"Horror\", \"Drama\"], \"studios\": [\"Warner Bros.\"]}, {\"id\": 1825, \"title\": \"Over the Top\", \"runtime\": 93, \"revenue\": 16057580, \"vote_average\": 2.38, \"genres\": [\"Action\", \"Drama\"], \"studios\": [\"Warner Bros.\"]}, {\"id\": 1826, \"title\": \"Russian Dolls\", \"runtime\": 129, \"revenue\": 23727301, \"vote_average\": 3.5700000000000003, \"genres\": [\"Romance\", \"Comedy\", \"Drama\"], \"studios\": [\"Canal+\"]}, {\"id\": 1852, \"title\": \"World Trade Center\", \"runtime\": 128, \"revenue\": 162945894, \"vote_average\": 2.94, \"genres\": [\"Drama\", \"History\"], \"studios\": [\"Paramount Pictures\"]}, {\"id\": 1883, \"title\": \"Malcolm X\", \"runtime\": 202, \"revenue\": 48169908, \"vote_average\": 3.7800000000000002, \"genres\": [\"Drama\", \"History\"], \"studios\": [\"Warner Bros.\"]}, {\"id\": 1903, \"title\": \"Vanilla Sky\", \"runtime\": 136, \"revenue\": 203388341, \"vote_average\": 3.38, \"genres\": [\"Science Fiction\", \"Romance\", \"Drama\"], \"studios\": [\"Paramount Pictures\"]}, {\"id\": 1904, \"title\": \"Memoirs of a Geisha\", \"runtime\": 145, \"revenue\": 162242962, \"vote_average\": 3.61, \"genres\": [\"Romance\", \"Drama\", \"History\"], \"studios\": [\"DreamWorks SKG\"]}, {\"id\": 1909, \"title\": \"Don Juan DeMarco\", \"runtime\": 97, \"revenue\": 22200000, \"vote_average\": 3.44, \"genres\": [\"Comedy\", \"Romance\", \"Drama\"], \"studios\": [\"New Line Cinema\"]}, {\"id\": 1921, \"title\": \"Sweet November\", \"runtime\": 119, \"revenue\": 65754228, \"vote_average\": 3.05, \"genres\": [\"Romance\", \"Drama\"], \"studios\": [\"Warner Bros.\"]}, {\"id\": 1923, \"title\": \"Twin Peaks: Fire Walk with Me\", \"runtime\": 134, \"revenue\": 4160851, \"vote_average\": 3.52, \"genres\": [\"Drama\"], \"studios\": [\"New Line Cinema\"]}, {\"id\": 1924, \"title\": \"Superman\", \"runtime\": 143, \"revenue\": 300218018, \"vote_average\": 3.38, \"genres\": [\"Action\", \"Science Fiction\"], \"studios\": [\"Warner Bros.\"]}, {\"id\": 1949, \"title\": \"Zodiac\", \"runtime\": 157, \"revenue\": 84785914, \"vote_average\": 3.7, \"genres\": [\"Drama\"], \"studios\": [\"Warner Bros.\", \"Paramount Pictures\"]}, {\"id\": 1954, \"title\": \"The Butterfly Effect\", \"runtime\": 113, \"revenue\": 96060858, \"vote_average\": 3.71, \"genres\": [\"Science Fiction\"], \"studios\": [\"New Line Cinema\"]}, {\"id\": 1965, \"title\": \"A Perfect Murder\", \"runtime\": 107, \"revenue\": 128038368, \"vote_average\": 3.38, \"genres\": [\"Drama\"], \"studios\": [\"Warner Bros.\"]}, {\"id\": 1966, \"title\": \"Alexander\", \"runtime\": 175, \"revenue\": 167298192, \"vote_average\": 2.61, \"genres\": [\"Romance\", \"Action\", \"Drama\", \"War\", \"History\"], \"studios\": [\"Warner Bros.\"]}, {\"id\": 1969, \"title\": \"Bandidas\", \"runtime\": 93, \"revenue\": 10496317, \"vote_average\": 2.7800000000000002, \"genres\": [\"Action\", \"Comedy\"], \"studios\": [\"Canal+\"]}, {\"id\": 1995, \"title\": \"Lara Croft: Tomb Raider\", \"runtime\": 100, \"revenue\": 274703340, \"vote_average\": 2.76, \"genres\": [\"Action\"], \"studios\": [\"Paramount Pictures\"]}, {\"id\": 1996, \"title\": \"Lara Croft Tomb Raider: The Cradle of Life\", \"runtime\": 117, \"revenue\": 156505388, \"vote_average\": 2.75, \"genres\": [\"Action\"], \"studios\": [\"Paramount Pictures\"]}, {\"id\": 1997, \"title\": \"Two Brothers\", \"runtime\": 109, \"revenue\": 62172050, \"vote_average\": 3.39, \"genres\": [\"Drama\"], \"studios\": [\"Canal+\"]}, {\"id\": 2013, \"title\": \"The Diving Bell and the Butterfly\", \"runtime\": 112, \"revenue\": 19777647, \"vote_average\": 3.89, \"genres\": [\"Drama\"], \"studios\": [\"Canal+\"]}, {\"id\": 2022, \"title\": \"Mr. Deeds\", \"runtime\": 96, \"revenue\": 171269535, \"vote_average\": 2.84, \"genres\": [\"Romance\", \"Comedy\"], \"studios\": [\"New Line Cinema\"]}, {\"id\": 2034, \"title\": \"Training Day\", \"runtime\": 122, \"revenue\": 104876233, \"vote_average\": 3.71, \"genres\": [\"Action\", \"Drama\"], \"studios\": [\"Warner Bros.\"]}, {\"id\": 2043, \"title\": \"Along Came a Spider\", \"runtime\": 104, \"revenue\": 105178561, \"vote_average\": 3.26, \"genres\": [\"Action\"], \"studios\": [\"Paramount Pictures\"]}, {\"id\": 2044, \"title\": \"The Lake House\", \"runtime\": 99, \"revenue\": 114830111, \"vote_average\": 3.32, \"genres\": [\"Romance\", \"Drama\"], \"studios\": [\"Warner Bros.\"]}, {\"id\": 2059, \"title\": \"National Treasure\", \"runtime\": 131, \"revenue\": 347451894, \"vote_average\": 3.38, \"genres\": [\"Action\"], \"studios\": [\"Walt Disney Pictures\"]}, {\"id\": 2069, \"title\": \"The Whole Nine Yards\", \"runtime\": 98, \"revenue\": 106371651, \"vote_average\": 3.35, \"genres\": [\"Comedy\"], \"studios\": [\"Warner Bros.\"]}, {\"id\": 2085, \"title\": \"Romeo Must Die\", \"runtime\": 115, \"revenue\": 91036760, \"vote_average\": 3.02, \"genres\": [\"Action\"], \"studios\": [\"Warner Bros.\"]}, {\"id\": 2086, \"title\": \"Nick of Time\", \"runtime\": 90, \"revenue\": 8175346, \"vote_average\": 3.14, \"genres\": [\"Drama\"], \"studios\": [\"Paramount Pictures\"]}, {\"id\": 2100, \"title\": \"The Last Castle\", \"runtime\": 131, \"revenue\": 27642707, \"vote_average\": 3.4, \"genres\": [\"Action\", \"Drama\"], \"studios\": [\"DreamWorks SKG\"]}, {\"id\": 2103, \"title\": \"Solaris\", \"runtime\": 99, \"revenue\": 30002758, \"vote_average\": 3.14, \"genres\": [\"Science Fiction\", \"Romance\", \"Drama\"], \"studios\": [\"Lightstorm Entertainment\"]}, {\"id\": 2109, \"title\": \"Rush Hour\", \"runtime\": 98, \"revenue\": 244386864, \"vote_average\": 3.43, \"genres\": [\"Action\", \"Comedy\"], \"studios\": [\"New Line Cinema\"]}, {\"id\": 2112, \"title\": \"Payback\", \"runtime\": 100, \"revenue\": 161626121, \"vote_average\": 3.41, \"genres\": [\"Action\", \"Drama\"], \"studios\": [\"Paramount Pictures\"]}, {\"id\": 2118, \"title\": \"L.A. Confidential\", \"runtime\": 138, \"revenue\": 126216940, \"vote_average\": 4.07, \"genres\": [\"Drama\"], \"studios\": [\"Warner Bros.\"]}, {\"id\": 2133, \"title\": \"The Perfect Storm\", \"runtime\": 130, \"revenue\": 325756637, \"vote_average\": 3.08, \"genres\": [\"Drama\"], \"studios\": [\"Warner Bros.\"]}, {\"id\": 2135, \"title\": \"The Time Machine\", \"runtime\": 96, \"revenue\": 123729176, \"vote_average\": 2.85, \"genres\": [\"Action\", \"Science Fiction\"], \"studios\": [\"DreamWorks SKG\", \"Warner Bros.\"]}, {\"id\": 2140, \"title\": \"Kiss of the Dragon\", \"runtime\": 98, \"revenue\": 64437847, \"vote_average\": 3.27, \"genres\": [\"Action\"], \"studios\": [\"Canal+\"]}, {\"id\": 2157, \"title\": \"Lost in Space\", \"runtime\": 130, \"revenue\": 136159423, \"vote_average\": 2.6, \"genres\": [\"Science Fiction\"], \"studios\": [\"New Line Cinema\"]}, {\"id\": 2163, \"title\": \"Breakdown\", \"runtime\": 95, \"revenue\": 50159144, \"vote_average\": 3.31, \"genres\": [\"Action\", \"Drama\"], \"studios\": [\"Paramount Pictures\"]}, {\"id\": 2179, \"title\": \"Tenacious D in The Pick of Destiny\", \"runtime\": 93, \"revenue\": 13405595, \"vote_average\": 3.24, \"genres\": [\"Comedy\"], \"studios\": [\"New Line Cinema\"]}, {\"id\": 2270, \"title\": \"Stardust\", \"runtime\": 127, \"revenue\": 135560026, \"vote_average\": 3.8200000000000003, \"genres\": [\"Romance\"], \"studios\": [\"Paramount Pictures\"]}, {\"id\": 2275, \"title\": \"The General's Daughter\", \"runtime\": 116, \"revenue\": 149705852, \"vote_average\": 3.09, \"genres\": [\"Drama\"], \"studios\": [\"Paramount Pictures\"]}, {\"id\": 2310, \"title\": \"Beowulf\", \"runtime\": 115, \"revenue\": 195735876, \"vote_average\": 2.92, \"genres\": [\"Action\", \"Animation\"], \"studios\": [\"Paramount Pictures\"]}, {\"id\": 2320, \"title\": \"Executive Decision\", \"runtime\": 133, \"revenue\": 121969216, \"vote_average\": 3.37, \"genres\": [\"Action\", \"Drama\"], \"studios\": [\"Warner Bros.\"]}, {\"id\": 2395, \"title\": \"Asterix at the Olympic Games\", \"runtime\": 116, \"revenue\": 132900000, \"vote_average\": 2.49, \"genres\": [\"Comedy\"], \"studios\": [\"Canal+\"]}, {\"id\": 2567, \"title\": \"The Aviator\", \"runtime\": 170, \"revenue\": 102000000, \"vote_average\": 3.6, \"genres\": [\"Drama\"], \"studios\": [\"Warner Bros.\"]}, {\"id\": 2636, \"title\": \"The Specialist\", \"runtime\": 110, \"revenue\": 170362582, \"vote_average\": 2.9, \"genres\": [\"Action\"], \"studios\": [\"Warner Bros.\"]}, {\"id\": 2654, \"title\": \"In the Mouth of Madness\", \"runtime\": 95, \"revenue\": 8946600, \"vote_average\": 3.18, \"genres\": [\"Horror\"], \"studios\": [\"New Line Cinema\"]}, {\"id\": 2655, \"title\": \"What Lies Beneath\", \"runtime\": 130, \"revenue\": 155464351, \"vote_average\": 3.22, \"genres\": [\"Horror\", \"Drama\"], \"studios\": [\"DreamWorks SKG\"]}, {\"id\": 2666, \"title\": \"Dark City\", \"runtime\": 100, \"revenue\": 27200316, \"vote_average\": 3.8, \"genres\": [\"Science Fiction\"], \"studios\": [\"New Line Cinema\"]}, {\"id\": 2668, \"title\": \"Sleepy Hollow\", \"runtime\": 105, \"revenue\": 206071502, \"vote_average\": 3.5300000000000002, \"genres\": [\"Drama\"], \"studios\": [\"Paramount Pictures\"]}, {\"id\": 2687, \"title\": \"Memoirs of an Invisible Man\", \"runtime\": 99, \"revenue\": 14358033, \"vote_average\": 2.8200000000000003, \"genres\": [\"Science Fiction\", \"Comedy\"], \"studios\": [\"Warner Bros.\", \"Canal+\"]}, {\"id\": 2749, \"title\": \"15 Minutes\", \"runtime\": 120, \"revenue\": 56359980, \"vote_average\": 2.98, \"genres\": [\"Action\"], \"studios\": [\"New Line Cinema\"]}, {\"id\": 2755, \"title\": \"About Schmidt\", \"runtime\": 125, \"revenue\": 105834556, \"vote_average\": 3.45, \"genres\": [\"Comedy\", \"Drama\"], \"studios\": [\"New Line Cinema\"]}, {\"id\": 2756, \"title\": \"The Abyss\", \"runtime\": 139, \"revenue\": 90000098, \"vote_average\": 3.67, \"genres\": [\"Action\", \"Science Fiction\"], \"studios\": [\"Lightstorm Entertainment\"]}, {\"id\": 2768, \"title\": \"American Gigolo\", \"runtime\": 117, \"revenue\": 22743674, \"vote_average\": 3.05, \"genres\": [\"Romance\", \"Drama\"], \"studios\": [\"Paramount Pictures\"]}, {\"id\": 2800, \"title\": \"Rumor Has It...\", \"runtime\": 97, \"revenue\": 88933562, \"vote_average\": 2.85, \"genres\": [\"Comedy\"], \"studios\": [\"Warner Bros.\"]}, {\"id\": 2900, \"title\": \"The Astronaut's Wife\", \"runtime\": 109, \"revenue\": 19598588, \"vote_average\": 2.49, \"genres\": [\"Science Fiction\", \"Drama\"], \"studios\": [\"New Line Cinema\"]}, {\"id\": 2907, \"title\": \"The Addams Family\", \"runtime\": 99, \"revenue\": 191502426, \"vote_average\": 3.19, \"genres\": [\"Horror\", \"Comedy\"], \"studios\": [\"Paramount Pictures\"]}, {\"id\": 2959, \"title\": \"License to Wed\", \"runtime\": 91, \"revenue\": 69307224, \"vote_average\": 2.65, \"genres\": [\"Comedy\"], \"studios\": [\"Warner Bros.\"]}, {\"id\": 2976, \"title\": \"Hairspray\", \"runtime\": 117, \"revenue\": 90450008, \"vote_average\": 3.34, \"genres\": [\"Romance\", \"Comedy\"], \"studios\": [\"New Line Cinema\"]}, {\"id\": 3049, \"title\": \"Ace Ventura: Pet Detective\", \"runtime\": 86, \"revenue\": 107217396, \"vote_average\": 2.99, \"genres\": [\"Comedy\"], \"studios\": [\"Warner Bros.\"]}, {\"id\": 3175, \"title\": \"Barry Lyndon\", \"runtime\": 184, \"revenue\": 20000000, \"vote_average\": 3.8200000000000003, \"genres\": [\"War\", \"Romance\", \"Drama\"], \"studios\": [\"Warner Bros.\"]}, {\"id\": 3512, \"title\": \"Under Siege 2: Dark Territory\", \"runtime\": 100, \"revenue\": 104324083, \"vote_average\": 2.93, \"genres\": [\"Action\"], \"studios\": [\"Warner Bros.\"]}, {\"id\": 3594, \"title\": \"The Number 23\", \"runtime\": 101, \"revenue\": 77566815, \"vote_average\": 3.11, \"genres\": [\"Drama\"], \"studios\": [\"New Line Cinema\"]}, {\"id\": 3638, \"title\": \"No Reservations\", \"runtime\": 104, \"revenue\": 92601050, \"vote_average\": 3.27, \"genres\": [\"Comedy\"], \"studios\": [\"Warner Bros.\"]}, {\"id\": 3683, \"title\": \"Flags of Our Fathers\", \"runtime\": 132, \"revenue\": 65900249, \"vote_average\": 3.49, \"genres\": [\"War\", \"Drama\", \"History\"], \"studios\": [\"DreamWorks SKG\", \"Warner Bros.\"]}, {\"id\": 3933, \"title\": \"Corpse Bride\", \"runtime\": 77, \"revenue\": 117195061, \"vote_average\": 3.56, \"genres\": [\"Animation\", \"Romance\"], \"studios\": [\"Warner Bros.\"]}, {\"id\": 3980, \"title\": \"Critters\", \"runtime\": 82, \"revenue\": 13167232, \"vote_average\": 2.74, \"genres\": [\"Action\", \"Horror\", \"Science Fiction\", \"Comedy\"], \"studios\": [\"New Line Cinema\"]}, {\"id\": 3981, \"title\": \"What Women Want\", \"runtime\": 127, \"revenue\": 374111707, \"vote_average\": 3.11, \"genres\": [\"Romance\", \"Comedy\"], \"studios\": [\"Paramount Pictures\"]}, {\"id\": 3989, \"title\": \"Team America: World Police\", \"runtime\": 98, \"revenue\": 50907422, \"vote_average\": 3.46, \"genres\": [\"Animation\", \"Comedy\", \"Action\"], \"studios\": [\"Paramount Pictures\"]}, {\"id\": 4011, \"title\": \"Beetlejuice\", \"runtime\": 92, \"revenue\": 73326666, \"vote_average\": 3.47, \"genres\": [\"Comedy\"], \"studios\": [\"Warner Bros.\"]}, {\"id\": 4105, \"title\": \"Black Rain\", \"runtime\": 125, \"revenue\": 45892212, \"vote_average\": 3.13, \"genres\": [\"Action\"], \"studios\": [\"Paramount Pictures\"]}, {\"id\": 4108, \"title\": \"The Transporter\", \"runtime\": 92, \"revenue\": 43928932, \"vote_average\": 3.36, \"genres\": [\"Action\"], \"studios\": [\"Canal+\"]}, {\"id\": 4133, \"title\": \"Blow\", \"runtime\": 124, \"revenue\": 83282296, \"vote_average\": 3.73, \"genres\": [\"Drama\"], \"studios\": [\"New Line Cinema\"]}, {\"id\": 4141, \"title\": \"Shoot 'Em Up\", \"runtime\": 86, \"revenue\": 26820641, \"vote_average\": 3.29, \"genres\": [\"Action\", \"Comedy\"], \"studios\": [\"New Line Cinema\"]}, {\"id\": 4147, \"title\": \"Road to Perdition\", \"runtime\": 117, \"revenue\": 181001478, \"vote_average\": 3.68, \"genres\": [\"Drama\"], \"studios\": [\"DreamWorks SKG\"]}, {\"id\": 4148, \"title\": \"Revolutionary Road\", \"runtime\": 119, \"revenue\": 75225693, \"vote_average\": 3.52, \"genres\": [\"Romance\", \"Drama\"], \"studios\": [\"DreamWorks SKG\"]}, {\"id\": 4244, \"title\": \"The Kid\", \"runtime\": 104, \"revenue\": 69700000, \"vote_average\": 3.12, \"genres\": [\"Comedy\"], \"studios\": [\"Walt Disney Pictures\"]}, {\"id\": 4379, \"title\": \"Monster-in-Law\", \"runtime\": 101, \"revenue\": 154749918, \"vote_average\": 2.76, \"genres\": [\"Romance\", \"Comedy\"], \"studios\": [\"New Line Cinema\"]}, {\"id\": 4413, \"title\": \"The Brave One\", \"runtime\": 122, \"revenue\": 69766619, \"vote_average\": 3.3, \"genres\": [\"Drama\"], \"studios\": [\"Warner Bros.\"]}, {\"id\": 4478, \"title\": \"Indecent Proposal\", \"runtime\": 117, \"revenue\": 266614059, \"vote_average\": 2.85, \"genres\": [\"Drama\"], \"studios\": [\"Paramount Pictures\"]}, {\"id\": 4488, \"title\": \"Friday the 13th\", \"runtime\": 95, \"revenue\": 59754601, \"vote_average\": 2.89, \"genres\": [\"Horror\"], \"studios\": [\"Paramount Pictures\"]}, {\"id\": 4512, \"title\": \"The Assassination of Jesse James by the Coward Robert Ford\", \"runtime\": 160, \"revenue\": 14711793, \"vote_average\": 3.63, \"genres\": [\"Action\", \"Drama\"], \"studios\": [\"Warner Bros.\"]}, {\"id\": 4523, \"title\": \"Enchanted\", \"runtime\": 107, \"revenue\": 340487652, \"vote_average\": 3.52, \"genres\": [\"Romance\", \"Comedy\"], \"studios\": [\"Walt Disney Pictures\"]}, {\"id\": 4564, \"title\": \"Sex and the City\", \"runtime\": 145, \"revenue\": 415252786, \"vote_average\": 2.8200000000000003, \"genres\": [\"Romance\", \"Comedy\", \"Drama\"], \"studios\": [\"New Line Cinema\"]}, {\"id\": 4614, \"title\": \"The Sum of All Fears\", \"runtime\": 124, \"revenue\": 193000000, \"vote_average\": 3.21, \"genres\": [\"Action\", \"Drama\"], \"studios\": [\"Paramount Pictures\"]}, {\"id\": 4722, \"title\": \"Body Snatchers\", \"runtime\": 87, \"revenue\": 428868, \"vote_average\": 3.11, \"genres\": [\"Horror\", \"Science Fiction\"], \"studios\": [\"Warner Bros.\"]}, {\"id\": 4806, \"title\": \"Runaway Bride\", \"runtime\": 116, \"revenue\": 309457509, \"vote_average\": 2.87, \"genres\": [\"Romance\", \"Comedy\"], \"studios\": [\"Paramount Pictures\"]}, {\"id\": 4858, \"title\": \"The Invasion\", \"runtime\": 99, \"revenue\": 15071514, \"vote_average\": 3.01, \"genres\": [\"Science Fiction\"], \"studios\": [\"Warner Bros.\"]}, {\"id\": 4922, \"title\": \"The Curious Case of Benjamin Button\", \"runtime\": 166, \"revenue\": 333932083, \"vote_average\": 3.61, \"genres\": [\"Romance\", \"Drama\"], \"studios\": [\"Warner Bros.\", \"Paramount Pictures\"]}, {\"id\": 4958, \"title\": \"The Legend of Bagger Vance\", \"runtime\": 126, \"revenue\": 39459427, \"vote_average\": 3.2, \"genres\": [\"Drama\"], \"studios\": [\"DreamWorks SKG\"]}, {\"id\": 4970, \"title\": \"Gothika\", \"runtime\": 98, \"revenue\": 141591324, \"vote_average\": 2.89, \"genres\": [\"Horror\"], \"studios\": [\"Warner Bros.\"]}, {\"id\": 4995, \"title\": \"Boogie Nights\", \"runtime\": 155, \"revenue\": 43101594, \"vote_average\": 3.68, \"genres\": [\"Drama\"], \"studios\": [\"New Line Cinema\"]}, {\"id\": 5123, \"title\": \"August Rush\", \"runtime\": 114, \"revenue\": 66122026, \"vote_average\": 3.62, \"genres\": [\"Drama\"], \"studios\": [\"Warner Bros.\"]}, {\"id\": 5137, \"title\": \"Sky Captain and the World of Tomorrow\", \"runtime\": 107, \"revenue\": 57958696, \"vote_average\": 3.04, \"genres\": [\"Action\", \"Science Fiction\"], \"studios\": [\"Paramount Pictures\"]}, {\"id\": 5174, \"title\": \"Rush Hour 3\", \"runtime\": 91, \"revenue\": 258022233, \"vote_average\": 3.07, \"genres\": [\"Action\", \"Comedy\"], \"studios\": [\"New Line Cinema\"]}, {\"id\": 5175, \"title\": \"Rush Hour 2\", \"runtime\": 90, \"revenue\": 347325802, \"vote_average\": 3.23, \"genres\": [\"Action\", \"Comedy\"], \"studios\": [\"New Line Cinema\"]}, {\"id\": 5236, \"title\": \"Kiss Kiss Bang Bang\", \"runtime\": 103, \"revenue\": 15785148, \"vote_average\": 3.85, \"genres\": [\"Action\", \"Comedy\"], \"studios\": [\"Warner Bros.\"]}, {\"id\": 5375, \"title\": \"Fred Claus\", \"runtime\": 116, \"revenue\": 97838349, \"vote_average\": 2.64, \"genres\": [\"Action\", \"Comedy\", \"Drama\"], \"studios\": [\"Warner Bros.\"]}, {\"id\": 5491, \"title\": \"Battlefield Earth\", \"runtime\": 118, \"revenue\": 21400000, \"vote_average\": 1.6099999999999999, \"genres\": [\"Action\", \"War\", \"Science Fiction\"], \"studios\": [\"Warner Bros.\"]}, {\"id\": 5503, \"title\": \"The Fugitive\", \"runtime\": 130, \"revenue\": 368875760, \"vote_average\": 3.98, \"genres\": [\"Action\"], \"studios\": [\"Warner Bros.\"]}, {\"id\": 5551, \"title\": \"Space Cowboys\", \"runtime\": 130, \"revenue\": 128884132, \"vote_average\": 3.09, \"genres\": [\"Action\"], \"studios\": [\"Warner Bros.\"]}, {\"id\": 5559, \"title\": \"Bee Movie\", \"runtime\": 91, \"revenue\": 287594577, \"vote_average\": 2.87, \"genres\": [\"Animation\", \"Comedy\"], \"studios\": [\"DreamWorks Animation\"]}, {\"id\": 5683, \"title\": \"Pee-wee's Big Adventure\", \"runtime\": 90, \"revenue\": 40940662, \"vote_average\": 3.23, \"genres\": [\"Comedy\"], \"studios\": [\"Warner Bros.\"]}, {\"id\": 5825, \"title\": \"National Lampoon's Christmas Vacation\", \"runtime\": 97, \"revenue\": 71320000, \"vote_average\": 3.61, \"genres\": [\"Comedy\"], \"studios\": [\"Warner Bros.\"]}, {\"id\": 5851, \"title\": \"Showtime\", \"runtime\": 95, \"revenue\": 77741732, \"vote_average\": 2.74, \"genres\": [\"Action\", \"Comedy\"], \"studios\": [\"Warner Bros.\"]}, {\"id\": 5919, \"title\": \"The Towering Inferno\", \"runtime\": 159, \"revenue\": 116000000, \"vote_average\": 3.01, \"genres\": [\"Action\"], \"studios\": [\"Warner Bros.\"]}, {\"id\": 6073, \"title\": \"The Mexican\", \"runtime\": 123, \"revenue\": 147845033, \"vote_average\": 3.03, \"genres\": [\"Action\", \"Romance\", \"Comedy\"], \"studios\": [\"DreamWorks SKG\"]}, {\"id\": 6312, \"title\": \"Brotherhood of the Wolf\", \"runtime\": 137, \"revenue\": 70752904, \"vote_average\": 3.46, \"genres\": [\"Action\", \"Horror\", \"History\"], \"studios\": [\"Canal+\"]}, {\"id\": 6415, \"title\": \"Three Kings\", \"runtime\": 114, \"revenue\": 108000000, \"vote_average\": 3.59, \"genres\": [\"Action\", \"Comedy\"], \"studios\": [\"Warner Bros.\"]}, {\"id\": 6435, \"title\": \"Practical Magic\", \"runtime\": 104, \"revenue\": 46683377, \"vote_average\": 3.09, \"genres\": [\"Comedy\", \"Drama\"], \"studios\": [\"Warner Bros.\"]}, {\"id\": 6466, \"title\": \"Freddy vs. Jason\", \"runtime\": 97, \"revenue\": 114908830, \"vote_average\": 2.49, \"genres\": [\"Horror\"], \"studios\": [\"New Line Cinema\"]}, {\"id\": 6519, \"title\": \"The Dukes of Hazzard\", \"runtime\": 104, \"revenue\": 110803676, \"vote_average\": 2.49, \"genres\": [\"Action\", \"Comedy\"], \"studios\": [\"Warner Bros.\"]}, {\"id\": 6637, \"title\": \"National Treasure: Book of Secrets\", \"runtime\": 124, \"revenue\": 457363168, \"vote_average\": 3.26, \"genres\": [\"Action\"], \"studios\": [\"Walt Disney Pictures\"]}, {\"id\": 6723, \"title\": \"The Rookie\", \"runtime\": 120, \"revenue\": 21633874, \"vote_average\": 2.89, \"genres\": [\"Action\", \"Drama\"], \"studios\": [\"Warner Bros.\"]}, {\"id\": 6877, \"title\": \"Failure to Launch\", \"runtime\": 97, \"revenue\": 128406887, \"vote_average\": 2.87, \"genres\": [\"Comedy\"], \"studios\": [\"Paramount Pictures\"]}, {\"id\": 6950, \"title\": \"Outbreak\", \"runtime\": 127, \"revenue\": 189859560, \"vote_average\": 3.42, \"genres\": [\"Action\", \"Science Fiction\", \"Drama\"], \"studios\": [\"Warner Bros.\"]}, {\"id\": 6963, \"title\": \"The Weather Man\", \"runtime\": 101, \"revenue\": 12482775, \"vote_average\": 3.19, \"genres\": [\"Comedy\", \"Drama\"], \"studios\": [\"Paramount Pictures\"]}, {\"id\": 6964, \"title\": \"Something's Gotta Give\", \"runtime\": 128, \"revenue\": 266728738, \"vote_average\": 3.47, \"genres\": [\"Romance\", \"Comedy\", \"Drama\"], \"studios\": [\"Warner Bros.\"]}, {\"id\": 7191, \"title\": \"Cloverfield\", \"runtime\": 85, \"revenue\": 170764026, \"vote_average\": 3.31, \"genres\": [\"Action\", \"Science Fiction\"], \"studios\": [\"Paramount Pictures\"]}, {\"id\": 7214, \"title\": \"Coach Carter\", \"runtime\": 136, \"revenue\": 76669806, \"vote_average\": 3.64, \"genres\": [\"Drama\"], \"studios\": [\"Paramount Pictures\"]}, {\"id\": 7270, \"title\": \"Matchstick Men\", \"runtime\": 116, \"revenue\": 65565672, \"vote_average\": 3.65, \"genres\": [\"Comedy\", \"Drama\"], \"studios\": [\"Warner Bros.\"]}, {\"id\": 7305, \"title\": \"Alive\", \"runtime\": 120, \"revenue\": 36733909, \"vote_average\": 3.43, \"genres\": [\"Action\", \"Drama\"], \"studios\": [\"Paramount Pictures\"]}, {\"id\": 7364, \"title\": \"Sahara\", \"runtime\": 124, \"revenue\": 119269486, \"vote_average\": 3.05, \"genres\": [\"Action\", \"Comedy\", \"Drama\"], \"studios\": [\"Paramount Pictures\"]}, {\"id\": 7443, \"title\": \"Chicken Run\", \"runtime\": 84, \"revenue\": 224834564, \"vote_average\": 3.52, \"genres\": [\"Animation\", \"Comedy\"], \"studios\": [\"DreamWorks SKG\", \"DreamWorks Animation\"]}, {\"id\": 7446, \"title\": \"Tropic Thunder\", \"runtime\": 107, \"revenue\": 188072649, \"vote_average\": 3.37, \"genres\": [\"Action\", \"Comedy\"], \"studios\": [\"DreamWorks SKG\"]}, {\"id\": 7459, \"title\": \"Speed Racer\", \"runtime\": 135, \"revenue\": 93945766, \"vote_average\": 3.01, \"genres\": [\"Action\", \"Science Fiction\"], \"studios\": [\"Warner Bros.\"]}, {\"id\": 7485, \"title\": \"Shooter\", \"runtime\": 124, \"revenue\": 95696996, \"vote_average\": 3.62, \"genres\": [\"Action\", \"Drama\"], \"studios\": [\"Paramount Pictures\"]}, {\"id\": 7518, \"title\": \"Over the Hedge\", \"runtime\": 83, \"revenue\": 343397247, \"vote_average\": 3.32, \"genres\": [\"Animation\", \"Comedy\"], \"studios\": [\"DreamWorks Animation\"]}, {\"id\": 7840, \"title\": \"10,000 BC\", \"runtime\": 109, \"revenue\": 266000000, \"vote_average\": 2.5300000000000002, \"genres\": [\"Action\", \"Drama\"], \"studios\": [\"Warner Bros.\"]}, {\"id\": 7979, \"title\": \"The Kite Runner\", \"runtime\": 128, \"revenue\": 73276047, \"vote_average\": 3.7800000000000002, \"genres\": [\"Drama\"], \"studios\": [\"DreamWorks SKG\"]}, {\"id\": 7980, \"title\": \"The Lovely Bones\", \"runtime\": 136, \"revenue\": 93525586, \"vote_average\": 3.18, \"genres\": [\"Drama\"], \"studios\": [\"DreamWorks SKG\"]}, {\"id\": 8051, \"title\": \"Punch-Drunk Love\", \"runtime\": 95, \"revenue\": 17000000, \"vote_average\": 3.54, \"genres\": [\"Romance\", \"Comedy\", \"Drama\"], \"studios\": [\"New Line Cinema\"]}, {\"id\": 8069, \"title\": \"Barbarella\", \"runtime\": 98, \"revenue\": 2500000, \"vote_average\": 2.98, \"genres\": [\"Science Fiction\"], \"studios\": [\"Paramount Pictures\"]}, {\"id\": 8193, \"title\": \"Napoleon Dynamite\", \"runtime\": 95, \"revenue\": 46118097, \"vote_average\": 3.34, \"genres\": [\"Comedy\"], \"studios\": [\"Paramount Pictures\"]}, {\"id\": 8197, \"title\": \"Midnight in the Garden of Good and Evil\", \"runtime\": 155, \"revenue\": 25105255, \"vote_average\": 3.26, \"genres\": [\"Drama\"], \"studios\": [\"Warner Bros.\"]}, {\"id\": 8202, \"title\": \"\\u00c6on Flux\", \"runtime\": 93, \"revenue\": 52304001, \"vote_average\": 2.92, \"genres\": [\"Action\", \"Science Fiction\"], \"studios\": [\"Paramount Pictures\"]}, {\"id\": 8265, \"title\": \"Welcome to the Sticks\", \"runtime\": 106, \"revenue\": 53191886, \"vote_average\": 3.63, \"genres\": [\"Comedy\"], \"studios\": [\"Canal+\"]}, {\"id\": 8271, \"title\": \"Disturbia\", \"runtime\": 105, \"revenue\": 117760134, \"vote_average\": 3.29, \"genres\": [\"Drama\"], \"studios\": [\"DreamWorks SKG\", \"Paramount Pictures\"]}, {\"id\": 8292, \"title\": \"Four Brothers\", \"runtime\": 109, \"revenue\": 92374674, \"vote_average\": 3.35, \"genres\": [\"Action\"], \"studios\": [\"Paramount Pictures\"]}, {\"id\": 8358, \"title\": \"Cast Away\", \"runtime\": 143, \"revenue\": 429632142, \"vote_average\": 3.64, \"genres\": [\"Drama\"], \"studios\": [\"DreamWorks SKG\"]}, {\"id\": 8409, \"title\": \"A Man Apart\", \"runtime\": 109, \"revenue\": 44350926, \"vote_average\": 2.86, \"genres\": [\"Action\", \"Drama\"], \"studios\": [\"New Line Cinema\"]}, {\"id\": 8413, \"title\": \"Event Horizon\", \"runtime\": 96, \"revenue\": 26673242, \"vote_average\": 2.96, \"genres\": [\"Horror\", \"Science Fiction\"], \"studios\": [\"Paramount Pictures\"]}, {\"id\": 8467, \"title\": \"Dumb and Dumber\", \"runtime\": 107, \"revenue\": 247275374, \"vote_average\": 2.95, \"genres\": [\"Comedy\"], \"studios\": [\"New Line Cinema\"]}, {\"id\": 8470, \"title\": \"John Q\", \"runtime\": 116, \"revenue\": 102244770, \"vote_average\": 3.38, \"genres\": [\"Drama\"], \"studios\": [\"New Line Cinema\"]}, {\"id\": 8487, \"title\": \"Wild Wild West\", \"runtime\": 106, \"revenue\": 222104681, \"vote_average\": 2.32, \"genres\": [\"Action\", \"Science Fiction\", \"Comedy\"], \"studios\": [\"Warner Bros.\"]}, {\"id\": 8536, \"title\": \"Superman II\", \"runtime\": 127, \"revenue\": 190458706, \"vote_average\": 3.09, \"genres\": [\"Action\", \"Science Fiction\"], \"studios\": [\"Warner Bros.\"]}, {\"id\": 8656, \"title\": \"Deep Impact\", \"runtime\": 120, \"revenue\": 140464664, \"vote_average\": 2.95, \"genres\": [\"Action\", \"Romance\", \"Drama\"], \"studios\": [\"DreamWorks SKG\", \"Paramount Pictures\"]}, {\"id\": 8665, \"title\": \"K-19: The Widowmaker\", \"runtime\": 138, \"revenue\": 35168966, \"vote_average\": 3.24, \"genres\": [\"Drama\", \"History\"], \"studios\": [\"Paramount Pictures\"]}, {\"id\": 8676, \"title\": \"Fool's Gold\", \"runtime\": 112, \"revenue\": 111231041, \"vote_average\": 2.95, \"genres\": [\"Romance\", \"Comedy\"], \"studios\": [\"Warner Bros.\"]}, {\"id\": 8681, \"title\": \"Taken\", \"runtime\": 93, \"revenue\": 226830568, \"vote_average\": 3.7800000000000002, \"genres\": [\"Action\"], \"studios\": [\"Canal+\"]}, {\"id\": 8764, \"title\": \"Top Secret!\", \"runtime\": 90, \"revenue\": 20458340, \"vote_average\": 3.59, \"genres\": [\"Comedy\"], \"studios\": [\"Paramount Pictures\"]}, {\"id\": 8834, \"title\": \"Conspiracy Theory\", \"runtime\": 135, \"revenue\": 136982834, \"vote_average\": 3.33, \"genres\": [\"Action\", \"Drama\"], \"studios\": [\"Warner Bros.\"]}, {\"id\": 8843, \"title\": \"The Cell\", \"runtime\": 107, \"revenue\": 104155843, \"vote_average\": 3.02, \"genres\": [\"Horror\", \"Science Fiction\"], \"studios\": [\"New Line Cinema\"]}, {\"id\": 8845, \"title\": \"Under Siege\", \"runtime\": 103, \"revenue\": 156563139, \"vote_average\": 3.12, \"genres\": [\"Action\"], \"studios\": [\"Warner Bros.\", \"Canal+\"]}, {\"id\": 8849, \"title\": \"Alfie\", \"runtime\": 103, \"revenue\": 13395939, \"vote_average\": 2.93, \"genres\": [\"Comedy\"], \"studios\": [\"Paramount Pictures\"]}, {\"id\": 8870, \"title\": \"Red Planet\", \"runtime\": 106, \"revenue\": 33463969, \"vote_average\": 2.77, \"genres\": [\"Action\", \"Science Fiction\"], \"studios\": [\"Warner Bros.\"]}, {\"id\": 8872, \"title\": \"Wayne's World\", \"runtime\": 94, \"revenue\": 121697323, \"vote_average\": 3.45, \"genres\": [\"Comedy\"], \"studios\": [\"Paramount Pictures\"]}, {\"id\": 8913, \"title\": \"Pet Sematary\", \"runtime\": 103, \"revenue\": 57469467, \"vote_average\": 3.02, \"genres\": [\"Horror\", \"Drama\"], \"studios\": [\"Paramount Pictures\"]}, {\"id\": 8914, \"title\": \"Deep Blue Sea\", \"runtime\": 105, \"revenue\": 73648228, \"vote_average\": 2.69, \"genres\": [\"Action\", \"Science Fiction\"], \"studios\": [\"Warner Bros.\"]}, {\"id\": 8916, \"title\": \"Antz\", \"runtime\": 83, \"revenue\": 171757863, \"vote_average\": 3.25, \"genres\": [\"Animation\", \"Comedy\"], \"studios\": [\"DreamWorks SKG\", \"DreamWorks Animation\"]}, {\"id\": 8984, \"title\": \"Disclosure\", \"runtime\": 123, \"revenue\": 214015089, \"vote_average\": 3.29, \"genres\": [\"Romance\", \"Drama\"], \"studios\": [\"Warner Bros.\"]}, {\"id\": 9007, \"title\": \"Just Like Heaven\", \"runtime\": 95, \"revenue\": 102854431, \"vote_average\": 3.48, \"genres\": [\"Romance\", \"Comedy\"], \"studios\": [\"DreamWorks SKG\"]}, {\"id\": 9012, \"title\": \"Jackass: The Movie\", \"runtime\": 87, \"revenue\": 64282312, \"vote_average\": 2.92, \"genres\": [\"Comedy\"], \"studios\": [\"Paramount Pictures\"]}, {\"id\": 9016, \"title\": \"Treasure Planet\", \"runtime\": 95, \"revenue\": 109578115, \"vote_average\": 3.43, \"genres\": [\"Animation\", \"Science Fiction\"], \"studios\": [\"Walt Disney Pictures\"]}, {\"id\": 9021, \"title\": \"The Santa Clause 2\", \"runtime\": 104, \"revenue\": 172855065, \"vote_average\": 2.69, \"genres\": [\"Comedy\"], \"studios\": [\"Walt Disney Pictures\"]}, {\"id\": 9023, \"title\": \"Spirit: Stallion of the Cimarron\", \"runtime\": 83, \"revenue\": 122563539, \"vote_average\": 3.11, \"genres\": [\"Animation\", \"Comedy\"], \"studios\": [\"DreamWorks SKG\", \"DreamWorks Animation\"]}, {\"id\": 9036, \"title\": \"Eight Below\", \"runtime\": 120, \"revenue\": 120455994, \"vote_average\": 3.38, \"genres\": [\"Drama\"], \"studios\": [\"Walt Disney Pictures\"]}, {\"id\": 9037, \"title\": \"Grease 2\", \"runtime\": 115, \"revenue\": 15171476, \"vote_average\": 1.99, \"genres\": [\"Romance\", \"Comedy\", \"Drama\"], \"studios\": [\"Paramount Pictures\"]}, {\"id\": 9040, \"title\": \"Serpico\", \"runtime\": 129, \"revenue\": 29800000, \"vote_average\": 3.92, \"genres\": [\"Drama\", \"History\"], \"studios\": [\"Paramount Pictures\"]}, {\"id\": 9062, \"title\": \"Love Story\", \"runtime\": 99, \"revenue\": 136400000, \"vote_average\": 3.2, \"genres\": [\"Romance\", \"Drama\"], \"studios\": [\"Paramount Pictures\"]}, {\"id\": 9093, \"title\": \"The Four Feathers\", \"runtime\": 132, \"revenue\": 29882645, \"vote_average\": 3.09, \"genres\": [\"War\", \"Romance\", \"Drama\"], \"studios\": [\"Paramount Pictures\"]}, {\"id\": 9268, \"title\": \"Eraser\", \"runtime\": 115, \"revenue\": 242295562, \"vote_average\": 3.17, \"genres\": [\"Action\", \"Drama\"], \"studios\": [\"Warner Bros.\"]}, {\"id\": 9271, \"title\": \"Virtuosity\", \"runtime\": 106, \"revenue\": 24048000, \"vote_average\": 2.99, \"genres\": [\"Action\", \"Science Fiction\"], \"studios\": [\"Paramount Pictures\"]}, {\"id\": 9273, \"title\": \"Ace Ventura: When Nature Calls\", \"runtime\": 90, \"revenue\": 212385533, \"vote_average\": 2.63, \"genres\": [\"Comedy\"], \"studios\": [\"Warner Bros.\"]}, {\"id\": 9281, \"title\": \"Witness\", \"runtime\": 113, \"revenue\": 68706993, \"vote_average\": 3.83, \"genres\": [\"Romance\", \"Drama\"], \"studios\": [\"Paramount Pictures\"]}, {\"id\": 9285, \"title\": \"Road Trip\", \"runtime\": 93, \"revenue\": 119754278, \"vote_average\": 3.14, \"genres\": [\"Comedy\"], \"studios\": [\"DreamWorks SKG\"]}, {\"id\": 9286, \"title\": \"Final Destination 3\", \"runtime\": 93, \"revenue\": 117719158, \"vote_average\": 2.77, \"genres\": [\"Horror\"], \"studios\": [\"New Line Cinema\"]}, {\"id\": 9291, \"title\": \"The Longest Yard\", \"runtime\": 113, \"revenue\": 190320568, \"vote_average\": 3.09, \"genres\": [\"Comedy\", \"Drama\"], \"studios\": [\"Paramount Pictures\"]}, {\"id\": 9306, \"title\": \"The Island of Dr. Moreau\", \"runtime\": 96, \"revenue\": 49627779, \"vote_average\": 2.5, \"genres\": [\"Horror\", \"Science Fiction\"], \"studios\": [\"New Line Cinema\"]}, {\"id\": 9312, \"title\": \"Mortal Kombat\", \"runtime\": 101, \"revenue\": 122195920, \"vote_average\": 2.63, \"genres\": [\"Action\"], \"studios\": [\"New Line Cinema\"]}, {\"id\": 9319, \"title\": \"The Last Boy Scout\", \"runtime\": 105, \"revenue\": 59509925, \"vote_average\": 3.31, \"genres\": [\"Action\"], \"studios\": [\"Warner Bros.\"]}, {\"id\": 9325, \"title\": \"The Jungle Book\", \"runtime\": 78, \"revenue\": 205843612, \"vote_average\": 3.63, \"genres\": [\"Animation\"], \"studios\": [\"Walt Disney Pictures\"]}, {\"id\": 9331, \"title\": \"Clear and Present Danger\", \"runtime\": 141, \"revenue\": 215887717, \"vote_average\": 3.67, \"genres\": [\"Action\", \"Drama\"], \"studios\": [\"Paramount Pictures\"]}, {\"id\": 9333, \"title\": \"Last Man Standing\", \"runtime\": 101, \"revenue\": 47267001, \"vote_average\": 3.01, \"genres\": [\"Action\", \"Drama\"], \"studios\": [\"New Line Cinema\"]}, {\"id\": 9335, \"title\": \"Transporter 2\", \"runtime\": 87, \"revenue\": 85167639, \"vote_average\": 3.17, \"genres\": [\"Action\"], \"studios\": [\"Canal+\"]}, {\"id\": 9336, \"title\": \"Police Academy\", \"runtime\": 96, \"revenue\": 146198896, \"vote_average\": 2.96, \"genres\": [\"Comedy\"], \"studios\": [\"Warner Bros.\"]}, {\"id\": 9340, \"title\": \"The Goonies\", \"runtime\": 114, \"revenue\": 61503218, \"vote_average\": 3.62, \"genres\": [\"Comedy\"], \"studios\": [\"Warner Bros.\"]}, {\"id\": 9341, \"title\": \"The Core\", \"runtime\": 136, \"revenue\": 74208267, \"vote_average\": 2.6, \"genres\": [\"Action\", \"Science Fiction\"], \"studios\": [\"Paramount Pictures\"]}, {\"id\": 9350, \"title\": \"Cliffhanger\", \"runtime\": 112, \"revenue\": 255000211, \"vote_average\": 3.07, \"genres\": [\"Action\"], \"studios\": [\"Canal+\"]}, {\"id\": 9352, \"title\": \"EuroTrip\", \"runtime\": 93, \"revenue\": 20796847, \"vote_average\": 3.2800000000000002, \"genres\": [\"Comedy\"], \"studios\": [\"DreamWorks SKG\"]}, {\"id\": 9353, \"title\": \"Nacho Libre\", \"runtime\": 92, \"revenue\": 80197993, \"vote_average\": 2.71, \"genres\": [\"Comedy\"], \"studios\": [\"Paramount Pictures\"]}, {\"id\": 9358, \"title\": \"Final Destination 2\", \"runtime\": 90, \"revenue\": 90426405, \"vote_average\": 2.9, \"genres\": [\"Horror\"], \"studios\": [\"New Line Cinema\"]}, {\"id\": 9373, \"title\": \"The Texas Chainsaw Massacre\", \"runtime\": 98, \"revenue\": 107071655, \"vote_average\": 2.77, \"genres\": [\"Horror\"], \"studios\": [\"New Line Cinema\"]}, {\"id\": 9377, \"title\": \"Ferris Bueller's Day Off\", \"runtime\": 103, \"revenue\": 70136369, \"vote_average\": 3.93, \"genres\": [\"Comedy\"], \"studios\": [\"Paramount Pictures\"]}, {\"id\": 9381, \"title\": \"Babylon A.D.\", \"runtime\": 101, \"revenue\": 72108608, \"vote_average\": 2.89, \"genres\": [\"Action\", \"Science Fiction\"], \"studios\": [\"Canal+\"]}, {\"id\": 9384, \"title\": \"Starsky & Hutch\", \"runtime\": 101, \"revenue\": 170268750, \"vote_average\": 2.96, \"genres\": [\"Comedy\"], \"studios\": [\"Warner Bros.\"]}, {\"id\": 9395, \"title\": \"Above the Law\", \"runtime\": 99, \"revenue\": 18869631, \"vote_average\": 2.81, \"genres\": [\"Action\", \"Drama\"], \"studios\": [\"Warner Bros.\"]}, {\"id\": 9397, \"title\": \"Evolution\", \"runtime\": 101, \"revenue\": 98376292, \"vote_average\": 2.89, \"genres\": [\"Action\", \"Science Fiction\", \"Comedy\"], \"studios\": [\"DreamWorks SKG\"]}, {\"id\": 9398, \"title\": \"Zoolander\", \"runtime\": 89, \"revenue\": 60780981, \"vote_average\": 3.24, \"genres\": [\"Comedy\"], \"studios\": [\"Paramount Pictures\"]}, {\"id\": 9403, \"title\": \"Private Parts\", \"runtime\": 109, \"revenue\": 41230799, \"vote_average\": 3.34, \"genres\": [\"Comedy\", \"Drama\"], \"studios\": [\"Paramount Pictures\"]}, {\"id\": 9414, \"title\": \"The Man Who Knew Too Little\", \"runtime\": 97, \"revenue\": 13801755, \"vote_average\": 3.23, \"genres\": [\"Action\", \"Comedy\"], \"studios\": [\"Warner Bros.\"]}, {\"id\": 9422, \"title\": \"A Civil Action\", \"runtime\": 115, \"revenue\": 56702901, \"vote_average\": 3.34, \"genres\": [\"Drama\"], \"studios\": [\"Paramount Pictures\"]}, {\"id\": 9425, \"title\": \"Soldier\", \"runtime\": 99, \"revenue\": 14567883, \"vote_average\": 2.86, \"genres\": [\"Action\", \"War\", \"Science Fiction\"], \"studios\": [\"Warner Bros.\"]}, {\"id\": 9429, \"title\": \"A Night at the Roxbury\", \"runtime\": 81, \"revenue\": 30331165, \"vote_average\": 2.69, \"genres\": [\"Comedy\"], \"studios\": [\"Paramount Pictures\"]}, {\"id\": 9437, \"title\": \"Kiss the Girls\", \"runtime\": 115, \"revenue\": 60527873, \"vote_average\": 3.38, \"genres\": [\"Drama\"], \"studios\": [\"Paramount Pictures\"]}, {\"id\": 9443, \"title\": \"Chariots of Fire\", \"runtime\": 123, \"revenue\": 58972904, \"vote_average\": 3.7, \"genres\": [\"Drama\", \"History\"], \"studios\": [\"Warner Bros.\"]}, {\"id\": 9461, \"title\": \"Enter the Dragon\", \"runtime\": 99, \"revenue\": 90000000, \"vote_average\": 3.7800000000000002, \"genres\": [\"Action\"], \"studios\": [\"Warner Bros.\"]}, {\"id\": 9487, \"title\": \"A Bug's Life\", \"runtime\": 95, \"revenue\": 363258859, \"vote_average\": 3.58, \"genres\": [\"Animation\", \"Comedy\"], \"studios\": [\"Pixar Animation Studios\", \"Walt Disney Pictures\"]}, {\"id\": 9489, \"title\": \"You've Got Mail\", \"runtime\": 119, \"revenue\": 250821495, \"vote_average\": 3.18, \"genres\": [\"Romance\", \"Comedy\"], \"studios\": [\"Warner Bros.\"]}, {\"id\": 9504, \"title\": \"Glengarry Glen Ross\", \"runtime\": 100, \"revenue\": 10725228, \"vote_average\": 3.86, \"genres\": [\"Drama\"], \"studios\": [\"New Line Cinema\"]}, {\"id\": 9516, \"title\": \"Menace II Society\", \"runtime\": 97, \"revenue\": 27900000, \"vote_average\": 3.61, \"genres\": [\"Action\", \"Drama\"], \"studios\": [\"New Line Cinema\"]}, {\"id\": 9522, \"title\": \"Wedding Crashers\", \"runtime\": 119, \"revenue\": 285176741, \"vote_average\": 3.46, \"genres\": [\"Romance\", \"Comedy\"], \"studios\": [\"New Line Cinema\"]}, {\"id\": 9531, \"title\": \"Superman III\", \"runtime\": 125, \"revenue\": 75850624, \"vote_average\": 2.48, \"genres\": [\"Action\", \"Science Fiction\", \"Comedy\"], \"studios\": [\"Warner Bros.\"]}, {\"id\": 9532, \"title\": \"Final Destination\", \"runtime\": 98, \"revenue\": 53302314, \"vote_average\": 3.11, \"genres\": [\"Horror\"], \"studios\": [\"New Line Cinema\"]}, {\"id\": 9535, \"title\": \"Analyze This\", \"runtime\": 103, \"revenue\": 176885658, \"vote_average\": 3.25, \"genres\": [\"Comedy\"], \"studios\": [\"Warner Bros.\"]}, {\"id\": 9543, \"title\": \"Prince of Persia: The Sands of Time\", \"runtime\": 116, \"revenue\": 335154643, \"vote_average\": 3.15, \"genres\": [\"Action\", \"Romance\"], \"studios\": [\"Walt Disney Pictures\"]}, {\"id\": 9549, \"title\": \"The Right Stuff\", \"runtime\": 193, \"revenue\": 21500000, \"vote_average\": 3.92, \"genres\": [\"Drama\", \"History\"], \"studios\": [\"Warner Bros.\"]}, {\"id\": 9552, \"title\": \"The Exorcist\", \"runtime\": 122, \"revenue\": 441306145, \"vote_average\": 3.73, \"genres\": [\"Horror\", \"Drama\"], \"studios\": [\"Warner Bros.\"]}, {\"id\": 9559, \"title\": \"A Perfect World\", \"runtime\": 138, \"revenue\": 135130999, \"vote_average\": 3.52, \"genres\": [\"Drama\"], \"studios\": [\"Warner Bros.\"]}, {\"id\": 9562, \"title\": \"Timeline\", \"runtime\": 116, \"revenue\": 43935763, \"vote_average\": 2.8200000000000003, \"genres\": [\"Action\", \"Science Fiction\"], \"studios\": [\"Paramount Pictures\"]}, {\"id\": 9563, \"title\": \"Any Given Sunday\", \"runtime\": 163, \"revenue\": 100230832, \"vote_average\": 3.2, \"genres\": [\"Drama\"], \"studios\": [\"Warner Bros.\"]}, {\"id\": 9569, \"title\": \"Hard to Kill\", \"runtime\": 96, \"revenue\": 47410000, \"vote_average\": 2.7, \"genres\": [\"Action\"], \"studios\": [\"Warner Bros.\"]}, {\"id\": 9573, \"title\": \"Blood Work\", \"runtime\": 110, \"revenue\": 26199517, \"vote_average\": 3.06, \"genres\": [\"Drama\"], \"studios\": [\"Warner Bros.\"]}, {\"id\": 9574, \"title\": \"Flubber\", \"runtime\": 93, \"revenue\": 177977226, \"vote_average\": 2.58, \"genres\": [\"Science Fiction\", \"Comedy\"], \"studios\": [\"Walt Disney Pictures\"]}, {\"id\": 9586, \"title\": \"The Bonfire of the Vanities\", \"runtime\": 125, \"revenue\": 15691192, \"vote_average\": 2.45, \"genres\": [\"Comedy\", \"Drama\"], \"studios\": [\"Warner Bros.\"]}, {\"id\": 9602, \"title\": \"Coming to America\", \"runtime\": 116, \"revenue\": 288752301, \"vote_average\": 3.51, \"genres\": [\"Romance\", \"Comedy\"], \"studios\": [\"Paramount Pictures\"]}, {\"id\": 9618, \"title\": \"Tango & Cash\", \"runtime\": 104, \"revenue\": 63408614, \"vote_average\": 2.79, \"genres\": [\"Action\", \"Comedy\"], \"studios\": [\"Warner Bros.\"]}, {\"id\": 9620, \"title\": \"Paycheck\", \"runtime\": 119, \"revenue\": 96269812, \"vote_average\": 3.24, \"genres\": [\"Action\", \"Science Fiction\"], \"studios\": [\"DreamWorks SKG\", \"Paramount Pictures\"]}, {\"id\": 9621, \"title\": \"Elizabethtown\", \"runtime\": 123, \"revenue\": 52034889, \"vote_average\": 3.13, \"genres\": [\"Romance\", \"Comedy\", \"Drama\"], \"studios\": [\"Paramount Pictures\"]}, {\"id\": 9624, \"title\": \"On Deadly Ground\", \"runtime\": 102, \"revenue\": 49000000, \"vote_average\": 1.98, \"genres\": [\"Action\"], \"studios\": [\"Warner Bros.\"]}, {\"id\": 9631, \"title\": \"The Negotiator\", \"runtime\": 140, \"revenue\": 44547681, \"vote_average\": 3.58, \"genres\": [\"Action\", \"Drama\"], \"studios\": [\"Warner Bros.\"]}, {\"id\": 9637, \"title\": \"Scooby-Doo\", \"runtime\": 88, \"revenue\": 275650703, \"vote_average\": 2.34, \"genres\": [\"Comedy\"], \"studios\": [\"Warner Bros.\"]}, {\"id\": 9645, \"title\": \"Ghost Ship\", \"runtime\": 91, \"revenue\": 68349884, \"vote_average\": 2.61, \"genres\": [\"Horror\"], \"studios\": [\"Warner Bros.\"]}, {\"id\": 9655, \"title\": \"She's the Man\", \"runtime\": 105, \"revenue\": 33889159, \"vote_average\": 3.32, \"genres\": [\"Romance\", \"Comedy\", \"Drama\"], \"studios\": [\"DreamWorks SKG\"]}, {\"id\": 9671, \"title\": \"Crocodile Dundee\", \"runtime\": 97, \"revenue\": 328203506, \"vote_average\": 3.13, \"genres\": [\"Comedy\"], \"studios\": [\"Paramount Pictures\"]}, {\"id\": 9691, \"title\": \"Assassins\", \"runtime\": 132, \"revenue\": 30303072, \"vote_average\": 3.16, \"genres\": [\"Action\"], \"studios\": [\"Warner Bros.\", \"Canal+\"]}, {\"id\": 9697, \"title\": \"Lady in the Water\", \"runtime\": 110, \"revenue\": 42285169, \"vote_average\": 2.8, \"genres\": [\"Drama\"], \"studios\": [\"Warner Bros.\"]}, {\"id\": 9701, \"title\": \"North Country\", \"runtime\": 126, \"revenue\": 25224242, \"vote_average\": 3.5700000000000003, \"genres\": [\"Drama\"], \"studios\": [\"Warner Bros.\"]}, {\"id\": 9705, \"title\": \"Swordfish\", \"runtime\": 99, \"revenue\": 147080413, \"vote_average\": 3.08, \"genres\": [\"Action\"], \"studios\": [\"Warner Bros.\"]}, {\"id\": 9708, \"title\": \"The Wicker Man\", \"runtime\": 102, \"revenue\": 38755073, \"vote_average\": 2.01, \"genres\": [\"Horror\"], \"studios\": [\"Warner Bros.\"]}, {\"id\": 9725, \"title\": \"Friday the 13th Part 2\", \"runtime\": 87, \"revenue\": 21722776, \"vote_average\": 2.47, \"genres\": [\"Horror\"], \"studios\": [\"Paramount Pictures\"]}, {\"id\": 9728, \"title\": \"Friday the 13th Part III\", \"runtime\": 95, \"revenue\": 36690067, \"vote_average\": 2.18, \"genres\": [\"Horror\"], \"studios\": [\"Paramount Pictures\"]}, {\"id\": 9730, \"title\": \"Friday the 13th: The Final Chapter\", \"runtime\": 91, \"revenue\": 32980880, \"vote_average\": 2.26, \"genres\": [\"Horror\"], \"studios\": [\"Paramount Pictures\"]}, {\"id\": 9731, \"title\": \"Friday the 13th: A New Beginning\", \"runtime\": 92, \"revenue\": 21930418, \"vote_average\": 2.03, \"genres\": [\"Horror\"], \"studios\": [\"Paramount Pictures\"]}, {\"id\": 9739, \"title\": \"Demolition Man\", \"runtime\": 115, \"revenue\": 159055768, \"vote_average\": 3.04, \"genres\": [\"Action\", \"Science Fiction\"], \"studios\": [\"Warner Bros.\"]}, {\"id\": 9757, \"title\": \"Norbit\", \"runtime\": 101, \"revenue\": 95673607, \"vote_average\": 1.8399999999999999, \"genres\": [\"Comedy\"], \"studios\": [\"DreamWorks SKG\"]}, {\"id\": 9759, \"title\": \"Cellular\", \"runtime\": 94, \"revenue\": 56422687, \"vote_average\": 3.08, \"genres\": [\"Action\"], \"studios\": [\"New Line Cinema\"]}, {\"id\": 9781, \"title\": \"Detroit Rock City\", \"runtime\": 95, \"revenue\": 4217115, \"vote_average\": 3.17, \"genres\": [\"Comedy\"], \"studios\": [\"New Line Cinema\"]}, {\"id\": 9823, \"title\": \"Mortal Kombat: Annihilation\", \"runtime\": 95, \"revenue\": 51376861, \"vote_average\": 2.1, \"genres\": [\"Action\", \"Science Fiction\"], \"studios\": [\"New Line Cinema\"]}, {\"id\": 9826, \"title\": \"The Phantom\", \"runtime\": 100, \"revenue\": 17300889, \"vote_average\": 2.81, \"genres\": [\"Action\"], \"studios\": [\"Paramount Pictures\"]}, {\"id\": 9833, \"title\": \"The Phantom of the Opera\", \"runtime\": 143, \"revenue\": 154648887, \"vote_average\": 3.55, \"genres\": [\"Romance\", \"Drama\"], \"studios\": [\"Warner Bros.\"]}, {\"id\": 9837, \"title\": \"The Prince of Egypt\", \"runtime\": 99, \"revenue\": 218613188, \"vote_average\": 3.43, \"genres\": [\"Animation\", \"Drama\"], \"studios\": [\"DreamWorks SKG\", \"DreamWorks Animation\"]}, {\"id\": 9869, \"title\": \"Patriot Games\", \"runtime\": 117, \"revenue\": 178051587, \"vote_average\": 3.61, \"genres\": [\"Action\", \"Drama\"], \"studios\": [\"Paramount Pictures\"]}, {\"id\": 9872, \"title\": \"Explorers\", \"runtime\": 109, \"revenue\": 9873044, \"vote_average\": 3.41, \"genres\": [\"Romance\", \"Science Fiction\"], \"studios\": [\"Paramount Pictures\"]}, {\"id\": 9880, \"title\": \"The Princess Diaries\", \"runtime\": 115, \"revenue\": 165335153, \"vote_average\": 3.19, \"genres\": [\"Romance\", \"Comedy\"], \"studios\": [\"Walt Disney Pictures\"]}, {\"id\": 9884, \"title\": \"Collateral Damage\", \"runtime\": 108, \"revenue\": 78382433, \"vote_average\": 2.6, \"genres\": [\"Action\", \"Drama\"], \"studios\": [\"Warner Bros.\"]}, {\"id\": 9890, \"title\": \"The Stepford Wives\", \"runtime\": 93, \"revenue\": 102000000, \"vote_average\": 2.67, \"genres\": [\"Action\", \"Science Fiction\", \"Comedy\"], \"studios\": [\"Paramount Pictures\"]}, {\"id\": 9896, \"title\": \"Rat Race\", \"runtime\": 112, \"revenue\": 85498534, \"vote_average\": 3.12, \"genres\": [\"Comedy\"], \"studios\": [\"Paramount Pictures\"]}, {\"id\": 9904, \"title\": \"The Wild\", \"runtime\": 94, \"revenue\": 37384046, \"vote_average\": 2.59, \"genres\": [\"Animation\"], \"studios\": [\"Walt Disney Pictures\"]}, {\"id\": 9906, \"title\": \"The Ant Bully\", \"runtime\": 88, \"revenue\": 55181129, \"vote_average\": 2.86, \"genres\": [\"Animation\", \"Comedy\"], \"studios\": [\"Warner Bros.\"]}, {\"id\": 9907, \"title\": \"Barnyard\", \"runtime\": 90, \"revenue\": 72779000, \"vote_average\": 2.59, \"genres\": [\"Animation\", \"Comedy\"], \"studios\": [\"Paramount Pictures\"]}, {\"id\": 9919, \"title\": \"How to Lose a Guy in 10 Days\", \"runtime\": 116, \"revenue\": 177371441, \"vote_average\": 3.17, \"genres\": [\"Romance\", \"Comedy\"], \"studios\": [\"Paramount Pictures\"]}, {\"id\": 9922, \"title\": \"The Postman\", \"runtime\": 177, \"revenue\": 17626234, \"vote_average\": 2.96, \"genres\": [\"Drama\"], \"studios\": [\"Warner Bros.\"]}, {\"id\": 9923, \"title\": \"Domino\", \"runtime\": 127, \"revenue\": 22944502, \"vote_average\": 3.03, \"genres\": [\"Action\"], \"studios\": [\"New Line Cinema\"]}, {\"id\": 9932, \"title\": \"Analyze That\", \"runtime\": 96, \"revenue\": 55003135, \"vote_average\": 2.8, \"genres\": [\"Comedy\"], \"studios\": [\"Warner Bros.\"]}, {\"id\": 9942, \"title\": \"Major League\", \"runtime\": 107, \"revenue\": 49797148, \"vote_average\": 3.49, \"genres\": [\"Comedy\"], \"studios\": [\"Paramount Pictures\"]}, {\"id\": 9944, \"title\": \"The Pelican Brief\", \"runtime\": 141, \"revenue\": 195268056, \"vote_average\": 3.36, \"genres\": [\"Drama\"], \"studios\": [\"Warner Bros.\"]}, {\"id\": 9982, \"title\": \"Chicken Little\", \"runtime\": 81, \"revenue\": 314432665, \"vote_average\": 2.8, \"genres\": [\"Animation\", \"Comedy\"], \"studios\": [\"Walt Disney Pictures\"]}, {\"id\": 9986, \"title\": \"Charlotte's Web\", \"runtime\": 97, \"revenue\": 144000000, \"vote_average\": 3.16, \"genres\": [\"Comedy\"], \"studios\": [\"Paramount Pictures\"]}, {\"id\": 9994, \"title\": \"The Great Mouse Detective\", \"runtime\": 74, \"revenue\": 38625550, \"vote_average\": 3.47, \"genres\": [\"Animation\", \"Comedy\"], \"studios\": [\"Walt Disney Pictures\"]}, {\"id\": 10003, \"title\": \"The Saint\", \"runtime\": 116, \"revenue\": 118063304, \"vote_average\": 3.16, \"genres\": [\"Action\", \"Romance\", \"Science Fiction\"], \"studios\": [\"Paramount Pictures\"]}, {\"id\": 10014, \"title\": \"A Nightmare on Elm Street Part 2: Freddy's Revenge\", \"runtime\": 87, \"revenue\": 29999213, \"vote_average\": 2.45, \"genres\": [\"Horror\"], \"studios\": [\"New Line Cinema\"]}, {\"id\": 10020, \"title\": \"Beauty and the Beast\", \"runtime\": 84, \"revenue\": 377350553, \"vote_average\": 3.68, \"genres\": [\"Animation\", \"Romance\"], \"studios\": [\"Walt Disney Pictures\"]}, {\"id\": 10022, \"title\": \"The Pacifier\", \"runtime\": 95, \"revenue\": 113006880, \"vote_average\": 2.73, \"genres\": [\"Action\", \"Comedy\", \"Drama\"], \"studios\": [\"Walt Disney Pictures\"]}, {\"id\": 10057, \"title\": \"The Three Musketeers\", \"runtime\": 105, \"revenue\": 53898845, \"vote_average\": 3.19, \"genres\": [\"Action\", \"Comedy\"], \"studios\": [\"Walt Disney Pictures\"]}, {\"id\": 10060, \"title\": \"Get Rich or Die Tryin'\", \"runtime\": 117, \"revenue\": 46442528, \"vote_average\": 2.86, \"genres\": [\"Drama\"], \"studios\": [\"Paramount Pictures\"]}, {\"id\": 10061, \"title\": \"Escape from L.A.\", \"runtime\": 97, \"revenue\": 42277365, \"vote_average\": 2.77, \"genres\": [\"Action\", \"Science Fiction\"], \"studios\": [\"Paramount Pictures\"]}, {\"id\": 10066, \"title\": \"House of Wax\", \"runtime\": 113, \"revenue\": 68766121, \"vote_average\": 2.39, \"genres\": [\"Horror\"], \"studios\": [\"Warner Bros.\"]}, {\"id\": 10067, \"title\": \"The Shaggy Dog\", \"runtime\": 98, \"revenue\": 61112916, \"vote_average\": 2.38, \"genres\": [\"Comedy\"], \"studios\": [\"Walt Disney Pictures\"]}, {\"id\": 10072, \"title\": \"A Nightmare on Elm Street 3: Dream Warriors\", \"runtime\": 96, \"revenue\": 44793222, \"vote_average\": 2.7199999999999998, \"genres\": [\"Horror\"], \"studios\": [\"New Line Cinema\"]}, {\"id\": 10110, \"title\": \"Empire of the Sun\", \"runtime\": 153, \"revenue\": 22238696, \"vote_average\": 3.83, \"genres\": [\"War\", \"Drama\", \"History\"], \"studios\": [\"Warner Bros.\"]}, {\"id\": 10131, \"title\": \"A Nightmare on Elm Street 4: The Dream Master\", \"runtime\": 99, \"revenue\": 72500000, \"vote_average\": 2.42, \"genres\": [\"Horror\"], \"studios\": [\"New Line Cinema\"]}, {\"id\": 10136, \"title\": \"The Golden Child\", \"runtime\": 94, \"revenue\": 79817939, \"vote_average\": 2.88, \"genres\": [\"Action\", \"Comedy\"], \"studios\": [\"Paramount Pictures\"]}, {\"id\": 10144, \"title\": \"The Little Mermaid\", \"runtime\": 83, \"revenue\": 222300000, \"vote_average\": 3.51, \"genres\": [\"Animation\"], \"studios\": [\"Walt Disney Pictures\"]}, {\"id\": 10152, \"title\": \"Dumb and Dumberer: When Harry Met Lloyd\", \"runtime\": 85, \"revenue\": 39267515, \"vote_average\": 1.77, \"genres\": [\"Comedy\"], \"studios\": [\"New Line Cinema\"]}, {\"id\": 10153, \"title\": \"Sphere\", \"runtime\": 134, \"revenue\": 13100000, \"vote_average\": 2.87, \"genres\": [\"Science Fiction\"], \"studios\": [\"Warner Bros.\"]}, {\"id\": 10160, \"title\": \"A Nightmare on Elm Street 5: The Dream Child\", \"runtime\": 89, \"revenue\": 22168359, \"vote_average\": 2.23, \"genres\": [\"Horror\"], \"studios\": [\"New Line Cinema\"]}, {\"id\": 10163, \"title\": \"The Lawnmower Man\", \"runtime\": 108, \"revenue\": 32101000, \"vote_average\": 2.74, \"genres\": [\"Horror\", \"Science Fiction\"], \"studios\": [\"New Line Cinema\"]}, {\"id\": 10184, \"title\": \"He's Just Not That Into You\", \"runtime\": 129, \"revenue\": 177259441, \"vote_average\": 3.27, \"genres\": [\"Romance\", \"Comedy\", \"Drama\"], \"studios\": [\"New Line Cinema\"]}, {\"id\": 10191, \"title\": \"How to Train Your Dragon\", \"runtime\": 98, \"revenue\": 494878759, \"vote_average\": 3.92, \"genres\": [\"Animation\"], \"studios\": [\"DreamWorks Animation\"]}, {\"id\": 10195, \"title\": \"Thor\", \"runtime\": 115, \"revenue\": 449326618, \"vote_average\": 3.39, \"genres\": [\"Action\"], \"studios\": [\"Marvel Studios\"]}, {\"id\": 10196, \"title\": \"The Last Airbender\", \"runtime\": 103, \"revenue\": 318502923, \"vote_average\": 2.09, \"genres\": [\"Action\"], \"studios\": [\"Paramount Pictures\"]}, {\"id\": 10198, \"title\": \"The Princess and the Frog\", \"runtime\": 97, \"revenue\": 267045765, \"vote_average\": 3.51, \"genres\": [\"Animation\", \"Romance\"], \"studios\": [\"Walt Disney Pictures\"]}, {\"id\": 10201, \"title\": \"Yes Man\", \"runtime\": 104, \"revenue\": 225990978, \"vote_average\": 3.39, \"genres\": [\"Comedy\"], \"studios\": [\"Warner Bros.\"]}, {\"id\": 10202, \"title\": \"Bedtime Stories\", \"runtime\": 99, \"revenue\": 212874442, \"vote_average\": 3.08, \"genres\": [\"Romance\", \"Comedy\"], \"studios\": [\"Walt Disney Pictures\"]}, {\"id\": 10215, \"title\": \"Sliding Doors\", \"runtime\": 99, \"revenue\": 58000000, \"vote_average\": 3.51, \"genres\": [\"Romance\", \"Comedy\", \"Drama\"], \"studios\": [\"Paramount Pictures\"]}, {\"id\": 10225, \"title\": \"Friday the 13th Part VI: Jason Lives\", \"runtime\": 86, \"revenue\": 19472057, \"vote_average\": 2.17, \"genres\": [\"Horror\"], \"studios\": [\"Paramount Pictures\"]}, {\"id\": 10229, \"title\": \"A Walk to Remember\", \"runtime\": 101, \"revenue\": 41227069, \"vote_average\": 3.43, \"genres\": [\"Romance\", \"Drama\"], \"studios\": [\"Warner Bros.\"]}, {\"id\": 10249, \"title\": \"The Rocketeer\", \"runtime\": 108, \"revenue\": 62000000, \"vote_average\": 3.05, \"genres\": [\"Action\", \"Science Fiction\"], \"studios\": [\"Walt Disney Pictures\"]}, {\"id\": 10281, \"title\": \"Friday the 13th Part VII: The New Blood\", \"runtime\": 88, \"revenue\": 19170001, \"vote_average\": 2.02, \"genres\": [\"Horror\"], \"studios\": [\"Paramount Pictures\"]}, {\"id\": 10283, \"title\": \"Friday the 13th Part VIII: Jason Takes Manhattan\", \"runtime\": 100, \"revenue\": 14000000, \"vote_average\": 1.81, \"genres\": [\"Horror\"], \"studios\": [\"Paramount Pictures\"]}, {\"id\": 10285, \"title\": \"Jason Goes to Hell: The Final Friday\", \"runtime\": 87, \"revenue\": 15938065, \"vote_average\": 2.06, \"genres\": [\"Horror\"], \"studios\": [\"New Line Cinema\"]}, {\"id\": 10329, \"title\": \"Congo\", \"runtime\": 109, \"revenue\": 152022101, \"vote_average\": 2.61, \"genres\": [\"Action\", \"Science Fiction\", \"Drama\"], \"studios\": [\"Paramount Pictures\"]}, {\"id\": 10330, \"title\": \"Freaky Friday\", \"runtime\": 97, \"revenue\": 110230332, \"vote_average\": 3.07, \"genres\": [\"Comedy\"], \"studios\": [\"Walt Disney Pictures\"]}, {\"id\": 10336, \"title\": \"Spawn\", \"runtime\": 96, \"revenue\": 87840042, \"vote_average\": 2.64, \"genres\": [\"Action\", \"Horror\", \"Science Fiction\"], \"studios\": [\"New Line Cinema\"]}, {\"id\": 10398, \"title\": \"Double Jeopardy\", \"runtime\": 105, \"revenue\": 177841558, \"vote_average\": 3.2, \"genres\": [\"Drama\"], \"studios\": [\"Paramount Pictures\"]}, {\"id\": 10426, \"title\": \"Friday After Next\", \"runtime\": 85, \"revenue\": 33526835, \"vote_average\": 2.7199999999999998, \"genres\": [\"Comedy\"], \"studios\": [\"New Line Cinema\"]}, {\"id\": 10439, \"title\": \"Hocus Pocus\", \"runtime\": 96, \"revenue\": 39514713, \"vote_average\": 3.05, \"genres\": [\"Comedy\"], \"studios\": [\"Walt Disney Pictures\"]}, {\"id\": 10461, \"title\": \"Get Carter\", \"runtime\": 102, \"revenue\": 19412993, \"vote_average\": 2.38, \"genres\": [\"Action\", \"Drama\"], \"studios\": [\"Warner Bros.\"]}, {\"id\": 10471, \"title\": \"Next Friday\", \"runtime\": 98, \"revenue\": 59827328, \"vote_average\": 2.85, \"genres\": [\"Comedy\"], \"studios\": [\"New Line Cinema\"]}, {\"id\": 10478, \"title\": \"Tin Cup\", \"runtime\": 135, \"revenue\": 53854588, \"vote_average\": 3.18, \"genres\": [\"Romance\", \"Comedy\", \"Drama\"], \"studios\": [\"Warner Bros.\"]}, {\"id\": 10479, \"title\": \"Rules of Engagement\", \"runtime\": 128, \"revenue\": 71000000, \"vote_average\": 3.3, \"genres\": [\"Action\", \"War\", \"Drama\", \"History\"], \"studios\": [\"Paramount Pictures\"]}, {\"id\": 10481, \"title\": \"102 Dalmatians\", \"runtime\": 100, \"revenue\": 183611771, \"vote_average\": 2.4, \"genres\": [\"Comedy\"], \"studios\": [\"Walt Disney Pictures\"]}, {\"id\": 10497, \"title\": \"Bitter Moon\", \"runtime\": 139, \"revenue\": 1862805, \"vote_average\": 3.43, \"genres\": [\"Romance\", \"Drama\"], \"studios\": [\"Canal+\"]}, {\"id\": 10501, \"title\": \"The Road to El Dorado\", \"runtime\": 89, \"revenue\": 76432727, \"vote_average\": 3.2800000000000002, \"genres\": [\"Animation\", \"Comedy\"], \"studios\": [\"DreamWorks SKG\", \"DreamWorks Animation\"]}, {\"id\": 10530, \"title\": \"Pocahontas\", \"runtime\": 81, \"revenue\": 346079773, \"vote_average\": 2.96, \"genres\": [\"Animation\", \"Drama\"], \"studios\": [\"Walt Disney Pictures\"]}, {\"id\": 10538, \"title\": \"Passenger 57\", \"runtime\": 84, \"revenue\": 44065653, \"vote_average\": 2.85, \"genres\": [\"Action\"], \"studios\": [\"Warner Bros.\"]}, {\"id\": 10539, \"title\": \"James and the Giant Peach\", \"runtime\": 79, \"revenue\": 28921264, \"vote_average\": 3.29, \"genres\": [\"Animation\"], \"studios\": [\"Walt Disney Pictures\"]}, {\"id\": 10545, \"title\": \"The Hunchback of Notre Dame\", \"runtime\": 91, \"revenue\": 100138851, \"vote_average\": 3.24, \"genres\": [\"Animation\", \"Drama\"], \"studios\": [\"Walt Disney Pictures\"]}, {\"id\": 10555, \"title\": \"Shark Tale\", \"runtime\": 90, \"revenue\": 367275019, \"vote_average\": 2.8, \"genres\": [\"Animation\", \"Comedy\", \"Action\"], \"studios\": [\"DreamWorks SKG\", \"DreamWorks Animation\"]}, {\"id\": 10559, \"title\": \"Frequency\", \"runtime\": 118, \"revenue\": 68106245, \"vote_average\": 3.55, \"genres\": [\"Science Fiction\", \"Drama\"], \"studios\": [\"New Line Cinema\"]}, {\"id\": 10567, \"title\": \"Dinosaur\", \"runtime\": 82, \"revenue\": 354248063, \"vote_average\": 3.09, \"genres\": [\"Animation\"], \"studios\": [\"Walt Disney Pictures\"]}, {\"id\": 10589, \"title\": \"After the Sunset\", \"runtime\": 97, \"revenue\": 61347797, \"vote_average\": 3.14, \"genres\": [\"Action\", \"Comedy\", \"Drama\"], \"studios\": [\"New Line Cinema\"]}, {\"id\": 10623, \"title\": \"Cradle 2 the Grave\", \"runtime\": 101, \"revenue\": 56489558, \"vote_average\": 2.81, \"genres\": [\"Action\", \"Drama\"], \"studios\": [\"Warner Bros.\"]}, {\"id\": 10625, \"title\": \"Mean Girls\", \"runtime\": 97, \"revenue\": 129042871, \"vote_average\": 3.55, \"genres\": [\"Comedy\"], \"studios\": [\"Paramount Pictures\"]}, {\"id\": 10634, \"title\": \"Friday\", \"runtime\": 91, \"revenue\": 28215918, \"vote_average\": 3.55, \"genres\": [\"Comedy\"], \"studios\": [\"New Line Cinema\"]}, {\"id\": 10637, \"title\": \"Remember the Titans\", \"runtime\": 113, \"revenue\": 136706683, \"vote_average\": 3.7800000000000002, \"genres\": [\"Drama\"], \"studios\": [\"Walt Disney Pictures\"]}, {\"id\": 10647, \"title\": \"Pay It Forward\", \"runtime\": 122, \"revenue\": 55707411, \"vote_average\": 3.38, \"genres\": [\"Romance\", \"Drama\"], \"studios\": [\"Warner Bros.\"]}, {\"id\": 10649, \"title\": \"The Enforcer\", \"runtime\": 96, \"revenue\": 46236000, \"vote_average\": 3.47, \"genres\": [\"Action\"], \"studios\": [\"Warner Bros.\"]}, {\"id\": 10650, \"title\": \"Sudden Impact\", \"runtime\": 117, \"revenue\": 67642693, \"vote_average\": 3.24, \"genres\": [\"Action\"], \"studios\": [\"Warner Bros.\"]}, {\"id\": 10669, \"title\": \"Deliverance\", \"runtime\": 109, \"revenue\": 46122355, \"vote_average\": 3.7800000000000002, \"genres\": [\"Drama\"], \"studios\": [\"Warner Bros.\"]}, {\"id\": 10674, \"title\": \"Mulan\", \"runtime\": 88, \"revenue\": 304320254, \"vote_average\": 3.69, \"genres\": [\"Animation\"], \"studios\": [\"Walt Disney Pictures\"]}, {\"id\": 10675, \"title\": \"Frantic\", \"runtime\": 120, \"revenue\": 17637950, \"vote_average\": 3.39, \"genres\": [\"Drama\"], \"studios\": [\"Warner Bros.\"]}, {\"id\": 10715, \"title\": \"Looney Tunes: Back in Action\", \"runtime\": 90, \"revenue\": 68514844, \"vote_average\": 2.71, \"genres\": [\"Animation\", \"Comedy\"], \"studios\": [\"Warner Bros.\"]}, {\"id\": 10718, \"title\": \"Torque\", \"runtime\": 84, \"revenue\": 46546197, \"vote_average\": 2.06, \"genres\": [\"Action\"], \"studios\": [\"Warner Bros.\"]}, {\"id\": 10719, \"title\": \"Elf\", \"runtime\": 97, \"revenue\": 173398518, \"vote_average\": 3.36, \"genres\": [\"Comedy\"], \"studios\": [\"New Line Cinema\"]}, {\"id\": 10730, \"title\": \"King Kong\", \"runtime\": 134, \"revenue\": 90614445, \"vote_average\": 2.81, \"genres\": [\"Drama\"], \"studios\": [\"Paramount Pictures\"]}, {\"id\": 10731, \"title\": \"The Client\", \"runtime\": 119, \"revenue\": 117615211, \"vote_average\": 3.47, \"genres\": [\"Drama\"], \"studios\": [\"Warner Bros.\"]}, {\"id\": 10734, \"title\": \"Escape from Alcatraz\", \"runtime\": 111, \"revenue\": 43000000, \"vote_average\": 3.7800000000000002, \"genres\": [\"Drama\"], \"studios\": [\"Paramount Pictures\"]}, {\"id\": 10747, \"title\": \"The Outlaw Josey Wales\", \"runtime\": 135, \"revenue\": 31800000, \"vote_average\": 3.93, \"genres\": [\"Drama\"], \"studios\": [\"Warner Bros.\"]}, {\"id\": 10756, \"title\": \"The Haunted Mansion\", \"runtime\": 87, \"revenue\": 182290266, \"vote_average\": 2.41, \"genres\": [\"Comedy\"], \"studios\": [\"Walt Disney Pictures\"]}, {\"id\": 10762, \"title\": \"Without a Paddle\", \"runtime\": 95, \"revenue\": 69631118, \"vote_average\": 2.85, \"genres\": [\"Action\", \"Comedy\"], \"studios\": [\"Paramount Pictures\"]}, {\"id\": 10776, \"title\": \"Little Shop of Horrors\", \"runtime\": 94, \"revenue\": 38748395, \"vote_average\": 3.2800000000000002, \"genres\": [\"Horror\", \"Comedy\"], \"studios\": [\"Warner Bros.\"]}, {\"id\": 10865, \"title\": \"Atlantis: The Lost Empire\", \"runtime\": 95, \"revenue\": 186053725, \"vote_average\": 3.27, \"genres\": [\"Animation\", \"Science Fiction\"], \"studios\": [\"Walt Disney Pictures\"]}, {\"id\": 10877, \"title\": \"Exit Wounds\", \"runtime\": 101, \"revenue\": 79958599, \"vote_average\": 2.65, \"genres\": [\"Action\"], \"studios\": [\"Warner Bros.\"]}, {\"id\": 10906, \"title\": \"Pet Sematary II\", \"runtime\": 100, \"revenue\": 17092453, \"vote_average\": 2.13, \"genres\": [\"Horror\"], \"studios\": [\"Paramount Pictures\"]}, {\"id\": 10950, \"title\": \"I Am Sam\", \"runtime\": 132, \"revenue\": 92542418, \"vote_average\": 3.58, \"genres\": [\"Drama\"], \"studios\": [\"New Line Cinema\"]}, {\"id\": 10952, \"title\": \"New Jack City\", \"runtime\": 97, \"revenue\": 47624253, \"vote_average\": 3.12, \"genres\": [\"Drama\"], \"studios\": [\"Warner Bros.\"]}, {\"id\": 10957, \"title\": \"The Black Cauldron\", \"runtime\": 80, \"revenue\": 21288692, \"vote_average\": 3.2, \"genres\": [\"Animation\"], \"studios\": [\"Walt Disney Pictures\"]}, {\"id\": 10992, \"title\": \"Cats & Dogs\", \"runtime\": 87, \"revenue\": 93375151, \"vote_average\": 2.62, \"genres\": [\"Comedy\"], \"studios\": [\"Warner Bros.\"]}, {\"id\": 10998, \"title\": \"Fatal Attraction\", \"runtime\": 119, \"revenue\": 320145693, \"vote_average\": 3.43, \"genres\": [\"Horror\", \"Romance\", \"Drama\"], \"studios\": [\"Paramount Pictures\"]}, {\"id\": 11003, \"title\": \"The Wedding Singer\", \"runtime\": 95, \"revenue\": 123306987, \"vote_average\": 3.39, \"genres\": [\"Romance\", \"Comedy\"], \"studios\": [\"New Line Cinema\"]}, {\"id\": 11009, \"title\": \"Saturday Night Fever\", \"runtime\": 118, \"revenue\": 237113184, \"vote_average\": 3.27, \"genres\": [\"Drama\"], \"studios\": [\"Paramount Pictures\"]}, {\"id\": 11015, \"title\": \"The Relic\", \"runtime\": 110, \"revenue\": 33956608, \"vote_average\": 2.8200000000000003, \"genres\": [\"Horror\"], \"studios\": [\"Paramount Pictures\"]}, {\"id\": 11022, \"title\": \"Narc\", \"runtime\": 105, \"revenue\": 12633747, \"vote_average\": 3.52, \"genres\": [\"Action\", \"Drama\"], \"studios\": [\"Paramount Pictures\"]}, {\"id\": 11034, \"title\": \"The Great Gatsby\", \"runtime\": 144, \"revenue\": 26533200, \"vote_average\": 3.21, \"genres\": [\"Romance\", \"Drama\"], \"studios\": [\"Paramount Pictures\"]}, {\"id\": 11036, \"title\": \"The Notebook\", \"runtime\": 123, \"revenue\": 115603229, \"vote_average\": 3.7199999999999998, \"genres\": [\"Romance\", \"Drama\"], \"studios\": [\"New Line Cinema\"]}, {\"id\": 11066, \"title\": \"Boomerang\", \"runtime\": 117, \"revenue\": 70100000, \"vote_average\": 2.86, \"genres\": [\"Romance\", \"Comedy\"], \"studios\": [\"Paramount Pictures\"]}, {\"id\": 11072, \"title\": \"Blazing Saddles\", \"runtime\": 93, \"revenue\": 119500000, \"vote_average\": 3.86, \"genres\": [\"Comedy\"], \"studios\": [\"Warner Bros.\"]}, {\"id\": 11081, \"title\": \"Taking Lives\", \"runtime\": 103, \"revenue\": 65470529, \"vote_average\": 3.08, \"genres\": [\"Action\"], \"studios\": [\"Warner Bros.\"]}, {\"id\": 11092, \"title\": \"Presumed Innocent\", \"runtime\": 127, \"revenue\": 221303188, \"vote_average\": 3.66, \"genres\": [\"Drama\"], \"studios\": [\"Warner Bros.\"]}, {\"id\": 11093, \"title\": \"House of Sand and Fog\", \"runtime\": 126, \"revenue\": 16942795, \"vote_average\": 3.7, \"genres\": [\"Drama\"], \"studios\": [\"DreamWorks SKG\"]}, {\"id\": 11113, \"title\": \"My Fair Lady\", \"runtime\": 170, \"revenue\": 72070731, \"vote_average\": 3.87, \"genres\": [\"Romance\", \"Drama\"], \"studios\": [\"Warner Bros.\"]}, {\"id\": 11130, \"title\": \"The Princess Diaries 2: Royal Engagement\", \"runtime\": 113, \"revenue\": 95149435, \"vote_average\": 3.02, \"genres\": [\"Romance\", \"Comedy\", \"Drama\"], \"studios\": [\"Walt Disney Pictures\"]}, {\"id\": 11132, \"title\": \"Confessions of a Teenage Drama Queen\", \"runtime\": 89, \"revenue\": 29331068, \"vote_average\": 2.51, \"genres\": [\"Comedy\"], \"studios\": [\"Walt Disney Pictures\"]}, {\"id\": 11135, \"title\": \"The Rescuers Down Under\", \"runtime\": 77, \"revenue\": 47431461, \"vote_average\": 3.3, \"genres\": [\"Animation\"], \"studios\": [\"Walt Disney Pictures\"]}, {\"id\": 11141, \"title\": \"Laws of Attraction\", \"runtime\": 90, \"revenue\": 30016165, \"vote_average\": 3.05, \"genres\": [\"Action\", \"Romance\", \"Comedy\"], \"studios\": [\"New Line Cinema\"]}, {\"id\": 11153, \"title\": \"National Lampoon's Vacation\", \"runtime\": 98, \"revenue\": 61399552, \"vote_average\": 3.76, \"genres\": [\"Romance\", \"Comedy\"], \"studios\": [\"Warner Bros.\"]}, {\"id\": 11158, \"title\": \"Honey I Blew Up the Kid\", \"runtime\": 89, \"revenue\": 58662452, \"vote_average\": 2.15, \"genres\": [\"Science Fiction\", \"Comedy\"], \"studios\": [\"Walt Disney Pictures\"]}, {\"id\": 11170, \"title\": \"We Are Marshall\", \"runtime\": 124, \"revenue\": 43545364, \"vote_average\": 3.5300000000000002, \"genres\": [\"Drama\"], \"studios\": [\"Warner Bros.\"]}, {\"id\": 11206, \"title\": \"Wait Until Dark\", \"runtime\": 108, \"revenue\": 11000000, \"vote_average\": 3.94, \"genres\": [\"Horror\"], \"studios\": [\"Warner Bros.\"]}, {\"id\": 11247, \"title\": \"A Cinderella Story\", \"runtime\": 95, \"revenue\": 70067909, \"vote_average\": 3.22, \"genres\": [\"Comedy\"], \"studios\": [\"Warner Bros.\"]}, {\"id\": 11282, \"title\": \"Harold & Kumar Go to White Castle\", \"runtime\": 88, \"revenue\": 23936908, \"vote_average\": 3.45, \"genres\": [\"Comedy\"], \"studios\": [\"New Line Cinema\"]}, {\"id\": 11284, \"title\": \"Freddy's Dead: The Final Nightmare\", \"runtime\": 89, \"revenue\": 34872033, \"vote_average\": 2.31, \"genres\": [\"Horror\", \"Comedy\"], \"studios\": [\"New Line Cinema\"]}, {\"id\": 11313, \"title\": \"Hearts in Atlantis\", \"runtime\": 101, \"revenue\": 24185781, \"vote_average\": 3.3, \"genres\": [\"Drama\"], \"studios\": [\"Warner Bros.\"]}, {\"id\": 11323, \"title\": \"The Informant!\", \"runtime\": 108, \"revenue\": 35424826, \"vote_average\": 3.33, \"genres\": [\"Comedy\", \"Drama\"], \"studios\": [\"Warner Bros.\"]}, {\"id\": 11324, \"title\": \"Shutter Island\", \"runtime\": 138, \"revenue\": 294804195, \"vote_average\": 3.95, \"genres\": [\"Drama\"], \"studios\": [\"Paramount Pictures\"]}, {\"id\": 11336, \"title\": \"The Dead Zone\", \"runtime\": 103, \"revenue\": 20766616, \"vote_average\": 3.65, \"genres\": [\"Horror\", \"Science Fiction\"], \"studios\": [\"Paramount Pictures\"]}, {\"id\": 11371, \"title\": \"The Score\", \"runtime\": 124, \"revenue\": 71069884, \"vote_average\": 3.47, \"genres\": [\"Action\"], \"studios\": [\"Paramount Pictures\"]}, {\"id\": 11377, \"title\": \"House on Haunted Hill\", \"runtime\": 93, \"revenue\": 40846082, \"vote_average\": 2.58, \"genres\": [\"Horror\"], \"studios\": [\"Warner Bros.\"]}, {\"id\": 11395, \"title\": \"The Santa Clause\", \"runtime\": 97, \"revenue\": 189833357, \"vote_average\": 3.13, \"genres\": [\"Comedy\", \"Drama\"], \"studios\": [\"Walt Disney Pictures\"]}, {\"id\": 11398, \"title\": \"The Art of War\", \"runtime\": 117, \"revenue\": 30199105, \"vote_average\": 2.92, \"genres\": [\"Action\"], \"studios\": [\"Warner Bros.\"]}, {\"id\": 11400, \"title\": \"The New World\", \"runtime\": 135, \"revenue\": 30536013, \"vote_average\": 3.39, \"genres\": [\"Romance\", \"Drama\", \"History\"], \"studios\": [\"New Line Cinema\"]}, {\"id\": 11411, \"title\": \"Superman IV: The Quest for Peace\", \"runtime\": 90, \"revenue\": 19300000, \"vote_average\": 2.07, \"genres\": [\"Action\", \"Science Fiction\"], \"studios\": [\"Warner Bros.\"]}, {\"id\": 11412, \"title\": \"The Long Kiss Goodnight\", \"runtime\": 120, \"revenue\": 89456761, \"vote_average\": 3.42, \"genres\": [\"Action\"], \"studios\": [\"New Line Cinema\"]}, {\"id\": 11416, \"title\": \"The Mission\", \"runtime\": 126, \"revenue\": 17218023, \"vote_average\": 3.79, \"genres\": [\"Action\", \"Drama\", \"History\"], \"studios\": [\"Warner Bros.\"]}, {\"id\": 11419, \"title\": \"Vegas Vacation\", \"runtime\": 93, \"revenue\": 36400360, \"vote_average\": 2.81, \"genres\": [\"Comedy\"], \"studios\": [\"Warner Bros.\"]}, {\"id\": 11451, \"title\": \"Herbie Fully Loaded\", \"runtime\": 101, \"revenue\": 66002004, \"vote_average\": 2.49, \"genres\": [\"Romance\", \"Comedy\"], \"studios\": [\"Walt Disney Pictures\"]}, {\"id\": 11459, \"title\": \"Sky High\", \"runtime\": 100, \"revenue\": 86369815, \"vote_average\": 3.19, \"genres\": [\"Comedy\"], \"studios\": [\"Walt Disney Pictures\"]}, {\"id\": 11460, \"title\": \"Red Eye\", \"runtime\": 85, \"revenue\": 57891803, \"vote_average\": 3.14, \"genres\": [\"Horror\"], \"studios\": [\"DreamWorks SKG\"]}, {\"id\": 11470, \"title\": \"Jason X\", \"runtime\": 91, \"revenue\": 16951798, \"vote_average\": 2.1, \"genres\": [\"Horror\", \"Science Fiction\"], \"studios\": [\"New Line Cinema\"]}, {\"id\": 11474, \"title\": \"The Warriors\", \"runtime\": 93, \"revenue\": 22490039, \"vote_average\": 3.7199999999999998, \"genres\": [\"Action\", \"Drama\"], \"studios\": [\"Paramount Pictures\"]}, {\"id\": 11542, \"title\": \"Altered States\", \"runtime\": 102, \"revenue\": 19853892, \"vote_average\": 3.48, \"genres\": [\"Horror\", \"Science Fiction\", \"Drama\"], \"studios\": [\"Warner Bros.\"]}, {\"id\": 11544, \"title\": \"Lilo & Stitch\", \"runtime\": 85, \"revenue\": 145771527, \"vote_average\": 3.5, \"genres\": [\"Animation\"], \"studios\": [\"Walt Disney Pictures\"]}, {\"id\": 11586, \"title\": \"Exorcist II: The Heretic\", \"runtime\": 118, \"revenue\": 30749142, \"vote_average\": 1.9300000000000002, \"genres\": [\"Horror\"], \"studios\": [\"Warner Bros.\"]}, {\"id\": 11595, \"title\": \"Another 48 Hrs.\", \"runtime\": 95, \"revenue\": 153518974, \"vote_average\": 2.76, \"genres\": [\"Action\", \"Comedy\", \"Drama\"], \"studios\": [\"Paramount Pictures\"]}, {\"id\": 11596, \"title\": \"New Nightmare\", \"runtime\": 112, \"revenue\": 18090181, \"vote_average\": 2.9699999999999998, \"genres\": [\"Horror\"], \"studios\": [\"New Line Cinema\"]}, {\"id\": 11619, \"title\": \"Flushed Away\", \"runtime\": 85, \"revenue\": 64459316, \"vote_average\": 3.33, \"genres\": [\"Animation\", \"Comedy\"], \"studios\": [\"DreamWorks Animation\"]}, {\"id\": 11622, \"title\": \"Blast from the Past\", \"runtime\": 112, \"revenue\": 40263020, \"vote_average\": 3.22, \"genres\": [\"Romance\", \"Comedy\"], \"studios\": [\"New Line Cinema\"]}, {\"id\": 11635, \"title\": \"Old School\", \"runtime\": 91, \"revenue\": 87055349, \"vote_average\": 3.61, \"genres\": [\"Comedy\"], \"studios\": [\"DreamWorks SKG\"]}, {\"id\": 11648, \"title\": \"Must Love Dogs\", \"runtime\": 98, \"revenue\": 58405313, \"vote_average\": 3.0, \"genres\": [\"Romance\", \"Comedy\"], \"studios\": [\"Warner Bros.\"]}, {\"id\": 11665, \"title\": \"Get Smart\", \"runtime\": 110, \"revenue\": 230685453, \"vote_average\": 3.19, \"genres\": [\"Action\", \"Comedy\"], \"studios\": [\"Warner Bros.\"]}, {\"id\": 11674, \"title\": \"101 Dalmatians\", \"runtime\": 103, \"revenue\": 320689294, \"vote_average\": 3.07, \"genres\": [\"Comedy\"], \"studios\": [\"Walt Disney Pictures\"]}, {\"id\": 11688, \"title\": \"The Emperor's New Groove\", \"runtime\": 78, \"revenue\": 169327687, \"vote_average\": 3.59, \"genres\": [\"Animation\", \"Comedy\"], \"studios\": [\"Walt Disney Pictures\"]}, {\"id\": 11774, \"title\": \"Lemony Snicket's A Series of Unfortunate Events\", \"runtime\": 108, \"revenue\": 209073645, \"vote_average\": 3.33, \"genres\": [\"Comedy\"], \"studios\": [\"Paramount Pictures\"]}, {\"id\": 11808, \"title\": \"U.S. Marshals\", \"runtime\": 131, \"revenue\": 102367405, \"vote_average\": 3.26, \"genres\": [\"Action\"], \"studios\": [\"Warner Bros.\"]}, {\"id\": 11831, \"title\": \"Amistad\", \"runtime\": 155, \"revenue\": 74000000, \"vote_average\": 3.59, \"genres\": [\"Drama\", \"History\"], \"studios\": [\"DreamWorks SKG\"]}, {\"id\": 11836, \"title\": \"The SpongeBob SquarePants Movie\", \"runtime\": 87, \"revenue\": 140161792, \"vote_average\": 3.07, \"genres\": [\"Animation\", \"Comedy\"], \"studios\": [\"Paramount Pictures\"]}, {\"id\": 11849, \"title\": \"Dungeons & Dragons\", \"runtime\": 107, \"revenue\": 15185241, \"vote_average\": 2.08, \"genres\": [\"Action\", \"Science Fiction\"], \"studios\": [\"New Line Cinema\"]}, {\"id\": 11892, \"title\": \"Murder by Numbers\", \"runtime\": 120, \"revenue\": 56714147, \"vote_average\": 3.0, \"genres\": [\"Drama\"], \"studios\": [\"Warner Bros.\"]}, {\"id\": 11970, \"title\": \"Hercules\", \"runtime\": 93, \"revenue\": 252712101, \"vote_average\": 3.39, \"genres\": [\"Animation\", \"Romance\", \"Comedy\"], \"studios\": [\"Walt Disney Pictures\"]}, {\"id\": 11973, \"title\": \"Thirteen Days\", \"runtime\": 145, \"revenue\": 34566746, \"vote_average\": 3.67, \"genres\": [\"Drama\"], \"studios\": [\"New Line Cinema\"]}, {\"id\": 11975, \"title\": \"The Rainmaker\", \"runtime\": 135, \"revenue\": 45916769, \"vote_average\": 3.61, \"genres\": [\"Drama\"], \"studios\": [\"Paramount Pictures\"]}, {\"id\": 11977, \"title\": \"Caddyshack\", \"runtime\": 98, \"revenue\": 39846344, \"vote_average\": 3.67, \"genres\": [\"Comedy\"], \"studios\": [\"Warner Bros.\"]}, {\"id\": 11979, \"title\": \"Queen of the Damned\", \"runtime\": 101, \"revenue\": 45479110, \"vote_average\": 2.63, \"genres\": [\"Horror\", \"Drama\"], \"studios\": [\"Warner Bros.\"]}, {\"id\": 12094, \"title\": \"Jackass Number Two\", \"runtime\": 95, \"revenue\": 72778712, \"vote_average\": 3.13, \"genres\": [\"Action\", \"Comedy\"], \"studios\": [\"Paramount Pictures\"]}, {\"id\": 12113, \"title\": \"Body of Lies\", \"runtime\": 128, \"revenue\": 113280098, \"vote_average\": 3.59, \"genres\": [\"Action\", \"Drama\"], \"studios\": [\"Warner Bros.\"]}, {\"id\": 12138, \"title\": \"3000 Miles to Graceland\", \"runtime\": 125, \"revenue\": 18720175, \"vote_average\": 2.76, \"genres\": [\"Action\", \"Comedy\"], \"studios\": [\"Warner Bros.\"]}, {\"id\": 12139, \"title\": \"Dennis the Menace\", \"runtime\": 94, \"revenue\": 117270765, \"vote_average\": 2.36, \"genres\": [\"Comedy\"], \"studios\": [\"Warner Bros.\"]}, {\"id\": 12158, \"title\": \"Vampire in Brooklyn\", \"runtime\": 100, \"revenue\": 19800000, \"vote_average\": 2.51, \"genres\": [\"Horror\", \"Romance\", \"Comedy\"], \"studios\": [\"Paramount Pictures\"]}, {\"id\": 12160, \"title\": \"Wyatt Earp\", \"runtime\": 191, \"revenue\": 25052000, \"vote_average\": 3.2, \"genres\": [\"Action\", \"Drama\"], \"studios\": [\"Warner Bros.\"]}, {\"id\": 12177, \"title\": \"The Love Guru\", \"runtime\": 87, \"revenue\": 41819064, \"vote_average\": 2.04, \"genres\": [\"Romance\", \"Comedy\"], \"studios\": [\"Paramount Pictures\"]}, {\"id\": 12193, \"title\": \"Four Christmases\", \"runtime\": 88, \"revenue\": 163733697, \"vote_average\": 2.89, \"genres\": [\"Romance\", \"Comedy\", \"Drama\"], \"studios\": [\"New Line Cinema\"]}, {\"id\": 12201, \"title\": \"Edge of Darkness\", \"runtime\": 117, \"revenue\": 74901339, \"vote_average\": 3.21, \"genres\": [\"Drama\"], \"studios\": [\"Warner Bros.\"]}, {\"id\": 12227, \"title\": \"White Fang\", \"runtime\": 107, \"revenue\": 34793160, \"vote_average\": 3.17, \"genres\": [\"Action\", \"Drama\"], \"studios\": [\"Walt Disney Pictures\"]}, {\"id\": 12233, \"title\": \"Oliver & Company\", \"runtime\": 74, \"revenue\": 74151346, \"vote_average\": 3.31, \"genres\": [\"Animation\", \"Comedy\"], \"studios\": [\"Walt Disney Pictures\"]}, {\"id\": 12405, \"title\": \"Slumdog Millionaire\", \"runtime\": 120, \"revenue\": 377910544, \"vote_average\": 3.86, \"genres\": [\"Romance\", \"Drama\"], \"studios\": [\"Warner Bros.\"]}, {\"id\": 12508, \"title\": \"Rock Star\", \"runtime\": 105, \"revenue\": 16991902, \"vote_average\": 2.9699999999999998, \"genres\": [\"Comedy\", \"Drama\"], \"studios\": [\"Warner Bros.\"]}, {\"id\": 12610, \"title\": \"Osmosis Jones\", \"runtime\": 95, \"revenue\": 13596911, \"vote_average\": 2.86, \"genres\": [\"Animation\", \"Comedy\", \"Action\"], \"studios\": [\"Warner Bros.\"]}, {\"id\": 12690, \"title\": \"Appaloosa\", \"runtime\": 115, \"revenue\": 20211394, \"vote_average\": 3.38, \"genres\": [\"Drama\"], \"studios\": [\"New Line Cinema\"]}, {\"id\": 13027, \"title\": \"Eagle Eye\", \"runtime\": 118, \"revenue\": 178066569, \"vote_average\": 3.27, \"genres\": [\"Action\"], \"studios\": [\"DreamWorks SKG\"]}, {\"id\": 13150, \"title\": \"Pride and Glory\", \"runtime\": 130, \"revenue\": 31148328, \"vote_average\": 3.26, \"genres\": [\"Drama\"], \"studios\": [\"New Line Cinema\"]}, {\"id\": 13183, \"title\": \"Watchmen\", \"runtime\": 163, \"revenue\": 185258983, \"vote_average\": 3.71, \"genres\": [\"Action\", \"Science Fiction\"], \"studios\": [\"Warner Bros.\", \"Paramount Pictures\"]}, {\"id\": 13207, \"title\": \"Friday the 13th\", \"runtime\": 97, \"revenue\": 91379051, \"vote_average\": 2.5700000000000003, \"genres\": [\"Horror\"], \"studios\": [\"New Line Cinema\"]}, {\"id\": 13223, \"title\": \"Gran Torino\", \"runtime\": 116, \"revenue\": 269958228, \"vote_average\": 3.93, \"genres\": [\"Drama\"], \"studios\": [\"Warner Bros.\"]}, {\"id\": 13335, \"title\": \"Harold & Kumar Escape from Guantanamo Bay\", \"runtime\": 107, \"revenue\": 43493123, \"vote_average\": 3.14, \"genres\": [\"Comedy\"], \"studios\": [\"New Line Cinema\"]}, {\"id\": 13374, \"title\": \"Ice Princess\", \"runtime\": 98, \"revenue\": 27645491, \"vote_average\": 3.1, \"genres\": [\"Comedy\", \"Drama\"], \"studios\": [\"Walt Disney Pictures\"]}, {\"id\": 13475, \"title\": \"Star Trek\", \"runtime\": 127, \"revenue\": 385680446, \"vote_average\": 3.87, \"genres\": [\"Action\", \"Science Fiction\"], \"studios\": [\"Paramount Pictures\"]}, {\"id\": 13476, \"title\": \"Win a Date with Tad Hamilton!\", \"runtime\": 95, \"revenue\": 16980098, \"vote_average\": 2.84, \"genres\": [\"Romance\", \"Comedy\"], \"studios\": [\"DreamWorks SKG\"]}, {\"id\": 13499, \"title\": \"Yours, Mine & Ours\", \"runtime\": 90, \"revenue\": 72028752, \"vote_average\": 2.96, \"genres\": [\"Romance\", \"Comedy\"], \"studios\": [\"Paramount Pictures\"]}, {\"id\": 13572, \"title\": \"Twisted\", \"runtime\": 97, \"revenue\": 25195000, \"vote_average\": 2.56, \"genres\": [\"Action\", \"Drama\"], \"studios\": [\"Paramount Pictures\"]}, {\"id\": 13672, \"title\": \"JCVD\", \"runtime\": 96, \"revenue\": 276891, \"vote_average\": 3.43, \"genres\": [\"Action\", \"Comedy\", \"Drama\"], \"studios\": [\"Canal+\"]}, {\"id\": 13680, \"title\": \"The Game Plan\", \"runtime\": 110, \"revenue\": 147880543, \"vote_average\": 3.01, \"genres\": [\"Comedy\"], \"studios\": [\"Walt Disney Pictures\"]}, {\"id\": 13700, \"title\": \"Home on the Range\", \"runtime\": 76, \"revenue\": 103951461, \"vote_average\": 2.67, \"genres\": [\"Animation\"], \"studios\": [\"Walt Disney Pictures\"]}, {\"id\": 13767, \"title\": \"The Santa Clause 3: The Escape Clause\", \"runtime\": 98, \"revenue\": 84500122, \"vote_average\": 2.44, \"genres\": [\"Comedy\"], \"studios\": [\"Walt Disney Pictures\"]}, {\"id\": 13768, \"title\": \"Tuck Everlasting\", \"runtime\": 90, \"revenue\": 19158074, \"vote_average\": 3.21, \"genres\": [\"Science Fiction\", \"Romance\", \"Drama\"], \"studios\": [\"Walt Disney Pictures\"]}, {\"id\": 13809, \"title\": \"RockNRolla\", \"runtime\": 114, \"revenue\": 25739015, \"vote_average\": 3.68, \"genres\": [\"Action\"], \"studios\": [\"Warner Bros.\"]}, {\"id\": 13836, \"title\": \"Race to Witch Mountain\", \"runtime\": 98, \"revenue\": 106303988, \"vote_average\": 2.79, \"genres\": [\"Action\", \"Science Fiction\"], \"studios\": [\"Walt Disney Pictures\"]}, {\"id\": 13885, \"title\": \"Sweeney Todd: The Demon Barber of Fleet Street\", \"runtime\": 116, \"revenue\": 152000000, \"vote_average\": 3.51, \"genres\": [\"Horror\", \"Drama\"], \"studios\": [\"Warner Bros.\"]}, {\"id\": 13939, \"title\": \"Death Wish\", \"runtime\": 93, \"revenue\": 22000000, \"vote_average\": 3.19, \"genres\": [\"Action\", \"Drama\"], \"studios\": [\"Paramount Pictures\"]}, {\"id\": 14024, \"title\": \"Raise Your Voice\", \"runtime\": 103, \"revenue\": 14867514, \"vote_average\": 3.13, \"genres\": [\"Romance\", \"Drama\"], \"studios\": [\"New Line Cinema\"]}, {\"id\": 14181, \"title\": \"Boiler Room\", \"runtime\": 118, \"revenue\": 28780255, \"vote_average\": 3.5, \"genres\": [\"Drama\"], \"studios\": [\"New Line Cinema\"]}, {\"id\": 14239, \"title\": \"Cool World\", \"runtime\": 102, \"revenue\": 14110589, \"vote_average\": 2.42, \"genres\": [\"Animation\", \"Comedy\"], \"studios\": [\"Paramount Pictures\"]}, {\"id\": 14362, \"title\": \"Out for Justice\", \"runtime\": 91, \"revenue\": 39673161, \"vote_average\": 2.7800000000000002, \"genres\": [\"Action\"], \"studios\": [\"Warner Bros.\"]}, {\"id\": 14375, \"title\": \"Romanzo criminale\", \"runtime\": 152, \"revenue\": 4851244, \"vote_average\": 3.58, \"genres\": [\"Drama\"], \"studios\": [\"Warner Bros.\"]}, {\"id\": 14405, \"title\": \"Beverly Hills Chihuahua\", \"runtime\": 91, \"revenue\": 149281606, \"vote_average\": 1.81, \"genres\": [\"Comedy\"], \"studios\": [\"Walt Disney Pictures\"]}, {\"id\": 14411, \"title\": \"Sinbad: Legend of the Seven Seas\", \"runtime\": 86, \"revenue\": 26288320, \"vote_average\": 3.2800000000000002, \"genres\": [\"Animation\"], \"studios\": [\"DreamWorks Animation\"]}, {\"id\": 14444, \"title\": \"The Rugrats Movie\", \"runtime\": 79, \"revenue\": 100491683, \"vote_average\": 2.67, \"genres\": [\"Animation\"], \"studios\": [\"Paramount Pictures\"]}, {\"id\": 14462, \"title\": \"The Manchurian Candidate\", \"runtime\": 129, \"revenue\": 96105964, \"vote_average\": 3.36, \"genres\": [\"Drama\"], \"studios\": [\"Paramount Pictures\"]}, {\"id\": 14564, \"title\": \"Rings\", \"runtime\": 102, \"revenue\": 83080890, \"vote_average\": 2.31, \"genres\": [\"Horror\"], \"studios\": [\"Paramount Pictures\"]}, {\"id\": 14635, \"title\": \"The Rookie\", \"runtime\": 127, \"revenue\": 75597042, \"vote_average\": 3.5, \"genres\": [\"Drama\"], \"studios\": [\"Walt Disney Pictures\"]}, {\"id\": 14869, \"title\": \"G.I. Joe: The Rise of Cobra\", \"runtime\": 118, \"revenue\": 302469017, \"vote_average\": 2.83, \"genres\": [\"Action\", \"Science Fiction\"], \"studios\": [\"Paramount Pictures\"]}, {\"id\": 14873, \"title\": \"The Jungle Book 2\", \"runtime\": 72, \"revenue\": 135680000, \"vote_average\": 2.36, \"genres\": [\"Animation\"], \"studios\": [\"Walt Disney Pictures\"]}, {\"id\": 14919, \"title\": \"Batman: Mask of the Phantasm\", \"runtime\": 76, \"revenue\": 5617391, \"vote_average\": 3.49, \"genres\": [\"Action\", \"Animation\"], \"studios\": [\"Warner Bros.\"]}, {\"id\": 15189, \"title\": \"Hotel for Dogs\", \"runtime\": 100, \"revenue\": 73034460, \"vote_average\": 2.69, \"genres\": [\"Comedy\"], \"studios\": [\"DreamWorks SKG\"]}, {\"id\": 15196, \"title\": \"Clue\", \"runtime\": 94, \"revenue\": 14643997, \"vote_average\": 3.48, \"genres\": [\"Comedy\"], \"studios\": [\"Paramount Pictures\"]}, {\"id\": 15301, \"title\": \"Twilight Zone: The Movie\", \"runtime\": 101, \"revenue\": 29450919, \"vote_average\": 3.26, \"genres\": [\"Horror\", \"Science Fiction\", \"Drama\"], \"studios\": [\"Warner Bros.\"]}, {\"id\": 15357, \"title\": \"District 13: Ultimatum\", \"runtime\": 101, \"revenue\": 8786375, \"vote_average\": 3.31, \"genres\": [\"Action\"], \"studios\": [\"Canal+\"]}, {\"id\": 15417, \"title\": \"Every Which Way But Loose\", \"runtime\": 110, \"revenue\": 85, \"vote_average\": 2.77, \"genres\": [\"Action\", \"Romance\", \"Comedy\"], \"studios\": [\"Warner Bros.\"]}, {\"id\": 15487, \"title\": \"The Greatest Game Ever Played\", \"runtime\": 120, \"revenue\": 15431177, \"vote_average\": 3.67, \"genres\": [\"Drama\"], \"studios\": [\"Walt Disney Pictures\"]}, {\"id\": 15512, \"title\": \"Monsters vs Aliens\", \"runtime\": 94, \"revenue\": 381509870, \"vote_average\": 3.19, \"genres\": [\"Animation\", \"Science Fiction\"], \"studios\": [\"DreamWorks Animation\"]}, {\"id\": 15566, \"title\": \"Surviving Christmas\", \"runtime\": 91, \"revenue\": 14793624, \"vote_average\": 2.5, \"genres\": [\"Romance\", \"Comedy\"], \"studios\": [\"DreamWorks SKG\"]}, {\"id\": 15613, \"title\": \"Fire in the Sky\", \"runtime\": 109, \"revenue\": 19724334, \"vote_average\": 3.1, \"genres\": [\"Horror\", \"Drama\"], \"studios\": [\"Paramount Pictures\"]}, {\"id\": 15655, \"title\": \"The Tigger Movie\", \"runtime\": 77, \"revenue\": 45554533, \"vote_average\": 2.91, \"genres\": [\"Animation\"], \"studios\": [\"Walt Disney Pictures\"]}, {\"id\": 16136, \"title\": \"Juice\", \"runtime\": 96, \"revenue\": 20146880, \"vote_average\": 3.34, \"genres\": [\"Action\", \"Drama\"], \"studios\": [\"Paramount Pictures\"]}, {\"id\": 16281, \"title\": \"Creepshow\", \"runtime\": 120, \"revenue\": 21028755, \"vote_average\": 3.21, \"genres\": [\"Horror\", \"Comedy\"], \"studios\": [\"Warner Bros.\"]}, {\"id\": 16340, \"title\": \"Rugrats in Paris: The Movie\", \"runtime\": 78, \"revenue\": 103, \"vote_average\": 2.58, \"genres\": [\"Animation\", \"Comedy\"], \"studios\": [\"Paramount Pictures\"]}, {\"id\": 16690, \"title\": \"Return to Never Land\", \"runtime\": 72, \"revenue\": 109862682, \"vote_average\": 2.79, \"genres\": [\"Animation\"], \"studios\": [\"Walt Disney Pictures\"]}, {\"id\": 16996, \"title\": \"17 Again\", \"runtime\": 102, \"revenue\": 136267476, \"vote_average\": 3.1, \"genres\": [\"Comedy\"], \"studios\": [\"New Line Cinema\"]}, {\"id\": 17130, \"title\": \"Crossroads\", \"runtime\": 93, \"revenue\": 61141030, \"vote_average\": 1.8900000000000001, \"genres\": [\"Action\", \"Romance\", \"Comedy\", \"Drama\"], \"studios\": [\"Paramount Pictures\"]}, {\"id\": 17379, \"title\": \"Last Holiday\", \"runtime\": 112, \"revenue\": 38399961, \"vote_average\": 3.35, \"genres\": [\"Comedy\", \"Drama\"], \"studios\": [\"Paramount Pictures\"]}, {\"id\": 17578, \"title\": \"The Adventures of Tintin\", \"runtime\": 107, \"revenue\": 371940071, \"vote_average\": 3.51, \"genres\": [\"Animation\"], \"studios\": [\"Paramount Pictures\"]}, {\"id\": 17609, \"title\": \"Antichrist\", \"runtime\": 108, \"revenue\": 791867, \"vote_average\": 3.42, \"genres\": [\"Horror\", \"Drama\"], \"studios\": [\"Canal+\"]}, {\"id\": 17689, \"title\": \"The Gauntlet\", \"runtime\": 109, \"revenue\": 26414658, \"vote_average\": 3.24, \"genres\": [\"Action\", \"Drama\"], \"studios\": [\"Warner Bros.\"]}, {\"id\": 17979, \"title\": \"A Christmas Carol\", \"runtime\": 96, \"revenue\": 325233863, \"vote_average\": 3.24, \"genres\": [\"Animation\", \"Drama\"], \"studios\": [\"Walt Disney Pictures\"]}, {\"id\": 18126, \"title\": \"Hannah Montana: The Movie\", \"runtime\": 102, \"revenue\": 155545279, \"vote_average\": 2.45, \"genres\": [\"Romance\", \"Comedy\", \"Drama\"], \"studios\": [\"Walt Disney Pictures\"]}, {\"id\": 18736, \"title\": \"The Lizzie McGuire Movie\", \"runtime\": 94, \"revenue\": 55534455, \"vote_average\": 2.69, \"genres\": [\"Comedy\"], \"studios\": [\"Walt Disney Pictures\"]}, {\"id\": 18785, \"title\": \"The Hangover\", \"runtime\": 100, \"revenue\": 459270619, \"vote_average\": 3.64, \"genres\": [\"Comedy\"], \"studios\": [\"Warner Bros.\"]}, {\"id\": 18823, \"title\": \"Clash of the Titans\", \"runtime\": 106, \"revenue\": 232713139, \"vote_average\": 2.75, \"genres\": [\"Action\"], \"studios\": [\"Warner Bros.\"]}, {\"id\": 18937, \"title\": \"Quest for Camelot\", \"runtime\": 86, \"revenue\": 38172500, \"vote_average\": 2.87, \"genres\": [\"Animation\", \"Romance\", \"Drama\"], \"studios\": [\"Warner Bros.\"]}, {\"id\": 19585, \"title\": \"G-Force\", \"runtime\": 88, \"revenue\": 292817841, \"vote_average\": 2.35, \"genres\": [\"Action\", \"Comedy\"], \"studios\": [\"Walt Disney Pictures\"]}, {\"id\": 19912, \"title\": \"The Final Destination\", \"runtime\": 82, \"revenue\": 186167139, \"vote_average\": 2.71, \"genres\": [\"Horror\"], \"studios\": [\"New Line Cinema\"]}, {\"id\": 20526, \"title\": \"TRON: Legacy\", \"runtime\": 125, \"revenue\": 400062763, \"vote_average\": 3.31, \"genres\": [\"Action\", \"Science Fiction\"], \"studios\": [\"Walt Disney Pictures\"]}, {\"id\": 20533, \"title\": \"Jonah Hex\", \"runtime\": 80, \"revenue\": 10539000, \"vote_average\": 2.36, \"genres\": [\"Action\", \"Drama\"], \"studios\": [\"Warner Bros.\"]}, {\"id\": 20737, \"title\": \"Air Bud\", \"runtime\": 98, \"revenue\": 23144499, \"vote_average\": 2.34, \"genres\": [\"Comedy\", \"Drama\"], \"studios\": [\"Walt Disney Pictures\"]}, {\"id\": 20857, \"title\": \"Hardball\", \"runtime\": 106, \"revenue\": 40222729, \"vote_average\": 3.11, \"genres\": [\"Romance\", \"Comedy\"], \"studios\": [\"Paramount Pictures\"]}, {\"id\": 22787, \"title\": \"Whiteout\", \"runtime\": 101, \"revenue\": 12206028, \"vote_average\": 2.67, \"genres\": [\"Action\"], \"studios\": [\"Warner Bros.\"]}, {\"id\": 22825, \"title\": \"The Box\", \"runtime\": 115, \"revenue\": 33333531, \"vote_average\": 2.7800000000000002, \"genres\": [\"Science Fiction\"], \"studios\": [\"Warner Bros.\"]}, {\"id\": 22832, \"title\": \"Ninja Assassin\", \"runtime\": 99, \"revenue\": 60462347, \"vote_average\": 3.1, \"genres\": [\"Action\"], \"studios\": [\"Warner Bros.\"]}, {\"id\": 22947, \"title\": \"Up in the Air\", \"runtime\": 109, \"revenue\": 163670000, \"vote_average\": 3.71, \"genres\": [\"Romance\", \"Drama\"], \"studios\": [\"Paramount Pictures\"]}, {\"id\": 22949, \"title\": \"Old Dogs\", \"runtime\": 88, \"revenue\": 92219310, \"vote_average\": 2.54, \"genres\": [\"Comedy\"], \"studios\": [\"Walt Disney Pictures\"]}, {\"id\": 22954, \"title\": \"Invictus\", \"runtime\": 134, \"revenue\": 122233971, \"vote_average\": 3.58, \"genres\": [\"Drama\", \"History\"], \"studios\": [\"Warner Bros.\"]}, {\"id\": 23082, \"title\": \"The Invention of Lying\", \"runtime\": 100, \"revenue\": 31912793, \"vote_average\": 3.23, \"genres\": [\"Romance\", \"Comedy\"], \"studios\": [\"Warner Bros.\"]}, {\"id\": 23168, \"title\": \"The Town\", \"runtime\": 125, \"revenue\": 154026136, \"vote_average\": 3.75, \"genres\": [\"Drama\"], \"studios\": [\"Warner Bros.\"]}, {\"id\": 23437, \"title\": \"A Nightmare on Elm Street\", \"runtime\": 95, \"revenue\": 115664037, \"vote_average\": 2.58, \"genres\": [\"Horror\"], \"studios\": [\"New Line Cinema\"]}, {\"id\": 23479, \"title\": \"The Bad News Bears\", \"runtime\": 102, \"revenue\": 35323292, \"vote_average\": 3.4, \"genres\": [\"Comedy\"], \"studios\": [\"Paramount Pictures\"]}, {\"id\": 23629, \"title\": \"Sucker Punch\", \"runtime\": 110, \"revenue\": 89792502, \"vote_average\": 2.94, \"genres\": [\"Action\"], \"studios\": [\"Warner Bros.\"]}, {\"id\": 23742, \"title\": \"Cop Out\", \"runtime\": 107, \"revenue\": 55583804, \"vote_average\": 2.69, \"genres\": [\"Action\", \"Comedy\"], \"studios\": [\"Warner Bros.\"]}, {\"id\": 23759, \"title\": \"Centurion\", \"runtime\": 97, \"revenue\": 6814789, \"vote_average\": 3.14, \"genres\": [\"Action\", \"Drama\"], \"studios\": [\"Warner Bros.\", \"Canal+\"]}, {\"id\": 24420, \"title\": \"The Time Traveler's Wife\", \"runtime\": 107, \"revenue\": 101229792, \"vote_average\": 3.58, \"genres\": [\"Romance\", \"Drama\"], \"studios\": [\"New Line Cinema\"]}, {\"id\": 26389, \"title\": \"From Paris with Love\", \"runtime\": 92, \"revenue\": 52826594, \"vote_average\": 3.15, \"genres\": [\"Action\"], \"studios\": [\"Canal+\"]}, {\"id\": 27022, \"title\": \"The Sorcerer's Apprentice\", \"runtime\": 109, \"revenue\": 215283742, \"vote_average\": 3.2, \"genres\": [\"Action\", \"Comedy\", \"Drama\"], \"studios\": [\"Walt Disney Pictures\"]}, {\"id\": 28032, \"title\": \"Thumbelina\", \"runtime\": 87, \"revenue\": 11373501, \"vote_average\": 2.79, \"genres\": [\"Animation\", \"Drama\"], \"studios\": [\"Warner Bros.\"]}, {\"id\": 30497, \"title\": \"The Texas Chain Saw Massacre\", \"runtime\": 83, \"revenue\": 30859000, \"vote_average\": 3.26, \"genres\": [\"Horror\"], \"studios\": [\"New Line Cinema\"]}, {\"id\": 32856, \"title\": \"Valentine's Day\", \"runtime\": 125, \"revenue\": 216485654, \"vote_average\": 2.93, \"genres\": [\"Romance\", \"Comedy\"], \"studios\": [\"New Line Cinema\"]}, {\"id\": 33273, \"title\": \"Cell 211\", \"runtime\": 110, \"revenue\": 19300483, \"vote_average\": 3.77, \"genres\": [\"Action\", \"Drama\"], \"studios\": [\"Canal+\"]}, {\"id\": 33542, \"title\": \"Rumble in the Bronx\", \"runtime\": 91, \"revenue\": 32392047, \"vote_average\": 3.4, \"genres\": [\"Action\", \"Comedy\"], \"studios\": [\"New Line Cinema\"]}, {\"id\": 34016, \"title\": \"She's Out of My League\", \"runtime\": 104, \"revenue\": 49779728, \"vote_average\": 3.26, \"genres\": [\"Romance\", \"Comedy\"], \"studios\": [\"DreamWorks SKG\"]}, {\"id\": 34584, \"title\": \"The NeverEnding Story\", \"runtime\": 102, \"revenue\": 20158808, \"vote_average\": 3.5, \"genres\": [\"Drama\"], \"studios\": [\"Warner Bros.\"]}, {\"id\": 34636, \"title\": \"The Neverending Story II: The Next Chapter\", \"runtime\": 89, \"revenue\": 16283667, \"vote_average\": 2.48, \"genres\": [\"Drama\"], \"studios\": [\"Warner Bros.\"]}, {\"id\": 34813, \"title\": \"The Losers\", \"runtime\": 97, \"revenue\": 23580000, \"vote_average\": 3.18, \"genres\": [\"Action\"], \"studios\": [\"Warner Bros.\"]}, {\"id\": 36586, \"title\": \"Blade II\", \"runtime\": 117, \"revenue\": 155010032, \"vote_average\": 3.12, \"genres\": [\"Action\", \"Horror\"], \"studios\": [\"New Line Cinema\"]}, {\"id\": 36593, \"title\": \"The Naked Gun 33\\u2153: The Final Insult\", \"runtime\": 83, \"revenue\": 51132598, \"vote_average\": 2.96, \"genres\": [\"Comedy\"], \"studios\": [\"Paramount Pictures\"]}, {\"id\": 36647, \"title\": \"Blade\", \"runtime\": 120, \"revenue\": 131183530, \"vote_average\": 3.35, \"genres\": [\"Action\", \"Horror\"], \"studios\": [\"New Line Cinema\"]}, {\"id\": 36648, \"title\": \"Blade: Trinity\", \"runtime\": 123, \"revenue\": 128905366, \"vote_average\": 2.94, \"genres\": [\"Action\", \"Horror\", \"Science Fiction\"], \"studios\": [\"New Line Cinema\"]}, {\"id\": 36955, \"title\": \"True Lies\", \"runtime\": 141, \"revenue\": 378882411, \"vote_average\": 3.5, \"genres\": [\"Action\"], \"studios\": [\"Lightstorm Entertainment\"]}, {\"id\": 37094, \"title\": \"Falling Down\", \"runtime\": 113, \"revenue\": 40903593, \"vote_average\": 3.6, \"genres\": [\"Drama\"], \"studios\": [\"Warner Bros.\", \"Canal+\"]}, {\"id\": 37135, \"title\": \"Tarzan\", \"runtime\": 88, \"revenue\": 448000000, \"vote_average\": 3.47, \"genres\": [\"Animation\", \"Drama\"], \"studios\": [\"Walt Disney Pictures\"]}, {\"id\": 37136, \"title\": \"The Naked Gun: From the Files of Police Squad!\", \"runtime\": 85, \"revenue\": 78756177, \"vote_average\": 3.58, \"genres\": [\"Comedy\"], \"studios\": [\"Paramount Pictures\"]}, {\"id\": 37137, \"title\": \"The Naked Gun 2\\u00bd: The Smell of Fear\", \"runtime\": 85, \"revenue\": 86930411, \"vote_average\": 3.19, \"genres\": [\"Comedy\"], \"studios\": [\"Paramount Pictures\"]}, {\"id\": 37165, \"title\": \"The Truman Show\", \"runtime\": 103, \"revenue\": 264118201, \"vote_average\": 3.84, \"genres\": [\"Comedy\", \"Drama\"], \"studios\": [\"Paramount Pictures\"]}, {\"id\": 37233, \"title\": \"The Firm\", \"runtime\": 154, \"revenue\": 270248367, \"vote_average\": 3.5, \"genres\": [\"Drama\"], \"studios\": [\"Paramount Pictures\"]}, {\"id\": 37686, \"title\": \"Super 8\", \"runtime\": 112, \"revenue\": 260095987, \"vote_average\": 3.5, \"genres\": [\"Science Fiction\"], \"studios\": [\"Paramount Pictures\"]}, {\"id\": 37786, \"title\": \"Sex and the City 2\", \"runtime\": 146, \"revenue\": 288347692, \"vote_average\": 2.32, \"genres\": [\"Romance\", \"Comedy\", \"Drama\"], \"studios\": [\"New Line Cinema\"]}, {\"id\": 37933, \"title\": \"Tales from Earthsea\", \"runtime\": 115, \"revenue\": 68000000, \"vote_average\": 3.1, \"genres\": [\"Animation\", \"Science Fiction\"], \"studios\": [\"Walt Disney Pictures\"]}, {\"id\": 38055, \"title\": \"Megamind\", \"runtime\": 95, \"revenue\": 321887208, \"vote_average\": 3.59, \"genres\": [\"Animation\", \"Science Fiction\", \"Comedy\", \"Action\"], \"studios\": [\"DreamWorks Animation\"]}, {\"id\": 38073, \"title\": \"Going the Distance\", \"runtime\": 102, \"revenue\": 42045846, \"vote_average\": 3.18, \"genres\": [\"Romance\", \"Comedy\", \"Drama\"], \"studios\": [\"New Line Cinema\"]}, {\"id\": 38778, \"title\": \"Dinner for Schmucks\", \"runtime\": 114, \"revenue\": 86387857, \"vote_average\": 2.87, \"genres\": [\"Comedy\"], \"studios\": [\"DreamWorks SKG\", \"Paramount Pictures\"]}, {\"id\": 38985, \"title\": \"Sorcerer\", \"runtime\": 121, \"revenue\": 12000000, \"vote_average\": 3.75, \"genres\": [\"Action\"], \"studios\": [\"Paramount Pictures\"]}, {\"id\": 39254, \"title\": \"Real Steel\", \"runtime\": 127, \"revenue\": 299268508, \"vote_average\": 3.3, \"genres\": [\"Action\", \"Science Fiction\", \"Drama\"], \"studios\": [\"DreamWorks SKG\"]}, {\"id\": 39451, \"title\": \"Little Fockers\", \"runtime\": 98, \"revenue\": 310650585, \"vote_average\": 2.73, \"genres\": [\"Romance\", \"Comedy\"], \"studios\": [\"Paramount Pictures\"]}, {\"id\": 39486, \"title\": \"Secretariat\", \"runtime\": 123, \"revenue\": 60251371, \"vote_average\": 3.7199999999999998, \"genres\": [\"Drama\"], \"studios\": [\"Walt Disney Pictures\"]}, {\"id\": 39538, \"title\": \"Contagion\", \"runtime\": 106, \"revenue\": 137551594, \"vote_average\": 3.48, \"genres\": [\"Science Fiction\", \"Drama\"], \"studios\": [\"Warner Bros.\"]}, {\"id\": 41201, \"title\": \"The Illusionist\", \"runtime\": 80, \"revenue\": 5602431, \"vote_average\": 3.69, \"genres\": [\"Animation\", \"Drama\"], \"studios\": [\"Canal+\"]}, {\"id\": 41216, \"title\": \"Legend of the Guardians: The Owls of Ga'Hoole\", \"runtime\": 97, \"revenue\": 140073390, \"vote_average\": 3.21, \"genres\": [\"Animation\"], \"studios\": [\"Warner Bros.\"]}, {\"id\": 41436, \"title\": \"Paranormal Activity 2\", \"runtime\": 91, \"revenue\": 177512032, \"vote_average\": 2.8200000000000003, \"genres\": [\"Horror\"], \"studios\": [\"Paramount Pictures\"]}, {\"id\": 41733, \"title\": \"Due Date\", \"runtime\": 95, \"revenue\": 211780824, \"vote_average\": 3.17, \"genres\": [\"Comedy\", \"Drama\"], \"studios\": [\"Warner Bros.\"]}, {\"id\": 44115, \"title\": \"127 Hours\", \"runtime\": 94, \"revenue\": 35692920, \"vote_average\": 3.65, \"genres\": [\"Drama\"], \"studios\": [\"Warner Bros.\"]}, {\"id\": 44264, \"title\": \"True Grit\", \"runtime\": 110, \"revenue\": 252276927, \"vote_average\": 3.8, \"genres\": [\"Drama\"], \"studios\": [\"Paramount Pictures\"]}, {\"id\": 44603, \"title\": \"Hereafter\", \"runtime\": 129, \"revenue\": 105197635, \"vote_average\": 3.09, \"genres\": [\"Drama\"], \"studios\": [\"Warner Bros.\"]}, {\"id\": 44826, \"title\": \"Hugo\", \"runtime\": 126, \"revenue\": 185770160, \"vote_average\": 3.56, \"genres\": [\"Drama\"], \"studios\": [\"Paramount Pictures\"]}, {\"id\": 44896, \"title\": \"Rango\", \"runtime\": 107, \"revenue\": 245724603, \"vote_average\": 3.38, \"genres\": [\"Animation\", \"Comedy\"], \"studios\": [\"Paramount Pictures\"]}, {\"id\": 44912, \"title\": \"Green Lantern\", \"runtime\": 114, \"revenue\": 219851172, \"vote_average\": 2.54, \"genres\": [\"Action\", \"Science Fiction\"], \"studios\": [\"Warner Bros.\"]}, {\"id\": 45243, \"title\": \"The Hangover Part II\", \"runtime\": 102, \"revenue\": 254455986, \"vote_average\": 3.01, \"genres\": [\"Comedy\"], \"studios\": [\"Warner Bros.\"]}, {\"id\": 45317, \"title\": \"The Fighter\", \"runtime\": 116, \"revenue\": 93617009, \"vote_average\": 3.85, \"genres\": [\"Drama\"], \"studios\": [\"Paramount Pictures\"]}, {\"id\": 45649, \"title\": \"Rubber\", \"runtime\": 85, \"revenue\": 98017, \"vote_average\": 2.9, \"genres\": [\"Horror\", \"Comedy\", \"Drama\"], \"studios\": [\"Canal+\"]}, {\"id\": 46529, \"title\": \"I Am Number Four\", \"runtime\": 109, \"revenue\": 144492830, \"vote_average\": 3.02, \"genres\": [\"Action\", \"Science Fiction\"], \"studios\": [\"DreamWorks SKG\"]}, {\"id\": 47971, \"title\": \"xXx: Return of Xander Cage\", \"runtime\": 107, \"revenue\": 346147658, \"vote_average\": 2.9, \"genres\": [\"Action\"], \"studios\": [\"Paramount Pictures\"]}, {\"id\": 48138, \"title\": \"Unknown\", \"runtime\": 113, \"revenue\": 130786397, \"vote_average\": 3.49, \"genres\": [\"Action\"], \"studios\": [\"Canal+\"]}, {\"id\": 48171, \"title\": \"The Rite\", \"runtime\": 114, \"revenue\": 96047633, \"vote_average\": 2.98, \"genres\": [\"Horror\", \"Drama\"], \"studios\": [\"New Line Cinema\"]}, {\"id\": 48988, \"title\": \"Hall Pass\", \"runtime\": 105, \"revenue\": 83160734, \"vote_average\": 2.75, \"genres\": [\"Comedy\"], \"studios\": [\"New Line Cinema\"]}, {\"id\": 49012, \"title\": \"Arthur\", \"runtime\": 110, \"revenue\": 45735397, \"vote_average\": 2.91, \"genres\": [\"Romance\", \"Comedy\"], \"studios\": [\"Warner Bros.\"]}, {\"id\": 49014, \"title\": \"Cosmopolis\", \"runtime\": 109, \"revenue\": 6063556, \"vote_average\": 2.64, \"genres\": [\"Drama\"], \"studios\": [\"Canal+\"]}, {\"id\": 49529, \"title\": \"John Carter\", \"runtime\": 132, \"revenue\": 284139100, \"vote_average\": 3.21, \"genres\": [\"Action\", \"Science Fiction\"], \"studios\": [\"Walt Disney Pictures\"]}, {\"id\": 49730, \"title\": \"Red Riding Hood\", \"runtime\": 100, \"revenue\": 89162162, \"vote_average\": 2.71, \"genres\": [\"Horror\"], \"studios\": [\"Warner Bros.\"]}, {\"id\": 49849, \"title\": \"Cowboys & Aliens\", \"runtime\": 119, \"revenue\": 174822325, \"vote_average\": 2.89, \"genres\": [\"Action\", \"Science Fiction\"], \"studios\": [\"DreamWorks SKG\"]}, {\"id\": 49948, \"title\": \"Fantasia 2000\", \"runtime\": 74, \"revenue\": 90874570, \"vote_average\": 3.51, \"genres\": [\"Animation\"], \"studios\": [\"Walt Disney Pictures\"]}, {\"id\": 50014, \"title\": \"The Help\", \"runtime\": 146, \"revenue\": 124272124, \"vote_average\": 3.91, \"genres\": [\"Drama\"], \"studios\": [\"DreamWorks SKG\"]}, {\"id\": 50646, \"title\": \"Crazy, Stupid, Love.\", \"runtime\": 118, \"revenue\": 142851197, \"vote_average\": 3.75, \"genres\": [\"Romance\", \"Comedy\", \"Drama\"], \"studios\": [\"Warner Bros.\"]}, {\"id\": 51162, \"title\": \"Winnie the Pooh\", \"runtime\": 63, \"revenue\": 14460000, \"vote_average\": 3.36, \"genres\": [\"Animation\"], \"studios\": [\"Walt Disney Pictures\"]}, {\"id\": 51540, \"title\": \"Horrible Bosses\", \"runtime\": 98, \"revenue\": 117000000, \"vote_average\": 3.32, \"genres\": [\"Comedy\"], \"studios\": [\"New Line Cinema\"]}, {\"id\": 51588, \"title\": \"Prom\", \"runtime\": 104, \"revenue\": 10130000, \"vote_average\": 2.75, \"genres\": [\"Comedy\"], \"studios\": [\"Walt Disney Pictures\"]}, {\"id\": 53182, \"title\": \"300: Rise of an Empire\", \"runtime\": 102, \"revenue\": 337580051, \"vote_average\": 2.98, \"genres\": [\"Action\", \"War\"], \"studios\": [\"Warner Bros.\"]}, {\"id\": 53457, \"title\": \"Sarah's Key\", \"runtime\": 111, \"revenue\": 17511906, \"vote_average\": 3.61, \"genres\": [\"War\", \"Drama\"], \"studios\": [\"Canal+\"]}, {\"id\": 54138, \"title\": \"Star Trek Into Darkness\", \"runtime\": 132, \"revenue\": 467365246, \"vote_average\": 3.77, \"genres\": [\"Action\", \"Science Fiction\"], \"studios\": [\"Paramount Pictures\"]}, {\"id\": 55465, \"title\": \"A Very Harold & Kumar Christmas\", \"runtime\": 108, \"revenue\": 35387212, \"vote_average\": 2.9699999999999998, \"genres\": [\"Comedy\"], \"studios\": [\"New Line Cinema\"]}, {\"id\": 55779, \"title\": \"Final Destination 5\", \"runtime\": 92, \"revenue\": 157887643, \"vote_average\": 2.83, \"genres\": [\"Horror\"], \"studios\": [\"New Line Cinema\"]}, {\"id\": 57157, \"title\": \"Young Adult\", \"runtime\": 94, \"revenue\": 22939027, \"vote_average\": 3.13, \"genres\": [\"Comedy\", \"Drama\"], \"studios\": [\"Paramount Pictures\"]}, {\"id\": 57201, \"title\": \"The Lone Ranger\", \"runtime\": 149, \"revenue\": 89289910, \"vote_average\": 2.99, \"genres\": [\"Action\"], \"studios\": [\"Walt Disney Pictures\"]}, {\"id\": 57212, \"title\": \"War Horse\", \"runtime\": 146, \"revenue\": 177584879, \"vote_average\": 3.36, \"genres\": [\"War\", \"Drama\"], \"studios\": [\"DreamWorks SKG\"]}, {\"id\": 58574, \"title\": \"Sherlock Holmes: A Game of Shadows\", \"runtime\": 129, \"revenue\": 334615000, \"vote_average\": 3.74, \"genres\": [\"Action\"], \"studios\": [\"Warner Bros.\"]}, {\"id\": 60304, \"title\": \"Hansel & Gretel: Witch Hunters\", \"runtime\": 88, \"revenue\": 224803475, \"vote_average\": 2.96, \"genres\": [\"Action\", \"Horror\"], \"studios\": [\"Paramount Pictures\"]}, {\"id\": 62213, \"title\": \"Dark Shadows\", \"runtime\": 113, \"revenue\": 245527149, \"vote_average\": 2.95, \"genres\": [\"Comedy\"], \"studios\": [\"Warner Bros.\"]}, {\"id\": 62215, \"title\": \"Melancholia\", \"runtime\": 136, \"revenue\": 21817298, \"vote_average\": 3.6, \"genres\": [\"Science Fiction\", \"Drama\"], \"studios\": [\"Canal+\"]}, {\"id\": 62835, \"title\": \"Colombiana\", \"runtime\": 108, \"revenue\": 60965854, \"vote_average\": 3.23, \"genres\": [\"Action\", \"Drama\"], \"studios\": [\"Canal+\"]}, {\"id\": 62838, \"title\": \"New Year's Eve\", \"runtime\": 118, \"revenue\": 142044638, \"vote_average\": 2.77, \"genres\": [\"Romance\", \"Comedy\"], \"studios\": [\"New Line Cinema\"]}, {\"id\": 64328, \"title\": \"The Muppets\", \"runtime\": 103, \"revenue\": 165184237, \"vote_average\": 3.4, \"genres\": [\"Comedy\"], \"studios\": [\"Walt Disney Pictures\"]}, {\"id\": 64682, \"title\": \"The Great Gatsby\", \"runtime\": 143, \"revenue\": 351040419, \"vote_average\": 3.51, \"genres\": [\"Romance\", \"Drama\"], \"studios\": [\"Warner Bros.\"]}, {\"id\": 64685, \"title\": \"Extremely Loud & Incredibly Close\", \"runtime\": 129, \"revenue\": 55247881, \"vote_average\": 3.41, \"genres\": [\"Drama\"], \"studios\": [\"Warner Bros.\", \"Paramount Pictures\"]}, {\"id\": 64807, \"title\": \"Grudge Match\", \"runtime\": 113, \"revenue\": 44907260, \"vote_average\": 3.04, \"genres\": [\"Comedy\"], \"studios\": [\"Warner Bros.\"]}, {\"id\": 65759, \"title\": \"Happy Feet Two\", \"runtime\": 100, \"revenue\": 150406466, \"vote_average\": 2.74, \"genres\": [\"Animation\", \"Comedy\"], \"studios\": [\"Warner Bros.\"]}, {\"id\": 68726, \"title\": \"Pacific Rim\", \"runtime\": 131, \"revenue\": 407602906, \"vote_average\": 3.36, \"genres\": [\"Action\", \"Science Fiction\"], \"studios\": [\"Warner Bros.\"]}, {\"id\": 68734, \"title\": \"Argo\", \"runtime\": 120, \"revenue\": 232324128, \"vote_average\": 3.8, \"genres\": [\"Drama\"], \"studios\": [\"Warner Bros.\"]}, {\"id\": 71688, \"title\": \"The Iron Lady\", \"runtime\": 105, \"revenue\": 114956699, \"vote_average\": 3.26, \"genres\": [\"Drama\", \"History\"], \"studios\": [\"Canal+\"]}, {\"id\": 72113, \"title\": \"Carnage\", \"runtime\": 80, \"revenue\": 27603069, \"vote_average\": 3.61, \"genres\": [\"Comedy\", \"Drama\"], \"studios\": [\"Canal+\"]}, {\"id\": 72358, \"title\": \"A Thousand Words\", \"runtime\": 91, \"revenue\": 22044277, \"vote_average\": 3.0, \"genres\": [\"Comedy\", \"Drama\"], \"studios\": [\"DreamWorks SKG\", \"Paramount Pictures\"]}, {\"id\": 72545, \"title\": \"Journey 2: The Mysterious Island\", \"runtime\": 94, \"revenue\": 355692760, \"vote_average\": 2.79, \"genres\": [\"Action\", \"Science Fiction\"], \"studios\": [\"New Line Cinema\"]}, {\"id\": 72559, \"title\": \"G.I. Joe: Retaliation\", \"runtime\": 110, \"revenue\": 371876278, \"vote_average\": 2.7800000000000002, \"genres\": [\"Action\", \"Science Fiction\"], \"studios\": [\"Paramount Pictures\"]}, {\"id\": 72571, \"title\": \"Paranormal Activity 3\", \"runtime\": 83, \"revenue\": 205703818, \"vote_average\": 2.7800000000000002, \"genres\": [\"Horror\"], \"studios\": [\"Paramount Pictures\"]}, {\"id\": 74513, \"title\": \"Special Forces\", \"runtime\": 109, \"revenue\": 10759, \"vote_average\": 3.32, \"genres\": [\"Action\", \"War\", \"Drama\"], \"studios\": [\"Canal+\"]}, {\"id\": 75780, \"title\": \"Jack Reacher\", \"runtime\": 130, \"revenue\": 218340595, \"vote_average\": 3.5, \"genres\": [\"Drama\"], \"studios\": [\"Paramount Pictures\"]}, {\"id\": 76341, \"title\": \"Mad Max: Fury Road\", \"runtime\": 120, \"revenue\": 378858340, \"vote_average\": 3.83, \"genres\": [\"Action\", \"Science Fiction\"], \"studios\": [\"Warner Bros.\"]}, {\"id\": 76493, \"title\": \"The Dictator\", \"runtime\": 83, \"revenue\": 179379533, \"vote_average\": 3.06, \"genres\": [\"Comedy\"], \"studios\": [\"Paramount Pictures\"]}, {\"id\": 76757, \"title\": \"Jupiter Ascending\", \"runtime\": 124, \"revenue\": 183987723, \"vote_average\": 2.66, \"genres\": [\"Action\", \"Science Fiction\"], \"studios\": [\"Warner Bros.\"]}, {\"id\": 77338, \"title\": \"The Intouchables\", \"runtime\": 112, \"revenue\": 426480871, \"vote_average\": 4.12, \"genres\": [\"Comedy\", \"Drama\"], \"studios\": [\"Canal+\"]}, {\"id\": 77877, \"title\": \"The Lucky One\", \"runtime\": 101, \"revenue\": 99357138, \"vote_average\": 3.46, \"genres\": [\"Romance\", \"Drama\"], \"studios\": [\"Warner Bros.\"]}, {\"id\": 77950, \"title\": \"Turbo\", \"runtime\": 96, \"revenue\": 282570682, \"vote_average\": 3.05, \"genres\": [\"Animation\"], \"studios\": [\"DreamWorks Animation\"]}, {\"id\": 79694, \"title\": \"The Apparition\", \"runtime\": 82, \"revenue\": 9627492, \"vote_average\": 2.13, \"genres\": [\"Horror\"], \"studios\": [\"Warner Bros.\"]}, {\"id\": 80585, \"title\": \"Rock of Ages\", \"runtime\": 123, \"revenue\": 59418613, \"vote_average\": 2.93, \"genres\": [\"Romance\", \"Comedy\", \"Drama\"], \"studios\": [\"New Line Cinema\"]}, {\"id\": 81005, \"title\": \"Jack the Giant Slayer\", \"runtime\": 114, \"revenue\": 197687603, \"vote_average\": 3.01, \"genres\": [\"Action\"], \"studios\": [\"New Line Cinema\", \"Warner Bros.\"]}, {\"id\": 81188, \"title\": \"Rise of the Guardians\", \"runtime\": 97, \"revenue\": 306941670, \"vote_average\": 3.5300000000000002, \"genres\": [\"Animation\"], \"studios\": [\"DreamWorks Animation\"]}, {\"id\": 81796, \"title\": \"Lockout\", \"runtime\": 95, \"revenue\": 32204030, \"vote_average\": 3.11, \"genres\": [\"Action\", \"Science Fiction\"], \"studios\": [\"Canal+\"]}, {\"id\": 82675, \"title\": \"Taken 2\", \"runtime\": 91, \"revenue\": 376141306, \"vote_average\": 3.18, \"genres\": [\"Action\"], \"studios\": [\"Canal+\"]}, {\"id\": 82679, \"title\": \"Fun Size\", \"runtime\": 87, \"revenue\": 11417362, \"vote_average\": 2.62, \"genres\": [\"Comedy\"], \"studios\": [\"Paramount Pictures\"]}, {\"id\": 82682, \"title\": \"Gangster Squad\", \"runtime\": 113, \"revenue\": 105200903, \"vote_average\": 3.19, \"genres\": [\"Action\", \"Drama\"], \"studios\": [\"Warner Bros.\"]}, {\"id\": 82687, \"title\": \"The Guilt Trip\", \"runtime\": 95, \"revenue\": 41863726, \"vote_average\": 2.85, \"genres\": [\"Comedy\"], \"studios\": [\"Paramount Pictures\"]}, {\"id\": 82703, \"title\": \"Mr. Peabody & Sherman\", \"runtime\": 92, \"revenue\": 272912430, \"vote_average\": 3.29, \"genres\": [\"Animation\"], \"studios\": [\"DreamWorks Animation\"]}, {\"id\": 82990, \"title\": \"Paranormal Activity 4\", \"runtime\": 95, \"revenue\": 142817992, \"vote_average\": 2.43, \"genres\": [\"Horror\"], \"studios\": [\"Paramount Pictures\"]}, {\"id\": 83770, \"title\": \"On the Road\", \"runtime\": 137, \"revenue\": 8784318, \"vote_average\": 3.05, \"genres\": [\"Drama\"], \"studios\": [\"Canal+\"]}, {\"id\": 86834, \"title\": \"Noah\", \"runtime\": 139, \"revenue\": 362637473, \"vote_average\": 2.76, \"genres\": [\"Drama\"], \"studios\": [\"Paramount Pictures\"]}, {\"id\": 87101, \"title\": \"Terminator Genisys\", \"runtime\": 126, \"revenue\": 440603537, \"vote_average\": 3.1, \"genres\": [\"Action\", \"Science Fiction\"], \"studios\": [\"Paramount Pictures\"]}, {\"id\": 87368, \"title\": \"17 Girls\", \"runtime\": 87, \"revenue\": 201607, \"vote_average\": 3.07, \"genres\": [\"Drama\"], \"studios\": [\"Canal+\"]}, {\"id\": 87502, \"title\": \"Flight\", \"runtime\": 138, \"revenue\": 161772375, \"vote_average\": 3.63, \"genres\": [\"Drama\"], \"studios\": [\"Paramount Pictures\"]}, {\"id\": 88751, \"title\": \"Journey to the Center of the Earth\", \"runtime\": 93, \"revenue\": 101702060, \"vote_average\": 2.84, \"genres\": [\"Action\", \"Comedy\", \"Science Fiction\"], \"studios\": [\"New Line Cinema\"]}, {\"id\": 97365, \"title\": \"Rust and Bone\", \"runtime\": 123, \"revenue\": 25762027, \"vote_average\": 3.7, \"genres\": [\"Romance\", \"Drama\"], \"studios\": [\"Canal+\"]}, {\"id\": 98548, \"title\": \"People Like Us\", \"runtime\": 114, \"revenue\": 12434778, \"vote_average\": 3.58, \"genres\": [\"Drama\"], \"studios\": [\"DreamWorks SKG\"]}, {\"id\": 98566, \"title\": \"Teenage Mutant Ninja Turtles\", \"runtime\": 101, \"revenue\": 477200000, \"vote_average\": 2.61, \"genres\": [\"Action\", \"Comedy\", \"Science Fiction\"], \"studios\": [\"Paramount Pictures\"]}, {\"id\": 100042, \"title\": \"Dumb and Dumber To\", \"runtime\": 110, \"revenue\": 169837010, \"vote_average\": 2.54, \"genres\": [\"Comedy\"], \"studios\": [\"New Line Cinema\"]}, {\"id\": 102207, \"title\": \"HOUBA! On the Trail of the Marsupilami\", \"runtime\": 105, \"revenue\": 48600000, \"vote_average\": 2.86, \"genres\": [\"Comedy\"], \"studios\": [\"Canal+\"]}, {\"id\": 103620, \"title\": \"Maniac\", \"runtime\": 89, \"revenue\": 31081, \"vote_average\": 2.96, \"genres\": [\"Horror\"], \"studios\": [\"Canal+\"]}, {\"id\": 105864, \"title\": \"The Good Dinosaur\", \"runtime\": 93, \"revenue\": 331926147, \"vote_average\": 3.2, \"genres\": [\"Animation\"], \"studios\": [\"Pixar Animation Studios\", \"Walt Disney Pictures\"]}, {\"id\": 106646, \"title\": \"The Wolf of Wall Street\", \"runtime\": 180, \"revenue\": 392000694, \"vote_average\": 3.86, \"genres\": [\"Comedy\", \"Drama\"], \"studios\": [\"Paramount Pictures\"]}, {\"id\": 109410, \"title\": \"42\", \"runtime\": 128, \"revenue\": 95020213, \"vote_average\": 3.69, \"genres\": [\"Drama\"], \"studios\": [\"Warner Bros.\"]}, {\"id\": 109443, \"title\": \"Anchorman 2: The Legend Continues\", \"runtime\": 119, \"revenue\": 173649015, \"vote_average\": 2.96, \"genres\": [\"Comedy\"], \"studios\": [\"Paramount Pictures\"]}, {\"id\": 109491, \"title\": \"Beautiful Creatures\", \"runtime\": 124, \"revenue\": 60052138, \"vote_average\": 3.24, \"genres\": [\"Romance\", \"Drama\"], \"studios\": [\"Warner Bros.\"]}, {\"id\": 111190, \"title\": \"Adore\", \"runtime\": 100, \"revenue\": 318982, \"vote_average\": 3.11, \"genres\": [\"Drama\"], \"studios\": [\"Canal+\"]}, {\"id\": 116149, \"title\": \"Paddington\", \"runtime\": 95, \"revenue\": 259207227, \"vote_average\": 3.36, \"genres\": [\"Comedy\"], \"studios\": [\"Canal+\"]}, {\"id\": 116745, \"title\": \"The Secret Life of Walter Mitty\", \"runtime\": 114, \"revenue\": 188133322, \"vote_average\": 3.68, \"genres\": [\"Comedy\", \"Drama\"], \"studios\": [\"New Line Cinema\"]}, {\"id\": 124459, \"title\": \"The Incredible Burt Wonderstone\", \"runtime\": 100, \"revenue\": 27437881, \"vote_average\": 2.74, \"genres\": [\"Comedy\"], \"studios\": [\"New Line Cinema\"]}, {\"id\": 134374, \"title\": \"Pain & Gain\", \"runtime\": 130, \"revenue\": 86175291, \"vote_average\": 3.1, \"genres\": [\"Action\"], \"studios\": [\"Paramount Pictures\"]}, {\"id\": 136797, \"title\": \"Need for Speed\", \"runtime\": 130, \"revenue\": 203277636, \"vote_average\": 2.98, \"genres\": [\"Action\", \"Drama\"], \"studios\": [\"DreamWorks SKG\"]}, {\"id\": 136799, \"title\": \"Trolls\", \"runtime\": 92, \"revenue\": 346864462, \"vote_average\": 3.09, \"genres\": [\"Animation\"], \"studios\": [\"DreamWorks Animation\"]}, {\"id\": 137094, \"title\": \"Jack Ryan: Shadow Recruit\", \"runtime\": 105, \"revenue\": 50549107, \"vote_average\": 3.22, \"genres\": [\"Action\", \"Drama\"], \"studios\": [\"Paramount Pictures\"]}, {\"id\": 137106, \"title\": \"The Lego Movie\", \"runtime\": 100, \"revenue\": 469160692, \"vote_average\": 3.7, \"genres\": [\"Animation\", \"Comedy\"], \"studios\": [\"Warner Bros.\"]}, {\"id\": 137113, \"title\": \"Edge of Tomorrow\", \"runtime\": 113, \"revenue\": 370541256, \"vote_average\": 3.93, \"genres\": [\"Action\", \"Science Fiction\"], \"studios\": [\"Warner Bros.\"]}, {\"id\": 137321, \"title\": \"Winter's Tale\", \"runtime\": 118, \"revenue\": 30800231, \"vote_average\": 3.07, \"genres\": [\"Romance\", \"Drama\"], \"studios\": [\"Warner Bros.\"]}, {\"id\": 138832, \"title\": \"We're the Millers\", \"runtime\": 110, \"revenue\": 269994119, \"vote_average\": 3.48, \"genres\": [\"Comedy\"], \"studios\": [\"New Line Cinema\"]}, {\"id\": 138843, \"title\": \"The Conjuring\", \"runtime\": 112, \"revenue\": 318000141, \"vote_average\": 3.66, \"genres\": [\"Horror\"], \"studios\": [\"New Line Cinema\"]}, {\"id\": 140823, \"title\": \"Saving Mr. Banks\", \"runtime\": 125, \"revenue\": 112544580, \"vote_average\": 3.65, \"genres\": [\"History\", \"Comedy\", \"Drama\"], \"studios\": [\"Walt Disney Pictures\"]}, {\"id\": 146239, \"title\": \"Delivery Man\", \"runtime\": 105, \"revenue\": 51164106, \"vote_average\": 3.07, \"genres\": [\"Comedy\"], \"studios\": [\"DreamWorks SKG\"]}, {\"id\": 146301, \"title\": \"Paranormal Activity: The Ghost Dimension\", \"runtime\": 88, \"revenue\": 78096553, \"vote_average\": 2.35, \"genres\": [\"Horror\"], \"studios\": [\"Paramount Pictures\"]}, {\"id\": 151960, \"title\": \"Planes\", \"runtime\": 91, \"revenue\": 219788712, \"vote_average\": 2.77, \"genres\": [\"Animation\", \"Comedy\"], \"studios\": [\"Walt Disney Pictures\"]}, {\"id\": 152584, \"title\": \"Blue Is the Warmest Color\", \"runtime\": 179, \"revenue\": 10165694, \"vote_average\": 3.8200000000000003, \"genres\": [\"Romance\", \"Drama\"], \"studios\": [\"Canal+\"]}, {\"id\": 152601, \"title\": \"Her\", \"runtime\": 126, \"revenue\": 47351251, \"vote_average\": 3.89, \"genres\": [\"Romance\", \"Science Fiction\", \"Drama\"], \"studios\": [\"Warner Bros.\"]}, {\"id\": 152742, \"title\": \"The Best Offer\", \"runtime\": 124, \"revenue\": 19255873, \"vote_average\": 3.92, \"genres\": [\"Romance\", \"Drama\"], \"studios\": [\"Warner Bros.\"]}, {\"id\": 158852, \"title\": \"Tomorrowland\", \"runtime\": 130, \"revenue\": 209154322, \"vote_average\": 3.21, \"genres\": [\"Science Fiction\"], \"studios\": [\"Walt Disney Pictures\"]}, {\"id\": 162903, \"title\": \"The Fifth Estate\", \"runtime\": 128, \"revenue\": 8555008, \"vote_average\": 3.11, \"genres\": [\"Drama\"], \"studios\": [\"DreamWorks SKG\"]}, {\"id\": 171274, \"title\": \"Inherent Vice\", \"runtime\": 148, \"revenue\": 11110975, \"vote_average\": 3.37, \"genres\": [\"Romance\", \"Comedy\", \"Drama\"], \"studios\": [\"Warner Bros.\"]}, {\"id\": 177494, \"title\": \"Veronica Mars\", \"runtime\": 107, \"revenue\": 3485127, \"vote_average\": 3.2800000000000002, \"genres\": [\"Comedy\", \"Drama\"], \"studios\": [\"Warner Bros.\"]}, {\"id\": 179144, \"title\": \"The Great Beauty\", \"runtime\": 142, \"revenue\": 8371085, \"vote_average\": 3.92, \"genres\": [\"Comedy\", \"Drama\"], \"studios\": [\"Canal+\"]}, {\"id\": 184315, \"title\": \"Hercules\", \"runtime\": 99, \"revenue\": 243400000, \"vote_average\": 2.77, \"genres\": [\"Action\"], \"studios\": [\"Paramount Pictures\"]}, {\"id\": 188222, \"title\": \"Entourage\", \"runtime\": 104, \"revenue\": 49263404, \"vote_average\": 3.0, \"genres\": [\"Comedy\"], \"studios\": [\"Warner Bros.\"]}, {\"id\": 188927, \"title\": \"Star Trek Beyond\", \"runtime\": 122, \"revenue\": 343471816, \"vote_average\": 3.56, \"genres\": [\"Action\", \"Science Fiction\"], \"studios\": [\"Paramount Pictures\"]}, {\"id\": 190955, \"title\": \"Blood Ties\", \"runtime\": 128, \"revenue\": 2415472, \"vote_average\": 3.24, \"genres\": [\"Drama\"], \"studios\": [\"Canal+\"]}, {\"id\": 198185, \"title\": \"Million Dollar Arm\", \"runtime\": 124, \"revenue\": 38307627, \"vote_average\": 3.45, \"genres\": [\"Drama\"], \"studios\": [\"Walt Disney Pictures\"]}, {\"id\": 203801, \"title\": \"The Man from U.N.C.L.E.\", \"runtime\": 116, \"revenue\": 108145109, \"vote_average\": 3.69, \"genres\": [\"Action\", \"Comedy\"], \"studios\": [\"Warner Bros.\"]}, {\"id\": 205587, \"title\": \"The Judge\", \"runtime\": 141, \"revenue\": 83719388, \"vote_average\": 3.47, \"genres\": [\"Drama\"], \"studios\": [\"Warner Bros.\"]}, {\"id\": 205775, \"title\": \"In the Heart of the Sea\", \"runtime\": 122, \"revenue\": 93820758, \"vote_average\": 3.32, \"genres\": [\"Action\", \"Drama\", \"History\"], \"studios\": [\"Warner Bros.\"]}, {\"id\": 208134, \"title\": \"Bad Grandpa\", \"runtime\": 92, \"revenue\": 151831537, \"vote_average\": 2.96, \"genres\": [\"Comedy\"], \"studios\": [\"Paramount Pictures\"]}, {\"id\": 209451, \"title\": \"Jersey Boys\", \"runtime\": 134, \"revenue\": 67347013, \"vote_average\": 3.3, \"genres\": [\"Drama\"], \"studios\": [\"Warner Bros.\"]}, {\"id\": 216282, \"title\": \"Into the Storm\", \"runtime\": 89, \"revenue\": 160602194, \"vote_average\": 2.83, \"genres\": [\"Action\"], \"studios\": [\"New Line Cinema\"]}, {\"id\": 218778, \"title\": \"Alexander and the Terrible, Horrible, No Good, Very Bad Day\", \"runtime\": 81, \"revenue\": 100654149, \"vote_average\": 3.18, \"genres\": [\"Comedy\"], \"studios\": [\"Walt Disney Pictures\"]}, {\"id\": 218836, \"title\": \"Planes: Fire & Rescue\", \"runtime\": 83, \"revenue\": 151165787, \"vote_average\": 2.9, \"genres\": [\"Animation\", \"Comedy\"], \"studios\": [\"Walt Disney Pictures\"]}, {\"id\": 221902, \"title\": \"Two Days, One Night\", \"runtime\": 95, \"revenue\": 6860853, \"vote_average\": 3.6, \"genres\": [\"Drama\"], \"studios\": [\"Canal+\"]}, {\"id\": 224141, \"title\": \"Into the Woods\", \"runtime\": 125, \"revenue\": 212902372, \"vote_average\": 3.03, \"genres\": [\"Comedy\"], \"studios\": [\"Walt Disney Pictures\"]}, {\"id\": 225574, \"title\": \"Non-Stop\", \"runtime\": 106, \"revenue\": 222809600, \"vote_average\": 3.48, \"genres\": [\"Action\"], \"studios\": [\"Canal+\"]}, {\"id\": 226486, \"title\": \"Tammy\", \"runtime\": 97, \"revenue\": 100525432, \"vote_average\": 2.6, \"genres\": [\"Comedy\"], \"studios\": [\"New Line Cinema\"]}, {\"id\": 227159, \"title\": \"Horrible Bosses 2\", \"runtime\": 108, \"revenue\": 107670357, \"vote_average\": 3.13, \"genres\": [\"Comedy\"], \"studios\": [\"New Line Cinema\"]}, {\"id\": 227719, \"title\": \"Project Almanac\", \"runtime\": 106, \"revenue\": 32248241, \"vote_average\": 3.29, \"genres\": [\"Science Fiction\"], \"studios\": [\"Paramount Pictures\"]}, {\"id\": 228161, \"title\": \"Home\", \"runtime\": 94, \"revenue\": 368871007, \"vote_average\": 3.2800000000000002, \"genres\": [\"Animation\", \"Science Fiction\", \"Comedy\"], \"studios\": [\"DreamWorks Animation\"]}, {\"id\": 228165, \"title\": \"The SpongeBob Movie: Sponge Out of Water\", \"runtime\": 93, \"revenue\": 311594032, \"vote_average\": 2.92, \"genres\": [\"Animation\", \"Comedy\"], \"studios\": [\"Paramount Pictures\"]}, {\"id\": 232672, \"title\": \"Blended\", \"runtime\": 117, \"revenue\": 123494610, \"vote_average\": 3.32, \"genres\": [\"Comedy\"], \"studios\": [\"Warner Bros.\"]}, {\"id\": 239678, \"title\": \"This Is Where I Leave You\", \"runtime\": 103, \"revenue\": 41296320, \"vote_average\": 3.27, \"genres\": [\"Comedy\", \"Drama\"], \"studios\": [\"Warner Bros.\"]}, {\"id\": 240832, \"title\": \"Lucy\", \"runtime\": 89, \"revenue\": 126546825, \"vote_average\": 3.07, \"genres\": [\"Action\", \"Science Fiction\"], \"studios\": [\"Canal+\"]}, {\"id\": 242512, \"title\": \"Ouija\", \"runtime\": 89, \"revenue\": 103590271, \"vote_average\": 2.34, \"genres\": [\"Horror\"], \"studios\": [\"Hasbro Studios\"]}, {\"id\": 243938, \"title\": \"Hot Tub Time Machine 2\", \"runtime\": 93, \"revenue\": 12314651, \"vote_average\": 2.55, \"genres\": [\"Comedy\"], \"studios\": [\"Paramount Pictures\"]}, {\"id\": 245703, \"title\": \"Midnight Special\", \"runtime\": 112, \"revenue\": 6212282, \"vote_average\": 3.31, \"genres\": [\"Science Fiction\", \"Drama\"], \"studios\": [\"Warner Bros.\"]}, {\"id\": 245891, \"title\": \"John Wick\", \"runtime\": 101, \"revenue\": 88761661, \"vote_average\": 3.7, \"genres\": [\"Action\"], \"studios\": [\"Warner Bros.\"]}, {\"id\": 249164, \"title\": \"If I Stay\", \"runtime\": 106, \"revenue\": 78874843, \"vote_average\": 3.46, \"genres\": [\"Drama\"], \"studios\": [\"New Line Cinema\"]}, {\"id\": 250546, \"title\": \"Annabelle\", \"runtime\": 99, \"revenue\": 255273813, \"vote_average\": 2.64, \"genres\": [\"Horror\"], \"studios\": [\"New Line Cinema\"]}, {\"id\": 254128, \"title\": \"San Andreas\", \"runtime\": 114, \"revenue\": 470490832, \"vote_average\": 2.83, \"genres\": [\"Action\", \"Drama\"], \"studios\": [\"New Line Cinema\", \"Warner Bros.\"]}, {\"id\": 254320, \"title\": \"The Lobster\", \"runtime\": 118, \"revenue\": 15656193, \"vote_average\": 3.63, \"genres\": [\"Science Fiction\", \"Romance\", \"Comedy\", \"Drama\"], \"studios\": [\"Canal+\"]}, {\"id\": 254473, \"title\": \"Brick Mansions\", \"runtime\": 90, \"revenue\": 68896829, \"vote_average\": 2.91, \"genres\": [\"Action\", \"Drama\"], \"studios\": [\"Canal+\"]}, {\"id\": 257091, \"title\": \"Get Hard\", \"runtime\": 100, \"revenue\": 111811453, \"vote_average\": 3.08, \"genres\": [\"Comedy\"], \"studios\": [\"Warner Bros.\"]}, {\"id\": 257211, \"title\": \"The Intern\", \"runtime\": 121, \"revenue\": 194564672, \"vote_average\": 3.67, \"genres\": [\"Comedy\"], \"studios\": [\"Warner Bros.\"]}, {\"id\": 259693, \"title\": \"The Conjuring 2\", \"runtime\": 134, \"revenue\": 320170008, \"vote_average\": 3.46, \"genres\": [\"Horror\"], \"studios\": [\"New Line Cinema\"]}, {\"id\": 259694, \"title\": \"How to Be Single\", \"runtime\": 110, \"revenue\": 112343513, \"vote_average\": 3.11, \"genres\": [\"Romance\", \"Comedy\"], \"studios\": [\"New Line Cinema\"]}, {\"id\": 259695, \"title\": \"Live by Night\", \"runtime\": 129, \"revenue\": 22678555, \"vote_average\": 3.16, \"genres\": [\"Drama\"], \"studios\": [\"Warner Bros.\"]}, {\"id\": 260346, \"title\": \"Taken 3\", \"runtime\": 109, \"revenue\": 325771424, \"vote_average\": 2.98, \"genres\": [\"Action\"], \"studios\": [\"Canal+\"]}, {\"id\": 260514, \"title\": \"Cars 3\", \"runtime\": 109, \"revenue\": 350170057, \"vote_average\": 2.99, \"genres\": [\"Animation\", \"Comedy\"], \"studios\": [\"Pixar Animation Studios\", \"Walt Disney Pictures\"]}, {\"id\": 262841, \"title\": \"Monster Trucks\", \"runtime\": 105, \"revenue\": 64493915, \"vote_average\": 2.66, \"genres\": [\"Action\", \"Science Fiction\", \"Comedy\"], \"studios\": [\"Paramount Pictures\"]}, {\"id\": 264999, \"title\": \"Magic Mike XXL\", \"runtime\": 115, \"revenue\": 122513057, \"vote_average\": 2.85, \"genres\": [\"Comedy\", \"Drama\"], \"studios\": [\"Warner Bros.\"]}, {\"id\": 266396, \"title\": \"The Gunman\", \"runtime\": 115, \"revenue\": 13644292, \"vote_average\": 2.95, \"genres\": [\"Action\", \"Drama\"], \"studios\": [\"Canal+\"]}, {\"id\": 266639, \"title\": \"Jem and the Holograms\", \"runtime\": 119, \"revenue\": 2333684, \"vote_average\": 1.71, \"genres\": [\"Drama\"], \"studios\": [\"Hasbro Studios\"]}, {\"id\": 268531, \"title\": \"Captain Underpants: The First Epic Movie\", \"runtime\": 89, \"revenue\": 110824373, \"vote_average\": 2.19, \"genres\": [\"Action\", \"Animation\", \"Comedy\"], \"studios\": [\"DreamWorks Animation\"]}, {\"id\": 268920, \"title\": \"Hot Pursuit\", \"runtime\": 87, \"revenue\": 51680201, \"vote_average\": 2.79, \"genres\": [\"Action\", \"Comedy\"], \"studios\": [\"New Line Cinema\", \"Warner Bros.\"]}, {\"id\": 270946, \"title\": \"Penguins of Madagascar\", \"runtime\": 92, \"revenue\": 373552094, \"vote_average\": 3.25, \"genres\": [\"Animation\", \"Comedy\"], \"studios\": [\"DreamWorks Animation\"]}, {\"id\": 271674, \"title\": \"Suite Fran\\u00e7aise\", \"runtime\": 107, \"revenue\": 9104716, \"vote_average\": 3.55, \"genres\": [\"War\", \"Romance\", \"Drama\"], \"studios\": [\"Canal+\"]}, {\"id\": 271969, \"title\": \"Ben-Hur\", \"runtime\": 125, \"revenue\": 94061311, \"vote_average\": 2.81, \"genres\": [\"Action\", \"Drama\"], \"studios\": [\"Paramount Pictures\"]}, {\"id\": 272878, \"title\": \"Max\", \"runtime\": 111, \"revenue\": 43967255, \"vote_average\": 3.19, \"genres\": [\"Drama\"], \"studios\": [\"Warner Bros.\"]}, {\"id\": 273477, \"title\": \"Scouts Guide to the Zombie Apocalypse\", \"runtime\": 93, \"revenue\": 14860766, \"vote_average\": 3.11, \"genres\": [\"Horror\", \"Comedy\"], \"studios\": [\"Paramount Pictures\"]}, {\"id\": 274167, \"title\": \"Daddy's Home\", \"runtime\": 96, \"revenue\": 242786137, \"vote_average\": 3.12, \"genres\": [\"Comedy\"], \"studios\": [\"Paramount Pictures\"]}, {\"id\": 274857, \"title\": \"King Arthur: Legend of the Sword\", \"runtime\": 126, \"revenue\": 146175066, \"vote_average\": 3.36, \"genres\": [\"Action\", \"Drama\"], \"studios\": [\"Warner Bros.\"]}, {\"id\": 277216, \"title\": \"Straight Outta Compton\", \"runtime\": 147, \"revenue\": 201634991, \"vote_average\": 3.73, \"genres\": [\"Drama\"], \"studios\": [\"New Line Cinema\"]}, {\"id\": 279641, \"title\": \"Whiskey Tango Foxtrot\", \"runtime\": 112, \"revenue\": 23083334, \"vote_average\": 3.35, \"genres\": [\"War\", \"Comedy\"], \"studios\": [\"Paramount Pictures\"]}, {\"id\": 283552, \"title\": \"The Light Between Oceans\", \"runtime\": 133, \"revenue\": 25956113, \"vote_average\": 3.55, \"genres\": [\"Drama\"], \"studios\": [\"DreamWorks SKG\"]}, {\"id\": 284536, \"title\": \"The Gambler\", \"runtime\": 111, \"revenue\": 39171130, \"vote_average\": 3.05, \"genres\": [\"Drama\"], \"studios\": [\"Paramount Pictures\"]}, {\"id\": 290250, \"title\": \"The Nice Guys\", \"runtime\": 116, \"revenue\": 62788218, \"vote_average\": 3.71, \"genres\": [\"Action\", \"Comedy\"], \"studios\": [\"Warner Bros.\"]}, {\"id\": 295693, \"title\": \"The Boss Baby\", \"runtime\": 97, \"revenue\": 498814908, \"vote_average\": 3.08, \"genres\": [\"Animation\", \"Comedy\"], \"studios\": [\"DreamWorks Animation\"]}, {\"id\": 296096, \"title\": \"Me Before You\", \"runtime\": 110, \"revenue\": 207945075, \"vote_average\": 3.64, \"genres\": [\"Romance\", \"Drama\"], \"studios\": [\"New Line Cinema\"]}, {\"id\": 296098, \"title\": \"Bridge of Spies\", \"runtime\": 141, \"revenue\": 165478348, \"vote_average\": 3.7800000000000002, \"genres\": [\"Drama\"], \"studios\": [\"DreamWorks SKG\"]}, {\"id\": 296099, \"title\": \"Vacation\", \"runtime\": 99, \"revenue\": 104384188, \"vote_average\": 3.24, \"genres\": [\"Comedy\"], \"studios\": [\"New Line Cinema\"]}, {\"id\": 299245, \"title\": \"The Gallows\", \"runtime\": 87, \"revenue\": 42664410, \"vote_average\": 2.25, \"genres\": [\"Horror\"], \"studios\": [\"New Line Cinema\"]}, {\"id\": 300671, \"title\": \"13 Hours: The Secret Soldiers of Benghazi\", \"runtime\": 144, \"revenue\": 69411370, \"vote_average\": 3.7199999999999998, \"genres\": [\"Action\", \"War\", \"Drama\", \"History\"], \"studios\": [\"Paramount Pictures\"]}, {\"id\": 300673, \"title\": \"The Finest Hours\", \"runtime\": 114, \"revenue\": 52099090, \"vote_average\": 3.33, \"genres\": [\"Action\", \"Drama\", \"History\"], \"studios\": [\"Walt Disney Pictures\"]}, {\"id\": 302699, \"title\": \"Central Intelligence\", \"runtime\": 107, \"revenue\": 216972543, \"vote_average\": 3.19, \"genres\": [\"Action\", \"Comedy\"], \"studios\": [\"New Line Cinema\"]}, {\"id\": 302946, \"title\": \"The Accountant\", \"runtime\": 128, \"revenue\": 155160045, \"vote_average\": 3.71, \"genres\": [\"Drama\"], \"studios\": [\"Warner Bros.\"]}, {\"id\": 308266, \"title\": \"War Dogs\", \"runtime\": 114, \"revenue\": 86234523, \"vote_average\": 3.59, \"genres\": [\"Comedy\", \"Drama\"], \"studios\": [\"Warner Bros.\"]}, {\"id\": 308531, \"title\": \"Teenage Mutant Ninja Turtles: Out of the Shadows\", \"runtime\": 112, \"revenue\": 245623848, \"vote_average\": 2.81, \"genres\": [\"Action\", \"Comedy\"], \"studios\": [\"Paramount Pictures\"]}, {\"id\": 312221, \"title\": \"Creed\", \"runtime\": 133, \"revenue\": 173567581, \"vote_average\": 3.65, \"genres\": [\"Drama\"], \"studios\": [\"New Line Cinema\", \"Warner Bros.\"]}, {\"id\": 315837, \"title\": \"Ghost in the Shell\", \"runtime\": 107, \"revenue\": 169801921, \"vote_average\": 3.33, \"genres\": [\"Action\", \"Science Fiction\"], \"studios\": [\"DreamWorks SKG\", \"Paramount Pictures\"]}, {\"id\": 317557, \"title\": \"Queen of Katwe\", \"runtime\": 124, \"revenue\": 10367161, \"vote_average\": 3.73, \"genres\": [\"Drama\"], \"studios\": [\"Walt Disney Pictures\"]}, {\"id\": 318846, \"title\": \"The Big Short\", \"runtime\": 130, \"revenue\": 133346506, \"vote_average\": 4.01, \"genres\": [\"Comedy\", \"Drama\"], \"studios\": [\"Paramount Pictures\"]}, {\"id\": 324849, \"title\": \"The Lego Batman Movie\", \"runtime\": 104, \"revenue\": 311950384, \"vote_average\": 3.5700000000000003, \"genres\": [\"Action\", \"Animation\", \"Comedy\"], \"studios\": [\"Warner Bros.\"]}, {\"id\": 326423, \"title\": \"Barbershop: The Next Cut\", \"runtime\": 112, \"revenue\": 55030051, \"vote_average\": 3.1, \"genres\": [\"Comedy\"], \"studios\": [\"New Line Cinema\"]}, {\"id\": 329865, \"title\": \"Arrival\", \"runtime\": 113, \"revenue\": 203388186, \"vote_average\": 4.02, \"genres\": [\"Science Fiction\", \"Drama\"], \"studios\": [\"Paramount Pictures\"]}, {\"id\": 329981, \"title\": \"Shut In\", \"runtime\": 91, \"revenue\": 13082071, \"vote_average\": 2.43, \"genres\": [\"Drama\"], \"studios\": [\"Canal+\"]}, {\"id\": 332210, \"title\": \"Storks\", \"runtime\": 87, \"revenue\": 182379278, \"vote_average\": 3.32, \"genres\": [\"Animation\", \"Comedy\"], \"studios\": [\"Warner Bros.\"]}, {\"id\": 333371, \"title\": \"10 Cloverfield Lane\", \"runtime\": 103, \"revenue\": 108286421, \"vote_average\": 3.68, \"genres\": [\"Science Fiction\", \"Drama\"], \"studios\": [\"Paramount Pictures\"]}, {\"id\": 333669, \"title\": \"Bastille Day\", \"runtime\": 92, \"revenue\": 14397593, \"vote_average\": 3.25, \"genres\": [\"Action\"], \"studios\": [\"Canal+\"]}, {\"id\": 336804, \"title\": \"Mustang\", \"runtime\": 97, \"revenue\": 250000, \"vote_average\": 3.77, \"genres\": [\"Drama\"], \"studios\": [\"Canal+\"]}, {\"id\": 337674, \"title\": \"Elle\", \"runtime\": 130, \"revenue\": 2341534, \"vote_average\": 3.46, \"genres\": [\"Drama\"], \"studios\": [\"Canal+\"]}, {\"id\": 339846, \"title\": \"Baywatch\", \"runtime\": 116, \"revenue\": 177856751, \"vote_average\": 2.43, \"genres\": [\"Action\", \"Comedy\"], \"studios\": [\"Paramount Pictures\"]}, {\"id\": 342521, \"title\": \"Keanu\", \"runtime\": 94, \"revenue\": 20566327, \"vote_average\": 3.05, \"genres\": [\"Action\", \"Comedy\"], \"studios\": [\"New Line Cinema\"]}, {\"id\": 343611, \"title\": \"Jack Reacher: Never Go Back\", \"runtime\": 118, \"revenue\": 162146076, \"vote_average\": 3.05, \"genres\": [\"Action\"], \"studios\": [\"Paramount Pictures\"]}, {\"id\": 345920, \"title\": \"Collateral Beauty\", \"runtime\": 97, \"revenue\": 87416021, \"vote_average\": 3.4, \"genres\": [\"Romance\", \"Drama\"], \"studios\": [\"New Line Cinema\"]}, {\"id\": 353070, \"title\": \"Going in Style\", \"runtime\": 96, \"revenue\": 84618541, \"vote_average\": 3.22, \"genres\": [\"Comedy\", \"Drama\"], \"studios\": [\"New Line Cinema\", \"Warner Bros.\"]}, {\"id\": 360814, \"title\": \"Dangal\", \"runtime\": 161, \"revenue\": 310000000, \"vote_average\": 4.01, \"genres\": [\"Drama\"], \"studios\": [\"Walt Disney Pictures\"]}, {\"id\": 363676, \"title\": \"Sully\", \"runtime\": 96, \"revenue\": 238470033, \"vote_average\": 3.75, \"genres\": [\"Drama\", \"History\"], \"studios\": [\"Warner Bros.\"]}, {\"id\": 369885, \"title\": \"Allied\", \"runtime\": 124, \"revenue\": 119520023, \"vote_average\": 3.5300000000000002, \"genres\": [\"Action\", \"War\", \"Romance\", \"Drama\"], \"studios\": [\"Paramount Pictures\"]}, {\"id\": 376290, \"title\": \"Miss Sloane\", \"runtime\": 132, \"revenue\": 3500605, \"vote_average\": 3.63, \"genres\": [\"Drama\"], \"studios\": [\"Canal+\"]}, {\"id\": 384682, \"title\": \"Office Christmas Party\", \"runtime\": 105, \"revenue\": 114501299, \"vote_average\": 3.0, \"genres\": [\"Comedy\"], \"studios\": [\"DreamWorks SKG\", \"Paramount Pictures\"]}, {\"id\": 393457, \"title\": \"Fences\", \"runtime\": 139, \"revenue\": 64414761, \"vote_average\": 3.5, \"genres\": [\"Drama\"], \"studios\": [\"Paramount Pictures\"]}, {\"id\": 393519, \"title\": \"Raw\", \"runtime\": 99, \"revenue\": 4100000, \"vote_average\": 3.48, \"genres\": [\"Horror\", \"Drama\"], \"studios\": [\"Canal+\"]}, {\"id\": 417644, \"title\": \"CHiPS\", \"runtime\": 100, \"revenue\": 26800152, \"vote_average\": 2.68, \"genres\": [\"Action\", \"Comedy\"], \"studios\": [\"Warner Bros.\"]}]}}, {\"mode\": \"vega-lite\"});\n",
       "</script>"
      ],
      "text/plain": [
       "alt.RepeatChart(...)"
      ]
     },
     "execution_count": 96,
     "metadata": {},
     "output_type": "execute_result"
    }
   ],
   "source": [
    "splom = alt.Chart(movies).mark_point(opacity= 0.3).encode(\n",
    "    alt.X(alt.repeat('column'), type = 'quantitative', scale = alt.Scale(zero = False)),\n",
    "    alt.Y(alt.repeat('row'), type = 'quantitative', scale = alt.Scale(zero = False)),\n",
    ").properties(\n",
    "    width = 100,\n",
    "    height = 150\n",
    ").repeat(\n",
    "    row = ['revenue', 'runtime', 'vote_average'],\n",
    "    column = [ 'vote_average', 'runtime', 'revenue']\n",
    ")\n",
    "\n",
    "# Show the plot\n",
    "splom"
   ]
  },
  {
   "cell_type": "code",
   "execution_count": 79,
   "metadata": {
    "deletable": false,
    "editable": false
   },
   "outputs": [
    {
     "data": {
      "text/html": [
       "<p><strong><pre style='display: inline;'>q4</pre></strong> passed! 🌟</p><p><strong><pre style='display: inline;'>q4 - 1</pre> message:</strong> This test only checks that your variables have the correct name and type</p>"
      ],
      "text/plain": [
       "q4 results: All test cases passed!\n",
       "q4 - 1 message: This test only checks that your variables have the correct name and type"
      ]
     },
     "execution_count": 79,
     "metadata": {},
     "output_type": "execute_result"
    }
   ],
   "source": [
    "grader.check(\"q4\")"
   ]
  },
  {
   "cell_type": "markdown",
   "metadata": {},
   "source": [
    "### EDA of numerical columns conditioned on a categorical column (genres)\n",
    "\n",
    "Interesting... there does not seem to exist overly strong relationships between these columns in general,\n",
    "maybe a weak correlation between runtime and vote average.\n",
    "But don't give up, although there are no strong general trends,maybe we can still find something of value here.\n",
    "\n",
    "Let's take a step back and think about our business problems again\n",
    "(this is very important to remember when doing data science!).\n",
    "We want to create a streaming solution that makes people flock to our service,\n",
    "but also keep costs to a minimal so that we can cash in on this venture.\n",
    "What about if we only streamed popular short movies?\n",
    "Then maybe we could maximize customer satisfaction\n",
    "while freeing up people's time to do other things,\n",
    "and allow us to cut back our data server costs \n",
    "as we would not have to stream as much content.\n",
    "I smell profit!\n",
    "The next two questions will help us reach this goal."
   ]
  },
  {
   "cell_type": "markdown",
   "metadata": {},
   "source": [
    "## Question 5"
   ]
  },
  {
   "cell_type": "markdown",
   "metadata": {},
   "source": [
    "Let's try to find a subset of movies that meet the criteria described above.\n",
    "As a proxy for popularity we can use how highly rated movies were and their revenue.\n",
    "To find out which movies yield the highest value for Bestflix per minute of streamed content,\n",
    "let's create two new columns:\n",
    "\n",
    "- `'voteavg_runtime_ratio'`, which is the `vote_average` over the `runtime`.\n",
    "- `'revenue_runtime_ratio'` , which is the `revenue` over the `runtime`.\n",
    "\n",
    "To simplify things a bit,\n",
    "maybe we can find the most \"cost-effective\" genre to focus on based on these criteria\n",
    "instead of hunting down individual movie reels.\n",
    "\n",
    "<div class=\"alert alert-info\" style=\"color:black\">\n",
    "\n",
    "If you look at the data frame's genre values,\n",
    "you can see that each film has multiple genres in a list.\n",
    "This is not ideal and means that we must make a decision\n",
    "whether we are counting the film once per genre or once overall.\n",
    "Since we have no information about which is a movie's main genre,\n",
    "I suggest we go ahead and count each movie once per genre in the list.\n",
    "In order to do this we need to duplicate each row once per genre in the genres column.\n",
    "I have helped you with a scaffold for the wrangling,\n",
    "but please view the resulting dataframe so that you understand what happens\n",
    "and [check out pandas doc for a simpler example](https://pandas.pydata.org/pandas-docs/stable/reference/api/pandas.DataFrame.explode.html)\n",
    "\n",
    "Your tasks:\n",
    "<ol>\n",
    "<li>Create the two columns mentions above (in the original <code>movies</code> dataset).</li>\n",
    "<li>Explode the dataframe's genre column so that each movie is counted once for each genre it belongs to.</li>\n",
    "<li>Our plan is to sort by median revenue runtime ratio because as a company we are motivated by profit. So create <code>genres_by_revenue</code> which will sort by the median revenue runtime ratio</li>\n",
    "</ol>\n",
    "I have given you a skeleton below where you can fill in the blanks.\n",
    "\n",
    "</div>\n",
    "\n",
    "_Points:_ 5"
   ]
  },
  {
   "cell_type": "code",
   "execution_count": 12,
   "metadata": {
    "ExecuteTime": {
     "end_time": "2023-11-16T07:16:47.482168Z",
     "start_time": "2023-11-16T07:16:47.477746Z"
    },
    "tags": [
     "solution"
    ]
   },
   "outputs": [
    {
     "ename": "AttributeError",
     "evalue": "'ellipsis' object has no attribute '______'",
     "output_type": "error",
     "traceback": [
      "\u001b[0;31m---------------------------------------------------------------------------\u001b[0m",
      "\u001b[0;31mAttributeError\u001b[0m                            Traceback (most recent call last)",
      "\u001b[1;32m/Users/brarstar/Downloads/320/assiquiab.ipynb Cell 32\u001b[0m line \u001b[0;36m5\n\u001b[1;32m      <a href='vscode-notebook-cell:/Users/brarstar/Downloads/320/assiquiab.ipynb#X43sZmlsZQ%3D%3D?line=2'>3</a>\u001b[0m boom_genres \u001b[39m=\u001b[39m \u001b[39m.\u001b[39m\u001b[39m.\u001b[39m\u001b[39m.\u001b[39m\n\u001b[1;32m      <a href='vscode-notebook-cell:/Users/brarstar/Downloads/320/assiquiab.ipynb#X43sZmlsZQ%3D%3D?line=3'>4</a>\u001b[0m \u001b[39m# Sort by median revenue runtime ratio because it is all about the money, money, money... ♫\u001b[39;00m\n\u001b[0;32m----> <a href='vscode-notebook-cell:/Users/brarstar/Downloads/320/assiquiab.ipynb#X43sZmlsZQ%3D%3D?line=4'>5</a>\u001b[0m genres_by_revenue \u001b[39m=\u001b[39m boom_genres\u001b[39m.\u001b[39m______(\u001b[39m'\u001b[39m\u001b[39mgenres\u001b[39m\u001b[39m'\u001b[39m)[\u001b[39m'\u001b[39m\u001b[39mrevenue_runtime_ratio\u001b[39m\u001b[39m'\u001b[39m]\u001b[39m.\u001b[39m______()\u001b[39m.\u001b[39m___________()\u001b[39m.\u001b[39mindex\u001b[39m.\u001b[39m_______()\n",
      "\u001b[0;31mAttributeError\u001b[0m: 'ellipsis' object has no attribute '______'"
     ]
    }
   ],
   "source": [
    "\n",
    "movies['voteavg_runtime_ratio'] = ...\n",
    "movies['revenue_runtime_ratio'] = ...\n",
    "boom_genres = ...\n",
    "# Sort by median revenue runtime ratio because it is all about the money, money, money... ♫\n",
    "genres_by_revenue = boom_genres.______('genres')['revenue_runtime_ratio'].______().___________().index._______()\n",
    "\n"
   ]
  },
  {
   "cell_type": "code",
   "execution_count": null,
   "metadata": {
    "deletable": false,
    "editable": false
   },
   "outputs": [],
   "source": [
    "grader.check(\"q5\")"
   ]
  },
  {
   "cell_type": "markdown",
   "metadata": {},
   "source": [
    "## Question 6"
   ]
  },
  {
   "cell_type": "markdown",
   "metadata": {},
   "source": [
    "Now that we have the completed the wrangling tests, lets create some boxplots.\n",
    "\n",
    "<div class=\"alert alert-info\" style=\"color:black\">\n",
    "\n",
    "\n",
    "- Use the new dataframe from Question 5 (i.e., `boom_genres`) to create two boxplots - one for each of the two new ratio columns\n",
    "- The `genres` should be on the y-axis and the `ratio column` on the x-axis.\n",
    "- You should use the <code>.repeat</code> method rather than making the plots separately\n",
    "and the charts should be vertically stacked in a `single column`.\n",
    "\n",
    "Note that boxplots can only be sorted by passing an explicit list of the sort column, we cannot use the shorthand <code>sort='x'</code>.\n",
    "Instead we will use the <code>revenue_runtime_ratio</code>, we created in the previous question.\n",
    "\n",
    "</div>\n",
    "\n",
    "_Points:_ 10"
   ]
  },
  {
   "cell_type": "code",
   "execution_count": null,
   "metadata": {
    "ExecuteTime": {
     "end_time": "2023-11-16T07:16:47.538221Z",
     "start_time": "2023-11-16T07:16:47.497991Z"
    },
    "tags": []
   },
   "outputs": [],
   "source": [
    "\n",
    "ratio_boxplots = ...\n",
    "\n",
    "# Show the plot\n",
    "ratio_boxplots"
   ]
  },
  {
   "cell_type": "code",
   "execution_count": null,
   "metadata": {
    "deletable": false,
    "editable": false
   },
   "outputs": [],
   "source": [
    "grader.check(\"q6\")"
   ]
  },
  {
   "cell_type": "markdown",
   "metadata": {},
   "source": [
    "<!-- BEGIN QUESTION -->\n",
    "\n",
    "## Question 7"
   ]
  },
  {
   "cell_type": "markdown",
   "metadata": {},
   "source": [
    "<div class=\"alert alert-info\" style=\"color:black\">\n",
    "\n",
    "It is important that we consider how many movies there are within each genre so that we know how big of a selection Bestflix could acquire.\n",
    "\n",
    "Using the boxplot above in Question 6, can you tell which genre has the most movies in it?\n",
    "\n",
    "If so, write it in the box below and explain how you did it or indicate why you can't and if there is any modification you could make to the boxplot to add this information. Explicitly detail which channels would your updated chart use, which attributes it would encode and WHY.\n",
    "</div>"
   ]
  },
  {
   "cell_type": "markdown",
   "metadata": {},
   "source": [
    "YOUR TEXT ANSWER GOES HERE"
   ]
  },
  {
   "cell_type": "markdown",
   "metadata": {},
   "source": [
    "We're done! Excellent work!!\n",
    "I am proud of your efforts to get Bestflix off the ground\n",
    "and will be in contact when we are ready to launch our next project: Bestify. :). \n",
    "\n",
    "What have we learned from our EDA? \n",
    "One thing we learned was that we get the most bang for our buck if we remove movies from the History, War and Horror Categories. \n",
    "What else did you learn? I suggest you take some notes about what you have learned from a programming perspective and also as an analyst exploring the dataset\n",
    "\n",
    "\n",
    "\n",
    "_Points:_ 5"
   ]
  },
  {
   "cell_type": "markdown",
   "metadata": {},
   "source": [
    "<!-- END QUESTION -->\n",
    "\n",
    "## PART 2 INTERACTIVE MULTIVIEWS\n",
    "\n",
    "In this second part you will create an interactive dashboard that allows potential investors to learn about the dataset. \n",
    "Your task is threefold\n",
    "1. Create the charts\n",
    "2. Encode the interaction elements for each visualization\n",
    "3. Create a dashboard\n",
    "\n",
    "We will provide you with intermediary touchpoints.\n",
    "But note that while we do provide you with some points, you are mostly supposed to determine the representations and functionality from the video. You will be graded based on how accurately your submission matches the video and image. The video is on Ed.\n",
    "\n",
    "There is also a still image of the final dashboard on Ed.\n"
   ]
  },
  {
   "cell_type": "markdown",
   "metadata": {},
   "source": [
    "![](img/AssQuiab.png)"
   ]
  },
  {
   "cell_type": "markdown",
   "metadata": {},
   "source": [
    "## Question 8\n",
    "### Data Wrangling\n"
   ]
  },
  {
   "cell_type": "markdown",
   "metadata": {},
   "source": [
    "\n",
    "<div class=\"alert alert-info\" style=\"color:black\">\n",
    "\n",
    "We will engage in some data wrangling tasks before proceeding.\n",
    "<ol>\n",
    "    <li>Take the boom_genre dataset and filter so that we don't have any movies classified as Horror, History or War in our dataset.\n",
    "    </li>\n",
    "    <li>Explode the filtered dataset so that the studios attribute ceases to be a list and ends with unique entries for each row.\n",
    "    </li>\n",
    "    <li>Rename the studios so that instead of Dreamworks SKG or Dreamworks Animation, we only have DreamWorks.\n",
    "    </li>\n",
    "    <li>Replace studios with Marvel or Pixar in their name to Walt Disney Pictures\n",
    "    </li>\n",
    "    <li>Then filter to only retain movies produced by the following studios DreamWorks, New Line Cinema, Warner Bros., Paramount Pictures, and 'Walt Disney Pictures\n",
    "    </li>\n",
    "    <li>I don't know about you but the fact that a movie might appear 3 times in the dataset because it has 3 genres seems like an issue that we should handle. Being that we are short on time, we will just remove duplicates items in which the `id` and `title` are the same. This is NOT the ideal way to handle it, but as mentioned the investors are downstairs and you have 15 minutes to put together a dashboard to WOW them. </li>\n",
    "\n",
    "  </ol>\n",
    "\n",
    "FOR ALL of the charts that come below, we will be using the dashboard_data you create in this step.\n",
    "\n",
    " </div>\n",
    "\n",
    "_Points:_ 10"
   ]
  },
  {
   "cell_type": "code",
   "execution_count": null,
   "metadata": {
    "ExecuteTime": {
     "end_time": "2023-11-16T07:16:47.791136Z",
     "start_time": "2023-11-16T07:16:47.770215Z"
    },
    "tags": []
   },
   "outputs": [],
   "source": [
    "\n",
    "\n",
    "genres_to_exclude = ['Horror', 'History', 'War']\n",
    "studios_to_keep = ['DreamWorks','New Line Cinema', 'Warner Bros.', 'Paramount Pictures',\n",
    "                   'Walt Disney Pictures']\n",
    "# NOTE: You may need to have multiple lines that of code that overwrite the value of dashboard_data with new data each time.\n",
    "# So feel free to have intermediary variables or lines of code, as long as the data that is stored in dashboard_data finally is correct.\n",
    "dashboard_data = ..."
   ]
  },
  {
   "cell_type": "code",
   "execution_count": null,
   "metadata": {
    "deletable": false,
    "editable": false
   },
   "outputs": [],
   "source": [
    "grader.check(\"q8\")"
   ]
  },
  {
   "cell_type": "markdown",
   "metadata": {},
   "source": [
    "## Question 9\n",
    "### Density Row"
   ]
  },
  {
   "cell_type": "markdown",
   "metadata": {},
   "source": [
    "<div class=\"alert alert-info\" style=\"color:black\">\n",
    "<ul>\n",
    "<li>Create a density plot for each of the four numeric values in the given order as shown in the diagram</li>\n",
    "<li>Combine the plots using hconcat to store the result in `density_row`</li>\n",
    "<li>The height of each plot is 100, the width is 120</li>\n",
    "<li>Make sure that you reduce the tick count, and also get rid of the scales and grid lines as depicted</li>\n",
    "</ul>\n",
    " </div>\n",
    "\n",
    "_Points:_ 0"
   ]
  },
  {
   "cell_type": "code",
   "execution_count": null,
   "metadata": {
    "ExecuteTime": {
     "end_time": "2023-11-16T07:16:47.841300Z",
     "start_time": "2023-11-16T07:16:47.781797Z"
    },
    "tags": []
   },
   "outputs": [],
   "source": [
    "density_cols = ...\n",
    "\n",
    "density_row = ...\n",
    "\n",
    "# show density row\n",
    "\n",
    "density_row\n"
   ]
  },
  {
   "cell_type": "code",
   "execution_count": null,
   "metadata": {
    "deletable": false,
    "editable": false
   },
   "outputs": [],
   "source": [
    "grader.check(\"q9\")"
   ]
  },
  {
   "cell_type": "markdown",
   "metadata": {},
   "source": [
    "## Question 10\n",
    "### scatter_rev_vote"
   ]
  },
  {
   "cell_type": "markdown",
   "metadata": {},
   "source": [
    "<div class=\"alert alert-info\" style=\"color:black\">\n",
    "<ul>\n",
    "        <li>Create the scatter plot as depicted in the video/images, we provide some specs you might miss</li>\n",
    "        <li>Using the `circle` mark with an opacity of 0.8 and size of 70</li>\n",
    "        <li>The height of each plot is 400, the width is 500</li>\n",
    "        <li>Use the variables given below for the color scheme </li>\n",
    "    <li>Add tooltip that includes title, vote average, studio, revenue and genre </li>\n",
    "    <li>Name of the chart must be scatter_rev_vote</li>\n",
    "</ul>\n",
    "</div>\n",
    "\n",
    "_Points:_ 0"
   ]
  },
  {
   "cell_type": "code",
   "execution_count": null,
   "metadata": {
    "ExecuteTime": {
     "end_time": "2023-11-16T07:16:47.916186Z",
     "start_time": "2023-11-16T07:16:47.863569Z"
    },
    "tags": []
   },
   "outputs": [],
   "source": [
    "color_domain = ['Drama', 'Romance', 'Comedy',  'Science Fiction', 'Action', 'Animation']\n",
    "color_range =  ['#7fc97f','#beaed4', '#fdc086', '#795227','#386cb0', '#f0027f'] \n",
    "\n",
    "\n",
    "scatter_rev_vote = ...\n",
    "    \n",
    "\n",
    "\n",
    "#show the chart\n",
    "scatter_rev_vote\n",
    "\n"
   ]
  },
  {
   "cell_type": "code",
   "execution_count": null,
   "metadata": {
    "deletable": false,
    "editable": false
   },
   "outputs": [],
   "source": [
    "grader.check(\"q10\")"
   ]
  },
  {
   "cell_type": "markdown",
   "metadata": {},
   "source": [
    "## Question 11\n",
    "### count_bar"
   ]
  },
  {
   "cell_type": "markdown",
   "metadata": {},
   "source": [
    "<div class=\"alert alert-info\" style=\"color:black\">\n",
    "<ul>\n",
    "        <li>Create the stacked bar chart as depicted in the video/images, we provide some specs you might miss</li>\n",
    "        <li>The height of each plot is 400, the width is 500</li>\n",
    "        <li>Use the same color scheme for the genres attribute </li>\n",
    "    <li>Add tooltip that includes studio, count, and genre </li>\n",
    "    <li>Name of the chart must be count_bar</li>\n",
    "</ul>\n",
    "</div>\n",
    "\n",
    "_Points:_ 0"
   ]
  },
  {
   "cell_type": "code",
   "execution_count": null,
   "metadata": {
    "ExecuteTime": {
     "end_time": "2023-11-16T07:16:47.927125Z",
     "start_time": "2023-11-16T07:16:47.910145Z"
    },
    "tags": []
   },
   "outputs": [],
   "source": [
    "count_bar = ...\n",
    "\n",
    "# show the chart\n",
    "count_bar\n"
   ]
  },
  {
   "cell_type": "code",
   "execution_count": null,
   "metadata": {
    "deletable": false,
    "editable": false
   },
   "outputs": [],
   "source": [
    "grader.check(\"q11\")"
   ]
  },
  {
   "cell_type": "markdown",
   "metadata": {},
   "source": [
    "## Question 12\n",
    "### wow_pie"
   ]
  },
  {
   "cell_type": "markdown",
   "metadata": {},
   "source": [
    "<div class=\"alert alert-info\" style=\"color:black\">\n",
    "<ul>\n",
    "        <li>Create a pie chart as depicted in the video/images, we provide some specs you might miss</li>\n",
    "        <li>The height of each plot is 150, the width is 150</li>\n",
    "    <li>revenue is encoded on theta </li>\n",
    "        <li>Use the same color scheme for the genres attribute </li>\n",
    "    <li>Name of the chart must be wow_pie</li>\n",
    "</ul>\n",
    "</div>\n",
    "\n",
    "_Points:_ 0"
   ]
  },
  {
   "cell_type": "code",
   "execution_count": null,
   "metadata": {
    "ExecuteTime": {
     "end_time": "2023-11-16T07:16:48.001985Z",
     "start_time": "2023-11-16T07:16:47.933389Z"
    },
    "tags": []
   },
   "outputs": [],
   "source": [
    "\n",
    "wow_pie = ...\n",
    "\n",
    "# show the chart\n",
    "\n",
    "wow_pie\n"
   ]
  },
  {
   "cell_type": "code",
   "execution_count": null,
   "metadata": {
    "deletable": false,
    "editable": false
   },
   "outputs": [],
   "source": [
    "grader.check(\"q12\")"
   ]
  },
  {
   "cell_type": "markdown",
   "metadata": {},
   "source": [
    "## Question 13\n",
    "### Runtime Tick and Runtime Brush"
   ]
  },
  {
   "cell_type": "markdown",
   "metadata": {},
   "source": [
    "\n",
    "<div class=\"alert alert-info\" style=\"color:black\">\n",
    "<ul>\n",
    "        <li>Create a tick chart as depicted in the video/images, we provide some specs you might miss</li>\n",
    "    <li> runtime on the `x` channel </li>\n",
    "        <li>The height leave to default, the width is 650</li>\n",
    "    <li>For the `x` channel, make sure it is at the top, the title is updated, the scale is not referenced to 0 and the tick marks are removed, the axis should shown values that are multiple of 20 (i.e., 60, 80, 100). To do this play around with the tickCount, axis domain is False</li>\n",
    "        <li>For the `color` channel, have the condition of the brush, with the selected value as the default color of steel blue and the non-selected encodings as light gray </li>\n",
    "    <li>Interaction: brush interval constrained to x</li>\n",
    "    <li>Name of brush must be runtime_brush, name of tick chart must be runtime_tick </li>\n",
    "</ul>\n",
    "</div>\n",
    "\n",
    "_Points:_ 0"
   ]
  },
  {
   "cell_type": "code",
   "execution_count": null,
   "metadata": {
    "ExecuteTime": {
     "end_time": "2023-11-16T07:16:48.012503Z",
     "start_time": "2023-11-16T07:16:47.994640Z"
    },
    "tags": []
   },
   "outputs": [],
   "source": [
    "runtime_brush = ...\n",
    "\n",
    "runtime_tick = ...\n",
    "\n",
    "# show the chart\n",
    "runtime_tick\n"
   ]
  },
  {
   "cell_type": "code",
   "execution_count": null,
   "metadata": {
    "deletable": false,
    "editable": false
   },
   "outputs": [],
   "source": [
    "grader.check(\"q13\")"
   ]
  },
  {
   "cell_type": "code",
   "execution_count": null,
   "metadata": {
    "ExecuteTime": {
     "end_time": "2023-11-16T07:16:48.012800Z",
     "start_time": "2023-11-16T07:16:48.008905Z"
    }
   },
   "outputs": [],
   "source": []
  },
  {
   "cell_type": "markdown",
   "metadata": {},
   "source": [
    "## Question 14\n",
    "Wow that was a lot of questions \n",
    "\n",
    "\n",
    "Now that we have created all the charts, we need to combine them to create the dashboard as depicted. \n",
    "\n",
    "Here is one major hint: runtime_tick acts as the interaction selection agent, while the other three change based on it. In other words, all of the other three charts require transform_filter. \n",
    "\n",
    "First concatenate the density_row and wow_pie charts (_beside each other_) (store in top)\n",
    "Then concatenate count_bar and scatter_rev_vote (_beside each other_) (store in bottom)\n",
    "\n",
    "and then finally combine the three sections together\n",
    "\n",
    "\n",
    "_Points:_ 0"
   ]
  },
  {
   "cell_type": "code",
   "execution_count": null,
   "metadata": {
    "ExecuteTime": {
     "end_time": "2023-11-16T07:16:48.103040Z",
     "start_time": "2023-11-16T07:16:48.031937Z"
    },
    "scrolled": false,
    "tags": []
   },
   "outputs": [],
   "source": [
    "\n",
    "bottom  = ...\n",
    "\n",
    "top = ...\n",
    "\n",
    "dashboard = ...\n",
    "\n",
    "\n",
    "# show the chart\n",
    "dashboard"
   ]
  },
  {
   "cell_type": "code",
   "execution_count": null,
   "metadata": {
    "deletable": false,
    "editable": false
   },
   "outputs": [],
   "source": [
    "grader.check(\"q14\")"
   ]
  },
  {
   "cell_type": "markdown",
   "metadata": {},
   "source": [
    "Our work is far from complete,but it is a start. Hopefully the investors will be impressed enough to give us more time to explain our process and goals. "
   ]
  },
  {
   "cell_type": "markdown",
   "metadata": {},
   "source": [
    "<div class=\"alert alert-danger\" style=\"color:black\">\n",
    "    \n",
    "**Restart, run all and export a PDF before submitting**\n",
    "    \n",
    "Before submitting,\n",
    "don't forget to run all cells in your notebook\n",
    "to make sure there are no errors\n",
    "and so that the TAs can see your plots on Gradescope.\n",
    "You can do this by clicking the ▶▶ button\n",
    "or going to `Kernel -> Restart Kernel and Run All Cells...` in the menu.\n",
    "This is not only important for DSCI 320,\n",
    "but a good habit you should get into before ever committing a notebook to GitHub,\n",
    "so that your collaborators can run it from top to bottom\n",
    "without issues.\n",
    "    \n",
    "After running all the cells,\n",
    "export a PDF of the notebook (preferably the WebPDF export)\n",
    "and upload this PDF together with the ipynb file to Gradescope\n",
    "(you can select two files when uploading to Gradescope)\n",
    "</div>"
   ]
  }
 ],
 "metadata": {
  "kernelspec": {
   "display_name": "320",
   "language": "python",
   "name": "python3"
  },
  "language_info": {
   "codemirror_mode": {
    "name": "ipython",
    "version": 3
   },
   "file_extension": ".py",
   "mimetype": "text/x-python",
   "name": "python",
   "nbconvert_exporter": "python",
   "pygments_lexer": "ipython3",
   "version": "3.11.5"
  },
  "otter": {
   "OK_FORMAT": true,
   "tests": {
    "q1": {
     "name": "q1",
     "points": 5,
     "suites": [
      {
       "cases": [
        {
         "code": ">>> assert dataset_size is not None\n>>> assert isinstance(dataset_size, tuple)\n>>> assert dataset_cardinality_quant is not None\n>>> \n",
         "failure_message": "Some of your variables have an unexpected name or type",
         "hidden": false,
         "locked": false,
         "points": 0,
         "success_message": "This test only checks that your variables have the correct name and type"
        }
       ],
       "scored": true,
       "setup": "",
       "teardown": "",
       "type": "doctest"
      }
     ]
    },
    "q10": {
     "name": "q10",
     "points": 10,
     "suites": [
      {
       "cases": [
        {
         "code": ">>> assert scatter_rev_vote is not None\n>>> isinstance(scatter_rev_vote, alt.Chart)\nTrue",
         "failure_message": "You either did not name your chart correctly or it is the wrong chart type.",
         "hidden": false,
         "locked": false,
         "points": 0
        }
       ],
       "scored": true,
       "setup": "",
       "teardown": "",
       "type": "doctest"
      }
     ]
    },
    "q11": {
     "name": "q11",
     "points": 10,
     "suites": [
      {
       "cases": [
        {
         "code": ">>> assert count_bar is not None\n>>> isinstance(count_bar, alt.Chart)\nTrue",
         "failure_message": "You either did not name your chart correctly or it is the wrong chart type.",
         "hidden": false,
         "locked": false,
         "points": 0
        }
       ],
       "scored": true,
       "setup": "",
       "teardown": "",
       "type": "doctest"
      }
     ]
    },
    "q12": {
     "name": "q12",
     "points": 10,
     "suites": [
      {
       "cases": [
        {
         "code": ">>> assert wow_pie is not None\n>>> isinstance(wow_pie, alt.Chart)\nTrue",
         "failure_message": "You either did not name your chart correctly or it is the wrong chart type.",
         "hidden": false,
         "locked": false,
         "points": 0
        }
       ],
       "scored": true,
       "setup": "",
       "teardown": "",
       "type": "doctest"
      }
     ]
    },
    "q13": {
     "name": "q13",
     "points": 10,
     "suites": [
      {
       "cases": [
        {
         "code": ">>> assert runtime_tick is not None\n>>> isinstance(runtime_tick, alt.Chart)\n>>> assert runtime_brush is not None\n",
         "failure_message": "You either did not name your chart correctly or it is the wrong chart type.",
         "hidden": false,
         "locked": false,
         "points": 0
        }
       ],
       "scored": true,
       "setup": "",
       "teardown": "",
       "type": "doctest"
      }
     ]
    },
    "q14": {
     "name": "q14",
     "points": 15,
     "suites": [
      {
       "cases": [
        {
         "code": ">>> assert dashboard is not None\n>>> isinstance(dashboard, alt.VConcatChart)\nTrue",
         "failure_message": "You either did not name your chart correctly or it is the wrong chart type.",
         "hidden": false,
         "locked": false,
         "points": 0
        }
       ],
       "scored": true,
       "setup": "",
       "teardown": "",
       "type": "doctest"
      }
     ]
    },
    "q2": {
     "name": "q2",
     "points": 5,
     "suites": [
      {
       "cases": [
        {
         "code": ">>> assert vote_avg_hist is not None\n>>> assert isinstance(vote_avg_hist, alt.Chart)\n",
         "failure_message": "Some of your variables have an unexpected name or type",
         "hidden": false,
         "locked": false,
         "points": 0,
         "success_message": "This test only checks that your variables have the correct name and type"
        }
       ],
       "scored": true,
       "setup": "",
       "teardown": "",
       "type": "doctest"
      }
     ]
    },
    "q3": {
     "name": "q3",
     "points": 10,
     "suites": [
      {
       "cases": [
        {
         "code": ">>> assert numeric_cols_hists is not None\n>>> assert isinstance(numeric_cols_hists, alt.RepeatChart)\n",
         "failure_message": "Some of your variables have an unexpected name or type",
         "hidden": false,
         "locked": false,
         "points": 0,
         "success_message": "This test only checks that your variables have the correct name and type"
        }
       ],
       "scored": true,
       "setup": "",
       "teardown": "",
       "type": "doctest"
      }
     ]
    },
    "q4": {
     "name": "q4",
     "points": 10,
     "suites": [
      {
       "cases": [
        {
         "code": ">>> assert splom is not None\n>>> assert isinstance(splom, alt.RepeatChart)\n",
         "failure_message": "Some of your variables have an unexpected name or type",
         "hidden": false,
         "locked": false,
         "points": 0,
         "success_message": "This test only checks that your variables have the correct name and type"
        }
       ],
       "scored": true,
       "setup": "",
       "teardown": "",
       "type": "doctest"
      }
     ]
    },
    "q5": {
     "name": "q5",
     "points": 5,
     "suites": [
      {
       "cases": [
        {
         "code": ">>> assert genres_by_revenue is not None\n>>> assert boom_genres is not None\n>>> \n",
         "failure_message": "did not use required variables",
         "hidden": false,
         "locked": false
        }
       ],
       "scored": true,
       "setup": "",
       "teardown": "",
       "type": "doctest"
      }
     ]
    },
    "q6": {
     "name": "q6",
     "points": 10,
     "suites": [
      {
       "cases": [
        {
         "code": ">>> assert ratio_boxplots is not None\n>>> assert isinstance(ratio_boxplots, alt.RepeatChart)\n",
         "failure_message": "Some of your variables have an unexpected name or type",
         "hidden": false,
         "locked": false,
         "points": 0,
         "success_message": "This test only checks that your variables have the correct name and type"
        }
       ],
       "scored": true,
       "setup": "",
       "teardown": "",
       "type": "doctest"
      }
     ]
    },
    "q8": {
     "name": "q8",
     "points": 10,
     "suites": [
      {
       "cases": [
        {
         "code": ">>> assert dashboard_data is not None\n>>> assert isinstance(dashboard_data, pd.DataFrame)\n",
         "failure_message": "Some of your variables have an unexpected name or type.",
         "hidden": false,
         "locked": false,
         "points": 0
        },
        {
         "code": ">>> assert dashboard_data.shape == (796, 9)\n",
         "failure_message": "Make sure you are using the correct data subset",
         "hidden": false,
         "locked": false
        }
       ],
       "scored": true,
       "setup": "",
       "teardown": "",
       "type": "doctest"
      }
     ]
    },
    "q9": {
     "name": "q9",
     "points": 10,
     "suites": [
      {
       "cases": [
        {
         "code": ">>> assert density_row is not None\n>>> isinstance(density_row, alt.HConcatChart)\nTrue",
         "failure_message": "You either did not name your chart correctly or it is the wrong type.",
         "hidden": false,
         "locked": false,
         "points": 0
        }
       ],
       "scored": true,
       "setup": "",
       "teardown": "",
       "type": "doctest"
      }
     ]
    }
   }
  }
 },
 "nbformat": 4,
 "nbformat_minor": 4
}
